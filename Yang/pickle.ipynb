{
 "cells": [
  {
   "cell_type": "code",
   "execution_count": 1,
   "metadata": {},
   "outputs": [],
   "source": [
    "import pickle\n",
    "import pandas as pd\n",
    "import numpy as np"
   ]
  },
  {
   "cell_type": "code",
   "execution_count": 2,
   "metadata": {},
   "outputs": [
    {
     "data": {
      "text/plain": [
       "5"
      ]
     },
     "execution_count": 2,
     "metadata": {},
     "output_type": "execute_result"
    }
   ],
   "source": [
    "pickle.HIGHEST_PROTOCOL"
   ]
  },
  {
   "cell_type": "code",
   "execution_count": 3,
   "metadata": {},
   "outputs": [],
   "source": [
    "d = pickle.load(open('../../Downloads/dataset.pickle','rb'))"
   ]
  },
  {
   "cell_type": "code",
   "execution_count": 4,
   "metadata": {},
   "outputs": [
    {
     "data": {
      "text/plain": [
       "dict_keys(['rf_and_screening_county', 'rf_and_screening_county_long', 'rf_and_screening_tract', 'rf_and_screening_tract_long', 'cancer_incidence', 'cancer_incidence_long', 'cancer_mortality', 'cancer_mortality_long', 'economy_county', 'economy_county_long', 'economy_tract', 'economy_tract_long', 'ht_county', 'ht_county_long', 'ht_tract', 'ht_tract_long', 'sociodemographics_county', 'sd_county_long', 'sociodemographics_tract', 'sd_tract_long', 'environment_county', 'environment_county_long', 'environment_tract', 'environment_tract_long', 'broadband_speeds', 'facilities_and_providers'])"
      ]
     },
     "execution_count": 4,
     "metadata": {},
     "output_type": "execute_result"
    }
   ],
   "source": [
    "d.keys()"
   ]
  },
  {
   "cell_type": "code",
   "execution_count": 5,
   "metadata": {},
   "outputs": [
    {
     "data": {
      "text/html": [
       "<div>\n",
       "<style scoped>\n",
       "    .dataframe tbody tr th:only-of-type {\n",
       "        vertical-align: middle;\n",
       "    }\n",
       "\n",
       "    .dataframe tbody tr th {\n",
       "        vertical-align: top;\n",
       "    }\n",
       "\n",
       "    .dataframe thead th {\n",
       "        text-align: right;\n",
       "    }\n",
       "</style>\n",
       "<table border=\"1\" class=\"dataframe\">\n",
       "  <thead>\n",
       "    <tr style=\"text-align: right;\">\n",
       "      <th></th>\n",
       "      <th></th>\n",
       "      <th></th>\n",
       "      <th>Site</th>\n",
       "      <th>All Site</th>\n",
       "      <th>Bladder</th>\n",
       "      <th>Brain &amp; ONS</th>\n",
       "      <th>Cervix</th>\n",
       "      <th>Colon &amp; Rectum</th>\n",
       "      <th>Corpus Uteri &amp; Uterus, NOS</th>\n",
       "      <th>Esophagus</th>\n",
       "      <th>Female Breast</th>\n",
       "      <th>Kidney &amp; Renal Pelvis</th>\n",
       "      <th>Leukemia</th>\n",
       "      <th>Liver &amp; IBD</th>\n",
       "      <th>Lung &amp; Bronchus</th>\n",
       "      <th>Melanoma of the Skin</th>\n",
       "      <th>Non-Hodgkin Lymphoma</th>\n",
       "      <th>Oral Cavity &amp; Pharynx</th>\n",
       "      <th>Ovary</th>\n",
       "      <th>Pancreas</th>\n",
       "      <th>Prostate</th>\n",
       "      <th>Stomach</th>\n",
       "      <th>Thyroid</th>\n",
       "    </tr>\n",
       "    <tr>\n",
       "      <th>FIPS</th>\n",
       "      <th>County</th>\n",
       "      <th>State</th>\n",
       "      <th>Type</th>\n",
       "      <th></th>\n",
       "      <th></th>\n",
       "      <th></th>\n",
       "      <th></th>\n",
       "      <th></th>\n",
       "      <th></th>\n",
       "      <th></th>\n",
       "      <th></th>\n",
       "      <th></th>\n",
       "      <th></th>\n",
       "      <th></th>\n",
       "      <th></th>\n",
       "      <th></th>\n",
       "      <th></th>\n",
       "      <th></th>\n",
       "      <th></th>\n",
       "      <th></th>\n",
       "      <th></th>\n",
       "      <th></th>\n",
       "      <th></th>\n",
       "    </tr>\n",
       "  </thead>\n",
       "  <tbody>\n",
       "    <tr>\n",
       "      <th>33001</th>\n",
       "      <th>Belknap County</th>\n",
       "      <th>New Hampshire</th>\n",
       "      <th>Incidence</th>\n",
       "      <td>519.3</td>\n",
       "      <td>26.6</td>\n",
       "      <td>6.4</td>\n",
       "      <td>NaN</td>\n",
       "      <td>41.9</td>\n",
       "      <td>42.6</td>\n",
       "      <td>8.0</td>\n",
       "      <td>147.8</td>\n",
       "      <td>14.2</td>\n",
       "      <td>15.1</td>\n",
       "      <td>5.7</td>\n",
       "      <td>69.1</td>\n",
       "      <td>40.3</td>\n",
       "      <td>21.5</td>\n",
       "      <td>14.6</td>\n",
       "      <td>13.1</td>\n",
       "      <td>15.3</td>\n",
       "      <td>121.4</td>\n",
       "      <td>5.5</td>\n",
       "      <td>10.4</td>\n",
       "    </tr>\n",
       "    <tr>\n",
       "      <th>33003</th>\n",
       "      <th>Carroll County</th>\n",
       "      <th>New Hampshire</th>\n",
       "      <th>Incidence</th>\n",
       "      <td>465.0</td>\n",
       "      <td>26.2</td>\n",
       "      <td>8.3</td>\n",
       "      <td>NaN</td>\n",
       "      <td>35.7</td>\n",
       "      <td>28.6</td>\n",
       "      <td>4.9</td>\n",
       "      <td>131.8</td>\n",
       "      <td>13.4</td>\n",
       "      <td>13.9</td>\n",
       "      <td>5.4</td>\n",
       "      <td>57.6</td>\n",
       "      <td>33.8</td>\n",
       "      <td>17.3</td>\n",
       "      <td>13.5</td>\n",
       "      <td>9.0</td>\n",
       "      <td>12.4</td>\n",
       "      <td>127.1</td>\n",
       "      <td>4.5</td>\n",
       "      <td>9.9</td>\n",
       "    </tr>\n",
       "    <tr>\n",
       "      <th>33005</th>\n",
       "      <th>Cheshire County</th>\n",
       "      <th>New Hampshire</th>\n",
       "      <th>Incidence</th>\n",
       "      <td>471.2</td>\n",
       "      <td>23.2</td>\n",
       "      <td>6.3</td>\n",
       "      <td>NaN</td>\n",
       "      <td>37.7</td>\n",
       "      <td>30.4</td>\n",
       "      <td>7.6</td>\n",
       "      <td>137.4</td>\n",
       "      <td>16.8</td>\n",
       "      <td>18.5</td>\n",
       "      <td>8.0</td>\n",
       "      <td>59.2</td>\n",
       "      <td>40.4</td>\n",
       "      <td>20.8</td>\n",
       "      <td>10.0</td>\n",
       "      <td>10.7</td>\n",
       "      <td>13.2</td>\n",
       "      <td>95.6</td>\n",
       "      <td>5.5</td>\n",
       "      <td>9.5</td>\n",
       "    </tr>\n",
       "    <tr>\n",
       "      <th>33007</th>\n",
       "      <th>Coos County</th>\n",
       "      <th>New Hampshire</th>\n",
       "      <th>Incidence</th>\n",
       "      <td>484.3</td>\n",
       "      <td>28.5</td>\n",
       "      <td>NaN</td>\n",
       "      <td>NaN</td>\n",
       "      <td>39.7</td>\n",
       "      <td>36.9</td>\n",
       "      <td>12.0</td>\n",
       "      <td>129.0</td>\n",
       "      <td>17.3</td>\n",
       "      <td>16.2</td>\n",
       "      <td>NaN</td>\n",
       "      <td>63.6</td>\n",
       "      <td>28.6</td>\n",
       "      <td>22.8</td>\n",
       "      <td>14.5</td>\n",
       "      <td>14.6</td>\n",
       "      <td>14.9</td>\n",
       "      <td>93.8</td>\n",
       "      <td>7.0</td>\n",
       "      <td>11.8</td>\n",
       "    </tr>\n",
       "    <tr>\n",
       "      <th>33009</th>\n",
       "      <th>Grafton County</th>\n",
       "      <th>New Hampshire</th>\n",
       "      <th>Incidence</th>\n",
       "      <td>446.9</td>\n",
       "      <td>25.8</td>\n",
       "      <td>7.8</td>\n",
       "      <td>NaN</td>\n",
       "      <td>34.7</td>\n",
       "      <td>30.8</td>\n",
       "      <td>6.4</td>\n",
       "      <td>139.0</td>\n",
       "      <td>14.5</td>\n",
       "      <td>10.8</td>\n",
       "      <td>7.4</td>\n",
       "      <td>53.2</td>\n",
       "      <td>41.5</td>\n",
       "      <td>18.3</td>\n",
       "      <td>11.8</td>\n",
       "      <td>8.5</td>\n",
       "      <td>10.6</td>\n",
       "      <td>87.0</td>\n",
       "      <td>5.3</td>\n",
       "      <td>12.0</td>\n",
       "    </tr>\n",
       "  </tbody>\n",
       "</table>\n",
       "</div>"
      ],
      "text/plain": [
       "Site                                           All Site  Bladder  Brain & ONS  \\\n",
       "FIPS  County          State         Type                                        \n",
       "33001 Belknap County  New Hampshire Incidence     519.3     26.6          6.4   \n",
       "33003 Carroll County  New Hampshire Incidence     465.0     26.2          8.3   \n",
       "33005 Cheshire County New Hampshire Incidence     471.2     23.2          6.3   \n",
       "33007 Coos County     New Hampshire Incidence     484.3     28.5          NaN   \n",
       "33009 Grafton County  New Hampshire Incidence     446.9     25.8          7.8   \n",
       "\n",
       "Site                                           Cervix  Colon & Rectum  \\\n",
       "FIPS  County          State         Type                                \n",
       "33001 Belknap County  New Hampshire Incidence     NaN            41.9   \n",
       "33003 Carroll County  New Hampshire Incidence     NaN            35.7   \n",
       "33005 Cheshire County New Hampshire Incidence     NaN            37.7   \n",
       "33007 Coos County     New Hampshire Incidence     NaN            39.7   \n",
       "33009 Grafton County  New Hampshire Incidence     NaN            34.7   \n",
       "\n",
       "Site                                           Corpus Uteri & Uterus, NOS  \\\n",
       "FIPS  County          State         Type                                    \n",
       "33001 Belknap County  New Hampshire Incidence                        42.6   \n",
       "33003 Carroll County  New Hampshire Incidence                        28.6   \n",
       "33005 Cheshire County New Hampshire Incidence                        30.4   \n",
       "33007 Coos County     New Hampshire Incidence                        36.9   \n",
       "33009 Grafton County  New Hampshire Incidence                        30.8   \n",
       "\n",
       "Site                                           Esophagus  Female Breast  \\\n",
       "FIPS  County          State         Type                                  \n",
       "33001 Belknap County  New Hampshire Incidence        8.0          147.8   \n",
       "33003 Carroll County  New Hampshire Incidence        4.9          131.8   \n",
       "33005 Cheshire County New Hampshire Incidence        7.6          137.4   \n",
       "33007 Coos County     New Hampshire Incidence       12.0          129.0   \n",
       "33009 Grafton County  New Hampshire Incidence        6.4          139.0   \n",
       "\n",
       "Site                                           Kidney & Renal Pelvis  \\\n",
       "FIPS  County          State         Type                               \n",
       "33001 Belknap County  New Hampshire Incidence                   14.2   \n",
       "33003 Carroll County  New Hampshire Incidence                   13.4   \n",
       "33005 Cheshire County New Hampshire Incidence                   16.8   \n",
       "33007 Coos County     New Hampshire Incidence                   17.3   \n",
       "33009 Grafton County  New Hampshire Incidence                   14.5   \n",
       "\n",
       "Site                                           Leukemia  Liver & IBD  \\\n",
       "FIPS  County          State         Type                               \n",
       "33001 Belknap County  New Hampshire Incidence      15.1          5.7   \n",
       "33003 Carroll County  New Hampshire Incidence      13.9          5.4   \n",
       "33005 Cheshire County New Hampshire Incidence      18.5          8.0   \n",
       "33007 Coos County     New Hampshire Incidence      16.2          NaN   \n",
       "33009 Grafton County  New Hampshire Incidence      10.8          7.4   \n",
       "\n",
       "Site                                           Lung & Bronchus  \\\n",
       "FIPS  County          State         Type                         \n",
       "33001 Belknap County  New Hampshire Incidence             69.1   \n",
       "33003 Carroll County  New Hampshire Incidence             57.6   \n",
       "33005 Cheshire County New Hampshire Incidence             59.2   \n",
       "33007 Coos County     New Hampshire Incidence             63.6   \n",
       "33009 Grafton County  New Hampshire Incidence             53.2   \n",
       "\n",
       "Site                                           Melanoma of the Skin  \\\n",
       "FIPS  County          State         Type                              \n",
       "33001 Belknap County  New Hampshire Incidence                  40.3   \n",
       "33003 Carroll County  New Hampshire Incidence                  33.8   \n",
       "33005 Cheshire County New Hampshire Incidence                  40.4   \n",
       "33007 Coos County     New Hampshire Incidence                  28.6   \n",
       "33009 Grafton County  New Hampshire Incidence                  41.5   \n",
       "\n",
       "Site                                           Non-Hodgkin Lymphoma  \\\n",
       "FIPS  County          State         Type                              \n",
       "33001 Belknap County  New Hampshire Incidence                  21.5   \n",
       "33003 Carroll County  New Hampshire Incidence                  17.3   \n",
       "33005 Cheshire County New Hampshire Incidence                  20.8   \n",
       "33007 Coos County     New Hampshire Incidence                  22.8   \n",
       "33009 Grafton County  New Hampshire Incidence                  18.3   \n",
       "\n",
       "Site                                           Oral Cavity & Pharynx  Ovary  \\\n",
       "FIPS  County          State         Type                                      \n",
       "33001 Belknap County  New Hampshire Incidence                   14.6   13.1   \n",
       "33003 Carroll County  New Hampshire Incidence                   13.5    9.0   \n",
       "33005 Cheshire County New Hampshire Incidence                   10.0   10.7   \n",
       "33007 Coos County     New Hampshire Incidence                   14.5   14.6   \n",
       "33009 Grafton County  New Hampshire Incidence                   11.8    8.5   \n",
       "\n",
       "Site                                           Pancreas  Prostate  Stomach  \\\n",
       "FIPS  County          State         Type                                     \n",
       "33001 Belknap County  New Hampshire Incidence      15.3     121.4      5.5   \n",
       "33003 Carroll County  New Hampshire Incidence      12.4     127.1      4.5   \n",
       "33005 Cheshire County New Hampshire Incidence      13.2      95.6      5.5   \n",
       "33007 Coos County     New Hampshire Incidence      14.9      93.8      7.0   \n",
       "33009 Grafton County  New Hampshire Incidence      10.6      87.0      5.3   \n",
       "\n",
       "Site                                           Thyroid  \n",
       "FIPS  County          State         Type                \n",
       "33001 Belknap County  New Hampshire Incidence     10.4  \n",
       "33003 Carroll County  New Hampshire Incidence      9.9  \n",
       "33005 Cheshire County New Hampshire Incidence      9.5  \n",
       "33007 Coos County     New Hampshire Incidence     11.8  \n",
       "33009 Grafton County  New Hampshire Incidence     12.0  "
      ]
     },
     "execution_count": 5,
     "metadata": {},
     "output_type": "execute_result"
    }
   ],
   "source": [
    "d['cancer_incidence'].head()"
   ]
  },
  {
   "cell_type": "code",
   "execution_count": 15,
   "metadata": {},
   "outputs": [],
   "source": []
  },
  {
   "cell_type": "code",
   "execution_count": 16,
   "metadata": {},
   "outputs": [
    {
     "data": {
      "text/html": [
       "<div>\n",
       "<style scoped>\n",
       "    .dataframe tbody tr th:only-of-type {\n",
       "        vertical-align: middle;\n",
       "    }\n",
       "\n",
       "    .dataframe tbody tr th {\n",
       "        vertical-align: top;\n",
       "    }\n",
       "\n",
       "    .dataframe thead th {\n",
       "        text-align: right;\n",
       "    }\n",
       "</style>\n",
       "<table border=\"1\" class=\"dataframe\">\n",
       "  <thead>\n",
       "    <tr style=\"text-align: right;\">\n",
       "      <th>Site</th>\n",
       "      <th>FIPS</th>\n",
       "      <th>County</th>\n",
       "      <th>State</th>\n",
       "      <th>Type</th>\n",
       "      <th>All Site</th>\n",
       "      <th>Bladder</th>\n",
       "      <th>Brain &amp; ONS</th>\n",
       "      <th>Cervix</th>\n",
       "      <th>Colon &amp; Rectum</th>\n",
       "      <th>Corpus Uteri &amp; Uterus, NOS</th>\n",
       "      <th>...</th>\n",
       "      <th>Liver &amp; IBD</th>\n",
       "      <th>Lung &amp; Bronchus</th>\n",
       "      <th>Melanoma of the Skin</th>\n",
       "      <th>Non-Hodgkin Lymphoma</th>\n",
       "      <th>Oral Cavity &amp; Pharynx</th>\n",
       "      <th>Ovary</th>\n",
       "      <th>Pancreas</th>\n",
       "      <th>Prostate</th>\n",
       "      <th>Stomach</th>\n",
       "      <th>Thyroid</th>\n",
       "    </tr>\n",
       "  </thead>\n",
       "  <tbody>\n",
       "    <tr>\n",
       "      <th>0</th>\n",
       "      <td>33001</td>\n",
       "      <td>Belknap County</td>\n",
       "      <td>New Hampshire</td>\n",
       "      <td>Incidence</td>\n",
       "      <td>519.3</td>\n",
       "      <td>26.6</td>\n",
       "      <td>6.4</td>\n",
       "      <td>NaN</td>\n",
       "      <td>41.9</td>\n",
       "      <td>42.6</td>\n",
       "      <td>...</td>\n",
       "      <td>5.7</td>\n",
       "      <td>69.1</td>\n",
       "      <td>40.3</td>\n",
       "      <td>21.5</td>\n",
       "      <td>14.6</td>\n",
       "      <td>13.1</td>\n",
       "      <td>15.3</td>\n",
       "      <td>121.4</td>\n",
       "      <td>5.5</td>\n",
       "      <td>10.4</td>\n",
       "    </tr>\n",
       "    <tr>\n",
       "      <th>1</th>\n",
       "      <td>33003</td>\n",
       "      <td>Carroll County</td>\n",
       "      <td>New Hampshire</td>\n",
       "      <td>Incidence</td>\n",
       "      <td>465.0</td>\n",
       "      <td>26.2</td>\n",
       "      <td>8.3</td>\n",
       "      <td>NaN</td>\n",
       "      <td>35.7</td>\n",
       "      <td>28.6</td>\n",
       "      <td>...</td>\n",
       "      <td>5.4</td>\n",
       "      <td>57.6</td>\n",
       "      <td>33.8</td>\n",
       "      <td>17.3</td>\n",
       "      <td>13.5</td>\n",
       "      <td>9.0</td>\n",
       "      <td>12.4</td>\n",
       "      <td>127.1</td>\n",
       "      <td>4.5</td>\n",
       "      <td>9.9</td>\n",
       "    </tr>\n",
       "    <tr>\n",
       "      <th>2</th>\n",
       "      <td>33005</td>\n",
       "      <td>Cheshire County</td>\n",
       "      <td>New Hampshire</td>\n",
       "      <td>Incidence</td>\n",
       "      <td>471.2</td>\n",
       "      <td>23.2</td>\n",
       "      <td>6.3</td>\n",
       "      <td>NaN</td>\n",
       "      <td>37.7</td>\n",
       "      <td>30.4</td>\n",
       "      <td>...</td>\n",
       "      <td>8.0</td>\n",
       "      <td>59.2</td>\n",
       "      <td>40.4</td>\n",
       "      <td>20.8</td>\n",
       "      <td>10.0</td>\n",
       "      <td>10.7</td>\n",
       "      <td>13.2</td>\n",
       "      <td>95.6</td>\n",
       "      <td>5.5</td>\n",
       "      <td>9.5</td>\n",
       "    </tr>\n",
       "    <tr>\n",
       "      <th>3</th>\n",
       "      <td>33007</td>\n",
       "      <td>Coos County</td>\n",
       "      <td>New Hampshire</td>\n",
       "      <td>Incidence</td>\n",
       "      <td>484.3</td>\n",
       "      <td>28.5</td>\n",
       "      <td>NaN</td>\n",
       "      <td>NaN</td>\n",
       "      <td>39.7</td>\n",
       "      <td>36.9</td>\n",
       "      <td>...</td>\n",
       "      <td>NaN</td>\n",
       "      <td>63.6</td>\n",
       "      <td>28.6</td>\n",
       "      <td>22.8</td>\n",
       "      <td>14.5</td>\n",
       "      <td>14.6</td>\n",
       "      <td>14.9</td>\n",
       "      <td>93.8</td>\n",
       "      <td>7.0</td>\n",
       "      <td>11.8</td>\n",
       "    </tr>\n",
       "    <tr>\n",
       "      <th>4</th>\n",
       "      <td>33009</td>\n",
       "      <td>Grafton County</td>\n",
       "      <td>New Hampshire</td>\n",
       "      <td>Incidence</td>\n",
       "      <td>446.9</td>\n",
       "      <td>25.8</td>\n",
       "      <td>7.8</td>\n",
       "      <td>NaN</td>\n",
       "      <td>34.7</td>\n",
       "      <td>30.8</td>\n",
       "      <td>...</td>\n",
       "      <td>7.4</td>\n",
       "      <td>53.2</td>\n",
       "      <td>41.5</td>\n",
       "      <td>18.3</td>\n",
       "      <td>11.8</td>\n",
       "      <td>8.5</td>\n",
       "      <td>10.6</td>\n",
       "      <td>87.0</td>\n",
       "      <td>5.3</td>\n",
       "      <td>12.0</td>\n",
       "    </tr>\n",
       "  </tbody>\n",
       "</table>\n",
       "<p>5 rows × 24 columns</p>\n",
       "</div>"
      ],
      "text/plain": [
       "Site   FIPS           County          State       Type  All Site  Bladder  \\\n",
       "0     33001   Belknap County  New Hampshire  Incidence     519.3     26.6   \n",
       "1     33003   Carroll County  New Hampshire  Incidence     465.0     26.2   \n",
       "2     33005  Cheshire County  New Hampshire  Incidence     471.2     23.2   \n",
       "3     33007      Coos County  New Hampshire  Incidence     484.3     28.5   \n",
       "4     33009   Grafton County  New Hampshire  Incidence     446.9     25.8   \n",
       "\n",
       "Site  Brain & ONS  Cervix  Colon & Rectum  Corpus Uteri & Uterus, NOS  ...  \\\n",
       "0             6.4     NaN            41.9                        42.6  ...   \n",
       "1             8.3     NaN            35.7                        28.6  ...   \n",
       "2             6.3     NaN            37.7                        30.4  ...   \n",
       "3             NaN     NaN            39.7                        36.9  ...   \n",
       "4             7.8     NaN            34.7                        30.8  ...   \n",
       "\n",
       "Site  Liver & IBD  Lung & Bronchus  Melanoma of the Skin  \\\n",
       "0             5.7             69.1                  40.3   \n",
       "1             5.4             57.6                  33.8   \n",
       "2             8.0             59.2                  40.4   \n",
       "3             NaN             63.6                  28.6   \n",
       "4             7.4             53.2                  41.5   \n",
       "\n",
       "Site  Non-Hodgkin Lymphoma  Oral Cavity & Pharynx  Ovary  Pancreas  Prostate  \\\n",
       "0                     21.5                   14.6   13.1      15.3     121.4   \n",
       "1                     17.3                   13.5    9.0      12.4     127.1   \n",
       "2                     20.8                   10.0   10.7      13.2      95.6   \n",
       "3                     22.8                   14.5   14.6      14.9      93.8   \n",
       "4                     18.3                   11.8    8.5      10.6      87.0   \n",
       "\n",
       "Site  Stomach  Thyroid  \n",
       "0         5.5     10.4  \n",
       "1         4.5      9.9  \n",
       "2         5.5      9.5  \n",
       "3         7.0     11.8  \n",
       "4         5.3     12.0  \n",
       "\n",
       "[5 rows x 24 columns]"
      ]
     },
     "execution_count": 16,
     "metadata": {},
     "output_type": "execute_result"
    }
   ],
   "source": [
    "# No index\n",
    "d_reset = d['cancer_incidence'].reset_index()\n",
    "d_reset.head()"
   ]
  },
  {
   "cell_type": "code",
   "execution_count": null,
   "metadata": {},
   "outputs": [],
   "source": []
  },
  {
   "cell_type": "code",
   "execution_count": null,
   "metadata": {},
   "outputs": [],
   "source": [
    "# want ot find unique state FIPS in a data dictinoary > [33,?]"
   ]
  },
  {
   "cell_type": "code",
   "execution_count": 37,
   "metadata": {},
   "outputs": [
    {
     "data": {
      "text/plain": [
       "[33, 50]"
      ]
     },
     "execution_count": 37,
     "metadata": {},
     "output_type": "execute_result"
    }
   ],
   "source": [
    "np.unique([int(i[:2]) for i in d_reset.FIPS if i[:2]]).tolist()"
   ]
  },
  {
   "cell_type": "code",
   "execution_count": null,
   "metadata": {},
   "outputs": [],
   "source": []
  },
  {
   "cell_type": "code",
   "execution_count": null,
   "metadata": {},
   "outputs": [],
   "source": [
    "# get rid of _long tables in data dictionary"
   ]
  },
  {
   "cell_type": "code",
   "execution_count": 38,
   "metadata": {},
   "outputs": [
    {
     "data": {
      "text/plain": [
       "dict_keys(['rf_and_screening_county', 'rf_and_screening_tract', 'cancer_incidence', 'cancer_mortality', 'economy_county', 'economy_tract', 'ht_county', 'ht_tract', 'sociodemographics_county', 'sociodemographics_tract', 'environment_county', 'environment_tract', 'broadband_speeds', 'facilities_and_providers'])"
      ]
     },
     "execution_count": 38,
     "metadata": {},
     "output_type": "execute_result"
    }
   ],
   "source": [
    "d_no_long = {key:value for (key, value) in zip(d.keys(), d.values()) if '_long' not in key}\n",
    "d_no_long.keys()"
   ]
  },
  {
   "cell_type": "code",
   "execution_count": null,
   "metadata": {},
   "outputs": [],
   "source": []
  },
  {
   "cell_type": "code",
   "execution_count": 28,
   "metadata": {},
   "outputs": [],
   "source": [
    "# split the data dictionary so that one has only county data, \n",
    "# one has tract level data, the other has other level data"
   ]
  },
  {
   "cell_type": "code",
   "execution_count": 32,
   "metadata": {},
   "outputs": [
    {
     "data": {
      "text/plain": [
       "dict_keys(['rf_and_screening_county', 'rf_and_screening_county_long', 'economy_county', 'economy_county_long', 'ht_county', 'ht_county_long', 'sociodemographics_county', 'sd_county_long', 'environment_county', 'environment_county_long'])"
      ]
     },
     "execution_count": 32,
     "metadata": {},
     "output_type": "execute_result"
    }
   ],
   "source": [
    "d_county = {key:value for (key, value) in zip(d.keys(), d.values()) if 'county' in key}\n",
    "d_county.keys()"
   ]
  },
  {
   "cell_type": "code",
   "execution_count": 33,
   "metadata": {},
   "outputs": [
    {
     "data": {
      "text/plain": [
       "dict_keys(['rf_and_screening_tract', 'rf_and_screening_tract_long', 'economy_tract', 'economy_tract_long', 'ht_tract', 'ht_tract_long', 'sociodemographics_tract', 'sd_tract_long', 'environment_tract', 'environment_tract_long'])"
      ]
     },
     "execution_count": 33,
     "metadata": {},
     "output_type": "execute_result"
    }
   ],
   "source": [
    "d_tract = {key:value for (key, value) in zip(d.keys(), d.values()) if 'tract' in key}\n",
    "d_tract.keys()"
   ]
  },
  {
   "cell_type": "code",
   "execution_count": 36,
   "metadata": {},
   "outputs": [
    {
     "data": {
      "text/plain": [
       "dict_keys(['cancer_incidence', 'cancer_incidence_long', 'cancer_mortality', 'cancer_mortality_long', 'broadband_speeds', 'facilities_and_providers'])"
      ]
     },
     "execution_count": 36,
     "metadata": {},
     "output_type": "execute_result"
    }
   ],
   "source": [
    "d_other = {key:value for (key, value) in zip(d.keys(), d.values()) if 'county' not in key and 'tract' not in key}\n",
    "d_other.keys()"
   ]
  },
  {
   "cell_type": "code",
   "execution_count": null,
   "metadata": {},
   "outputs": [],
   "source": []
  },
  {
   "cell_type": "code",
   "execution_count": 29,
   "metadata": {},
   "outputs": [],
   "source": [
    "# FIPS has to be in, not str"
   ]
  },
  {
   "cell_type": "code",
   "execution_count": 39,
   "metadata": {},
   "outputs": [
    {
     "data": {
      "text/plain": [
       "numpy.int64"
      ]
     },
     "execution_count": 39,
     "metadata": {},
     "output_type": "execute_result"
    }
   ],
   "source": [
    "d_reset.FIPS = pd.to_numeric(d_reset.FIPS)\n",
    "type(d_reset.FIPS[0])"
   ]
  },
  {
   "cell_type": "code",
   "execution_count": null,
   "metadata": {},
   "outputs": [],
   "source": []
  },
  {
   "cell_type": "code",
   "execution_count": null,
   "metadata": {},
   "outputs": [],
   "source": []
  },
  {
   "cell_type": "code",
   "execution_count": 7,
   "metadata": {},
   "outputs": [
    {
     "data": {
      "text/plain": [
       "pandas.core.frame.DataFrame"
      ]
     },
     "execution_count": 7,
     "metadata": {},
     "output_type": "execute_result"
    }
   ],
   "source": [
    "a = d['cancer_incidence'].head(5)\n",
    "type(a)"
   ]
  },
  {
   "cell_type": "code",
   "execution_count": 8,
   "metadata": {},
   "outputs": [
    {
     "data": {
      "text/plain": [
       "Index(['All Site', 'Bladder', 'Brain & ONS', 'Cervix', 'Colon & Rectum',\n",
       "       'Corpus Uteri & Uterus, NOS', 'Esophagus', 'Female Breast',\n",
       "       'Kidney & Renal Pelvis', 'Leukemia', 'Liver & IBD', 'Lung & Bronchus',\n",
       "       'Melanoma of the Skin', 'Non-Hodgkin Lymphoma', 'Oral Cavity & Pharynx',\n",
       "       'Ovary', 'Pancreas', 'Prostate', 'Stomach', 'Thyroid'],\n",
       "      dtype='object', name='Site')"
      ]
     },
     "execution_count": 8,
     "metadata": {},
     "output_type": "execute_result"
    }
   ],
   "source": [
    "a.columns"
   ]
  },
  {
   "cell_type": "code",
   "execution_count": null,
   "metadata": {},
   "outputs": [],
   "source": []
  },
  {
   "cell_type": "code",
   "execution_count": null,
   "metadata": {},
   "outputs": [],
   "source": []
  },
  {
   "cell_type": "code",
   "execution_count": 30,
   "metadata": {},
   "outputs": [
    {
     "name": "stdout",
     "output_type": "stream",
     "text": [
      "[3, 4, 6, 12, 20]\n"
     ]
    }
   ],
   "source": [
    "s1 = [1,2,3,4,5]\n",
    "s2 = [3,2,1,1,1]\n",
    "h = [1,1,2,3,4]\n",
    "cube = [a*b*c for a,b,c in zip(s1, s2, h)]\n",
    "print(cube)"
   ]
  },
  {
   "cell_type": "code",
   "execution_count": 31,
   "metadata": {},
   "outputs": [
    {
     "data": {
      "text/plain": [
       "{'box1': [1, 3, 1],\n",
       " 'box2': [2, 2, 1],\n",
       " 'box3': [3, 1, 2],\n",
       " 'box4': [4, 1, 3],\n",
       " 'box5': [5, 1, 4]}"
      ]
     },
     "execution_count": 31,
     "metadata": {},
     "output_type": "execute_result"
    }
   ],
   "source": [
    "volume = [[a,b,c] for a,b,c in zip(s1, s2, h)]\n",
    "volume2 = {}\n",
    "for i,v in enumerate(volume):\n",
    "    #volume[i] = v\n",
    "    volume2[f\"box{i+1}\"] = v\n",
    "volume2"
   ]
  },
  {
   "cell_type": "code",
   "execution_count": null,
   "metadata": {},
   "outputs": [],
   "source": []
  }
 ],
 "metadata": {
  "kernelspec": {
   "display_name": "Python 3 (ipykernel)",
   "language": "python",
   "name": "python3"
  },
  "language_info": {
   "codemirror_mode": {
    "name": "ipython",
    "version": 3
   },
   "file_extension": ".py",
   "mimetype": "text/x-python",
   "name": "python",
   "nbconvert_exporter": "python",
   "pygments_lexer": "ipython3",
   "version": "3.9.12"
  }
 },
 "nbformat": 4,
 "nbformat_minor": 2
}
