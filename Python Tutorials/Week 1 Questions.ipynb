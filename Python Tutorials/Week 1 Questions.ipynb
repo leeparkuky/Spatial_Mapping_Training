{
 "cells": [
  {
   "cell_type": "markdown",
   "id": "0c6f1516",
   "metadata": {},
   "source": [
    "Suppose we have a dataframe and it contains the following columns in the list format.   \n",
    "\n",
    "Note: suppose the column names are obtained by `df.columns.to_list()`"
   ]
  },
  {
   "cell_type": "code",
   "execution_count": 1,
   "id": "bd919247",
   "metadata": {},
   "outputs": [],
   "source": [
    "columns = ['FIPS', 'County', 'State', 'Insurance Coverage', 'Medicaid Enrollment', 'Gini Coefficient', \n",
    "           'Household Income', 'Annual Labor Force Participation Rate (2015-2019)',\n",
    "           'Annual Unemployment Rate (2015-2019)', 'Below Poverty', 'Uninsured',\n",
    "           'Monthly Unemployment Rate (Jun-22)', 'geometry']"
   ]
  },
  {
   "cell_type": "markdown",
   "id": "0cfa78c4",
   "metadata": {},
   "source": [
    "The goal here is to visulaize the quantitative variables (Insurance Coverage to Monthly Unemployment Rate (Jun-22)). Therefore, we need to have another list that only includes such lists. Using the `columns_to_remove` and regex, define `variables_to_visualize`, a list that contains all the other variables."
   ]
  },
  {
   "cell_type": "code",
   "execution_count": null,
   "id": "3849b5b5",
   "metadata": {},
   "outputs": [],
   "source": [
    "import re\n",
    "columns_to_remove = ['fips','county','state','geometry']\n",
    "\n",
    "pat = re.compile('(fips|county|state|geometry)', flags = re.I)  # define your regex pattern (hint: flags = re.I)\n",
    "\n",
    "variables_to_visualize = [] # enter your list comprehension statement"
   ]
  },
  {
   "cell_type": "code",
   "execution_count": 15,
   "id": "dc1d39c4",
   "metadata": {},
   "outputs": [],
   "source": [
    "import re\n",
    "columns_to_remove = ['fips','county','state','geometry']\n",
    "\n",
    "pat = re.compile('(fips|county|state|geometry)', flags = re.I)  # define your regex pattern (hint: flags = re.I)\n",
    "\n",
    "variable_to_visualize = [colname for colname in columns if not bool(re.match(pat, colname))]"
   ]
  },
  {
   "cell_type": "code",
   "execution_count": 16,
   "id": "420aa2ce",
   "metadata": {},
   "outputs": [
    {
     "data": {
      "text/plain": [
       "['Insurance Coverage',\n",
       " 'Medicaid Enrollment',\n",
       " 'Gini Coefficient',\n",
       " 'Household Income',\n",
       " 'Annual Labor Force Participation Rate (2015-2019)',\n",
       " 'Annual Unemployment Rate (2015-2019)',\n",
       " 'Below Poverty',\n",
       " 'Uninsured',\n",
       " 'Monthly Unemployment Rate (Jun-22)']"
      ]
     },
     "execution_count": 16,
     "metadata": {},
     "output_type": "execute_result"
    }
   ],
   "source": [
    "variable_to_visualize"
   ]
  },
  {
   "cell_type": "code",
   "execution_count": 17,
   "id": "01497e7d",
   "metadata": {},
   "outputs": [],
   "source": [
    "# longer version without using list comprehension\n",
    "variable_to_visualize = []\n",
    "\n",
    "for x in columns:\n",
    "    if bool(re.match(pat, x)):\n",
    "        pass\n",
    "    else:\n",
    "        variable_to_visualize.append(x)"
   ]
  },
  {
   "cell_type": "markdown",
   "id": "6fee2851",
   "metadata": {},
   "source": [
    "**ArcGIS Online**(AGOL) is not happy with the naming convension we originially have. When we upload the table to AGOL, it automatically converts the column names to all lower case, replace a empty space with a underscore and then select the first 10 characters if the length exceeds 10. For example, `Insurance Coverage` and `Medicaid Enrollment` will be converted into `insurance_` and `medicaid_e` respectively. Therefore, we need a dictionary that tracks how each column name in `variables_to_visualize` is converted by AGOL."
   ]
  },
  {
   "cell_type": "markdown",
   "id": "664ffb25",
   "metadata": {},
   "source": [
    "First, let's define a function that convert a given column name into AGOL column name"
   ]
  },
  {
   "cell_type": "code",
   "execution_count": 18,
   "id": "777079c5",
   "metadata": {},
   "outputs": [],
   "source": [
    "def get_AGOL_name(colname):\n",
    "    new_name = colname.replace(' ', \"_\").lower()\n",
    "    return new_name[:10]\n",
    "    # complete the function"
   ]
  },
  {
   "cell_type": "code",
   "execution_count": 19,
   "id": "d49bc5ec",
   "metadata": {},
   "outputs": [
    {
     "data": {
      "text/plain": [
       "'insurance_'"
      ]
     },
     "execution_count": 19,
     "metadata": {},
     "output_type": "execute_result"
    }
   ],
   "source": [
    "get_AGOL_name('Insurance Coverage')"
   ]
  },
  {
   "cell_type": "markdown",
   "id": "704dc2b7",
   "metadata": {},
   "source": [
    "Then using the function, let's create a dictionary with AGOL names as keys and original names as values"
   ]
  },
  {
   "cell_type": "code",
   "execution_count": null,
   "id": "4ef9ca0a",
   "metadata": {},
   "outputs": [],
   "source": [
    "colname_maps = {} # use dictionary comprehension and the function get_AGOL_name"
   ]
  }
 ],
 "metadata": {
  "kernelspec": {
   "display_name": "Python 3 (ipykernel)",
   "language": "python",
   "name": "python3"
  },
  "language_info": {
   "codemirror_mode": {
    "name": "ipython",
    "version": 3
   },
   "file_extension": ".py",
   "mimetype": "text/x-python",
   "name": "python",
   "nbconvert_exporter": "python",
   "pygments_lexer": "ipython3",
   "version": "3.10.4"
  }
 },
 "nbformat": 4,
 "nbformat_minor": 5
}
