{
 "cells": [
  {
   "cell_type": "markdown",
   "metadata": {},
   "source": [
    "Suppose we have a dataframe and it contains the following columns in the list format.   \n",
    "\n",
    "Note: suppose the column names are obtained by `df.columns.to_list()`"
   ]
  },
  {
   "cell_type": "code",
   "execution_count": 1,
<<<<<<< HEAD
=======
   "id": "bd919247",
>>>>>>> 389c448676f6211a5a5cdee4e58f600e3f96372a
   "metadata": {},
   "outputs": [],
   "source": [
    "columns = ['FIPS', 'County', 'State', 'Insurance Coverage', 'Medicaid Enrollment', 'Gini Coefficient', \n",
    "           'Household Income', 'Annual Labor Force Participation Rate (2015-2019)',\n",
    "           'Annual Unemployment Rate (2015-2019)', 'Below Poverty', 'Uninsured',\n",
    "           'Monthly Unemployment Rate (Jun-22)', 'geometry']"
   ]
  },
  {
   "cell_type": "markdown",
   "metadata": {},
   "source": [
    "The goal here is to visulaize the quantitative variables (Insurance Coverage to Monthly Unemployment Rate (Jun-22)). Therefore, we need to have another list that only includes such lists. Using the `columns_to_remove` and regex, define `variables_to_visualize`, a list that contains all the other variables."
   ]
  },
  {
   "cell_type": "code",
   "execution_count": 2,
   "metadata": {},
   "outputs": [],
   "source": [
    "import re"
   ]
  },
  {
   "cell_type": "code",
   "execution_count": 13,
   "metadata": {},
   "outputs": [],
   "source": [
    "import re\n",
    "columns_to_remove = ['fips','county','state','geometry']\n",
    "\n",
<<<<<<< HEAD
    "pat = re.compile('fips|county|state|geometry', flags = re.I )  \n",
    "# define your regex pattern (hint: flags = re.I)\n",
=======
    "pat = re.compile('(fips|county|state|geometry)', flags = re.I)  # define your regex pattern (hint: flags = re.I)\n",
>>>>>>> 389c448676f6211a5a5cdee4e58f600e3f96372a
    "\n",
    "variables_to_visualize = [ x for x in columns if not bool(re.match(pat, x))] # enter your list comprehension statement"
   ]
  },
  {
   "cell_type": "code",
   "execution_count": 14,
   "metadata": {},
   "outputs": [
    {
     "data": {
      "text/plain": [
       "['Insurance Coverage',\n",
       " 'Medicaid Enrollment',\n",
       " 'Gini Coefficient',\n",
       " 'Household Income',\n",
       " 'Annual Labor Force Participation Rate (2015-2019)',\n",
       " 'Annual Unemployment Rate (2015-2019)',\n",
       " 'Below Poverty',\n",
       " 'Uninsured',\n",
       " 'Monthly Unemployment Rate (Jun-22)']"
      ]
     },
     "execution_count": 14,
     "metadata": {},
     "output_type": "execute_result"
    }
   ],
   "source": [
    "variables_to_visualize"
   ]
  },
  {
   "cell_type": "code",
   "execution_count": 15,
   "id": "dc1d39c4",
   "metadata": {},
   "outputs": [],
   "source": [
    "import re\n",
    "columns_to_remove = ['fips','county','state','geometry']\n",
    "\n",
    "pat = re.compile('(fips|county|state|geometry)', flags = re.I)  # define your regex pattern (hint: flags = re.I)\n",
    "\n",
    "variable_to_visualize = [colname for colname in columns if not bool(re.match(pat, colname))]"
   ]
  },
  {
   "cell_type": "code",
   "execution_count": 16,
   "id": "420aa2ce",
   "metadata": {},
   "outputs": [
    {
     "data": {
      "text/plain": [
       "['Insurance Coverage',\n",
       " 'Medicaid Enrollment',\n",
       " 'Gini Coefficient',\n",
       " 'Household Income',\n",
       " 'Annual Labor Force Participation Rate (2015-2019)',\n",
       " 'Annual Unemployment Rate (2015-2019)',\n",
       " 'Below Poverty',\n",
       " 'Uninsured',\n",
       " 'Monthly Unemployment Rate (Jun-22)']"
      ]
     },
     "execution_count": 16,
     "metadata": {},
     "output_type": "execute_result"
    }
   ],
   "source": [
    "variable_to_visualize"
   ]
  },
  {
   "cell_type": "code",
   "execution_count": 17,
   "id": "01497e7d",
   "metadata": {},
   "outputs": [],
   "source": [
    "# longer version without using list comprehension\n",
    "variable_to_visualize = []\n",
    "\n",
    "for x in columns:\n",
    "    if bool(re.match(pat, x)):\n",
    "        pass\n",
    "    else:\n",
    "        variable_to_visualize.append(x)"
   ]
  },
  {
   "cell_type": "markdown",
   "metadata": {},
   "source": [
    "**ArcGIS Online**(AGOL) is not happy with the naming convension we originially have. When we upload the table to AGOL, it automatically converts the column names to all lower case, replace a empty space with a underscore and then select the first 10 characters if the length exceeds 10. For example, `Insurance Coverage` and `Medicaid Enrollment` will be converted into `insurance_` and `medicaid_e` respectively. Therefore, we need a dictionary that tracks how each column name in `variables_to_visualize` is converted by AGOL."
   ]
  },
  {
   "cell_type": "markdown",
   "metadata": {},
   "source": [
    "First, let's define a function that convert a given column name into AGOL column name"
   ]
  },
  {
   "cell_type": "code",
<<<<<<< HEAD
   "execution_count": 20,
=======
   "execution_count": 18,
   "id": "777079c5",
>>>>>>> 389c448676f6211a5a5cdee4e58f600e3f96372a
   "metadata": {},
   "outputs": [],
   "source": [
    "def get_AGOL_name(colname):\n",
<<<<<<< HEAD
    "    name = colname.replace(' ', '_').lower()\n",
    "    return(name[:10])\n",
    "# complete the function"
   ]
  },
  {
   "cell_type": "code",
   "execution_count": 21,
   "metadata": {},
   "outputs": [
    {
     "data": {
      "text/plain": [
       "'insurance_'"
      ]
     },
     "execution_count": 21,
     "metadata": {},
     "output_type": "execute_result"
    }
   ],
   "source": [
    "get_AGOL_name('Insurance Coverage')"
=======
    "    new_name = colname.replace(' ', \"_\").lower()\n",
    "    return new_name[:10]\n",
    "    # complete the function"
>>>>>>> 389c448676f6211a5a5cdee4e58f600e3f96372a
   ]
  },
  {
   "cell_type": "code",
   "execution_count": 19,
   "id": "d49bc5ec",
   "metadata": {},
   "outputs": [
    {
     "data": {
      "text/plain": [
       "'insurance_'"
      ]
     },
     "execution_count": 19,
     "metadata": {},
     "output_type": "execute_result"
    }
   ],
   "source": [
    "get_AGOL_name('Insurance Coverage')"
   ]
  },
  {
   "cell_type": "markdown",
   "metadata": {},
   "source": [
    "Then using the function, let's create a dictionary with AGOL names as keys and original names as values"
   ]
  },
  {
   "cell_type": "code",
   "execution_count": 23,
   "metadata": {},
   "outputs": [],
   "source": [
    "AGOL_names = ['Insurance Coverage', 'Medicaid Enrollment']\n",
    "colname_maps = {\n",
    "    i: get_AGOL_name(i) for i in AGOL_names\n",
    "} # use dictionary comprehension and the function get_AGOL_name"
   ]
  },
  {
   "cell_type": "code",
   "execution_count": 25,
   "metadata": {},
   "outputs": [
    {
     "name": "stdout",
     "output_type": "stream",
     "text": [
      "dict_items([('Insurance Coverage', 'insurance_'), ('Medicaid Enrollment', 'medicaid_e')])\n"
     ]
    }
   ],
   "source": [
    "print(colname_maps.items())"
   ]
  },
  {
   "cell_type": "code",
   "execution_count": null,
   "metadata": {},
   "outputs": [],
   "source": []
  }
 ],
 "metadata": {
  "kernelspec": {
   "display_name": "Python 3",
   "language": "python",
   "name": "python3"
  },
  "language_info": {
   "codemirror_mode": {
    "name": "ipython",
    "version": 3
   },
   "file_extension": ".py",
   "mimetype": "text/x-python",
   "name": "python",
   "nbconvert_exporter": "python",
   "pygments_lexer": "ipython3",
   "version": "3.7.4"
  }
 },
 "nbformat": 4,
 "nbformat_minor": 5
}
