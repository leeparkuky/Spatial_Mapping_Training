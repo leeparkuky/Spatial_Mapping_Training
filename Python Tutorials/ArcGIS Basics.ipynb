{
 "cells": [
  {
   "cell_type": "code",
   "execution_count": 1,
   "id": "23aef990",
   "metadata": {},
   "outputs": [],
   "source": [
    "import geopandas as gpd\n",
    "import pandas as pd\n",
    "\n",
    "# import os\n",
    "# import json\n",
    "# from IPython.display import display\n",
    "import arcgis\n",
    "from arcgis.gis import GIS, ContentManager\n",
    "from arcgis.mapping import WebMap, WebScene"
   ]
  },
  {
   "cell_type": "markdown",
   "id": "222e9465",
   "metadata": {},
   "source": [
    "### Connect to ArcGIS Online (AGOL)"
   ]
  },
  {
   "cell_type": "code",
   "execution_count": 2,
   "id": "dc0fc31a",
   "metadata": {},
   "outputs": [],
   "source": [
    "app_id = 'uPZiN9HJWneCycx3'"
   ]
  },
  {
   "cell_type": "code",
   "execution_count": 3,
   "id": "c064f8f0",
   "metadata": {},
   "outputs": [
    {
     "name": "stdout",
     "output_type": "stream",
     "text": [
      "Please sign in to your GIS and paste the code that is obtained below.\n",
      "If a web browser does not automatically open, please navigate to the URL below yourself instead.\n",
      "Opening web browser to navigate to: https://ky-cancer.maps.arcgis.com/sharing/rest/oauth2/authorize?response_type=code&client_id=uPZiN9HJWneCycx3&redirect_uri=urn%3Aietf%3Awg%3Aoauth%3A2.0%3Aoob&state=8Fxl5Lq3tKEEid5sjVtllBuT1ngmRZ&allow_verification=false\n",
      "Enter code obtained on signing in using SAML: ········\n"
     ]
    },
    {
     "name": "stderr",
     "output_type": "stream",
     "text": [
      "C:\\Python39\\lib\\site-packages\\urllib3\\connectionpool.py:1045: InsecureRequestWarning: Unverified HTTPS request is being made to host 'ky-cancer.maps.arcgis.com'. Adding certificate verification is strongly advised. See: https://urllib3.readthedocs.io/en/1.26.x/advanced-usage.html#ssl-warnings\n",
      "  warnings.warn(\n"
     ]
    }
   ],
   "source": [
    "gis = GIS(\"https://ky-cancer.maps.arcgis.com\", client_id = app_id) # log-in to the AGOL "
   ]
  },
  {
   "cell_type": "code",
   "execution_count": 4,
   "id": "51ed1d96",
   "metadata": {},
   "outputs": [],
   "source": [
    "contentManager = ContentManager(gis)"
   ]
  },
  {
   "cell_type": "code",
   "execution_count": 5,
   "id": "d9241f85",
   "metadata": {},
   "outputs": [
    {
     "data": {
      "text/plain": [
       "[<Item title:\"Hybrid County Basemap\" type:Vector Tile Layer owner:todd.burus>,\n",
       " <Item title:\"Behavioral Risk Factors\" type:Service Definition owner:lee.park>,\n",
       " <Item title:\"Basemap\" type:Feature Layer Collection owner:todd.burus>,\n",
       " <Item title:\"urban_region\" type:Feature Layer Collection owner:todd.burus>,\n",
       " <Item title:\"Environmental Indicators County\" type:Feature Layer Collection owner:lee.park>,\n",
       " <Item title:\"Tract Basemap\" type:Feature Layer Collection owner:todd.burus>,\n",
       " <Item title:\"all_site_inc_map_cover_outlined\" type:Image owner:todd.burus>,\n",
       " <Item title:\"ht_county : Vacancy Rate\" type:Web Map owner:lee.park>,\n",
       " <Item title:\"environment_county : PWS_Violations_Since_2016\" type:Web Map owner:lee.park>,\n",
       " <Item title:\"sociodemographics_county : Over 64\" type:Web Map owner:lee.park>]"
      ]
     },
     "execution_count": 5,
     "metadata": {},
     "output_type": "execute_result"
    }
   ],
   "source": [
    "contentManager.search('')"
   ]
  },
  {
   "cell_type": "code",
   "execution_count": 6,
   "id": "5d434867",
   "metadata": {},
   "outputs": [],
   "source": [
    "county = 'https://www2.census.gov/geo/tiger/TIGER2019/COUNTY/tl_2019_us_county.zip'\n",
    "gdf = gpd.read_file(county)"
   ]
  },
  {
   "cell_type": "code",
   "execution_count": 7,
   "id": "6e7ea42f",
   "metadata": {},
   "outputs": [],
   "source": [
    "simple_gdf = gdf.loc[:, ['GEOID','geometry']]"
   ]
  },
  {
   "cell_type": "code",
   "execution_count": 8,
   "id": "859728d0",
   "metadata": {},
   "outputs": [
    {
     "data": {
      "text/html": [
       "<div>\n",
       "<style scoped>\n",
       "    .dataframe tbody tr th:only-of-type {\n",
       "        vertical-align: middle;\n",
       "    }\n",
       "\n",
       "    .dataframe tbody tr th {\n",
       "        vertical-align: top;\n",
       "    }\n",
       "\n",
       "    .dataframe thead th {\n",
       "        text-align: right;\n",
       "    }\n",
       "</style>\n",
       "<table border=\"1\" class=\"dataframe\">\n",
       "  <thead>\n",
       "    <tr style=\"text-align: right;\">\n",
       "      <th></th>\n",
       "      <th>GEOID</th>\n",
       "      <th>geometry</th>\n",
       "    </tr>\n",
       "  </thead>\n",
       "  <tbody>\n",
       "    <tr>\n",
       "      <th>0</th>\n",
       "      <td>31039</td>\n",
       "      <td>POLYGON ((-97.01952 42.00410, -97.01952 42.004...</td>\n",
       "    </tr>\n",
       "    <tr>\n",
       "      <th>1</th>\n",
       "      <td>53069</td>\n",
       "      <td>POLYGON ((-123.43639 46.23820, -123.44759 46.2...</td>\n",
       "    </tr>\n",
       "    <tr>\n",
       "      <th>2</th>\n",
       "      <td>35011</td>\n",
       "      <td>POLYGON ((-104.56739 33.99757, -104.56772 33.9...</td>\n",
       "    </tr>\n",
       "  </tbody>\n",
       "</table>\n",
       "</div>"
      ],
      "text/plain": [
       "   GEOID                                           geometry\n",
       "0  31039  POLYGON ((-97.01952 42.00410, -97.01952 42.004...\n",
       "1  53069  POLYGON ((-123.43639 46.23820, -123.44759 46.2...\n",
       "2  35011  POLYGON ((-104.56739 33.99757, -104.56772 33.9..."
      ]
     },
     "execution_count": 8,
     "metadata": {},
     "output_type": "execute_result"
    }
   ],
   "source": [
    "simple_gdf.head(3)"
   ]
  },
  {
   "cell_type": "code",
   "execution_count": 9,
   "id": "86e83f98",
   "metadata": {},
   "outputs": [
    {
     "data": {
      "text/plain": [
       "GEOID         object\n",
       "geometry    geometry\n",
       "dtype: object"
      ]
     },
     "execution_count": 9,
     "metadata": {},
     "output_type": "execute_result"
    }
   ],
   "source": [
    "simple_gdf.dtypes"
   ]
  },
  {
   "cell_type": "markdown",
   "id": "0eaf72b9",
   "metadata": {},
   "source": [
    "### Import our own dataset"
   ]
  },
  {
   "cell_type": "code",
   "execution_count": 10,
   "id": "bd2fb2ce",
   "metadata": {},
   "outputs": [],
   "source": [
    "import pickle\n",
    "d = pickle.load(open('../dataset.pickle','rb'))\n",
    "df = d['cancer_incidence']\n",
    "df2 = d['economy_county']"
   ]
  },
  {
   "cell_type": "code",
   "execution_count": 28,
   "id": "df27debb",
   "metadata": {},
   "outputs": [],
   "source": [
    "df.reset_index(drop = False, inplace = True)"
   ]
  },
  {
   "cell_type": "code",
   "execution_count": 29,
   "id": "95c87bad",
   "metadata": {},
   "outputs": [
    {
     "data": {
      "text/html": [
       "<div>\n",
       "<style scoped>\n",
       "    .dataframe tbody tr th:only-of-type {\n",
       "        vertical-align: middle;\n",
       "    }\n",
       "\n",
       "    .dataframe tbody tr th {\n",
       "        vertical-align: top;\n",
       "    }\n",
       "\n",
       "    .dataframe thead th {\n",
       "        text-align: right;\n",
       "    }\n",
       "</style>\n",
       "<table border=\"1\" class=\"dataframe\">\n",
       "  <thead>\n",
       "    <tr style=\"text-align: right;\">\n",
       "      <th>Site</th>\n",
       "      <th>FIPS</th>\n",
       "      <th>County</th>\n",
       "      <th>State</th>\n",
       "      <th>Type</th>\n",
       "      <th>All Site</th>\n",
       "      <th>Bladder</th>\n",
       "      <th>Brain &amp; ONS</th>\n",
       "      <th>Cervix</th>\n",
       "      <th>Colon &amp; Rectum</th>\n",
       "      <th>Corpus Uteri &amp; Uterus, NOS</th>\n",
       "      <th>...</th>\n",
       "      <th>Liver &amp; IBD</th>\n",
       "      <th>Lung &amp; Bronchus</th>\n",
       "      <th>Melanoma of the Skin</th>\n",
       "      <th>Non-Hodgkin Lymphoma</th>\n",
       "      <th>Oral Cavity &amp; Pharynx</th>\n",
       "      <th>Ovary</th>\n",
       "      <th>Pancreas</th>\n",
       "      <th>Prostate</th>\n",
       "      <th>Stomach</th>\n",
       "      <th>Thyroid</th>\n",
       "    </tr>\n",
       "  </thead>\n",
       "  <tbody>\n",
       "    <tr>\n",
       "      <th>0</th>\n",
       "      <td>33001</td>\n",
       "      <td>Belknap County</td>\n",
       "      <td>New Hampshire</td>\n",
       "      <td>Incidence</td>\n",
       "      <td>519.3</td>\n",
       "      <td>26.6</td>\n",
       "      <td>6.4</td>\n",
       "      <td>NaN</td>\n",
       "      <td>41.9</td>\n",
       "      <td>42.6</td>\n",
       "      <td>...</td>\n",
       "      <td>5.7</td>\n",
       "      <td>69.1</td>\n",
       "      <td>40.3</td>\n",
       "      <td>21.5</td>\n",
       "      <td>14.6</td>\n",
       "      <td>13.1</td>\n",
       "      <td>15.3</td>\n",
       "      <td>121.4</td>\n",
       "      <td>5.5</td>\n",
       "      <td>10.4</td>\n",
       "    </tr>\n",
       "    <tr>\n",
       "      <th>1</th>\n",
       "      <td>33003</td>\n",
       "      <td>Carroll County</td>\n",
       "      <td>New Hampshire</td>\n",
       "      <td>Incidence</td>\n",
       "      <td>465.0</td>\n",
       "      <td>26.2</td>\n",
       "      <td>8.3</td>\n",
       "      <td>NaN</td>\n",
       "      <td>35.7</td>\n",
       "      <td>28.6</td>\n",
       "      <td>...</td>\n",
       "      <td>5.4</td>\n",
       "      <td>57.6</td>\n",
       "      <td>33.8</td>\n",
       "      <td>17.3</td>\n",
       "      <td>13.5</td>\n",
       "      <td>9.0</td>\n",
       "      <td>12.4</td>\n",
       "      <td>127.1</td>\n",
       "      <td>4.5</td>\n",
       "      <td>9.9</td>\n",
       "    </tr>\n",
       "    <tr>\n",
       "      <th>2</th>\n",
       "      <td>33005</td>\n",
       "      <td>Cheshire County</td>\n",
       "      <td>New Hampshire</td>\n",
       "      <td>Incidence</td>\n",
       "      <td>471.2</td>\n",
       "      <td>23.2</td>\n",
       "      <td>6.3</td>\n",
       "      <td>NaN</td>\n",
       "      <td>37.7</td>\n",
       "      <td>30.4</td>\n",
       "      <td>...</td>\n",
       "      <td>8.0</td>\n",
       "      <td>59.2</td>\n",
       "      <td>40.4</td>\n",
       "      <td>20.8</td>\n",
       "      <td>10.0</td>\n",
       "      <td>10.7</td>\n",
       "      <td>13.2</td>\n",
       "      <td>95.6</td>\n",
       "      <td>5.5</td>\n",
       "      <td>9.5</td>\n",
       "    </tr>\n",
       "  </tbody>\n",
       "</table>\n",
       "<p>3 rows × 24 columns</p>\n",
       "</div>"
      ],
      "text/plain": [
       "Site   FIPS           County          State       Type  All Site  Bladder  \\\n",
       "0     33001   Belknap County  New Hampshire  Incidence     519.3     26.6   \n",
       "1     33003   Carroll County  New Hampshire  Incidence     465.0     26.2   \n",
       "2     33005  Cheshire County  New Hampshire  Incidence     471.2     23.2   \n",
       "\n",
       "Site  Brain & ONS  Cervix  Colon & Rectum  Corpus Uteri & Uterus, NOS  ...  \\\n",
       "0             6.4     NaN            41.9                        42.6  ...   \n",
       "1             8.3     NaN            35.7                        28.6  ...   \n",
       "2             6.3     NaN            37.7                        30.4  ...   \n",
       "\n",
       "Site  Liver & IBD  Lung & Bronchus  Melanoma of the Skin  \\\n",
       "0             5.7             69.1                  40.3   \n",
       "1             5.4             57.6                  33.8   \n",
       "2             8.0             59.2                  40.4   \n",
       "\n",
       "Site  Non-Hodgkin Lymphoma  Oral Cavity & Pharynx  Ovary  Pancreas  Prostate  \\\n",
       "0                     21.5                   14.6   13.1      15.3     121.4   \n",
       "1                     17.3                   13.5    9.0      12.4     127.1   \n",
       "2                     20.8                   10.0   10.7      13.2      95.6   \n",
       "\n",
       "Site  Stomach  Thyroid  \n",
       "0         5.5     10.4  \n",
       "1         4.5      9.9  \n",
       "2         5.5      9.5  \n",
       "\n",
       "[3 rows x 24 columns]"
      ]
     },
     "execution_count": 29,
     "metadata": {},
     "output_type": "execute_result"
    }
   ],
   "source": [
    "df.head(3)"
   ]
  },
  {
   "cell_type": "code",
   "execution_count": 33,
   "id": "f5192271",
   "metadata": {},
   "outputs": [],
   "source": [
    "## merge (add geometry variable)\n",
    "\n",
    "temp = df.merge(simple_gdf, how = 'left', left_on = 'FIPS', right_on = 'GEOID').drop('GEOID', axis =1)"
   ]
  },
  {
   "cell_type": "code",
   "execution_count": 35,
   "id": "dc6ed02a",
   "metadata": {},
   "outputs": [
    {
     "name": "stderr",
     "output_type": "stream",
     "text": [
      "Error acquiring spatial reference from GeoDataFrame Spatial reference will not be set.'DataFrame' object has no attribute 'crs'\n"
     ]
    }
   ],
   "source": [
    "sdf = pd.DataFrame.spatial.from_geodataframe(temp, column_name = 'geometry')"
   ]
  },
  {
   "cell_type": "code",
   "execution_count": 37,
   "id": "a1e42c67",
   "metadata": {},
   "outputs": [],
   "source": [
    "lyrs = contentManager.import_data(sdf, title = 'First Sample', folder = \"Sample\")"
   ]
  },
  {
   "cell_type": "code",
   "execution_count": 38,
   "id": "4d56e8aa",
   "metadata": {},
   "outputs": [
    {
     "data": {
      "text/html": [
       "<div class=\"item_container\" style=\"height: auto; overflow: hidden; border: 1px solid #cfcfcf; border-radius: 2px; background: #f6fafa; line-height: 1.21429em; padding: 10px;\">\n",
       "                    <div class=\"item_left\" style=\"width: 210px; float: left;\">\n",
       "                       <a href='https://ky-cancer.maps.arcgis.com/home/item.html?id=bf054386b3234d6fa15760eb586e3eb0' target='_blank'>\n",
       "                        <img src='http://static.arcgis.com/images/desktopapp.png' class=\"itemThumbnail\">\n",
       "                       </a>\n",
       "                    </div>\n",
       "\n",
       "                    <div class=\"item_right\"     style=\"float: none; width: auto; overflow: hidden;\">\n",
       "                        <a href='https://ky-cancer.maps.arcgis.com/home/item.html?id=bf054386b3234d6fa15760eb586e3eb0' target='_blank'><b>First Sample</b>\n",
       "                        </a>\n",
       "                        <br/><img src='https://ky-cancer.maps.arcgis.com/home/js/jsapi/esri/css/images/item_type_icons/featureshosted16.png' style=\"vertical-align:middle;\">Feature Layer Collection by lee.park\n",
       "                        <br/>Last Modified: October 21, 2022\n",
       "                        <br/>0 comments, 0 views\n",
       "                    </div>\n",
       "                </div>\n",
       "                "
      ],
      "text/plain": [
       "<Item title:\"First Sample\" type:Feature Layer Collection owner:lee.park>"
      ]
     },
     "execution_count": 38,
     "metadata": {},
     "output_type": "execute_result"
    }
   ],
   "source": [
    "lyrs"
   ]
  },
  {
   "cell_type": "code",
   "execution_count": null,
   "id": "a476f3ed",
   "metadata": {},
   "outputs": [],
   "source": []
  }
 ],
 "metadata": {
  "kernelspec": {
   "display_name": "Python 3 (ipykernel)",
   "language": "python",
   "name": "python3"
  },
  "language_info": {
   "codemirror_mode": {
    "name": "ipython",
    "version": 3
   },
   "file_extension": ".py",
   "mimetype": "text/x-python",
   "name": "python",
   "nbconvert_exporter": "python",
   "pygments_lexer": "ipython3",
   "version": "3.9.0"
  }
 },
 "nbformat": 4,
 "nbformat_minor": 5
}
