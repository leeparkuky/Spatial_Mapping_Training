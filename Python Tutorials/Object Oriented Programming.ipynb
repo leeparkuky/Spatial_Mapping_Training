{
 "cells": [
  {
   "cell_type": "markdown",
   "id": "67cacd86",
   "metadata": {},
   "source": [
    "### 1. What is an object?\n",
    "\n",
    "An object is simply a collection of data (variables) and methods (functions) that act on those data. \n",
    "\n",
    "### 2. What does an object consist of?\n",
    "\n",
    "### 3. How to write codes about an object?\n",
    "\n",
    "We define a class, which is a blueprint for an object\n",
    "\n",
    "### 4. What is __init__(self, args)?\n",
    "\n",
    "The \\_\\_init\\_\\_ method lets the class initialize the object's attributes and serves no other purpose.   \n",
    "When you create an object, the init method will be called.\n",
    "\n",
    "### 5. Decorators (Will be covered later)\n",
    "\n",
    "The decorators are used to specify the characteristics of methods\n",
    "- property decorator\n",
    "- static method decorator\n",
    "- class method decorator\n",
    "\n",
    "### 6. Inheritance (Will be covered later)"
   ]
  },
  {
   "cell_type": "markdown",
   "id": "2ec60b25",
   "metadata": {},
   "source": [
    "#### 1. Example of an object"
   ]
  },
  {
   "cell_type": "code",
   "execution_count": 2,
   "id": "b9ebe8cb",
   "metadata": {},
   "outputs": [],
   "source": [
    "# a string is an object\n",
    "string = 'Hello World'"
   ]
  },
  {
   "cell_type": "code",
   "execution_count": 11,
   "id": "436b62d3",
   "metadata": {},
   "outputs": [
    {
     "name": "stdout",
     "output_type": "stream",
     "text": [
      "There are 11 characters in the string\n",
      "Does string contain only alphabet letters: False\n",
      "Is string all lower case: False\n"
     ]
    }
   ],
   "source": [
    "# What are the characteristics of string??\n",
    "print(f'There are {len(string)} characters in the string')\n",
    "print(f'Does string contain only alphabet letters: {string.isalpha()}')\n",
    "print(f'Is string all lower case: {string.islower()}')"
   ]
  },
  {
   "cell_type": "code",
   "execution_count": 12,
   "id": "2817b5d0",
   "metadata": {},
   "outputs": [
    {
     "data": {
      "text/plain": [
       "['Hello', 'World']"
      ]
     },
     "execution_count": 12,
     "metadata": {},
     "output_type": "execute_result"
    }
   ],
   "source": [
    "# What can the string object can do? (What \"method functions\" a string object has?)\n",
    "string.split(' ')"
   ]
  },
  {
   "cell_type": "code",
   "execution_count": 13,
   "id": "695851e6",
   "metadata": {},
   "outputs": [
    {
     "data": {
      "text/plain": [
       "'hello world'"
      ]
     },
     "execution_count": 13,
     "metadata": {},
     "output_type": "execute_result"
    }
   ],
   "source": [
    "string.lower()"
   ]
  },
  {
   "cell_type": "code",
   "execution_count": 14,
   "id": "4f7168fd",
   "metadata": {},
   "outputs": [
    {
     "data": {
      "text/plain": [
       "'Hello_World'"
      ]
     },
     "execution_count": 14,
     "metadata": {},
     "output_type": "execute_result"
    }
   ],
   "source": [
    "string.replace(' ', '_')"
   ]
  },
  {
   "cell_type": "code",
   "execution_count": 16,
   "id": "68819288",
   "metadata": {},
   "outputs": [
    {
     "data": {
      "text/plain": [
       "'HELLO WORLD'"
      ]
     },
     "execution_count": 16,
     "metadata": {},
     "output_type": "execute_result"
    }
   ],
   "source": [
    "string.upper()"
   ]
  },
  {
   "cell_type": "code",
   "execution_count": 25,
   "id": "d74dc0a1",
   "metadata": {},
   "outputs": [
    {
     "data": {
      "text/plain": [
       "['__add__',\n",
       " '__class__',\n",
       " '__contains__',\n",
       " '__delattr__',\n",
       " '__dir__',\n",
       " '__doc__',\n",
       " '__eq__',\n",
       " '__format__',\n",
       " '__ge__',\n",
       " '__getattribute__',\n",
       " '__getitem__',\n",
       " '__getnewargs__',\n",
       " '__gt__',\n",
       " '__hash__',\n",
       " '__init__',\n",
       " '__init_subclass__',\n",
       " '__iter__',\n",
       " '__le__',\n",
       " '__len__',\n",
       " '__lt__',\n",
       " '__mod__',\n",
       " '__mul__',\n",
       " '__ne__',\n",
       " '__new__',\n",
       " '__reduce__',\n",
       " '__reduce_ex__',\n",
       " '__repr__',\n",
       " '__rmod__',\n",
       " '__rmul__',\n",
       " '__setattr__',\n",
       " '__sizeof__',\n",
       " '__str__',\n",
       " '__subclasshook__',\n",
       " 'capitalize',\n",
       " 'casefold',\n",
       " 'center',\n",
       " 'count',\n",
       " 'encode',\n",
       " 'endswith',\n",
       " 'expandtabs',\n",
       " 'find',\n",
       " 'format',\n",
       " 'format_map',\n",
       " 'index',\n",
       " 'isalnum',\n",
       " 'isalpha',\n",
       " 'isascii',\n",
       " 'isdecimal',\n",
       " 'isdigit',\n",
       " 'isidentifier',\n",
       " 'islower',\n",
       " 'isnumeric',\n",
       " 'isprintable',\n",
       " 'isspace',\n",
       " 'istitle',\n",
       " 'isupper',\n",
       " 'join',\n",
       " 'ljust',\n",
       " 'lower',\n",
       " 'lstrip',\n",
       " 'maketrans',\n",
       " 'partition',\n",
       " 'removeprefix',\n",
       " 'removesuffix',\n",
       " 'replace',\n",
       " 'rfind',\n",
       " 'rindex',\n",
       " 'rjust',\n",
       " 'rpartition',\n",
       " 'rsplit',\n",
       " 'rstrip',\n",
       " 'split',\n",
       " 'splitlines',\n",
       " 'startswith',\n",
       " 'strip',\n",
       " 'swapcase',\n",
       " 'title',\n",
       " 'translate',\n",
       " 'upper',\n",
       " 'zfill']"
      ]
     },
     "execution_count": 25,
     "metadata": {},
     "output_type": "execute_result"
    }
   ],
   "source": [
    "dir(string)"
   ]
  },
  {
   "cell_type": "markdown",
   "id": "3ba87cfb",
   "metadata": {},
   "source": [
    "#### 2. Class Example"
   ]
  },
  {
   "cell_type": "code",
   "execution_count": 37,
   "id": "dc77ba93",
   "metadata": {},
   "outputs": [],
   "source": [
    "class Lee:\n",
    "    def __init__(self, age = 31, weight = 180):\n",
    "        self.age = age\n",
    "        self.weight = weight"
   ]
  },
  {
   "cell_type": "code",
   "execution_count": 38,
   "id": "673b26c3",
   "metadata": {},
   "outputs": [
    {
     "data": {
      "text/plain": [
       "40"
      ]
     },
     "execution_count": 38,
     "metadata": {},
     "output_type": "execute_result"
    }
   ],
   "source": [
    "lee = Lee(40, 150)\n",
    "lee.age"
   ]
  },
  {
   "cell_type": "code",
   "execution_count": 33,
   "id": "be0c06eb",
   "metadata": {},
   "outputs": [],
   "source": [
    "class Lee:\n",
    "    def __init__(self):\n",
    "        self.age = 31\n",
    "        self.weight = 180"
   ]
  },
  {
   "cell_type": "code",
   "execution_count": 34,
   "id": "c1013f72",
   "metadata": {},
   "outputs": [
    {
     "data": {
      "text/plain": [
       "31"
      ]
     },
     "execution_count": 34,
     "metadata": {},
     "output_type": "execute_result"
    }
   ],
   "source": [
    "lee = Lee()\n",
    "lee.age"
   ]
  },
  {
   "cell_type": "code",
   "execution_count": 28,
   "id": "33c2acd8",
   "metadata": {},
   "outputs": [
    {
     "data": {
      "text/plain": [
       "31"
      ]
     },
     "execution_count": 28,
     "metadata": {},
     "output_type": "execute_result"
    }
   ],
   "source": [
    "lee.age"
   ]
  },
  {
   "cell_type": "code",
   "execution_count": 53,
   "id": "7c9284db",
   "metadata": {},
   "outputs": [],
   "source": [
    "def add_age(age):\n",
    "    age += 1\n",
    "    return age"
   ]
  },
  {
   "cell_type": "code",
   "execution_count": 55,
   "id": "6026af24",
   "metadata": {},
   "outputs": [
    {
     "data": {
      "text/plain": [
       "<function __main__.add_age(age)>"
      ]
     },
     "execution_count": 55,
     "metadata": {},
     "output_type": "execute_result"
    }
   ],
   "source": [
    "add_age"
   ]
  },
  {
   "cell_type": "code",
   "execution_count": 70,
   "id": "d5d9e54d",
   "metadata": {},
   "outputs": [],
   "source": [
    "class Lee:\n",
    "    def __init__(self, age, weight):\n",
    "        self.age = age\n",
    "        self.weight = weight\n",
    "        self._weight_in_kg = None\n",
    "    \n",
    "    @property\n",
    "    def weight_in_kg(self):\n",
    "        if self._weight_in_kg:\n",
    "            import time\n",
    "            time.sleep(10)\n",
    "            self._weight_in_kg = self.weight*.41\n",
    "        else:\n",
    "            pass\n",
    "        return self._weight_in_kg\n",
    "    \n",
    "    \n",
    "    def add_age(self):\n",
    "        self.age += 1\n",
    "    \n",
    "    def go_to_workout(self, to = 'Johnson Center'):\n",
    "        if to == 'Johnson Center':\n",
    "            print(f'Lee at age {self.age} went to {to} today')\n",
    "        else:\n",
    "            print(f'Lee is weird. He went to another place for workout. and the name of the place is {to}')\n",
    "        self.weight -= 1\n",
    "        if self._weight_in_kg:\n",
    "            self._weight_in_kg -= .41\n",
    "        else:\n",
    "            pass\n",
    "        return self.weight\n",
    "\n",
    "class Bridget:\n",
    "    def __init__(self, age, weight):\n",
    "        self.age = age\n",
    "        self.weight = weight\n",
    "    \n",
    "    def add_age(self):\n",
    "        self.age += 2"
   ]
  },
  {
   "cell_type": "code",
   "execution_count": 71,
   "id": "96271c28",
   "metadata": {},
   "outputs": [],
   "source": [
    "lee = Lee(31, 180)\n",
    "bridget = Bridget(24, 120)"
   ]
  },
  {
   "cell_type": "code",
   "execution_count": 72,
   "id": "602820ef",
   "metadata": {},
   "outputs": [
    {
     "data": {
      "text/plain": [
       "73.8"
      ]
     },
     "execution_count": 72,
     "metadata": {},
     "output_type": "execute_result"
    }
   ],
   "source": [
    "lee.weight_in_kg"
   ]
  },
  {
   "cell_type": "code",
   "execution_count": 73,
   "id": "8c00d72d",
   "metadata": {},
   "outputs": [
    {
     "data": {
      "text/plain": [
       "73.8"
      ]
     },
     "execution_count": 73,
     "metadata": {},
     "output_type": "execute_result"
    }
   ],
   "source": [
    "lee.weight_in_kg"
   ]
  },
  {
   "cell_type": "code",
   "execution_count": 56,
   "id": "75b9385d",
   "metadata": {},
   "outputs": [
    {
     "data": {
      "text/plain": [
       "<bound method Lee.go_to_workout of <__main__.Lee object at 0x7f244f6abe50>>"
      ]
     },
     "execution_count": 56,
     "metadata": {},
     "output_type": "execute_result"
    }
   ],
   "source": [
    "lee.go_to_workout"
   ]
  },
  {
   "cell_type": "code",
   "execution_count": 43,
   "id": "4e100f21",
   "metadata": {},
   "outputs": [
    {
     "data": {
      "text/plain": [
       "32"
      ]
     },
     "execution_count": 43,
     "metadata": {},
     "output_type": "execute_result"
    }
   ],
   "source": [
    "lee.add_age(); bridget.add_age()"
   ]
  },
  {
   "cell_type": "code",
   "execution_count": null,
   "id": "d60e9d4f",
   "metadata": {},
   "outputs": [],
   "source": []
  }
 ],
 "metadata": {
  "kernelspec": {
   "display_name": "Python 3 (ipykernel)",
   "language": "python",
   "name": "python3"
  },
  "language_info": {
   "codemirror_mode": {
    "name": "ipython",
    "version": 3
   },
   "file_extension": ".py",
   "mimetype": "text/x-python",
   "name": "python",
   "nbconvert_exporter": "python",
   "pygments_lexer": "ipython3",
   "version": "3.9.0"
  }
 },
 "nbformat": 4,
 "nbformat_minor": 5
}
