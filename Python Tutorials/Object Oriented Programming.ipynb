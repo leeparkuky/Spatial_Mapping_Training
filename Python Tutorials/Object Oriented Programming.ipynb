{
 "cells": [
  {
   "cell_type": "markdown",
   "id": "807894cf",
   "metadata": {},
   "source": [
    "### 1. What is an object?\n",
    "\n",
    "An object is simply a collection of data (variables) and methods (functions) that act on those data. \n",
    "\n",
    "### 2. What does an object consist of?\n",
    "\n",
    "### 3. How to write codes about an object?\n",
    "\n",
    "We define a class, which is a blueprint for an object\n",
    "\n",
    "### 4. What is __init__(self, args)?\n",
    "\n",
    "The \\_\\_init\\_\\_ method lets the class initialize the object's attributes and serves no other purpose.   \n",
    "When you create an object, the init method will be called.\n",
    "\n",
    "### 5. Decorators (Will be covered later)\n",
    "\n",
    "The decorators are used to specify the characteristics of methods\n",
    "- property decorator\n",
    "- static method decorator\n",
    "- class method decorator\n",
    "\n",
    "### 6. Inheritance (Will be covered later)"
   ]
  },
  {
   "cell_type": "markdown",
   "id": "6ac512a7",
   "metadata": {},
   "source": [
    "#### 1. Example of an object"
   ]
  },
  {
   "cell_type": "code",
   "execution_count": 2,
   "id": "ace3aaf3",
   "metadata": {},
   "outputs": [],
   "source": [
    "# a string is an object\n",
    "string = 'Hello World'"
   ]
  },
  {
   "cell_type": "code",
   "execution_count": 11,
   "id": "23d5173b",
   "metadata": {},
   "outputs": [
    {
     "name": "stdout",
     "output_type": "stream",
     "text": [
      "There are 11 characters in the string\n",
      "Does string contain only alphabet letters: False\n",
      "Is string all lower case: False\n"
     ]
    }
   ],
   "source": [
    "# What are the characteristics of string??\n",
    "print(f'There are {len(string)} characters in the string')\n",
    "print(f'Does string contain only alphabet letters: {string.isalpha()}')\n",
    "print(f'Is string all lower case: {string.islower()}')"
   ]
  },
  {
   "cell_type": "code",
   "execution_count": 12,
   "id": "4bf08ea2",
   "metadata": {},
   "outputs": [
    {
     "data": {
      "text/plain": [
       "['Hello', 'World']"
      ]
     },
     "execution_count": 12,
     "metadata": {},
     "output_type": "execute_result"
    }
   ],
   "source": [
    "# What can the string object can do? (What \"method functions\" a string object has?)\n",
    "string.split(' ')"
   ]
  },
  {
   "cell_type": "code",
   "execution_count": 13,
   "id": "a775c521",
   "metadata": {},
   "outputs": [
    {
     "data": {
      "text/plain": [
       "'hello world'"
      ]
     },
     "execution_count": 13,
     "metadata": {},
     "output_type": "execute_result"
    }
   ],
   "source": [
    "string.lower()"
   ]
  },
  {
   "cell_type": "code",
   "execution_count": 14,
   "id": "56be9874",
   "metadata": {},
   "outputs": [
    {
     "data": {
      "text/plain": [
       "'Hello_World'"
      ]
     },
     "execution_count": 14,
     "metadata": {},
     "output_type": "execute_result"
    }
   ],
   "source": [
    "string.replace(' ', '_')"
   ]
  },
  {
   "cell_type": "code",
   "execution_count": 16,
   "id": "a7095d5a",
   "metadata": {},
   "outputs": [
    {
     "data": {
      "text/plain": [
       "'HELLO WORLD'"
      ]
     },
     "execution_count": 16,
     "metadata": {},
     "output_type": "execute_result"
    }
   ],
   "source": [
    "string.upper()"
   ]
  },
  {
   "cell_type": "markdown",
   "id": "2e28e1f8",
   "metadata": {},
   "source": [
    "#### 2. Class Example"
   ]
  },
  {
   "cell_type": "code",
   "execution_count": 17,
   "id": "f0bd8674",
   "metadata": {},
   "outputs": [],
   "source": []
  }
 ],
 "metadata": {
  "kernelspec": {
   "display_name": "Python 3 (ipykernel)",
   "language": "python",
   "name": "python3"
  },
  "language_info": {
   "codemirror_mode": {
    "name": "ipython",
    "version": 3
   },
   "file_extension": ".py",
   "mimetype": "text/x-python",
   "name": "python",
   "nbconvert_exporter": "python",
   "pygments_lexer": "ipython3",
   "version": "3.9.0"
  }
 },
 "nbformat": 4,
 "nbformat_minor": 5
}
