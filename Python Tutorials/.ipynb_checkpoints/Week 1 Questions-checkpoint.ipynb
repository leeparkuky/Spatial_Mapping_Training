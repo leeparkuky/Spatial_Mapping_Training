{
 "cells": [
  {
   "cell_type": "markdown",
   "id": "7fdd6481",
   "metadata": {},
   "source": [
    "Suppose we have a dataframe and it contains the following columns in the list format.   \n",
    "\n",
    "Note: suppose the column names are obtained by `df.columns.to_list()`"
   ]
  },
  {
   "cell_type": "code",
   "execution_count": 1,
   "id": "3f5a0de3",
   "metadata": {},
   "outputs": [],
   "source": [
    "columns = ['FIPS', 'County', 'State', 'Insurance Coverage', 'Medicaid Enrollment', 'Gini Coefficient', \n",
    "           'Household Income', 'Annual Labor Force Participation Rate (2015-2019)',\n",
    "           'Annual Unemployment Rate (2015-2019)', 'Below Poverty', 'Uninsured',\n",
    "           'Monthly Unemployment Rate (Jun-22)', 'geometry']"
   ]
  },
  {
   "cell_type": "markdown",
   "id": "b1fb732f",
   "metadata": {},
   "source": [
    "The goal here is to visulaize the quantitative variables (Insurance Coverage to Monthly Unemployment Rate (Jun-22)). Therefore, we need to have another list that only includes such lists. Using the `columns_to_remove` and regex, define `variables_to_visualize`, a list that contains all the other variables."
   ]
  },
  {
   "cell_type": "code",
   "execution_count": null,
   "id": "072d12d3",
   "metadata": {},
   "outputs": [],
   "source": [
    "columns_to_remove = ['fips','county','state','geometry']\n",
    "\n",
    "pat =   # define your regex pattern (hint: flags = re.I)\n",
    "\n",
    "variables_to_visualize = [] # enter your list comprehension statement"
   ]
  }
 ],
 "metadata": {
  "kernelspec": {
   "display_name": "Python 3 (ipykernel)",
   "language": "python",
   "name": "python3"
  },
  "language_info": {
   "codemirror_mode": {
    "name": "ipython",
    "version": 3
   },
   "file_extension": ".py",
   "mimetype": "text/x-python",
   "name": "python",
   "nbconvert_exporter": "python",
   "pygments_lexer": "ipython3",
   "version": "3.10.4"
  }
 },
 "nbformat": 4,
 "nbformat_minor": 5
}
