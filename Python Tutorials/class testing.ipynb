{
 "cells": [
  {
   "cell_type": "code",
   "execution_count": 1,
   "id": "6090b9f9",
   "metadata": {},
   "outputs": [],
   "source": [
    "import geopandas as gpd\n",
    "import pandas as pd\n",
    "import numpy as np\n",
    "import pickle\n",
    "import re\n",
    "import os\n",
    "import json\n",
    "from tqdm import tqdm\n",
    "from tqdm.auto import trange\n",
    "import arcgis\n",
    "from arcgis.gis import GIS, ContentManager\n",
    "from arcgis.mapping import WebMap\n",
    "from arcgis.geocoding import batch_geocode, get_geocoders\n",
    "import geopandas as gpd\n",
    "import pandas as pd\n",
    "import warnings\n",
    "import time\n",
    "import json\n",
    "\n",
    "\n",
    "class sDataFrame():\n",
    "    def __init__(self, year = 2019):\n",
    "        self.year = year\n",
    "        self._county_gdf = None\n",
    "        self._tract_gdf = None\n",
    "        self._tract_gdf_new = None\n",
    "        \n",
    "        \n",
    "    @classmethod\n",
    "    def read_pickle(cls, file_path):\n",
    "        \"\"\"\n",
    "        read a pickle file and create a class attribute 'data_dictionary'\n",
    "        ---\n",
    "        provide a file_path for a pickle file that contains a dictionary of pandas dataframes\n",
    "        \"\"\"\n",
    "        d = pickle.load(open(file_path,'rb'))\n",
    "        cls.data_dictionary = d\n",
    "\n",
    "    @classmethod\n",
    "    def read_csv(cls, file_path, names = None):\n",
    "        cls.data_dictionary = {}\n",
    "        if isinstance(file_path, list): # if the user provides a list of files (with or without names of each data)\n",
    "            if names:\n",
    "                pass\n",
    "            else:\n",
    "                names = range(len(file_path))\n",
    "            for path, name in zip(file_path, names):\n",
    "                name = str(name)\n",
    "                df = pd.read_csv(path)\n",
    "                if df.columns.str.contains(re.compile('.*tract.*', flags = re.I)).sum():\n",
    "                    if bool(re.match(re.compile(r'.*_tract', flags = re.I), name)):\n",
    "                        cls.data_dictionary[name] = df\n",
    "                    else:\n",
    "                        name = name + '_tract'\n",
    "                        cls.data_dictionary[name] = df\n",
    "                else:\n",
    "                    if bool(re.match(re.compile(r'.*_county', flags = re.I), name)):\n",
    "                        cls.data_dictionary[name] = df\n",
    "                    else:\n",
    "                        name = name + '_county'\n",
    "                        cls.data_dictionary[name] = df\n",
    "        elif isinstance(file_path, str):\n",
    "            df = pd.read_csv(file_path)\n",
    "            if names:\n",
    "                pass\n",
    "            else:\n",
    "                if df.columns.str.contains(re.compile('.*tract.*', flags = re.I)).sum():\n",
    "                    names = 'data_tract'\n",
    "            cls.data_dictionary[names] = df\n",
    "\n",
    "    @property\n",
    "    def countyData(self):\n",
    "        if self.data_dictionary:\n",
    "            self._countyData = {k:v for k,v in self.data_dictionary.items() if k[-6:] == 'county'}\n",
    "            return self._countyData\n",
    "        else:\n",
    "            raise AttributeError(\"data_dictionary has not been created\")\n",
    "\n",
    "            \n",
    "    @property\n",
    "    def tractData(self):\n",
    "        if self.data_dictionary:\n",
    "            self._tractData  = {k:v for k,v in self.data_dictionary.items() if k[-5:] == 'tract' }\n",
    "            return self._tractData\n",
    "        else:\n",
    "            raise AttributeError(\"data_dictionary has not been created\")\n",
    "            \n",
    "    @property\n",
    "    def pointData(self):\n",
    "        if self.data_dictionary:\n",
    "            pat = re.compile('.*(cancer|county|tract)', flags = re.I)\n",
    "            self._pointData = {k:v for k,v in self.data_dictionary.items() if not bool(re.match(pat, k))}\n",
    "            return self._pointData\n",
    "        else:\n",
    "            raise AttributeError(\"data_dictionary has not been created\")\n",
    "\n",
    "    @property\n",
    "    def cancerData(self):\n",
    "        if self.data_dictionary:\n",
    "            pat = re.compile('.*(cancer).*', flags = re.I)\n",
    "            self._pointData = {k:v for k,v in self.data_dictionary.items() if (k[-4:] != 'long') & bool(re.match(pat, k))}\n",
    "            return self._pointData\n",
    "        else:\n",
    "            raise AttributeError(\"data_dictionary has not been created\")\n",
    "\n",
    "            \n",
    "    @staticmethod\n",
    "    def find_state_fips(examples, idx = 0):\n",
    "        examples = {k: v for k,v in examples.items() if not k[-5:] =='_long' }\n",
    "        state_fips = examples[list(examples.keys())[idx]].reset_index().FIPS.astype(str).apply(lambda x: x[:2]).unique().tolist()\n",
    "        return state_fips\n",
    "    \n",
    "    @staticmethod\n",
    "    def find_county_fips(examples, idx = 0):\n",
    "        county_fips = examples[list(examples.keys())[idx]].reset_index().FIPS.unique().tolist()\n",
    "        return county_fips\n",
    "\n",
    "    \n",
    "    @property\n",
    "    def state_fips(self):\n",
    "        if self.data_dictionary:\n",
    "            self._state_fips = self.find_state_fips(self.data_dictionary)\n",
    "            return self._state_fips\n",
    "        else:\n",
    "            raise AttributeError(\"data_dictionary has not been created\")\n",
    "            \n",
    "    @property\n",
    "    def county_fips(self):\n",
    "        if self.data_dictionary:\n",
    "            self._county_fips = self.find_county_fips(self.countyData)\n",
    "            return self._county_fips\n",
    "        else:\n",
    "            raise AttributeError(\"data_dictionary has not been created\")\n",
    "\n",
    "\n",
    "    @property\n",
    "    def tiger_census_county(self):\n",
    "        county = f'https://www2.census.gov/geo/tiger/TIGER{self.year}/COUNTY/tl_{self.year}_us_county.zip'\n",
    "        gdf = gpd.read_file(county)\n",
    "        gdf = gdf.loc[gdf.STATEFP.isin(self.state_fips), ['GEOID','geometry']]\n",
    "        gdf.GEOID = gdf.GEOID.astype(int)\n",
    "        self._county_gdf =  gdf.reset_index(drop = True)\n",
    "        return self._county_gdf\n",
    "        \n",
    "    @property\n",
    "    def tiger_census_tract(self):\n",
    "        states = self.state_fips\n",
    "        county_fips = self.county_fips\n",
    "        final_gdf = self.get_tiger_census(self.year, states, county_fips)\n",
    "        self._tract_gdf = final_gdf\n",
    "        self._tract_num = final_gdf.GEOID.unique().shape[0]\n",
    "        return self._tract_gdf\n",
    "    \n",
    "    @property\n",
    "    def next_tiger_census_tract(self):\n",
    "        states = self.state_fips\n",
    "        county_fips = self.county_fips\n",
    "        year = self.year + 1\n",
    "        final_gdf = self.get_tiger_census(year, states, county_fips)\n",
    "        self._tract_gdf_new = final_gdf\n",
    "        self._tract_num_new = final_gdf.GEOID.unique().shape[0]\n",
    "        return self._tract_gdf_new\n",
    "\n",
    "    \n",
    "    @staticmethod\n",
    "    def get_tiger_census(year, state, county_FIPS = None):\n",
    "        def transform_gdf(gdf, county_fips):\n",
    "            county_fips = [str(x) for x in county_fips]\n",
    "            if county_fips is not None:\n",
    "                gdf = gdf.loc[countyfp.isin(county_fips), ['GEOID','geometry']]\n",
    "            else:\n",
    "                gdf = gdf.loc[:,  ['GEOID','geometry']]\n",
    "            return gdf\n",
    "        \n",
    "        if isinstance(state, int) or isinstance(state, str):\n",
    "            tract = f\"https://www2.census.gov/geo/tiger/TIGER{year}/TRACT/tl_{year}_{state}_tract.zip\"\n",
    "            gdf = gpd.read_file(tract)\n",
    "            countyfp = gdf.STATEFP + gdf.COUNTYFP\n",
    "            gdf = transform_gdf(gdf, county_FIPS)\n",
    "            gdf.GEOID = gdf.GEOID.astype(int)\n",
    "            final_gdf = gdf.reset_index(drop = True)\n",
    "            return final_gdf\n",
    "        elif isinstance(state, list):\n",
    "            if len(state) == 1:\n",
    "                state = state[0]\n",
    "                tract = f\"https://www2.census.gov/geo/tiger/TIGER{year}/TRACT/tl_{year}_{state}_tract.zip\"\n",
    "                gdf = gpd.read_file(tract)\n",
    "                countyfp = gdf.STATEFP + gdf.COUNTYFP\n",
    "                gdf = transform_gdf(gdf, county_FIPS)\n",
    "                gdf.GEOID = gdf.GEOID.astype(int)\n",
    "                final_gdf = gdf.reset_index(drop = True)\n",
    "                return final_gdf\n",
    "            elif len(state) > 1:\n",
    "                dataframes = []\n",
    "                for s in state:\n",
    "                    tract = f\"https://www2.census.gov/geo/tiger/TIGER{year}/TRACT/tl_{year}_{s}_tract.zip\"\n",
    "                    gdf = gpd.read_file(tract)\n",
    "                    countyfp = gdf.STATEFP + gdf.COUNTYFP\n",
    "                    gdf = transform_gdf(gdf, county_FIPS)\n",
    "                    gdf.GEOID = gdf.GEOID.astype(int)\n",
    "                    dataframes.append(gdf.reset_index(drop = True))\n",
    "                final_gdf = pd.concat(dataframes)\n",
    "                return final_gdf\n",
    "            else:\n",
    "                raise TypeError(\"No element in state\")\n"
   ]
  },
  {
   "cell_type": "code",
   "execution_count": 2,
   "id": "ade6f9c5",
   "metadata": {},
   "outputs": [],
   "source": [
    "class CIFTool_AGOL(sDataFrame):\n",
    "    def __init__(self, gis_address, client_id, folder_name = None):\n",
    "        self.gis_address = gis_address\n",
    "        self.client_id = client_id\n",
    "        self._contentManager = None\n",
    "        super().__init__()\n",
    "        self.layers = {}\n",
    "        self.layers_id = {}\n",
    "        self.countyLayers = {}\n",
    "        self.tractLayers = {}\n",
    "        self.pointLayers = {}\n",
    "        self.tractLayers_id = {}\n",
    "        self.countyLayers_id = {}\n",
    "        self.webmaps = {}\n",
    "        self.groupLayers = {}\n",
    "        self.error_count = 0\n",
    "        self.wait = True\n",
    "        self.waitTime = 5\n",
    "        self.set_folder(folder_name = folder_name)\n",
    "\n",
    "    def wait_AGOL(self, waitTime = None, verbose = True, desc = None):\n",
    "        if waitTime == None:\n",
    "            waitTime = self.waitTime\n",
    "        if self.wait:\n",
    "            if verbose:\n",
    "                for p in trange(30, desc = desc):\n",
    "                    time.sleep(round(waitTime/30,5))\n",
    "            else:\n",
    "                time.sleep(waitTime)\n",
    "        else:\n",
    "            pass\n",
    "        \n",
    "    @staticmethod\n",
    "    def sociodemographic_colname_update(df):\n",
    "        df = df.rename(columns = {'Total':'Total Population',\n",
    "                            '18 to 64' : 'Age 18 to 64'})\n",
    "        return df\n",
    "    \n",
    "    @classmethod\n",
    "    def from_layers(cls, layers, gis_address, client_id):\n",
    "        obj = cls(gis_address, client_id)\n",
    "        contentManager = obj.gis\n",
    "        obj.layers = {}\n",
    "        keys = list(layers.keys())\n",
    "        values = list(layers.values())\n",
    "        for t1 in trange(len(keys), desc = f\"Of {len(keys)} groups\"):\n",
    "            key = keys[t1]\n",
    "            obj.layers[keys[t1]] = {}\n",
    "            if len(values[t1]) > 0:\n",
    "                subkey = list(values[t1].keys())\n",
    "                subvalues = list(values[t1].values())\n",
    "                for t2 in trange(len(layers[key]), desc = f\"Of {len(layers[key])} tables\"):\n",
    "                    k = subkey[t2]\n",
    "                    layer_id = subvalues[t2]\n",
    "#         for key, item in layers.items():\n",
    "#             obj.layers[key] = {}\n",
    "#             if len(item) > 0:\n",
    "#                 for t in trange(len(layers)):\n",
    "#                     k = list(layers.keys())[t]\n",
    "#                     layer_id = list(layers.items())[t]\n",
    "#                 for k, layer_id in layers[key].items():\n",
    "                    group_lyr =  contentManager.search(layer_id, \"Feature Layer\")\n",
    "                    obj.wait_AGOL(1, verbose = False)\n",
    "                    if len(group_lyr) == 0:\n",
    "                        raise ValueError(\"No such group_lyr\")\n",
    "                    else:\n",
    "                        g_lyr = group_lyr[0]\n",
    "                        lyr = g_lyr.layers[0]\n",
    "                        obj.layers[key][k] = lyr\n",
    "        return obj\n",
    "        \n",
    "    @classmethod\n",
    "    def from_pickle(cls, file_path, gis_address, client_id):\n",
    "        layers = pickle.load(open(file_path,'rb'))\n",
    "        obj = cls(gis_address, client_id)\n",
    "        contentManager = obj.gis\n",
    "        obj.layers = {}\n",
    "        keys = list(layers.keys())\n",
    "        values = list(layers.values())\n",
    "        for t1 in trange(len(keys), desc = f\"Of {len(keys)} groups\"):\n",
    "            key = keys[t1]\n",
    "            obj.layers[keys[t1]] = {}\n",
    "            if len(values[t1]) > 0:\n",
    "                subkey = list(values[t1].keys())\n",
    "                subvalues = list(values[t1].values())\n",
    "                for t2 in trange(len(layers[key]), desc = f\"Of {len(layers[key])} tables\"):\n",
    "                    k = subkey[t2]\n",
    "                    layer_id = subvalues[t2]\n",
    "#         for key, item in layers.items():\n",
    "#             obj.layers[key] = {}\n",
    "#             if len(item) > 0:\n",
    "#                 for k, layer_id in layers[key].items():\n",
    "                    group_lyr =  contentManager.search(layer_id, \"Feature Layer\")\n",
    "                    obj.wait_AGOL(1, verbose = False)\n",
    "                    if len(group_lyr) == 0:\n",
    "                        raise ValueError(\"No such group_lyr\")\n",
    "                    else:\n",
    "                        flag = True\n",
    "                        while flag:\n",
    "                            try:\n",
    "                                g_lyr = group_lyr[0]\n",
    "                                lyr = g_lyr.layers[0]\n",
    "                                obj.layers[key][k] = lyr\n",
    "                                flag = False\n",
    "                            except:\n",
    "                                obj.wait_AGOL(3)\n",
    "                                obj.error_count += 1\n",
    "                                if obj.error_count >= 5:\n",
    "                                    contentManager = obj.gis\n",
    "                                    obj.error_count = 0\n",
    "        return obj\n",
    "            \n",
    "        \n",
    "    \n",
    "    def genTractMaps(layers):\n",
    "        pass\n",
    "    \n",
    "    def genCountyMaps(self):\n",
    "        pass\n",
    "    \n",
    "    \n",
    "    \n",
    "    \n",
    "    @staticmethod\n",
    "    def manage_popups(wm, level = 'county', title  = None):\n",
    "        for lyr in wm.layers:\n",
    "            if title is None:\n",
    "                lyr.popupInfo.title = lyr.popupInfo.title.replace(\"_\", \" \").title()\n",
    "            elif isinstance(title, str):\n",
    "                lyr.popupInfo.title = title\n",
    "            else:\n",
    "                raise Error(\"title must be a string\")\n",
    "                \n",
    "            main_fields = [f.label for f in lyr.popupInfo.fieldInfos if f.fieldName != f.label]\n",
    "            for field in lyr.popupInfo.fieldInfos:\n",
    "                if field.label.islower():\n",
    "                    field.label = field.label.title()\n",
    "                if level.lower() == 'county':\n",
    "                    labels_to_include  = ['County','State'] + main_fields\n",
    "                elif level.lower() == 'tract':\n",
    "                    labels_to_include = ['Tract','County','State'] + main_fields\n",
    "                else:\n",
    "                    raise ValueError('level must be either \"county\" or \"tract\"')\n",
    "                    \n",
    "                if field.label in ['County','State'] + main_fields:\n",
    "                    field.visible = True\n",
    "                else:\n",
    "                    field.visible = False\n",
    "        return wm \n",
    "    \n",
    "    \n",
    "    \n",
    "    def genWebMapFromGroupLayers(self, level= 'county'):\n",
    "        if self._contentManager:\n",
    "            contentManager = self._contentManager\n",
    "        else:\n",
    "            contentManager = self.gis\n",
    "        for flname, fl_dict in self.groupLayers.items():\n",
    "            # first edit alias of each field\n",
    "            lyr = fl_dict['Layer Object']\n",
    "            properties = lyr.properties\n",
    "            for colname in fl_dict['alias']:\n",
    "                idx, AGOLName = self.getAGOLFieldName(lyr, colname)\n",
    "                properties['fields'][idx]['alias'] = colname\n",
    "            lyr.properties = properties\n",
    "            time.sleep(.25)\n",
    "            # next, define a renderer for each and create webmaps\n",
    "            for colname, title in zip(fl_dict['fields'], fl_dict['alias']):\n",
    "                renderer = self.renderer_definition(lyr, AGOLName)\n",
    "                new_renderer = self.add_class_details(renderer)\n",
    "                flag = True\n",
    "                while flag:\n",
    "                    try:\n",
    "                        wm = WebMap()\n",
    "                        wm.add_layer(lyr, {'title': f'{flname} : {title}',\n",
    "                                           'renderer': new_renderer})\n",
    "                        # wm.add_layer(item, {'title': f'{title} : {key}',\n",
    "                        #                    'renderer' : new_renderer})\n",
    "                        self.wait_AGOL(1.5, desc = f'Adding the layer \"{flname}:{title}\" to the map')\n",
    "                        wm = self.manage_popups(wm, level = level, title = f\"{flname} : {title}\")\n",
    "                        self.wait_AGOL(1.5, desc = f\"Managing Popup\")\n",
    "                        webmap_item_properties = {'title': f'{flname} : {title}',\n",
    "                                                 'snippet':f'{flname} : {title}',\n",
    "                                                 'tags' : ['Python','Automated']}\n",
    "                        webmap = wm.save(webmap_item_properties, folder = self.AGOL_folder) # testing folder is temporary set-up\n",
    "                        self.wait_AGOL(3, desc = f'Creating a WebMap \"{flname}:{title}\"')\n",
    "                        searchedWebMap = contentManager.search(f'title:\"{flname} : {title}\"', item_type = 'Web Map')\n",
    "                        time.sleep(.5)\n",
    "                        webmap_s = searchedWebMap[0]\n",
    "                        webmap_s.share(everyone = True)\n",
    "                        self.wait_AGOL(.5, desc = f\"Chaning sharing option\")\n",
    "                        webmap_id = webmap_s.id\n",
    "                        self.webmaps[title] = webmap_id\n",
    "                        flag = False\n",
    "                    except:\n",
    "                        time.sleep(2)\n",
    "                        self.error_count += 1\n",
    "                        if self.error_count >= 5:\n",
    "                            contentManager = self.gis\n",
    "                            self.error_count = 0\n",
    "        return self.webmaps\n",
    "            \n",
    "        \n",
    "        \n",
    "    def genWebMap(self, layers, title):\n",
    "        if self._contentManager:\n",
    "            contentManager = self._contentManager\n",
    "        else:\n",
    "            contentManager = self.gis\n",
    "        wm = WebMap()\n",
    "        for key, item in layers.items():\n",
    "            # step 1. set-up alias for each layer\n",
    "            idx, AGOLName = self.getAGOLFieldName(item, key)\n",
    "            item.properties['fields'][idx]['alias'] = key\n",
    "            time.sleep(.25) # give a time to update the property\n",
    "            # ste 2. set-up renderer with 5 classes\n",
    "            renderer = self.renderer_definition(item, AGOLName)\n",
    "            new_renderer = self.add_class_details(renderer)\n",
    "            # flag = True\n",
    "            # while flag:\n",
    "            #     try:\n",
    "            #         item.manager.update_definition(new_renderer)\n",
    "            #         self.wait_AGOL(3, desc = f\"Updaing the definition of {title}-{key}')\n",
    "            #         flag = False\n",
    "            #     except:\n",
    "            #         time.sleep(2)\n",
    "            #         self.error_count += 1\n",
    "            #         if self.error_count >= 5:\n",
    "            #             contentManager = self.gis\n",
    "            #             self.error_count = 0\n",
    "            # item.properties['drawingInfo']['renderer'] = new_renderer\n",
    "            flag = True\n",
    "            while flag:\n",
    "                try:\n",
    "                    wm.add_layer(item, {'title': f'{title} : {key}',\n",
    "                                       'renderer': new_renderer})\n",
    "                    # wm.add_layer(item, {'title': f'{title} : {key}',\n",
    "                    #                    'renderer' : new_renderer})\n",
    "                    self.wait_AGOL(5, desc = f'Adding the layer \"{title}:{key}\" to the map')\n",
    "                    flag = False\n",
    "                except:\n",
    "                    time.sleep(2)\n",
    "                    self.error_count += 1\n",
    "                    if self.error_count >= 5:\n",
    "                        contentManager = self.gis\n",
    "                        self.error_count = 0\n",
    "        return wm\n",
    "\n",
    "        \n",
    "    @staticmethod\n",
    "    def getFieldNames(lyr):\n",
    "        field_names = [x['name'] for x in lyr.properties.fields]\n",
    "        return field_names\n",
    "    \n",
    "    \n",
    "    @staticmethod\n",
    "    def getAGOLFieldName(lyr, FieldName):\n",
    "        flag = True\n",
    "        while flag:\n",
    "            try:\n",
    "                field_names = [x['name'] for x in lyr.properties.fields]\n",
    "                flag = False\n",
    "            except:\n",
    "                time.sleep(2)\n",
    "                \n",
    "        AGOLName = FieldName.lower().replace(' ', '_')[:10]\n",
    "        index = field_names.index(AGOLName)\n",
    "        return index, AGOLName\n",
    "#         lyr.properties['fields'][index]['alias'] = FieldName\n",
    "\n",
    "    \n",
    "    @staticmethod\n",
    "    def renderer_definition(lyr, fieldName):\n",
    "        definition = {\n",
    "            'type':'classBreaksDef',\n",
    "            'classificationField':fieldName,\n",
    "            'classificationMethod':'esriClassifyNaturalBreaks',\n",
    "            'breakCount':5,\n",
    "                }\n",
    "        flag = True\n",
    "        while flag:\n",
    "            try:\n",
    "                renderer = lyr.generate_renderer(definition)\n",
    "                flag = False\n",
    "            except:\n",
    "                time.sleep(5)\n",
    "        return renderer\n",
    "        \n",
    "    @staticmethod\n",
    "    def add_class_details(renderer):\n",
    "        def edit_labels(renderer):\n",
    "            labels = [x['label'].split(' - ') for x in renderer['classBreakInfos']]\n",
    "            min_label = labels[0][0]\n",
    "            max_label = labels[4][1]\n",
    "            if float(min_label) >= 0 and float(max_label) <= 1:\n",
    "                new_labels = []\n",
    "                for label in labels:\n",
    "                    l = round(float(label[0])*100,2)\n",
    "                    u = round(float(label[0])*100,2)\n",
    "                    l = str(l); u = str(u)\n",
    "                    l += '%'; u += '%'\n",
    "                    new_labels.append(' - '.join([l, u]))\n",
    "                return new_labels\n",
    "            else:\n",
    "                return None\n",
    "\n",
    "        \n",
    "        class1 = [237, 248, 233, 216]\n",
    "        class2 = [186, 228, 179, 216]\n",
    "        class3 = [116, 196, 118, 216]\n",
    "        class4 = [49, 163, 84, 216]\n",
    "        class5 = [0, 109, 44, 216]\n",
    "\n",
    "        color_scheme = [class1, class2, class3, class4, class5]\n",
    "\n",
    "        default_symbol = {\n",
    "                \"type\" : \"esriSFS\", \n",
    "                \"style\" : \"esriSFSSolid\", \n",
    "                \"color\" : [], \n",
    "                'outline': {'type': 'esriSLS', \n",
    "                            'style': 'esriSLSSolid', \n",
    "                            'color': [52, 52, 52, 255],\n",
    "                            \"width\" : 0.4}\n",
    "                    }\n",
    "\n",
    "        new_labels = edit_labels(renderer)\n",
    "\n",
    "        for i, class_info in enumerate(renderer['classBreakInfos']):\n",
    "            if new_labels:\n",
    "                class_info['label'] = new_labels[i]\n",
    "            symbol = default_symbol.copy()\n",
    "            symbol['color'] = color_scheme[i]\n",
    "            class_info['symbol'] = symbol\n",
    "\n",
    "        return renderer    \n",
    "    \n",
    "#     def create_webmap(self, title, )\n",
    "    \n",
    "        \n",
    "    def genFeatureLayer(self, sdf, title):\n",
    "        if self._contentManager:\n",
    "            contentManager = self._contentManager\n",
    "        else:\n",
    "            contentManager = self.gis\n",
    "        lyrs = contentManager.import_data(sdf,\n",
    "                                  title = title,\n",
    "                                 folder = self.AGOL_folder)\n",
    "        self.wait_AGOL(desc = f\"Waiting to Upload {title} layer to AGOL\")\n",
    "        return lyrs\n",
    "    \n",
    "    \n",
    "    @property\n",
    "    def gis(self):\n",
    "        warnings.simplefilter('ignore')\n",
    "        gis = GIS(self.gis_address, client_id = self.client_id) # log-in to the AGOL\n",
    "        print(\"Successfully logged in as: \" + gis.properties.user.username)\n",
    "        self._gis = gis\n",
    "        self._contentManager = ContentManager(gis)\n",
    "        return self._contentManager\n",
    "                \n",
    "    \n",
    "    def set_folder(self, folder_name):\n",
    "        try:\n",
    "            gis = self._gis\n",
    "        except:\n",
    "            self.gis\n",
    "            gis = self._gis\n",
    "        if folder_name is None:\n",
    "            import random\n",
    "            import string\n",
    "            # printing lowercase\n",
    "            letters = string.ascii_lowercase\n",
    "            # Webmaps - UTC timestamp\n",
    "            folder_name = ''.join(random.choice(letters) for i in range(10))\n",
    "            gis.content.create_folder(folder=folder_name)\n",
    "            print(f\"folder name is {folder_name}\")\n",
    "            self.AGOL_folder = folder_name\n",
    "\n",
    "        elif isinstance(folder_name, str):\n",
    "            x = gis.content.create_folder(folder=folder_name)\n",
    "            if isintance(x, dict):\n",
    "                pass\n",
    "            else:\n",
    "                print(\"{folder_name} already exists\")\n",
    "            self.AGOL_folder = folder_name\n",
    "        else:\n",
    "            raise Error(\"folder name has to be in the string format\")\n",
    "            \n",
    "\n",
    "    \n",
    "    \n",
    "    \n",
    "    def genCountyFL(self, verbose = True):\n",
    "        data_dictionary = self.countyData\n",
    "        if verbose:\n",
    "            keys = list(data_dictionary.keys())\n",
    "            for t1 in trange(len(keys), desc = f\"Generating {len(keys)} county-level feature layers groups\"):\n",
    "                key = keys[t1]\n",
    "                df = data_dictionary[key]\n",
    "                self.genAreaSDF4FL(df, key, 'county')\n",
    "        else:\n",
    "            keys = list(data_dictionary.keys())\n",
    "            for key in keys:\n",
    "                df = data_dictionary[key]\n",
    "                self.genAreaSDF4FL(df, key, 'county')\n",
    "            \n",
    "    def genTractFL(self, verbose = True):\n",
    "        data_dictionary = self.tractData\n",
    "        print(data_dictionary.keys())\n",
    "        if verbose:\n",
    "            keys = list(data_dictionary.keys())\n",
    "            for t1 in trange(len(keys), desc = f\"Generating {len(keys)} tract-level feature layers groups\"):\n",
    "                key = keys[t1]\n",
    "                df = data_dictionary[key]\n",
    "                self.genAreaSDF4FL(df, key, 'tract')\n",
    "        else:\n",
    "            keys = list(data_dictionary.keys())\n",
    "            for key in keys:\n",
    "                df = data_dictionary[key]\n",
    "                self.genAreaSDF4FL(df, key, 'tract')\n",
    "        \n",
    "    \n",
    "    def genPointFL(self):\n",
    "        final_sdf = self.batchgeocode(df = self.pointData['facilities_and_providers'])\n",
    "        for facility in final_sdf['Type'].unique():\n",
    "            sdf = final_sdf.loc[final_sdf.Type.eq(facility),:]\n",
    "            self.genFeatureLayer(sdf, title = f\"Facilities and Providers : {facility}\")\n",
    "            self.wait_AGOL(2, desc = f\"Uploading Point Feature Layer : {facility}\")\n",
    "        \n",
    "        # self.genFeatureLayer(final_sdf\n",
    "    \n",
    "    def batchgeocode(self,df, address_column_name = \"Address\"):\n",
    "#         geocoded_address = geocode(address)\n",
    "        try:\n",
    "            self.SuggestedBatchSize\n",
    "        except:\n",
    "            self.set_geocoder()\n",
    "        \n",
    "        df = df.reset_index(drop = True)\n",
    "        df['State'] = df[address_column_name].str.extract(\"\\s(\\w\\w)\\s\\d\\d\\d\\d\\d\")\n",
    "        states = df.State.value_counts().head(len(cif.state_fips)).index.tolist()\n",
    "        df = df.loc[df.State.isin(states),:]\n",
    "\n",
    "        address = df[address_column_name]\n",
    "                \n",
    "        SBS = self.SuggestedBatchSize\n",
    "        N = len(address)\n",
    "        \n",
    "        if N/SBS == N//SBS:\n",
    "            numSplits = N/SBS\n",
    "        else:\n",
    "            numSplits = N//SBS + 1\n",
    "        \n",
    "        SHAPES = []\n",
    "        for i in range(numSplits):\n",
    "            start = i*SBS\n",
    "            end = start + SBS\n",
    "            sample = address[start:end].tolist()\n",
    "            feature_set = batch_geocode(sample, as_featureset = True)\n",
    "            feature_set = feature_set.sdf\n",
    "            feature_set['ResultID'] = feature_set.ResultID + start\n",
    "            feature_set.set_index('ResultID', inplace = True)\n",
    "            shape = feature_set.SHAPE\n",
    "            SHAPES.append(shape)\n",
    "        \n",
    "        shapes = pd.concat(SHAPES)\n",
    "        df['SHAPE'] = None\n",
    "        df.loc[df.index.isin(shapes.index), 'SHAPE'] = shapes.sort_index()\n",
    "        df = df.dropna().reset_index(drop = True)\n",
    "        df.drop('State', axis = 1, inplace = True)\n",
    "        return df\n",
    "    \n",
    "    def set_geocoder(self):\n",
    "        try:\n",
    "            gis = self._gis\n",
    "        except:\n",
    "            self.gis\n",
    "            gis = self._gis\n",
    "        geocoder = get_geocoders(gis)[0]\n",
    "        self.SuggestedBatchSize = geocoder.properties.locatorProperties.SuggestedBatchSize\n",
    "\n",
    "    \n",
    "    def genAreaSDF4FL_new(self, df, name, level = 'county', tqdm = None, keep_NA = False):\n",
    "        \"\"\"\n",
    "        with a county or tract level dataset, it creates feature layer for each column.\n",
    "        Then, it uploads each feature layer to AGOL. \n",
    "        The name of the Feature Layer will be {name}-{column name in a df}\n",
    "        \"\"\"\n",
    "        if len(df.index.names)>1:\n",
    "            df.reset_index(inplace = True)\n",
    "        \n",
    "        if level == 'county':\n",
    "            if self._county_gdf is not None:\n",
    "                gdf = self._county_gdf.copy()\n",
    "            else:\n",
    "                gdf = self.tiger_census_county.copy()\n",
    "        elif level == 'tract':\n",
    "            if self._tract_gdf is not None:\n",
    "                gdf = self._tract_gdf.copy()\n",
    "            else:\n",
    "                gdf = self.tiger_census_tract.copy()\n",
    "            if df.FIPS.unique().shape[0] != self._tract_num:\n",
    "                if self._tract_gdf_new is not None:\n",
    "                    gdf = self._tract_gdf_new.copy()\n",
    "                else:\n",
    "                    gdf = self.next_tiger_census_tract.copy()\n",
    "                    #####################################################################################\n",
    "                if df.FIPS.unique().shape[0] != self._tract_num_new: # This needs to be updated later\n",
    "                    diff1 = -df.FIPS.unique().shape[0] + self._tract_num\n",
    "                    diff2 = -df.FIPS.unique().shape[0] + self._tract_num_new\n",
    "                    if diff1>=0:\n",
    "                        gdf = self._tract_gdf.copy()\n",
    "                    else:\n",
    "                        gdf = self._tract_gdf_new.copy()\n",
    "#                     raise ValueError(\"Tracts for {self.year} and {self.year +1} are not matching your dataset\")\n",
    "        ###########################3\n",
    "        else:\n",
    "            raise ValueError(\"level has to be either 'county' or 'tract'\")\n",
    "        self.layers[name] = {}\n",
    "        layers = {}\n",
    "        layer_ids = {}\n",
    "        df['FIPS'] = df.FIPS.astype(int)\n",
    "        if df.columns.str.contains('Total').sum() > 0:\n",
    "            df = self.sociodemographic_colname_update(df) # to be changed\n",
    "        if df.columns.str.contains(re.compile('LILAT.*')).sum() > 0:\n",
    "            df = df.rename(columns = {'LILATracts_Vehicle' : 'LILA Tracts Vehicle'}) ## to be changed  \n",
    "        sdf = df.merge(gdf, how = 'left', left_on = 'FIPS', right_on = 'GEOID') # we need to pick up from here\n",
    "        sdf.drop('GEOID', axis = 1, inplace = True) # drop the geoid\n",
    "        sdf = gpd.GeoDataFrame(sdf, geometry = 'geometry')\n",
    "        sdf = pd.DataFrame.spatial.from_geodataframe(sdf, column_name = 'geometry')\n",
    "        self.wait_AGOL(.5, verbose = False)\n",
    "        geo_pat = re.compile(r'(fips|tract|county|state|geometry|type)', flags = re.I)\n",
    "        # geo_pat2 = re.compile(r'(fips|tract|county|state|type)', flags = re.I)\n",
    "        columns     = sdf.columns[~sdf.columns.str.match(geo_pat)].to_list()\n",
    "        # geo_columns = sdf.columns[sdf.columns.str.match(geo_pat2)].to_list()\n",
    "        final_sdf = sdf\n",
    "        if keep_NA:\n",
    "            pass\n",
    "        else:\n",
    "            nulls = -final_sdf.isna().apply(lambda x: True if sum(x) > 0 else False, axis = 1)\n",
    "            final_sdf = final_sdf.loc[nulls, :]\n",
    "        self.final_sdf = final_sdf\n",
    "        ls = None\n",
    "        while ls is None:\n",
    "            groupLayer = self.genFeatureLayer(final_sdf, name)\n",
    "            ls = groupLayer.layers\n",
    "            if ls is None:\n",
    "                self.error_count += 1\n",
    "            if self.error_count >= 5:\n",
    "                contentManager = self.gis\n",
    "                self.error_count = 0\n",
    "        simpleLayer = groupLayer.layers[0]\n",
    "        self.updateLayerName(simpleLayer, name)\n",
    "        item_id = simpleLayer.properties.serviceItemId\n",
    "        fields = [x['name'] for x in simpleLayer.properties.fields if x['name'] not in ['FID','fips','county','state','tract','Shape__Area','Shape__Length']]\n",
    "        self.groupLayers[name] = {'Layer Object': simpleLayer,\n",
    "                                  'id' : item_id,\n",
    "                                  'fields': fields,\n",
    "                                 'alias': columns}\n",
    "    \n",
    "    \n",
    "    \n",
    "\n",
    "    def genAreaSDF4FL(self, df, name, level = 'county', tqdm = None, keep_NA = False):\n",
    "        \"\"\"\n",
    "        with a county or tract level dataset, it creates feature layer for each column.\n",
    "        Then, it uploads each feature layer to AGOL. \n",
    "        The name of the Feature Layer will be {name}-{column name in a df}\n",
    "        \"\"\"\n",
    "        if len(df.index.names)>1:\n",
    "            df.reset_index(inplace = True)\n",
    "        \n",
    "        if level == 'county':\n",
    "            if self._county_gdf is not None:\n",
    "                gdf = self._county_gdf.copy()\n",
    "            else:\n",
    "                gdf = self.tiger_census_county.copy()\n",
    "        elif level == 'tract':\n",
    "            if self._tract_gdf is not None:\n",
    "                gdf = self._tract_gdf.copy()\n",
    "            else:\n",
    "                gdf = self.tiger_census_tract.copy()\n",
    "            if df.FIPS.unique().shape[0] != self._tract_num:\n",
    "                if self._tract_gdf_new is not None:\n",
    "                    gdf = self._tract_gdf_new.copy()\n",
    "                else:\n",
    "                    gdf = self.next_tiger_census_tract.copy()\n",
    "                if df.FIPS.unique().shape[0] != self._tract_num_new: # This needs to be updated later\n",
    "                    diff1 = -df.FIPS.unique().shape[0] + self._tract_num\n",
    "                    diff2 = -df.FIPS.unique().shape[0] + self._tract_num_new\n",
    "                    if diff1>=0:\n",
    "                        gdf = self._tract_gdf.copy()\n",
    "                    else:\n",
    "                        gdf = self._tract_gdf_new.copy()\n",
    "#                     raise ValueError(\"Tracts for {self.year} and {self.year +1} are not matching your dataset\")\n",
    "        else:\n",
    "            raise ValueError(\"level has to be either 'county' or 'tract'\")\n",
    "        self.layers[name] = {}\n",
    "        layers = {}\n",
    "        layer_ids = {}\n",
    "        df['FIPS'] = df.FIPS.astype(int)\n",
    "        if df.columns.str.contains('Total').sum() > 0:\n",
    "            df = self.sociodemographic_colname_update(df)\n",
    "        sdf = df.merge(gdf, how = 'left', left_on = 'FIPS', right_on = 'GEOID') # we need to pick up from here\n",
    "        sdf.drop('GEOID', axis = 1, inplace = True) # drop the geoid\n",
    "        sdf = gpd.GeoDataFrame(sdf, geometry = 'geometry')\n",
    "        sdf = pd.DataFrame.spatial.from_geodataframe(sdf, column_name = 'geometry')\n",
    "        self.wait_AGOL(.5, verbose = False)\n",
    "        geo_pat = re.compile(r'(fips|tract|county|state|geometry|type)', flags = re.I)\n",
    "        geo_pat2 = re.compile(r'(fips|tract|county|state|type)', flags = re.I)\n",
    "        columns     = sdf.columns[~sdf.columns.str.match(geo_pat)].to_list()\n",
    "        geo_columns = sdf.columns[sdf.columns.str.match(geo_pat2)].to_list()\n",
    "        for colname in columns:\n",
    "            if tqdm is not None:\n",
    "                tqdm.set_description(f\"{name} to AGOL - {colname} in progress\")\n",
    "            selected_columns = geo_columns + [colname, 'geometry']\n",
    "            final_sdf = sdf[selected_columns]\n",
    "            if keep_NA:\n",
    "                final_sdf.loc[final_sdf[colname].isna(), colname] = None\n",
    "            else:\n",
    "                final_sdf = final_sdf.loc[final_sdf[colname].notna(), :]\n",
    "            self.final_sdf = final_sdf\n",
    "\n",
    "            if name:\n",
    "                layer_name = name + '-' + colname\n",
    "            else:\n",
    "                layer_name = colname\n",
    "            ls = None\n",
    "            while ls is None:\n",
    "                groupLayer = self.genFeatureLayer(final_sdf, layer_name )\n",
    "                ls = groupLayer.layers\n",
    "                if ls is None:\n",
    "                    self.error_count += 1\n",
    "                if self.error_count >= 5:\n",
    "                    contentManager = self.gis\n",
    "                    self.error_count = 0\n",
    "                \n",
    "            simpleLayer = groupLayer.layers[0]\n",
    "            self.updateLayerName(simpleLayer, layer_name)\n",
    "            item_id = simpleLayer.properties.serviceItemId\n",
    "            self.layers_id[name][colname] = item_id\n",
    "            self.layers[name][colname] = simpleLayer\n",
    "            layers[colname] = simpleLayer\n",
    "            layer_ids[colname] = item_id\n",
    "        if level == 'county':\n",
    "            self.countyLayers[name] = layers\n",
    "            self.countyLayers_id[name] = layer_ids\n",
    "        elif level == 'tract':\n",
    "            self.tractLayers[name] = layers\n",
    "            self.tractLayers_id[name] = layer_ids\n",
    "            \n",
    "        return layers\n",
    "    \n",
    "    \n",
    "    def updateLayerName(self, lyr, name):\n",
    "        flag = True\n",
    "        while flag:\n",
    "            try:\n",
    "                lyr.manager.update_definition({'name':name})\n",
    "                self.wait_AGOL(3, desc = f\"Updating layer name to '{name}'\")\n",
    "                flag = False\n",
    "            except:\n",
    "                self.wait_AGOL(3, desc = \"Trying one more time\")\n",
    "                self.error_count += 1\n",
    "                if self.error_count >= 5:\n",
    "                    contentManager = self.gis\n",
    "                    self.error_count = 0\n",
    "    \n",
    "    @staticmethod\n",
    "    def point_renderer(color, outline_color = None, size = 6):\n",
    "        if outline_color is None:\n",
    "            outline_color = [0,0,0,255]\n",
    "        else:\n",
    "            if isinstance(outline_color, list):\n",
    "                if len(outline_color) != 4:\n",
    "                    raise Error(\"outline_color is a list of 4 integers indicating RGB colors and opacity\")\n",
    "                else:\n",
    "                    pass\n",
    "            else:\n",
    "                raise Error(\"outline_color is a list of 4 integers indicating RGB colors and opacity\")\n",
    "\n",
    "        renderer = {\n",
    "                  \"type\": \"simple\",\n",
    "                  \"symbol\": {\n",
    "                    \"type\": \"esriSMS\",\n",
    "                    \"style\": \"esriSMSCircle\",\n",
    "                    \"color\": color,\n",
    "                    \"size\": size,\n",
    "                    \"angle\": 0,\n",
    "                    \"xoffset\": 0,\n",
    "                    \"yoffset\": 0,\n",
    "                    \"outline\": {\n",
    "                      \"color\": outline_color,\n",
    "                      \"width\": 0.7\n",
    "                    }\n",
    "                  }\n",
    "        }\n",
    "        # renderer.symbol.url = ''\n",
    "        # renderer.symbol.imageData = ''\n",
    "        renderer = arcgis._impl.common._mixins.PropertyMap(renderer)\n",
    "        return renderer\n",
    "\n",
    "                    \n",
    "                    \n",
    "                    \n",
    "                    \n",
    "\n",
    "    def save_layers(self, file_name, directory = None):\n",
    "        if len(self.layers) == 0:\n",
    "            raise Error(\"There is no layer in this object\")\n",
    "        else:\n",
    "            if directory == None:\n",
    "                path1 = os.getcwd()\n",
    "            if file_name[-7:] != '.pickle':\n",
    "                file_name += '.pickle'\n",
    "            with open(os.path.join(path1,file_name), 'wb') as dataset:\n",
    "                pickle.dump(self.layers_id, dataset, protocol=pickle.HIGHEST_PROTOCOL)\n",
    "                \n",
    "    def save_webmaps(self, file_name, directory = None):\n",
    "        if len(self.layers) == 0:\n",
    "            raise Error(\"There is no layer in this object\")\n",
    "        else:\n",
    "            if directory == None:\n",
    "                path1 = os.getcwd()\n",
    "            if file_name[-5:] != '.json':\n",
    "                file_name += '.json'\n",
    "            with open(file_name, 'w') as f:\n",
    "                json.dump(cif.webmaps, f)\n",
    "\n",
    "\n"
   ]
  },
  {
   "cell_type": "code",
   "execution_count": 3,
   "id": "9c4a8f58",
   "metadata": {
    "tags": []
   },
   "outputs": [
    {
     "name": "stdout",
     "output_type": "stream",
     "text": [
      "Please sign in to your GIS and paste the code that is obtained below.\n",
      "If a web browser does not automatically open, please navigate to the URL below yourself instead.\n",
      "Opening web browser to navigate to: https://ky-cancer.maps.arcgis.com/sharing/rest//oauth2/authorize?response_type=code&client_id=uPZiN9HJWneCycx3&redirect_uri=urn%3Aietf%3Awg%3Aoauth%3A2.0%3Aoob&state=LUExvHeKQk0DhYafTJPAXYuAO2RGp6\n",
      "Enter code obtained on signing in using SAML: ········\n",
      "Successfully logged in as: lee.park\n",
      "folder name is ynpbmkgfpe\n"
     ]
    }
   ],
   "source": [
    "import pickle\n",
    "pickle_file_path = './Dartmouth_catchment_data/dataset.pickle'\n",
    "client_id= 'uPZiN9HJWneCycx3'\n",
    "gis_address = \"https://ky-cancer.maps.arcgis.com\"\n",
    "cif = CIFTool_AGOL(gis_address, client_id)\n",
    "cif.read_pickle(pickle_file_path)"
   ]
  },
  {
   "cell_type": "code",
   "execution_count": 5,
   "id": "bc07e1ef",
   "metadata": {},
   "outputs": [
    {
     "data": {
      "text/plain": [
       "dict_keys(['rf_and_screening_county', 'economy_county', 'ht_county', 'sociodemographics_county', 'environment_county'])"
      ]
     },
     "execution_count": 5,
     "metadata": {},
     "output_type": "execute_result"
    }
   ],
   "source": [
    "cif.countyData.keys()"
   ]
  },
  {
   "cell_type": "markdown",
   "id": "5d284082",
   "metadata": {},
   "source": [
    "Table Names Conversion\n",
    "\n",
    "|Old | New|\n",
    "|:---:|:---:|\n",
    "|rf_and_screening_county| Screening & Risk Factors (County) |\n",
    "|economy_county| Economics (County) |\n",
    "|ht_county | Housing & Transportation (County) |\n",
    "|sociodemographics_county| Sociodemographics (County) |\n",
    "|environment_county| Environment (County)  |"
   ]
  },
  {
   "cell_type": "code",
   "execution_count": 6,
   "id": "3d71c03c",
   "metadata": {},
   "outputs": [
    {
     "data": {
      "text/plain": [
       "dict_keys(['rf_and_screening_tract', 'economy_tract', 'ht_tract', 'sociodemographics_tract', 'environment_tract'])"
      ]
     },
     "execution_count": 6,
     "metadata": {},
     "output_type": "execute_result"
    }
   ],
   "source": [
    "cif.tractData.keys()"
   ]
  },
  {
   "cell_type": "code",
   "execution_count": 10,
   "id": "57fcc591",
   "metadata": {},
   "outputs": [
    {
     "data": {
      "text/plain": [
       "dict_keys(['rf_and_screening_county', 'rf_and_screening_county_long', 'rf_and_screening_tract', 'rf_and_screening_tract_long', 'cancer_incidence', 'cancer_incidence_long', 'cancer_mortality', 'cancer_mortality_long', 'economy_county', 'economy_county_long', 'economy_tract', 'economy_tract_long', 'ht_county', 'ht_county_long', 'ht_tract', 'ht_tract_long', 'sociodemographics_county', 'sd_county_long', 'sociodemographics_tract', 'sd_tract_long', 'environment_county', 'environment_county_long', 'environment_tract', 'environment_tract_long', 'broadband_speeds', 'facilities_and_providers'])"
      ]
     },
     "execution_count": 10,
     "metadata": {},
     "output_type": "execute_result"
    }
   ],
   "source": [
    "cif.data_dictionary.keys()"
   ]
  },
  {
   "cell_type": "code",
   "execution_count": 14,
   "id": "3d408681",
   "metadata": {},
   "outputs": [
    {
     "data": {
      "text/plain": [
       "'Cancer Incidence - Age Adj. : All Site'"
      ]
     },
     "execution_count": 14,
     "metadata": {},
     "output_type": "execute_result"
    }
   ],
   "source": [
    "# Name for Cancer tables\n",
    "'Cancer Incidence - Age Adj. : All Site'"
   ]
  },
  {
   "cell_type": "code",
   "execution_count": 19,
   "id": "c2b409d3",
   "metadata": {},
   "outputs": [
    {
     "data": {
      "text/html": [
       "<div>\n",
       "<style scoped>\n",
       "    .dataframe tbody tr th:only-of-type {\n",
       "        vertical-align: middle;\n",
       "    }\n",
       "\n",
       "    .dataframe tbody tr th {\n",
       "        vertical-align: top;\n",
       "    }\n",
       "\n",
       "    .dataframe thead th {\n",
       "        text-align: right;\n",
       "    }\n",
       "</style>\n",
       "<table border=\"1\" class=\"dataframe\">\n",
       "  <thead>\n",
       "    <tr style=\"text-align: right;\">\n",
       "      <th></th>\n",
       "      <th>FIPS</th>\n",
       "      <th>County</th>\n",
       "      <th>State</th>\n",
       "      <th>Census_Tract_2019</th>\n",
       "      <th>LILATracts_Vehicle</th>\n",
       "    </tr>\n",
       "  </thead>\n",
       "  <tbody>\n",
       "    <tr>\n",
       "      <th>0</th>\n",
       "      <td>33001</td>\n",
       "      <td>Belknap County</td>\n",
       "      <td>New Hampshire</td>\n",
       "      <td>33001965100</td>\n",
       "      <td>0</td>\n",
       "    </tr>\n",
       "    <tr>\n",
       "      <th>14</th>\n",
       "      <td>33001</td>\n",
       "      <td>Belknap County</td>\n",
       "      <td>New Hampshire</td>\n",
       "      <td>33001966500</td>\n",
       "      <td>0</td>\n",
       "    </tr>\n",
       "    <tr>\n",
       "      <th>13</th>\n",
       "      <td>33001</td>\n",
       "      <td>Belknap County</td>\n",
       "      <td>New Hampshire</td>\n",
       "      <td>33001966402</td>\n",
       "      <td>0</td>\n",
       "    </tr>\n",
       "    <tr>\n",
       "      <th>11</th>\n",
       "      <td>33001</td>\n",
       "      <td>Belknap County</td>\n",
       "      <td>New Hampshire</td>\n",
       "      <td>33001966200</td>\n",
       "      <td>0</td>\n",
       "    </tr>\n",
       "    <tr>\n",
       "      <th>10</th>\n",
       "      <td>33001</td>\n",
       "      <td>Belknap County</td>\n",
       "      <td>New Hampshire</td>\n",
       "      <td>33001966100</td>\n",
       "      <td>0</td>\n",
       "    </tr>\n",
       "    <tr>\n",
       "      <th>...</th>\n",
       "      <td>...</td>\n",
       "      <td>...</td>\n",
       "      <td>...</td>\n",
       "      <td>...</td>\n",
       "      <td>...</td>\n",
       "    </tr>\n",
       "    <tr>\n",
       "      <th>386</th>\n",
       "      <td>50027</td>\n",
       "      <td>Windsor County</td>\n",
       "      <td>Vermont</td>\n",
       "      <td>50027965300</td>\n",
       "      <td>0</td>\n",
       "    </tr>\n",
       "    <tr>\n",
       "      <th>385</th>\n",
       "      <td>50027</td>\n",
       "      <td>Windsor County</td>\n",
       "      <td>Vermont</td>\n",
       "      <td>50027965200</td>\n",
       "      <td>0</td>\n",
       "    </tr>\n",
       "    <tr>\n",
       "      <th>384</th>\n",
       "      <td>50027</td>\n",
       "      <td>Windsor County</td>\n",
       "      <td>Vermont</td>\n",
       "      <td>50027965100</td>\n",
       "      <td>0</td>\n",
       "    </tr>\n",
       "    <tr>\n",
       "      <th>400</th>\n",
       "      <td>50027</td>\n",
       "      <td>Windsor County</td>\n",
       "      <td>Vermont</td>\n",
       "      <td>50027966700</td>\n",
       "      <td>0</td>\n",
       "    </tr>\n",
       "    <tr>\n",
       "      <th>399</th>\n",
       "      <td>50027</td>\n",
       "      <td>Windsor County</td>\n",
       "      <td>Vermont</td>\n",
       "      <td>50027966600</td>\n",
       "      <td>1</td>\n",
       "    </tr>\n",
       "  </tbody>\n",
       "</table>\n",
       "<p>475 rows × 5 columns</p>\n",
       "</div>"
      ],
      "text/plain": [
       "      FIPS          County          State Census_Tract_2019  \\\n",
       "0    33001  Belknap County  New Hampshire       33001965100   \n",
       "14   33001  Belknap County  New Hampshire       33001966500   \n",
       "13   33001  Belknap County  New Hampshire       33001966402   \n",
       "11   33001  Belknap County  New Hampshire       33001966200   \n",
       "10   33001  Belknap County  New Hampshire       33001966100   \n",
       "..     ...             ...            ...               ...   \n",
       "386  50027  Windsor County        Vermont       50027965300   \n",
       "385  50027  Windsor County        Vermont       50027965200   \n",
       "384  50027  Windsor County        Vermont       50027965100   \n",
       "400  50027  Windsor County        Vermont       50027966700   \n",
       "399  50027  Windsor County        Vermont       50027966600   \n",
       "\n",
       "     LILATracts_Vehicle  \n",
       "0                     0  \n",
       "14                    0  \n",
       "13                    0  \n",
       "11                    0  \n",
       "10                    0  \n",
       "..                  ...  \n",
       "386                   0  \n",
       "385                   0  \n",
       "384                   0  \n",
       "400                   0  \n",
       "399                   1  \n",
       "\n",
       "[475 rows x 5 columns]"
      ]
     },
     "execution_count": 19,
     "metadata": {},
     "output_type": "execute_result"
    }
   ],
   "source": [
    "cif.data_dictionary['environment_tract'] # Change \"Census_Tract_2019\" to FIPS\n",
    "# Get rid of FIPS"
   ]
  },
  {
   "cell_type": "code",
   "execution_count": 20,
   "id": "00410e49",
   "metadata": {},
   "outputs": [
    {
     "data": {
      "text/plain": [
       "dict_keys(['rf_and_screening_county', 'economy_county', 'ht_county', 'sociodemographics_county', 'environment_county'])"
      ]
     },
     "execution_count": 20,
     "metadata": {},
     "output_type": "execute_result"
    }
   ],
   "source": [
    "cif.countyData.keys()"
   ]
  },
  {
   "cell_type": "code",
   "execution_count": 23,
   "id": "dfb1390f",
   "metadata": {},
   "outputs": [
    {
     "data": {
      "text/html": [
       "<div>\n",
       "<style scoped>\n",
       "    .dataframe tbody tr th:only-of-type {\n",
       "        vertical-align: middle;\n",
       "    }\n",
       "\n",
       "    .dataframe tbody tr th {\n",
       "        vertical-align: top;\n",
       "    }\n",
       "\n",
       "    .dataframe thead th {\n",
       "        text-align: right;\n",
       "    }\n",
       "</style>\n",
       "<table border=\"1\" class=\"dataframe\">\n",
       "  <thead>\n",
       "    <tr style=\"text-align: right;\">\n",
       "      <th></th>\n",
       "      <th></th>\n",
       "      <th>measure</th>\n",
       "      <th>BMI_Obese</th>\n",
       "      <th>Cancer_Prevalence</th>\n",
       "      <th>Currently_Smoke</th>\n",
       "      <th>Met_Breast_Screen</th>\n",
       "      <th>Met_Cervical_Screen</th>\n",
       "      <th>Met_Colon_Screen</th>\n",
       "    </tr>\n",
       "    <tr>\n",
       "      <th>FIPS</th>\n",
       "      <th>County</th>\n",
       "      <th>State</th>\n",
       "      <th></th>\n",
       "      <th></th>\n",
       "      <th></th>\n",
       "      <th></th>\n",
       "      <th></th>\n",
       "      <th></th>\n",
       "    </tr>\n",
       "  </thead>\n",
       "  <tbody>\n",
       "    <tr>\n",
       "      <th>33001</th>\n",
       "      <th>Belknap</th>\n",
       "      <th>NH</th>\n",
       "      <td>0.308</td>\n",
       "      <td>0.091</td>\n",
       "      <td>0.157</td>\n",
       "      <td>0.747</td>\n",
       "      <td>0.860</td>\n",
       "      <td>0.703</td>\n",
       "    </tr>\n",
       "    <tr>\n",
       "      <th>33003</th>\n",
       "      <th>Carroll</th>\n",
       "      <th>NH</th>\n",
       "      <td>0.294</td>\n",
       "      <td>0.100</td>\n",
       "      <td>0.156</td>\n",
       "      <td>0.747</td>\n",
       "      <td>0.854</td>\n",
       "      <td>0.707</td>\n",
       "    </tr>\n",
       "    <tr>\n",
       "      <th>33005</th>\n",
       "      <th>Cheshire</th>\n",
       "      <th>NH</th>\n",
       "      <td>0.300</td>\n",
       "      <td>0.079</td>\n",
       "      <td>0.164</td>\n",
       "      <td>0.724</td>\n",
       "      <td>0.850</td>\n",
       "      <td>0.687</td>\n",
       "    </tr>\n",
       "  </tbody>\n",
       "</table>\n",
       "</div>"
      ],
      "text/plain": [
       "measure               BMI_Obese  Cancer_Prevalence  Currently_Smoke  \\\n",
       "FIPS  County   State                                                  \n",
       "33001 Belknap  NH         0.308              0.091            0.157   \n",
       "33003 Carroll  NH         0.294              0.100            0.156   \n",
       "33005 Cheshire NH         0.300              0.079            0.164   \n",
       "\n",
       "measure               Met_Breast_Screen  Met_Cervical_Screen  Met_Colon_Screen  \n",
       "FIPS  County   State                                                            \n",
       "33001 Belknap  NH                 0.747                0.860             0.703  \n",
       "33003 Carroll  NH                 0.747                0.854             0.707  \n",
       "33005 Cheshire NH                 0.724                0.850             0.687  "
      ]
     },
     "execution_count": 23,
     "metadata": {},
     "output_type": "execute_result"
    }
   ],
   "source": [
    "cif.countyData['rf_and_screening_county'].head(3)\n",
    "# BMI_Obese -> Obese (BMI over 30)\n",
    "# Cancer_Prevalence -> Cancer Prevalence\n",
    "# Currently_Smoke -> Currently Smoke (Audlt)\n",
    "# Met_Breast_Screen -> Met Breast Screening Recommendations\n",
    "# Met_Cervical_Screen -> Had Pap Test in Last 3 Years, Age 21-64\n",
    "# Met_Colon_Screen -> Met Colorectal Screening Recommendations"
   ]
  },
  {
   "cell_type": "code",
   "execution_count": 25,
   "id": "4b74a6eb",
   "metadata": {},
   "outputs": [
    {
     "data": {
      "text/html": [
       "<div>\n",
       "<style scoped>\n",
       "    .dataframe tbody tr th:only-of-type {\n",
       "        vertical-align: middle;\n",
       "    }\n",
       "\n",
       "    .dataframe tbody tr th {\n",
       "        vertical-align: top;\n",
       "    }\n",
       "\n",
       "    .dataframe thead th {\n",
       "        text-align: right;\n",
       "    }\n",
       "</style>\n",
       "<table border=\"1\" class=\"dataframe\">\n",
       "  <thead>\n",
       "    <tr style=\"text-align: right;\">\n",
       "      <th></th>\n",
       "      <th>FIPS</th>\n",
       "      <th>County</th>\n",
       "      <th>State</th>\n",
       "      <th>Insurance Coverage</th>\n",
       "      <th>Medicaid Enrollment</th>\n",
       "      <th>Gini Coefficient</th>\n",
       "      <th>Household Income</th>\n",
       "      <th>Annual Labor Force Participation Rate (2015-2019)</th>\n",
       "      <th>Annual Unemployment Rate (2015-2019)</th>\n",
       "      <th>Below Poverty</th>\n",
       "      <th>Uninsured</th>\n",
       "      <th>Monthly Unemployment Rate (Jun-22)</th>\n",
       "    </tr>\n",
       "  </thead>\n",
       "  <tbody>\n",
       "    <tr>\n",
       "      <th>0</th>\n",
       "      <td>33001</td>\n",
       "      <td>Belknap County</td>\n",
       "      <td>New Hampshire</td>\n",
       "      <td>0.933626</td>\n",
       "      <td>0.164852</td>\n",
       "      <td>0.4400</td>\n",
       "      <td>67328.0</td>\n",
       "      <td>0.636900</td>\n",
       "      <td>0.037903</td>\n",
       "      <td>0.063430</td>\n",
       "      <td>0.066374</td>\n",
       "      <td>0.019</td>\n",
       "    </tr>\n",
       "    <tr>\n",
       "      <th>1</th>\n",
       "      <td>33003</td>\n",
       "      <td>Carroll County</td>\n",
       "      <td>New Hampshire</td>\n",
       "      <td>0.920831</td>\n",
       "      <td>0.165682</td>\n",
       "      <td>0.4715</td>\n",
       "      <td>66932.0</td>\n",
       "      <td>0.610454</td>\n",
       "      <td>0.055430</td>\n",
       "      <td>0.043994</td>\n",
       "      <td>0.079169</td>\n",
       "      <td>0.020</td>\n",
       "    </tr>\n",
       "    <tr>\n",
       "      <th>2</th>\n",
       "      <td>33005</td>\n",
       "      <td>Cheshire County</td>\n",
       "      <td>New Hampshire</td>\n",
       "      <td>0.938260</td>\n",
       "      <td>0.141869</td>\n",
       "      <td>0.4239</td>\n",
       "      <td>64686.0</td>\n",
       "      <td>0.639532</td>\n",
       "      <td>0.038719</td>\n",
       "      <td>0.051770</td>\n",
       "      <td>0.061740</td>\n",
       "      <td>0.023</td>\n",
       "    </tr>\n",
       "  </tbody>\n",
       "</table>\n",
       "</div>"
      ],
      "text/plain": [
       "    FIPS           County          State  Insurance Coverage  \\\n",
       "0  33001   Belknap County  New Hampshire            0.933626   \n",
       "1  33003   Carroll County  New Hampshire            0.920831   \n",
       "2  33005  Cheshire County  New Hampshire            0.938260   \n",
       "\n",
       "   Medicaid Enrollment  Gini Coefficient  Household Income  \\\n",
       "0             0.164852            0.4400           67328.0   \n",
       "1             0.165682            0.4715           66932.0   \n",
       "2             0.141869            0.4239           64686.0   \n",
       "\n",
       "   Annual Labor Force Participation Rate (2015-2019)  \\\n",
       "0                                           0.636900   \n",
       "1                                           0.610454   \n",
       "2                                           0.639532   \n",
       "\n",
       "   Annual Unemployment Rate (2015-2019)  Below Poverty  Uninsured  \\\n",
       "0                              0.037903       0.063430   0.066374   \n",
       "1                              0.055430       0.043994   0.079169   \n",
       "2                              0.038719       0.051770   0.061740   \n",
       "\n",
       "   Monthly Unemployment Rate (Jun-22)  \n",
       "0                               0.019  \n",
       "1                               0.020  \n",
       "2                               0.023  "
      ]
     },
     "execution_count": 25,
     "metadata": {},
     "output_type": "execute_result"
    }
   ],
   "source": [
    "cif.countyData['economy_county'].head(3)\n",
    "# Insurance Coverage -> Insured\n",
    "# Medicaid Enrollment -> Enrolled in Medicaid\n",
    "# Gini Coefficient   -> Gini Coefficient\n",
    "# Household Income   -> Household Income ($)\n",
    "# Annual Labor Force Participation Rate (2015-2019) -> Annual Labor Force Participation (2015-2019) \n",
    "# Below Poverty -> Living Below Poverty\n",
    "# Uninsured     -> Uninsured\n",
    "# Monthly Unemployment Rate (Jun-22)  -> Monthly Unemployment (***-**)"
   ]
  },
  {
   "cell_type": "code",
   "execution_count": 32,
   "id": "c744d532",
   "metadata": {},
   "outputs": [
    {
     "data": {
      "text/html": [
       "<div>\n",
       "<style scoped>\n",
       "    .dataframe tbody tr th:only-of-type {\n",
       "        vertical-align: middle;\n",
       "    }\n",
       "\n",
       "    .dataframe tbody tr th {\n",
       "        vertical-align: top;\n",
       "    }\n",
       "\n",
       "    .dataframe thead th {\n",
       "        text-align: right;\n",
       "    }\n",
       "</style>\n",
       "<table border=\"1\" class=\"dataframe\">\n",
       "  <thead>\n",
       "    <tr style=\"text-align: right;\">\n",
       "      <th></th>\n",
       "      <th>FIPS</th>\n",
       "      <th>County</th>\n",
       "      <th>State</th>\n",
       "      <th>Vacancy Rate</th>\n",
       "      <th>No Vehicle</th>\n",
       "      <th>Rent Burden (40% Income)</th>\n",
       "    </tr>\n",
       "  </thead>\n",
       "  <tbody>\n",
       "    <tr>\n",
       "      <th>0</th>\n",
       "      <td>33001</td>\n",
       "      <td>Belknap County</td>\n",
       "      <td>New Hampshire</td>\n",
       "      <td>0.340519</td>\n",
       "      <td>0.012621</td>\n",
       "      <td>0.322812</td>\n",
       "    </tr>\n",
       "    <tr>\n",
       "      <th>1</th>\n",
       "      <td>33003</td>\n",
       "      <td>Carroll County</td>\n",
       "      <td>New Hampshire</td>\n",
       "      <td>0.463350</td>\n",
       "      <td>0.013166</td>\n",
       "      <td>0.259421</td>\n",
       "    </tr>\n",
       "    <tr>\n",
       "      <th>2</th>\n",
       "      <td>33005</td>\n",
       "      <td>Cheshire County</td>\n",
       "      <td>New Hampshire</td>\n",
       "      <td>0.146728</td>\n",
       "      <td>0.017354</td>\n",
       "      <td>0.251565</td>\n",
       "    </tr>\n",
       "  </tbody>\n",
       "</table>\n",
       "</div>"
      ],
      "text/plain": [
       "    FIPS           County          State  Vacancy Rate  No Vehicle  \\\n",
       "0  33001   Belknap County  New Hampshire      0.340519    0.012621   \n",
       "1  33003   Carroll County  New Hampshire      0.463350    0.013166   \n",
       "2  33005  Cheshire County  New Hampshire      0.146728    0.017354   \n",
       "\n",
       "   Rent Burden (40% Income)  \n",
       "0                  0.322812  \n",
       "1                  0.259421  \n",
       "2                  0.251565  "
      ]
     },
     "execution_count": 32,
     "metadata": {},
     "output_type": "execute_result"
    }
   ],
   "source": [
    "cif.countyData['ht_county'].head(3)\n",
    "# Vacancy Rate -> Vacancy Rate\n",
    "# No Vehicle -> Household without Vehicle Access\n",
    "# Rent Burden (40% Income) -> High Rent Burden"
   ]
  },
  {
   "cell_type": "code",
   "execution_count": 35,
   "id": "282857ab",
   "metadata": {},
   "outputs": [
    {
     "data": {
      "text/html": [
       "<div>\n",
       "<style scoped>\n",
       "    .dataframe tbody tr th:only-of-type {\n",
       "        vertical-align: middle;\n",
       "    }\n",
       "\n",
       "    .dataframe tbody tr th {\n",
       "        vertical-align: top;\n",
       "    }\n",
       "\n",
       "    .dataframe thead th {\n",
       "        text-align: right;\n",
       "    }\n",
       "</style>\n",
       "<table border=\"1\" class=\"dataframe\">\n",
       "  <thead>\n",
       "    <tr style=\"text-align: right;\">\n",
       "      <th></th>\n",
       "      <th>FIPS</th>\n",
       "      <th>County</th>\n",
       "      <th>State</th>\n",
       "      <th>Total</th>\n",
       "      <th>Under 18</th>\n",
       "      <th>18 to 64</th>\n",
       "      <th>Over 64</th>\n",
       "      <th>Below 9th grade</th>\n",
       "      <th>High School</th>\n",
       "      <th>College</th>\n",
       "      <th>Advanced Degree</th>\n",
       "      <th>White</th>\n",
       "      <th>Black</th>\n",
       "      <th>Hispanic</th>\n",
       "      <th>Asian</th>\n",
       "      <th>Other_Races</th>\n",
       "      <th>Urban_Percentage</th>\n",
       "    </tr>\n",
       "  </thead>\n",
       "  <tbody>\n",
       "    <tr>\n",
       "      <th>0</th>\n",
       "      <td>33001</td>\n",
       "      <td>Belknap County</td>\n",
       "      <td>New Hampshire</td>\n",
       "      <td>61174</td>\n",
       "      <td>0.184343</td>\n",
       "      <td>0.595220</td>\n",
       "      <td>0.220437</td>\n",
       "      <td>0.015503</td>\n",
       "      <td>0.886085</td>\n",
       "      <td>0.316990</td>\n",
       "      <td>0.132532</td>\n",
       "      <td>0.945647</td>\n",
       "      <td>0.006097</td>\n",
       "      <td>0.017704</td>\n",
       "      <td>0.010184</td>\n",
       "      <td>0.020368</td>\n",
       "      <td>0.3372</td>\n",
       "    </tr>\n",
       "    <tr>\n",
       "      <th>1</th>\n",
       "      <td>33003</td>\n",
       "      <td>Carroll County</td>\n",
       "      <td>New Hampshire</td>\n",
       "      <td>48461</td>\n",
       "      <td>0.155465</td>\n",
       "      <td>0.561648</td>\n",
       "      <td>0.282887</td>\n",
       "      <td>0.010966</td>\n",
       "      <td>0.908223</td>\n",
       "      <td>0.369685</td>\n",
       "      <td>0.152392</td>\n",
       "      <td>0.955160</td>\n",
       "      <td>0.005200</td>\n",
       "      <td>0.015311</td>\n",
       "      <td>0.007429</td>\n",
       "      <td>0.016900</td>\n",
       "      <td>0.0980</td>\n",
       "    </tr>\n",
       "    <tr>\n",
       "      <th>2</th>\n",
       "      <td>33005</td>\n",
       "      <td>Cheshire County</td>\n",
       "      <td>New Hampshire</td>\n",
       "      <td>76040</td>\n",
       "      <td>0.178827</td>\n",
       "      <td>0.621712</td>\n",
       "      <td>0.199461</td>\n",
       "      <td>0.021967</td>\n",
       "      <td>0.896103</td>\n",
       "      <td>0.337057</td>\n",
       "      <td>0.125154</td>\n",
       "      <td>0.938966</td>\n",
       "      <td>0.007746</td>\n",
       "      <td>0.019358</td>\n",
       "      <td>0.009258</td>\n",
       "      <td>0.024671</td>\n",
       "      <td>0.3498</td>\n",
       "    </tr>\n",
       "  </tbody>\n",
       "</table>\n",
       "</div>"
      ],
      "text/plain": [
       "    FIPS           County          State  Total  Under 18  18 to 64   Over 64  \\\n",
       "0  33001   Belknap County  New Hampshire  61174  0.184343  0.595220  0.220437   \n",
       "1  33003   Carroll County  New Hampshire  48461  0.155465  0.561648  0.282887   \n",
       "2  33005  Cheshire County  New Hampshire  76040  0.178827  0.621712  0.199461   \n",
       "\n",
       "   Below 9th grade  High School   College  Advanced Degree     White  \\\n",
       "0         0.015503     0.886085  0.316990         0.132532  0.945647   \n",
       "1         0.010966     0.908223  0.369685         0.152392  0.955160   \n",
       "2         0.021967     0.896103  0.337057         0.125154  0.938966   \n",
       "\n",
       "      Black  Hispanic     Asian  Other_Races  Urban_Percentage  \n",
       "0  0.006097  0.017704  0.010184     0.020368            0.3372  \n",
       "1  0.005200  0.015311  0.007429     0.016900            0.0980  \n",
       "2  0.007746  0.019358  0.009258     0.024671            0.3498  "
      ]
     },
     "execution_count": 35,
     "metadata": {},
     "output_type": "execute_result"
    }
   ],
   "source": [
    "cif.countyData['sociodemographics_county'].head(3)\n",
    "# Total -> Total Population\n",
    "# Under 18 -> Under 18 Years Old\n",
    "# 18 to 64 -> Age 18 to 64 Years Old\n",
    "# Over 64 -> Over 64 Years Old\n",
    "# Below 9th grade -> Did Not Attend High School\n",
    "# High School -> Graduated High School\n",
    "# College -> Graduated College\n",
    "# Advanced Degree -> Completed Gradaute Degree\n",
    "# White -> White (Non-Hispanic)\n",
    "# Black -> Black (Non-Hispanic)\n",
    "# Asian -> Asian (Non-Hispanic)\n",
    "# Other_Races -> Other Non-Hispanic Races\n",
    "# Urban_Percentage -> Urbanized Residence"
   ]
  },
  {
   "cell_type": "code",
   "execution_count": 37,
   "id": "adbdb0ed",
   "metadata": {},
   "outputs": [
    {
     "data": {
      "text/html": [
       "<div>\n",
       "<style scoped>\n",
       "    .dataframe tbody tr th:only-of-type {\n",
       "        vertical-align: middle;\n",
       "    }\n",
       "\n",
       "    .dataframe tbody tr th {\n",
       "        vertical-align: top;\n",
       "    }\n",
       "\n",
       "    .dataframe thead th {\n",
       "        text-align: right;\n",
       "    }\n",
       "</style>\n",
       "<table border=\"1\" class=\"dataframe\">\n",
       "  <thead>\n",
       "    <tr style=\"text-align: right;\">\n",
       "      <th></th>\n",
       "      <th>FIPS</th>\n",
       "      <th>County</th>\n",
       "      <th>State</th>\n",
       "      <th>PWS_Violations_Since_2016</th>\n",
       "      <th>LILATracts_Vehicle</th>\n",
       "    </tr>\n",
       "  </thead>\n",
       "  <tbody>\n",
       "    <tr>\n",
       "      <th>0</th>\n",
       "      <td>33001</td>\n",
       "      <td>Belknap County</td>\n",
       "      <td>New Hampshire</td>\n",
       "      <td>5.0</td>\n",
       "      <td>0.000000</td>\n",
       "    </tr>\n",
       "    <tr>\n",
       "      <th>4</th>\n",
       "      <td>33003</td>\n",
       "      <td>Carroll County</td>\n",
       "      <td>New Hampshire</td>\n",
       "      <td>7.0</td>\n",
       "      <td>0.321585</td>\n",
       "    </tr>\n",
       "    <tr>\n",
       "      <th>5</th>\n",
       "      <td>33005</td>\n",
       "      <td>Cheshire County</td>\n",
       "      <td>New Hampshire</td>\n",
       "      <td>1.0</td>\n",
       "      <td>0.076381</td>\n",
       "    </tr>\n",
       "  </tbody>\n",
       "</table>\n",
       "</div>"
      ],
      "text/plain": [
       "    FIPS           County          State  PWS_Violations_Since_2016  \\\n",
       "0  33001   Belknap County  New Hampshire                        5.0   \n",
       "4  33003   Carroll County  New Hampshire                        7.0   \n",
       "5  33005  Cheshire County  New Hampshire                        1.0   \n",
       "\n",
       "   LILATracts_Vehicle  \n",
       "0            0.000000  \n",
       "4            0.321585  \n",
       "5            0.076381  "
      ]
     },
     "execution_count": 37,
     "metadata": {},
     "output_type": "execute_result"
    }
   ],
   "source": [
    "cif.countyData['environment_county'].head(3)\n",
    "# PWS_Violations_Since_2016 -> Public Water System Violations Since 2016\n",
    "# LILATracts_Vehicle -> Tracts that are Food Deserts"
   ]
  },
  {
   "cell_type": "code",
   "execution_count": 40,
   "id": "8bb5fd67",
   "metadata": {},
   "outputs": [
    {
     "data": {
      "text/html": [
       "<div>\n",
       "<style scoped>\n",
       "    .dataframe tbody tr th:only-of-type {\n",
       "        vertical-align: middle;\n",
       "    }\n",
       "\n",
       "    .dataframe tbody tr th {\n",
       "        vertical-align: top;\n",
       "    }\n",
       "\n",
       "    .dataframe thead th {\n",
       "        text-align: right;\n",
       "    }\n",
       "</style>\n",
       "<table border=\"1\" class=\"dataframe\">\n",
       "  <thead>\n",
       "    <tr style=\"text-align: right;\">\n",
       "      <th></th>\n",
       "      <th>FIPS</th>\n",
       "      <th>County</th>\n",
       "      <th>State</th>\n",
       "      <th>Census_Tract_2019</th>\n",
       "      <th>LILATracts_Vehicle</th>\n",
       "    </tr>\n",
       "  </thead>\n",
       "  <tbody>\n",
       "    <tr>\n",
       "      <th>0</th>\n",
       "      <td>33001</td>\n",
       "      <td>Belknap County</td>\n",
       "      <td>New Hampshire</td>\n",
       "      <td>33001965100</td>\n",
       "      <td>0</td>\n",
       "    </tr>\n",
       "    <tr>\n",
       "      <th>14</th>\n",
       "      <td>33001</td>\n",
       "      <td>Belknap County</td>\n",
       "      <td>New Hampshire</td>\n",
       "      <td>33001966500</td>\n",
       "      <td>0</td>\n",
       "    </tr>\n",
       "    <tr>\n",
       "      <th>13</th>\n",
       "      <td>33001</td>\n",
       "      <td>Belknap County</td>\n",
       "      <td>New Hampshire</td>\n",
       "      <td>33001966402</td>\n",
       "      <td>0</td>\n",
       "    </tr>\n",
       "  </tbody>\n",
       "</table>\n",
       "</div>"
      ],
      "text/plain": [
       "     FIPS          County          State Census_Tract_2019  LILATracts_Vehicle\n",
       "0   33001  Belknap County  New Hampshire       33001965100                   0\n",
       "14  33001  Belknap County  New Hampshire       33001966500                   0\n",
       "13  33001  Belknap County  New Hampshire       33001966402                   0"
      ]
     },
     "execution_count": 40,
     "metadata": {},
     "output_type": "execute_result"
    }
   ],
   "source": [
    "cif.tractData['environment_tract'].head(3)\n",
    "# LILATracts_Vehicle -> Tracts that are Food Deserts"
   ]
  },
  {
   "cell_type": "code",
   "execution_count": 43,
   "id": "ca1b13a9",
   "metadata": {},
   "outputs": [
    {
     "data": {
      "text/plain": [
       "Index(['All Site', 'Bladder', 'Brain & ONS', 'Cervix', 'Colon & Rectum',\n",
       "       'Corpus Uteri & Uterus, NOS', 'Esophagus', 'Female Breast',\n",
       "       'Kidney & Renal Pelvis', 'Leukemia', 'Liver & IBD', 'Lung & Bronchus',\n",
       "       'Melanoma of the Skin', 'Non-Hodgkin Lymphoma', 'Oral Cavity & Pharynx',\n",
       "       'Ovary', 'Pancreas', 'Prostate', 'Stomach', 'Thyroid'],\n",
       "      dtype='object', name='Site')"
      ]
     },
     "execution_count": 43,
     "metadata": {},
     "output_type": "execute_result"
    }
   ],
   "source": [
    "cif.data_dictionary['cancer_incidence'].columns\n",
    "# All Site -> All Cancer Site\n",
    "# Bladder -> Baldder\n",
    "# Brain & ONS -> Brain\n",
    "# Cervix -> Cervical\n",
    "# Colon & Rectum -> Colorectal\n",
    "# Corpus Uteri & Uterus -> Uterine\n",
    "# Esophagus -> Esophageal\n",
    "# Female Breast -> Female Breast\n",
    "# Kidney & Renal Pelvis -> Kidney\n",
    "# Leukemia -> Leukemia\n",
    "# Liver & IBD -> Liver\n",
    "# Lung & Bronchus -> Lung\n",
    "# Melanoma of the Skin -> Melanoma\n",
    "# Non-Hodgkin Lymphoma -> Non-Hodgkin Lymphoma\n",
    "# Oral Cavity & Pharynx -> Head & Neck Cancer\n",
    "# Ovary -> Ovarian\n",
    "# Pancreas -> Pancreatic\n",
    "# Prostate -> Prostate\n",
    "# Stomach -> Stomach\n",
    "# Thyroid -> Thyroid"
   ]
  },
  {
   "cell_type": "markdown",
   "id": "96189a32",
   "metadata": {},
   "source": [
    "Legend title : {table name} - {variable name}\n",
    "Pop title : {table name}"
   ]
  },
  {
   "cell_type": "code",
   "execution_count": null,
   "id": "d302556c",
   "metadata": {},
   "outputs": [],
   "source": []
  },
  {
   "cell_type": "code",
   "execution_count": null,
   "id": "e1891748",
   "metadata": {},
   "outputs": [],
   "source": []
  },
  {
   "cell_type": "code",
   "execution_count": null,
   "id": "2044dcde",
   "metadata": {},
   "outputs": [],
   "source": []
  },
  {
   "cell_type": "code",
   "execution_count": null,
   "id": "42514aee",
   "metadata": {},
   "outputs": [],
   "source": []
  },
  {
   "cell_type": "code",
   "execution_count": 31,
   "id": "7698e9ad-1cbe-47bb-9c8f-b6eb97b3677f",
   "metadata": {},
   "outputs": [],
   "source": [
    "cif.tractData['environment_tract'].drop('FIPS', axis = 1, inplace = True)\n",
    "cif.tractData['environment_tract'].rename(columns = {'Census_Tract_2019':'FIPS'}, inplace = True)"
   ]
  },
  {
   "cell_type": "code",
   "execution_count": 32,
   "id": "7c49c479-98bb-4f85-9015-f9c5f543a059",
   "metadata": {},
   "outputs": [
    {
     "data": {
      "application/vnd.jupyter.widget-view+json": {
       "model_id": "56883ddf50fd465db247e61758dda390",
       "version_major": 2,
       "version_minor": 0
      },
      "text/plain": [
       "Waiting to Upload Facilities and Providers : Colon & Rectal Surgeon layer to AGOL:   0%|          | 0/30 [00:0…"
      ]
     },
     "metadata": {},
     "output_type": "display_data"
    },
    {
     "data": {
      "application/vnd.jupyter.widget-view+json": {
       "model_id": "7a85cc3c8d6b4421a705cce68c44a05a",
       "version_major": 2,
       "version_minor": 0
      },
      "text/plain": [
       "Uploading Point Feature Layer : Colon & Rectal Surgeon:   0%|          | 0/30 [00:00<?, ?it/s]"
      ]
     },
     "metadata": {},
     "output_type": "display_data"
    },
    {
     "data": {
      "application/vnd.jupyter.widget-view+json": {
       "model_id": "db633e16d2d246eea7d465d884c63bb5",
       "version_major": 2,
       "version_minor": 0
      },
      "text/plain": [
       "Waiting to Upload Facilities and Providers : FQHC layer to AGOL:   0%|          | 0/30 [00:00<?, ?it/s]"
      ]
     },
     "metadata": {},
     "output_type": "display_data"
    },
    {
     "data": {
      "application/vnd.jupyter.widget-view+json": {
       "model_id": "7cb34c6311cf40bea1c5e13e32f3b2b3",
       "version_major": 2,
       "version_minor": 0
      },
      "text/plain": [
       "Uploading Point Feature Layer : FQHC:   0%|          | 0/30 [00:00<?, ?it/s]"
      ]
     },
     "metadata": {},
     "output_type": "display_data"
    },
    {
     "data": {
      "application/vnd.jupyter.widget-view+json": {
       "model_id": "a1461144ec594eff87f0c84f816218dd",
       "version_major": 2,
       "version_minor": 0
      },
      "text/plain": [
       "Waiting to Upload Facilities and Providers : Gastroenterology layer to AGOL:   0%|          | 0/30 [00:00<?, ?…"
      ]
     },
     "metadata": {},
     "output_type": "display_data"
    },
    {
     "data": {
      "application/vnd.jupyter.widget-view+json": {
       "model_id": "d99962aa7e54422f9c6430f44fa35b96",
       "version_major": 2,
       "version_minor": 0
      },
      "text/plain": [
       "Uploading Point Feature Layer : Gastroenterology:   0%|          | 0/30 [00:00<?, ?it/s]"
      ]
     },
     "metadata": {},
     "output_type": "display_data"
    },
    {
     "data": {
      "application/vnd.jupyter.widget-view+json": {
       "model_id": "290427912eee47c2adbeadd5000e47f1",
       "version_major": 2,
       "version_minor": 0
      },
      "text/plain": [
       "Waiting to Upload Facilities and Providers : Lung Cancer Screening layer to AGOL:   0%|          | 0/30 [00:00…"
      ]
     },
     "metadata": {},
     "output_type": "display_data"
    },
    {
     "data": {
      "application/vnd.jupyter.widget-view+json": {
       "model_id": "ae2ee02daa154453befee13b9bd37d73",
       "version_major": 2,
       "version_minor": 0
      },
      "text/plain": [
       "Uploading Point Feature Layer : Lung Cancer Screening:   0%|          | 0/30 [00:00<?, ?it/s]"
      ]
     },
     "metadata": {},
     "output_type": "display_data"
    },
    {
     "data": {
      "application/vnd.jupyter.widget-view+json": {
       "model_id": "6e835540fc164f4c90efd177b5bb29a8",
       "version_major": 2,
       "version_minor": 0
      },
      "text/plain": [
       "Waiting to Upload Facilities and Providers : Mammography layer to AGOL:   0%|          | 0/30 [00:00<?, ?it/s]"
      ]
     },
     "metadata": {},
     "output_type": "display_data"
    },
    {
     "data": {
      "application/vnd.jupyter.widget-view+json": {
       "model_id": "67741a1d36b7417d85254b2664e27853",
       "version_major": 2,
       "version_minor": 0
      },
      "text/plain": [
       "Uploading Point Feature Layer : Mammography:   0%|          | 0/30 [00:00<?, ?it/s]"
      ]
     },
     "metadata": {},
     "output_type": "display_data"
    },
    {
     "data": {
      "application/vnd.jupyter.widget-view+json": {
       "model_id": "740843347ad44e3c980d66b0ddf63b03",
       "version_major": 2,
       "version_minor": 0
      },
      "text/plain": [
       "Waiting to Upload Facilities and Providers : Obstetrics & Gynecology layer to AGOL:   0%|          | 0/30 [00:…"
      ]
     },
     "metadata": {},
     "output_type": "display_data"
    },
    {
     "data": {
      "application/vnd.jupyter.widget-view+json": {
       "model_id": "2b478d7385644f008a3e1b74b0c9946a",
       "version_major": 2,
       "version_minor": 0
      },
      "text/plain": [
       "Uploading Point Feature Layer : Obstetrics & Gynecology:   0%|          | 0/30 [00:00<?, ?it/s]"
      ]
     },
     "metadata": {},
     "output_type": "display_data"
    },
    {
     "data": {
      "application/vnd.jupyter.widget-view+json": {
       "model_id": "08aca866195b4d6688dc1f6882b3fc1e",
       "version_major": 2,
       "version_minor": 0
      },
      "text/plain": [
       "Waiting to Upload rf_and_screening_county layer to AGOL:   0%|          | 0/30 [00:00<?, ?it/s]"
      ]
     },
     "metadata": {},
     "output_type": "display_data"
    },
    {
     "data": {
      "application/vnd.jupyter.widget-view+json": {
       "model_id": "c255500a4f3645ab9cc483fdde882a5e",
       "version_major": 2,
       "version_minor": 0
      },
      "text/plain": [
       "Updating layer name to 'rf_and_screening_county':   0%|          | 0/30 [00:00<?, ?it/s]"
      ]
     },
     "metadata": {},
     "output_type": "display_data"
    },
    {
     "data": {
      "application/vnd.jupyter.widget-view+json": {
       "model_id": "d5446b9ca98148fa9f80a2c64f1b9e27",
       "version_major": 2,
       "version_minor": 0
      },
      "text/plain": [
       "Waiting to Upload economy_county layer to AGOL:   0%|          | 0/30 [00:00<?, ?it/s]"
      ]
     },
     "metadata": {},
     "output_type": "display_data"
    },
    {
     "data": {
      "application/vnd.jupyter.widget-view+json": {
       "model_id": "739b4f1f1a674db885ce9f2eb2d75922",
       "version_major": 2,
       "version_minor": 0
      },
      "text/plain": [
       "Updating layer name to 'economy_county':   0%|          | 0/30 [00:00<?, ?it/s]"
      ]
     },
     "metadata": {},
     "output_type": "display_data"
    },
    {
     "data": {
      "application/vnd.jupyter.widget-view+json": {
       "model_id": "838cdb7ce12e41e6965a346293fc48ea",
       "version_major": 2,
       "version_minor": 0
      },
      "text/plain": [
       "Waiting to Upload ht_county layer to AGOL:   0%|          | 0/30 [00:00<?, ?it/s]"
      ]
     },
     "metadata": {},
     "output_type": "display_data"
    },
    {
     "data": {
      "application/vnd.jupyter.widget-view+json": {
       "model_id": "2bf2d579e35b4769b3f4c325cd7d25aa",
       "version_major": 2,
       "version_minor": 0
      },
      "text/plain": [
       "Updating layer name to 'ht_county':   0%|          | 0/30 [00:00<?, ?it/s]"
      ]
     },
     "metadata": {},
     "output_type": "display_data"
    },
    {
     "data": {
      "application/vnd.jupyter.widget-view+json": {
       "model_id": "2e4371827dc34e20962057c2f64d6857",
       "version_major": 2,
       "version_minor": 0
      },
      "text/plain": [
       "Waiting to Upload sociodemographics_county layer to AGOL:   0%|          | 0/30 [00:00<?, ?it/s]"
      ]
     },
     "metadata": {},
     "output_type": "display_data"
    },
    {
     "data": {
      "application/vnd.jupyter.widget-view+json": {
       "model_id": "f9c52bf5ff72457b93e0846e49a4ca33",
       "version_major": 2,
       "version_minor": 0
      },
      "text/plain": [
       "Updating layer name to 'sociodemographics_county':   0%|          | 0/30 [00:00<?, ?it/s]"
      ]
     },
     "metadata": {},
     "output_type": "display_data"
    },
    {
     "data": {
      "application/vnd.jupyter.widget-view+json": {
       "model_id": "34729914afc040a6bbc4e87e39c148d4",
       "version_major": 2,
       "version_minor": 0
      },
      "text/plain": [
       "Waiting to Upload environment_county layer to AGOL:   0%|          | 0/30 [00:00<?, ?it/s]"
      ]
     },
     "metadata": {},
     "output_type": "display_data"
    },
    {
     "data": {
      "application/vnd.jupyter.widget-view+json": {
       "model_id": "383e01143de04ea5a83e7f0007f3ecf2",
       "version_major": 2,
       "version_minor": 0
      },
      "text/plain": [
       "Updating layer name to 'environment_county':   0%|          | 0/30 [00:00<?, ?it/s]"
      ]
     },
     "metadata": {},
     "output_type": "display_data"
    },
    {
     "data": {
      "application/vnd.jupyter.widget-view+json": {
       "model_id": "88b9e03aec8f41b8affaca2bee078eb2",
       "version_major": 2,
       "version_minor": 0
      },
      "text/plain": [
       "Adding the layer \"rf_and_screening_county:BMI_Obese\" to the map:   0%|          | 0/30 [00:00<?, ?it/s]"
      ]
     },
     "metadata": {},
     "output_type": "display_data"
    },
    {
     "data": {
      "application/vnd.jupyter.widget-view+json": {
       "model_id": "3ad840db54a143afb3455f187b658c2a",
       "version_major": 2,
       "version_minor": 0
      },
      "text/plain": [
       "Managing Popup:   0%|          | 0/30 [00:00<?, ?it/s]"
      ]
     },
     "metadata": {},
     "output_type": "display_data"
    },
    {
     "data": {
      "application/vnd.jupyter.widget-view+json": {
       "model_id": "54cbb74b4117414195dc92e5e105b888",
       "version_major": 2,
       "version_minor": 0
      },
      "text/plain": [
       "Creating a WebMap \"rf_and_screening_county:BMI_Obese\":   0%|          | 0/30 [00:00<?, ?it/s]"
      ]
     },
     "metadata": {},
     "output_type": "display_data"
    },
    {
     "data": {
      "application/vnd.jupyter.widget-view+json": {
       "model_id": "7438e40b096247d7bc2c29eda2acef8d",
       "version_major": 2,
       "version_minor": 0
      },
      "text/plain": [
       "Chaning sharing option:   0%|          | 0/30 [00:00<?, ?it/s]"
      ]
     },
     "metadata": {},
     "output_type": "display_data"
    },
    {
     "data": {
      "application/vnd.jupyter.widget-view+json": {
       "model_id": "9b477f918e244bb58130c1693fe0084a",
       "version_major": 2,
       "version_minor": 0
      },
      "text/plain": [
       "Adding the layer \"rf_and_screening_county:Cancer_Prevalence\" to the map:   0%|          | 0/30 [00:00<?, ?it/s…"
      ]
     },
     "metadata": {},
     "output_type": "display_data"
    },
    {
     "data": {
      "application/vnd.jupyter.widget-view+json": {
       "model_id": "70603565a46e4082ad21b4f7b619fd3f",
       "version_major": 2,
       "version_minor": 0
      },
      "text/plain": [
       "Managing Popup:   0%|          | 0/30 [00:00<?, ?it/s]"
      ]
     },
     "metadata": {},
     "output_type": "display_data"
    },
    {
     "data": {
      "application/vnd.jupyter.widget-view+json": {
       "model_id": "1a4cd33a6f0640f49869accd26eb6748",
       "version_major": 2,
       "version_minor": 0
      },
      "text/plain": [
       "Creating a WebMap \"rf_and_screening_county:Cancer_Prevalence\":   0%|          | 0/30 [00:00<?, ?it/s]"
      ]
     },
     "metadata": {},
     "output_type": "display_data"
    },
    {
     "data": {
      "application/vnd.jupyter.widget-view+json": {
       "model_id": "38d549727e5e40b597c259abee898239",
       "version_major": 2,
       "version_minor": 0
      },
      "text/plain": [
       "Chaning sharing option:   0%|          | 0/30 [00:00<?, ?it/s]"
      ]
     },
     "metadata": {},
     "output_type": "display_data"
    },
    {
     "data": {
      "application/vnd.jupyter.widget-view+json": {
       "model_id": "03e9174e547a44d0a092aba9a4cec0c1",
       "version_major": 2,
       "version_minor": 0
      },
      "text/plain": [
       "Adding the layer \"rf_and_screening_county:Currently_Smoke\" to the map:   0%|          | 0/30 [00:00<?, ?it/s]"
      ]
     },
     "metadata": {},
     "output_type": "display_data"
    },
    {
     "data": {
      "application/vnd.jupyter.widget-view+json": {
       "model_id": "638782e356de42569c5c4fe7019023cc",
       "version_major": 2,
       "version_minor": 0
      },
      "text/plain": [
       "Managing Popup:   0%|          | 0/30 [00:00<?, ?it/s]"
      ]
     },
     "metadata": {},
     "output_type": "display_data"
    },
    {
     "data": {
      "application/vnd.jupyter.widget-view+json": {
       "model_id": "adfcdcbe6b0c449daa9a6d14707e4807",
       "version_major": 2,
       "version_minor": 0
      },
      "text/plain": [
       "Creating a WebMap \"rf_and_screening_county:Currently_Smoke\":   0%|          | 0/30 [00:00<?, ?it/s]"
      ]
     },
     "metadata": {},
     "output_type": "display_data"
    },
    {
     "data": {
      "application/vnd.jupyter.widget-view+json": {
       "model_id": "d914978ae3c24842b2512ff80053c794",
       "version_major": 2,
       "version_minor": 0
      },
      "text/plain": [
       "Chaning sharing option:   0%|          | 0/30 [00:00<?, ?it/s]"
      ]
     },
     "metadata": {},
     "output_type": "display_data"
    },
    {
     "data": {
      "application/vnd.jupyter.widget-view+json": {
       "model_id": "79a53395d7dc44fd943fd17660486cd8",
       "version_major": 2,
       "version_minor": 0
      },
      "text/plain": [
       "Adding the layer \"rf_and_screening_county:Met_Breast_Screen\" to the map:   0%|          | 0/30 [00:00<?, ?it/s…"
      ]
     },
     "metadata": {},
     "output_type": "display_data"
    },
    {
     "data": {
      "application/vnd.jupyter.widget-view+json": {
       "model_id": "8e3f2e893934457ebcd8ee69a339713e",
       "version_major": 2,
       "version_minor": 0
      },
      "text/plain": [
       "Managing Popup:   0%|          | 0/30 [00:00<?, ?it/s]"
      ]
     },
     "metadata": {},
     "output_type": "display_data"
    },
    {
     "data": {
      "application/vnd.jupyter.widget-view+json": {
       "model_id": "e4d7085c7259484ca047e5850d863b27",
       "version_major": 2,
       "version_minor": 0
      },
      "text/plain": [
       "Creating a WebMap \"rf_and_screening_county:Met_Breast_Screen\":   0%|          | 0/30 [00:00<?, ?it/s]"
      ]
     },
     "metadata": {},
     "output_type": "display_data"
    },
    {
     "data": {
      "application/vnd.jupyter.widget-view+json": {
       "model_id": "1c6b90603a284c668f07ac18742073d3",
       "version_major": 2,
       "version_minor": 0
      },
      "text/plain": [
       "Chaning sharing option:   0%|          | 0/30 [00:00<?, ?it/s]"
      ]
     },
     "metadata": {},
     "output_type": "display_data"
    },
    {
     "data": {
      "application/vnd.jupyter.widget-view+json": {
       "model_id": "7e7794979ec44c0995dfb6bf0ece0cdb",
       "version_major": 2,
       "version_minor": 0
      },
      "text/plain": [
       "Adding the layer \"rf_and_screening_county:Met_Cervical_Screen\" to the map:   0%|          | 0/30 [00:00<?, ?it…"
      ]
     },
     "metadata": {},
     "output_type": "display_data"
    },
    {
     "data": {
      "application/vnd.jupyter.widget-view+json": {
       "model_id": "f2f448f6ebe942219af2fe143be4eec2",
       "version_major": 2,
       "version_minor": 0
      },
      "text/plain": [
       "Managing Popup:   0%|          | 0/30 [00:00<?, ?it/s]"
      ]
     },
     "metadata": {},
     "output_type": "display_data"
    },
    {
     "data": {
      "application/vnd.jupyter.widget-view+json": {
       "model_id": "6c1dd9335a0043e496c26393bf4fefc6",
       "version_major": 2,
       "version_minor": 0
      },
      "text/plain": [
       "Creating a WebMap \"rf_and_screening_county:Met_Cervical_Screen\":   0%|          | 0/30 [00:00<?, ?it/s]"
      ]
     },
     "metadata": {},
     "output_type": "display_data"
    },
    {
     "data": {
      "application/vnd.jupyter.widget-view+json": {
       "model_id": "4dc4f0611cbd46c3b1463a24ac7f4701",
       "version_major": 2,
       "version_minor": 0
      },
      "text/plain": [
       "Chaning sharing option:   0%|          | 0/30 [00:00<?, ?it/s]"
      ]
     },
     "metadata": {},
     "output_type": "display_data"
    },
    {
     "data": {
      "application/vnd.jupyter.widget-view+json": {
       "model_id": "57e18eba17da41938342ae184bc80232",
       "version_major": 2,
       "version_minor": 0
      },
      "text/plain": [
       "Adding the layer \"rf_and_screening_county:Met_Colon_Screen\" to the map:   0%|          | 0/30 [00:00<?, ?it/s]"
      ]
     },
     "metadata": {},
     "output_type": "display_data"
    },
    {
     "data": {
      "application/vnd.jupyter.widget-view+json": {
       "model_id": "e24706208cda465f8c2577735213e59b",
       "version_major": 2,
       "version_minor": 0
      },
      "text/plain": [
       "Managing Popup:   0%|          | 0/30 [00:00<?, ?it/s]"
      ]
     },
     "metadata": {},
     "output_type": "display_data"
    },
    {
     "data": {
      "application/vnd.jupyter.widget-view+json": {
       "model_id": "1b94fb35248d47f891c09f55dcbe1cba",
       "version_major": 2,
       "version_minor": 0
      },
      "text/plain": [
       "Creating a WebMap \"rf_and_screening_county:Met_Colon_Screen\":   0%|          | 0/30 [00:00<?, ?it/s]"
      ]
     },
     "metadata": {},
     "output_type": "display_data"
    },
    {
     "data": {
      "application/vnd.jupyter.widget-view+json": {
       "model_id": "7b54386cdbf240948842b434fe7c068c",
       "version_major": 2,
       "version_minor": 0
      },
      "text/plain": [
       "Chaning sharing option:   0%|          | 0/30 [00:00<?, ?it/s]"
      ]
     },
     "metadata": {},
     "output_type": "display_data"
    },
    {
     "data": {
      "application/vnd.jupyter.widget-view+json": {
       "model_id": "3a56362a82404df8aad82316c7437c78",
       "version_major": 2,
       "version_minor": 0
      },
      "text/plain": [
       "Adding the layer \"economy_county:Insurance Coverage\" to the map:   0%|          | 0/30 [00:00<?, ?it/s]"
      ]
     },
     "metadata": {},
     "output_type": "display_data"
    },
    {
     "data": {
      "application/vnd.jupyter.widget-view+json": {
       "model_id": "952daae89fb747389b2830bdd3c191e6",
       "version_major": 2,
       "version_minor": 0
      },
      "text/plain": [
       "Managing Popup:   0%|          | 0/30 [00:00<?, ?it/s]"
      ]
     },
     "metadata": {},
     "output_type": "display_data"
    },
    {
     "data": {
      "application/vnd.jupyter.widget-view+json": {
       "model_id": "491a1127e5494148b1671c99f82b0ffe",
       "version_major": 2,
       "version_minor": 0
      },
      "text/plain": [
       "Creating a WebMap \"economy_county:Insurance Coverage\":   0%|          | 0/30 [00:00<?, ?it/s]"
      ]
     },
     "metadata": {},
     "output_type": "display_data"
    },
    {
     "data": {
      "application/vnd.jupyter.widget-view+json": {
       "model_id": "c0fffbdd04414d58b2af9ecb5511bf2a",
       "version_major": 2,
       "version_minor": 0
      },
      "text/plain": [
       "Chaning sharing option:   0%|          | 0/30 [00:00<?, ?it/s]"
      ]
     },
     "metadata": {},
     "output_type": "display_data"
    },
    {
     "data": {
      "application/vnd.jupyter.widget-view+json": {
       "model_id": "37c00cd8c140497480f61f5c3b283f1e",
       "version_major": 2,
       "version_minor": 0
      },
      "text/plain": [
       "Adding the layer \"economy_county:Medicaid Enrollment\" to the map:   0%|          | 0/30 [00:00<?, ?it/s]"
      ]
     },
     "metadata": {},
     "output_type": "display_data"
    },
    {
     "data": {
      "application/vnd.jupyter.widget-view+json": {
       "model_id": "e2bc20e2d1c140f28a6bfccf1f59f51e",
       "version_major": 2,
       "version_minor": 0
      },
      "text/plain": [
       "Managing Popup:   0%|          | 0/30 [00:00<?, ?it/s]"
      ]
     },
     "metadata": {},
     "output_type": "display_data"
    },
    {
     "data": {
      "application/vnd.jupyter.widget-view+json": {
       "model_id": "d2bfda2828ba4749846770a14f546ed9",
       "version_major": 2,
       "version_minor": 0
      },
      "text/plain": [
       "Creating a WebMap \"economy_county:Medicaid Enrollment\":   0%|          | 0/30 [00:00<?, ?it/s]"
      ]
     },
     "metadata": {},
     "output_type": "display_data"
    },
    {
     "data": {
      "application/vnd.jupyter.widget-view+json": {
       "model_id": "bd011d24221b4f7f9601a353eee745c1",
       "version_major": 2,
       "version_minor": 0
      },
      "text/plain": [
       "Chaning sharing option:   0%|          | 0/30 [00:00<?, ?it/s]"
      ]
     },
     "metadata": {},
     "output_type": "display_data"
    },
    {
     "data": {
      "application/vnd.jupyter.widget-view+json": {
       "model_id": "77c2188443c74aeda1e7a08ee04c7630",
       "version_major": 2,
       "version_minor": 0
      },
      "text/plain": [
       "Adding the layer \"economy_county:Gini Coefficient\" to the map:   0%|          | 0/30 [00:00<?, ?it/s]"
      ]
     },
     "metadata": {},
     "output_type": "display_data"
    },
    {
     "data": {
      "application/vnd.jupyter.widget-view+json": {
       "model_id": "95bf5a0b9a814776a38f904ab695dee6",
       "version_major": 2,
       "version_minor": 0
      },
      "text/plain": [
       "Managing Popup:   0%|          | 0/30 [00:00<?, ?it/s]"
      ]
     },
     "metadata": {},
     "output_type": "display_data"
    },
    {
     "data": {
      "application/vnd.jupyter.widget-view+json": {
       "model_id": "0888b7e218a8433b934de41979de0f45",
       "version_major": 2,
       "version_minor": 0
      },
      "text/plain": [
       "Creating a WebMap \"economy_county:Gini Coefficient\":   0%|          | 0/30 [00:00<?, ?it/s]"
      ]
     },
     "metadata": {},
     "output_type": "display_data"
    },
    {
     "data": {
      "application/vnd.jupyter.widget-view+json": {
       "model_id": "9a0cc235cdd14fac97d2065fa970813f",
       "version_major": 2,
       "version_minor": 0
      },
      "text/plain": [
       "Chaning sharing option:   0%|          | 0/30 [00:00<?, ?it/s]"
      ]
     },
     "metadata": {},
     "output_type": "display_data"
    },
    {
     "data": {
      "application/vnd.jupyter.widget-view+json": {
       "model_id": "1b9bc6ac8edf4e7691f9058a19911e1f",
       "version_major": 2,
       "version_minor": 0
      },
      "text/plain": [
       "Adding the layer \"economy_county:Household Income\" to the map:   0%|          | 0/30 [00:00<?, ?it/s]"
      ]
     },
     "metadata": {},
     "output_type": "display_data"
    },
    {
     "data": {
      "application/vnd.jupyter.widget-view+json": {
       "model_id": "ae364944b4e64a77a0f09b91d13b88ae",
       "version_major": 2,
       "version_minor": 0
      },
      "text/plain": [
       "Managing Popup:   0%|          | 0/30 [00:00<?, ?it/s]"
      ]
     },
     "metadata": {},
     "output_type": "display_data"
    },
    {
     "data": {
      "application/vnd.jupyter.widget-view+json": {
       "model_id": "537c6b8b352b4d8f8b3bcf473f4ab845",
       "version_major": 2,
       "version_minor": 0
      },
      "text/plain": [
       "Creating a WebMap \"economy_county:Household Income\":   0%|          | 0/30 [00:00<?, ?it/s]"
      ]
     },
     "metadata": {},
     "output_type": "display_data"
    },
    {
     "data": {
      "application/vnd.jupyter.widget-view+json": {
       "model_id": "6dbf84f26fc84e4bac9c9da5a855d7b1",
       "version_major": 2,
       "version_minor": 0
      },
      "text/plain": [
       "Chaning sharing option:   0%|          | 0/30 [00:00<?, ?it/s]"
      ]
     },
     "metadata": {},
     "output_type": "display_data"
    },
    {
     "data": {
      "application/vnd.jupyter.widget-view+json": {
       "model_id": "7a476e4c0f3241eab0f181edf420bbb8",
       "version_major": 2,
       "version_minor": 0
      },
      "text/plain": [
       "Adding the layer \"economy_county:Annual Labor Force Participation Rate (2015-2019)\" to the map:   0%|         …"
      ]
     },
     "metadata": {},
     "output_type": "display_data"
    },
    {
     "data": {
      "application/vnd.jupyter.widget-view+json": {
       "model_id": "aabf1239de8042b588c87b2d5fb85274",
       "version_major": 2,
       "version_minor": 0
      },
      "text/plain": [
       "Managing Popup:   0%|          | 0/30 [00:00<?, ?it/s]"
      ]
     },
     "metadata": {},
     "output_type": "display_data"
    },
    {
     "data": {
      "application/vnd.jupyter.widget-view+json": {
       "model_id": "0577f831ebee41ffb009262361cb6cdf",
       "version_major": 2,
       "version_minor": 0
      },
      "text/plain": [
       "Creating a WebMap \"economy_county:Annual Labor Force Participation Rate (2015-2019)\":   0%|          | 0/30 [0…"
      ]
     },
     "metadata": {},
     "output_type": "display_data"
    },
    {
     "data": {
      "application/vnd.jupyter.widget-view+json": {
       "model_id": "0a4a15ef9c934b6ea90d5da6dcaa71d3",
       "version_major": 2,
       "version_minor": 0
      },
      "text/plain": [
       "Chaning sharing option:   0%|          | 0/30 [00:00<?, ?it/s]"
      ]
     },
     "metadata": {},
     "output_type": "display_data"
    },
    {
     "data": {
      "application/vnd.jupyter.widget-view+json": {
       "model_id": "993bc179b3dc47dd84580994997f8321",
       "version_major": 2,
       "version_minor": 0
      },
      "text/plain": [
       "Adding the layer \"economy_county:Annual Unemployment Rate (2015-2019)\" to the map:   0%|          | 0/30 [00:0…"
      ]
     },
     "metadata": {},
     "output_type": "display_data"
    },
    {
     "data": {
      "application/vnd.jupyter.widget-view+json": {
       "model_id": "db95070b239945e0886f813a2eca2ac6",
       "version_major": 2,
       "version_minor": 0
      },
      "text/plain": [
       "Managing Popup:   0%|          | 0/30 [00:00<?, ?it/s]"
      ]
     },
     "metadata": {},
     "output_type": "display_data"
    },
    {
     "data": {
      "application/vnd.jupyter.widget-view+json": {
       "model_id": "a59d45ad19464f2081afcc072734cb09",
       "version_major": 2,
       "version_minor": 0
      },
      "text/plain": [
       "Creating a WebMap \"economy_county:Annual Unemployment Rate (2015-2019)\":   0%|          | 0/30 [00:00<?, ?it/s…"
      ]
     },
     "metadata": {},
     "output_type": "display_data"
    },
    {
     "data": {
      "application/vnd.jupyter.widget-view+json": {
       "model_id": "7ff6947198b84b9fa2a1cadac78fc6e1",
       "version_major": 2,
       "version_minor": 0
      },
      "text/plain": [
       "Chaning sharing option:   0%|          | 0/30 [00:00<?, ?it/s]"
      ]
     },
     "metadata": {},
     "output_type": "display_data"
    },
    {
     "data": {
      "application/vnd.jupyter.widget-view+json": {
       "model_id": "3e807b9397e04f47bdd7f645980ca57d",
       "version_major": 2,
       "version_minor": 0
      },
      "text/plain": [
       "Adding the layer \"economy_county:Below Poverty\" to the map:   0%|          | 0/30 [00:00<?, ?it/s]"
      ]
     },
     "metadata": {},
     "output_type": "display_data"
    },
    {
     "data": {
      "application/vnd.jupyter.widget-view+json": {
       "model_id": "c641335984f642c6ae1240af67ea6ab8",
       "version_major": 2,
       "version_minor": 0
      },
      "text/plain": [
       "Managing Popup:   0%|          | 0/30 [00:00<?, ?it/s]"
      ]
     },
     "metadata": {},
     "output_type": "display_data"
    },
    {
     "data": {
      "application/vnd.jupyter.widget-view+json": {
       "model_id": "9395d7b27a3f4173bf33615c7e69ab99",
       "version_major": 2,
       "version_minor": 0
      },
      "text/plain": [
       "Creating a WebMap \"economy_county:Below Poverty\":   0%|          | 0/30 [00:00<?, ?it/s]"
      ]
     },
     "metadata": {},
     "output_type": "display_data"
    },
    {
     "data": {
      "application/vnd.jupyter.widget-view+json": {
       "model_id": "251a80e081a14e3d97cbe1778ff12344",
       "version_major": 2,
       "version_minor": 0
      },
      "text/plain": [
       "Chaning sharing option:   0%|          | 0/30 [00:00<?, ?it/s]"
      ]
     },
     "metadata": {},
     "output_type": "display_data"
    },
    {
     "data": {
      "application/vnd.jupyter.widget-view+json": {
       "model_id": "d5acf238723e4feba52ab2cb33000221",
       "version_major": 2,
       "version_minor": 0
      },
      "text/plain": [
       "Adding the layer \"economy_county:Uninsured\" to the map:   0%|          | 0/30 [00:00<?, ?it/s]"
      ]
     },
     "metadata": {},
     "output_type": "display_data"
    },
    {
     "data": {
      "application/vnd.jupyter.widget-view+json": {
       "model_id": "9c36426de23448aab28ca9308f393590",
       "version_major": 2,
       "version_minor": 0
      },
      "text/plain": [
       "Managing Popup:   0%|          | 0/30 [00:00<?, ?it/s]"
      ]
     },
     "metadata": {},
     "output_type": "display_data"
    },
    {
     "data": {
      "application/vnd.jupyter.widget-view+json": {
       "model_id": "035be7fb67f841dc83d0d77e00c5dcf9",
       "version_major": 2,
       "version_minor": 0
      },
      "text/plain": [
       "Creating a WebMap \"economy_county:Uninsured\":   0%|          | 0/30 [00:00<?, ?it/s]"
      ]
     },
     "metadata": {},
     "output_type": "display_data"
    },
    {
     "data": {
      "application/vnd.jupyter.widget-view+json": {
       "model_id": "4b64d403a4ff42c28b077687e199dd60",
       "version_major": 2,
       "version_minor": 0
      },
      "text/plain": [
       "Chaning sharing option:   0%|          | 0/30 [00:00<?, ?it/s]"
      ]
     },
     "metadata": {},
     "output_type": "display_data"
    },
    {
     "data": {
      "application/vnd.jupyter.widget-view+json": {
       "model_id": "b608083bc0e54264b518f0dcbd7992da",
       "version_major": 2,
       "version_minor": 0
      },
      "text/plain": [
       "Adding the layer \"economy_county:Monthly Unemployment Rate (Jun-22)\" to the map:   0%|          | 0/30 [00:00<…"
      ]
     },
     "metadata": {},
     "output_type": "display_data"
    },
    {
     "data": {
      "application/vnd.jupyter.widget-view+json": {
       "model_id": "25c204751696497682438480bd4b27f8",
       "version_major": 2,
       "version_minor": 0
      },
      "text/plain": [
       "Managing Popup:   0%|          | 0/30 [00:00<?, ?it/s]"
      ]
     },
     "metadata": {},
     "output_type": "display_data"
    },
    {
     "data": {
      "application/vnd.jupyter.widget-view+json": {
       "model_id": "34d9876a4d7e4617adb84c0c16617d18",
       "version_major": 2,
       "version_minor": 0
      },
      "text/plain": [
       "Creating a WebMap \"economy_county:Monthly Unemployment Rate (Jun-22)\":   0%|          | 0/30 [00:00<?, ?it/s]"
      ]
     },
     "metadata": {},
     "output_type": "display_data"
    },
    {
     "data": {
      "application/vnd.jupyter.widget-view+json": {
       "model_id": "50d5b43fe5934203934d14d47370a5fb",
       "version_major": 2,
       "version_minor": 0
      },
      "text/plain": [
       "Chaning sharing option:   0%|          | 0/30 [00:00<?, ?it/s]"
      ]
     },
     "metadata": {},
     "output_type": "display_data"
    },
    {
     "data": {
      "application/vnd.jupyter.widget-view+json": {
       "model_id": "8a40ac319f6a4cc18408c28074d2cb71",
       "version_major": 2,
       "version_minor": 0
      },
      "text/plain": [
       "Adding the layer \"ht_county:Vacancy Rate\" to the map:   0%|          | 0/30 [00:00<?, ?it/s]"
      ]
     },
     "metadata": {},
     "output_type": "display_data"
    },
    {
     "data": {
      "application/vnd.jupyter.widget-view+json": {
       "model_id": "e4e02f933b484656b87528b8f58abe88",
       "version_major": 2,
       "version_minor": 0
      },
      "text/plain": [
       "Managing Popup:   0%|          | 0/30 [00:00<?, ?it/s]"
      ]
     },
     "metadata": {},
     "output_type": "display_data"
    },
    {
     "data": {
      "application/vnd.jupyter.widget-view+json": {
       "model_id": "09b85c4dec3d4f2fb0247f596a170fdc",
       "version_major": 2,
       "version_minor": 0
      },
      "text/plain": [
       "Creating a WebMap \"ht_county:Vacancy Rate\":   0%|          | 0/30 [00:00<?, ?it/s]"
      ]
     },
     "metadata": {},
     "output_type": "display_data"
    },
    {
     "data": {
      "application/vnd.jupyter.widget-view+json": {
       "model_id": "baa95cb3786c48c4b24014b275df92b4",
       "version_major": 2,
       "version_minor": 0
      },
      "text/plain": [
       "Chaning sharing option:   0%|          | 0/30 [00:00<?, ?it/s]"
      ]
     },
     "metadata": {},
     "output_type": "display_data"
    },
    {
     "data": {
      "application/vnd.jupyter.widget-view+json": {
       "model_id": "6fb4e39388b24b7083077e44ad5e1ecd",
       "version_major": 2,
       "version_minor": 0
      },
      "text/plain": [
       "Adding the layer \"ht_county:No Vehicle\" to the map:   0%|          | 0/30 [00:00<?, ?it/s]"
      ]
     },
     "metadata": {},
     "output_type": "display_data"
    },
    {
     "data": {
      "application/vnd.jupyter.widget-view+json": {
       "model_id": "da7ac5784bdd4565ad53e905c2a1a356",
       "version_major": 2,
       "version_minor": 0
      },
      "text/plain": [
       "Managing Popup:   0%|          | 0/30 [00:00<?, ?it/s]"
      ]
     },
     "metadata": {},
     "output_type": "display_data"
    },
    {
     "data": {
      "application/vnd.jupyter.widget-view+json": {
       "model_id": "84fac5332cc5416593336d16b75afb88",
       "version_major": 2,
       "version_minor": 0
      },
      "text/plain": [
       "Creating a WebMap \"ht_county:No Vehicle\":   0%|          | 0/30 [00:00<?, ?it/s]"
      ]
     },
     "metadata": {},
     "output_type": "display_data"
    },
    {
     "data": {
      "application/vnd.jupyter.widget-view+json": {
       "model_id": "5e31667afef64f7cac9e0f93440bfb0b",
       "version_major": 2,
       "version_minor": 0
      },
      "text/plain": [
       "Chaning sharing option:   0%|          | 0/30 [00:00<?, ?it/s]"
      ]
     },
     "metadata": {},
     "output_type": "display_data"
    },
    {
     "data": {
      "application/vnd.jupyter.widget-view+json": {
       "model_id": "142b2b9ee6d7462bae10c14464ecd91b",
       "version_major": 2,
       "version_minor": 0
      },
      "text/plain": [
       "Adding the layer \"ht_county:Rent Burden (40% Income)\" to the map:   0%|          | 0/30 [00:00<?, ?it/s]"
      ]
     },
     "metadata": {},
     "output_type": "display_data"
    },
    {
     "data": {
      "application/vnd.jupyter.widget-view+json": {
       "model_id": "2a190410e0354cfb85604c966422ea6c",
       "version_major": 2,
       "version_minor": 0
      },
      "text/plain": [
       "Managing Popup:   0%|          | 0/30 [00:00<?, ?it/s]"
      ]
     },
     "metadata": {},
     "output_type": "display_data"
    },
    {
     "data": {
      "application/vnd.jupyter.widget-view+json": {
       "model_id": "a9232ae1a0f940e5bbda65f09e5ec6ad",
       "version_major": 2,
       "version_minor": 0
      },
      "text/plain": [
       "Creating a WebMap \"ht_county:Rent Burden (40% Income)\":   0%|          | 0/30 [00:00<?, ?it/s]"
      ]
     },
     "metadata": {},
     "output_type": "display_data"
    },
    {
     "data": {
      "application/vnd.jupyter.widget-view+json": {
       "model_id": "d1826921d6b7446fb3a658f637e3c73c",
       "version_major": 2,
       "version_minor": 0
      },
      "text/plain": [
       "Chaning sharing option:   0%|          | 0/30 [00:00<?, ?it/s]"
      ]
     },
     "metadata": {},
     "output_type": "display_data"
    },
    {
     "data": {
      "application/vnd.jupyter.widget-view+json": {
       "model_id": "e197dcf4776a46029f7ee51aafe34cf0",
       "version_major": 2,
       "version_minor": 0
      },
      "text/plain": [
       "Adding the layer \"sociodemographics_county:Total Population\" to the map:   0%|          | 0/30 [00:00<?, ?it/s…"
      ]
     },
     "metadata": {},
     "output_type": "display_data"
    },
    {
     "data": {
      "application/vnd.jupyter.widget-view+json": {
       "model_id": "f5d9d105a8c4474a8547c86846d73150",
       "version_major": 2,
       "version_minor": 0
      },
      "text/plain": [
       "Managing Popup:   0%|          | 0/30 [00:00<?, ?it/s]"
      ]
     },
     "metadata": {},
     "output_type": "display_data"
    },
    {
     "data": {
      "application/vnd.jupyter.widget-view+json": {
       "model_id": "11d285072a9b4215a4abca0cde2ff866",
       "version_major": 2,
       "version_minor": 0
      },
      "text/plain": [
       "Creating a WebMap \"sociodemographics_county:Total Population\":   0%|          | 0/30 [00:00<?, ?it/s]"
      ]
     },
     "metadata": {},
     "output_type": "display_data"
    },
    {
     "data": {
      "application/vnd.jupyter.widget-view+json": {
       "model_id": "6768f30dcc1449cd8d4c18a8c794c575",
       "version_major": 2,
       "version_minor": 0
      },
      "text/plain": [
       "Chaning sharing option:   0%|          | 0/30 [00:00<?, ?it/s]"
      ]
     },
     "metadata": {},
     "output_type": "display_data"
    },
    {
     "data": {
      "application/vnd.jupyter.widget-view+json": {
       "model_id": "da0566d2647940ba9de947906502f8c8",
       "version_major": 2,
       "version_minor": 0
      },
      "text/plain": [
       "Adding the layer \"sociodemographics_county:Under 18\" to the map:   0%|          | 0/30 [00:00<?, ?it/s]"
      ]
     },
     "metadata": {},
     "output_type": "display_data"
    },
    {
     "data": {
      "application/vnd.jupyter.widget-view+json": {
       "model_id": "9e6c95e1f5924cdbbea9e631d044598f",
       "version_major": 2,
       "version_minor": 0
      },
      "text/plain": [
       "Managing Popup:   0%|          | 0/30 [00:00<?, ?it/s]"
      ]
     },
     "metadata": {},
     "output_type": "display_data"
    },
    {
     "data": {
      "application/vnd.jupyter.widget-view+json": {
       "model_id": "e262a8431172402ab985420a128fa10d",
       "version_major": 2,
       "version_minor": 0
      },
      "text/plain": [
       "Creating a WebMap \"sociodemographics_county:Under 18\":   0%|          | 0/30 [00:00<?, ?it/s]"
      ]
     },
     "metadata": {},
     "output_type": "display_data"
    },
    {
     "data": {
      "application/vnd.jupyter.widget-view+json": {
       "model_id": "f67be2fb94354e07980eb7a177bdfcec",
       "version_major": 2,
       "version_minor": 0
      },
      "text/plain": [
       "Chaning sharing option:   0%|          | 0/30 [00:00<?, ?it/s]"
      ]
     },
     "metadata": {},
     "output_type": "display_data"
    },
    {
     "data": {
      "application/vnd.jupyter.widget-view+json": {
       "model_id": "7babdff381eb47ec8c40236074eaba33",
       "version_major": 2,
       "version_minor": 0
      },
      "text/plain": [
       "Adding the layer \"sociodemographics_county:Age 18 to 64\" to the map:   0%|          | 0/30 [00:00<?, ?it/s]"
      ]
     },
     "metadata": {},
     "output_type": "display_data"
    },
    {
     "data": {
      "application/vnd.jupyter.widget-view+json": {
       "model_id": "0a2ea1312a0048efb0f15f388e5f0345",
       "version_major": 2,
       "version_minor": 0
      },
      "text/plain": [
       "Managing Popup:   0%|          | 0/30 [00:00<?, ?it/s]"
      ]
     },
     "metadata": {},
     "output_type": "display_data"
    },
    {
     "data": {
      "application/vnd.jupyter.widget-view+json": {
       "model_id": "91f041235e3d4547aaafe3e58e1ed7d8",
       "version_major": 2,
       "version_minor": 0
      },
      "text/plain": [
       "Creating a WebMap \"sociodemographics_county:Age 18 to 64\":   0%|          | 0/30 [00:00<?, ?it/s]"
      ]
     },
     "metadata": {},
     "output_type": "display_data"
    },
    {
     "data": {
      "application/vnd.jupyter.widget-view+json": {
       "model_id": "d61230cf1ea04930b09cb7112807b5b2",
       "version_major": 2,
       "version_minor": 0
      },
      "text/plain": [
       "Chaning sharing option:   0%|          | 0/30 [00:00<?, ?it/s]"
      ]
     },
     "metadata": {},
     "output_type": "display_data"
    },
    {
     "data": {
      "application/vnd.jupyter.widget-view+json": {
       "model_id": "8a5f53a6d1274dc6b82249f27ef1da05",
       "version_major": 2,
       "version_minor": 0
      },
      "text/plain": [
       "Adding the layer \"sociodemographics_county:Over 64\" to the map:   0%|          | 0/30 [00:00<?, ?it/s]"
      ]
     },
     "metadata": {},
     "output_type": "display_data"
    },
    {
     "data": {
      "application/vnd.jupyter.widget-view+json": {
       "model_id": "094a5ee7839144a3ae4f8eefad3d2ba2",
       "version_major": 2,
       "version_minor": 0
      },
      "text/plain": [
       "Managing Popup:   0%|          | 0/30 [00:00<?, ?it/s]"
      ]
     },
     "metadata": {},
     "output_type": "display_data"
    },
    {
     "data": {
      "application/vnd.jupyter.widget-view+json": {
       "model_id": "9fd30699cbf948b1802c71aa97bce240",
       "version_major": 2,
       "version_minor": 0
      },
      "text/plain": [
       "Creating a WebMap \"sociodemographics_county:Over 64\":   0%|          | 0/30 [00:00<?, ?it/s]"
      ]
     },
     "metadata": {},
     "output_type": "display_data"
    },
    {
     "data": {
      "application/vnd.jupyter.widget-view+json": {
       "model_id": "864d98326eab41ce942e4e226344ed5a",
       "version_major": 2,
       "version_minor": 0
      },
      "text/plain": [
       "Chaning sharing option:   0%|          | 0/30 [00:00<?, ?it/s]"
      ]
     },
     "metadata": {},
     "output_type": "display_data"
    },
    {
     "data": {
      "application/vnd.jupyter.widget-view+json": {
       "model_id": "23e3527437b341afa439cb36379d4a4e",
       "version_major": 2,
       "version_minor": 0
      },
      "text/plain": [
       "Adding the layer \"sociodemographics_county:Below 9th grade\" to the map:   0%|          | 0/30 [00:00<?, ?it/s]"
      ]
     },
     "metadata": {},
     "output_type": "display_data"
    },
    {
     "data": {
      "application/vnd.jupyter.widget-view+json": {
       "model_id": "73c77d62d5dc44418c6dc8739c66c139",
       "version_major": 2,
       "version_minor": 0
      },
      "text/plain": [
       "Managing Popup:   0%|          | 0/30 [00:00<?, ?it/s]"
      ]
     },
     "metadata": {},
     "output_type": "display_data"
    },
    {
     "data": {
      "application/vnd.jupyter.widget-view+json": {
       "model_id": "bb62bb88377e43b2a09f57e649ebe648",
       "version_major": 2,
       "version_minor": 0
      },
      "text/plain": [
       "Creating a WebMap \"sociodemographics_county:Below 9th grade\":   0%|          | 0/30 [00:00<?, ?it/s]"
      ]
     },
     "metadata": {},
     "output_type": "display_data"
    },
    {
     "data": {
      "application/vnd.jupyter.widget-view+json": {
       "model_id": "b9499ffc56d2475091857fdab30c9f05",
       "version_major": 2,
       "version_minor": 0
      },
      "text/plain": [
       "Chaning sharing option:   0%|          | 0/30 [00:00<?, ?it/s]"
      ]
     },
     "metadata": {},
     "output_type": "display_data"
    },
    {
     "data": {
      "application/vnd.jupyter.widget-view+json": {
       "model_id": "a5eb0f123c554466b777f5b27121a20c",
       "version_major": 2,
       "version_minor": 0
      },
      "text/plain": [
       "Adding the layer \"sociodemographics_county:High School\" to the map:   0%|          | 0/30 [00:00<?, ?it/s]"
      ]
     },
     "metadata": {},
     "output_type": "display_data"
    },
    {
     "data": {
      "application/vnd.jupyter.widget-view+json": {
       "model_id": "6f36fdde815e4e2f9287d633f5c316bf",
       "version_major": 2,
       "version_minor": 0
      },
      "text/plain": [
       "Managing Popup:   0%|          | 0/30 [00:00<?, ?it/s]"
      ]
     },
     "metadata": {},
     "output_type": "display_data"
    },
    {
     "data": {
      "application/vnd.jupyter.widget-view+json": {
       "model_id": "b1b28c8ece5644c8b5d98bd730595fbd",
       "version_major": 2,
       "version_minor": 0
      },
      "text/plain": [
       "Creating a WebMap \"sociodemographics_county:High School\":   0%|          | 0/30 [00:00<?, ?it/s]"
      ]
     },
     "metadata": {},
     "output_type": "display_data"
    },
    {
     "data": {
      "application/vnd.jupyter.widget-view+json": {
       "model_id": "bdf553edf66d4c5da178b5b1a86a6c8f",
       "version_major": 2,
       "version_minor": 0
      },
      "text/plain": [
       "Chaning sharing option:   0%|          | 0/30 [00:00<?, ?it/s]"
      ]
     },
     "metadata": {},
     "output_type": "display_data"
    },
    {
     "data": {
      "application/vnd.jupyter.widget-view+json": {
       "model_id": "fcd0cdf85f714b70964d2c21ac59deb7",
       "version_major": 2,
       "version_minor": 0
      },
      "text/plain": [
       "Adding the layer \"sociodemographics_county:College\" to the map:   0%|          | 0/30 [00:00<?, ?it/s]"
      ]
     },
     "metadata": {},
     "output_type": "display_data"
    },
    {
     "data": {
      "application/vnd.jupyter.widget-view+json": {
       "model_id": "ab9a2e2d82b041a2b4e34226c585d8f8",
       "version_major": 2,
       "version_minor": 0
      },
      "text/plain": [
       "Managing Popup:   0%|          | 0/30 [00:00<?, ?it/s]"
      ]
     },
     "metadata": {},
     "output_type": "display_data"
    },
    {
     "data": {
      "application/vnd.jupyter.widget-view+json": {
       "model_id": "477aaa12bf464112a1c3c0d88ddaab17",
       "version_major": 2,
       "version_minor": 0
      },
      "text/plain": [
       "Creating a WebMap \"sociodemographics_county:College\":   0%|          | 0/30 [00:00<?, ?it/s]"
      ]
     },
     "metadata": {},
     "output_type": "display_data"
    },
    {
     "data": {
      "application/vnd.jupyter.widget-view+json": {
       "model_id": "46e49df062d9404383bd2e6afcc9f38e",
       "version_major": 2,
       "version_minor": 0
      },
      "text/plain": [
       "Chaning sharing option:   0%|          | 0/30 [00:00<?, ?it/s]"
      ]
     },
     "metadata": {},
     "output_type": "display_data"
    },
    {
     "data": {
      "application/vnd.jupyter.widget-view+json": {
       "model_id": "cba103e2e17043478ceed58da695c86b",
       "version_major": 2,
       "version_minor": 0
      },
      "text/plain": [
       "Adding the layer \"sociodemographics_county:Advanced Degree\" to the map:   0%|          | 0/30 [00:00<?, ?it/s]"
      ]
     },
     "metadata": {},
     "output_type": "display_data"
    },
    {
     "data": {
      "application/vnd.jupyter.widget-view+json": {
       "model_id": "93ded08249e849389a0e3b1f1c27ee05",
       "version_major": 2,
       "version_minor": 0
      },
      "text/plain": [
       "Managing Popup:   0%|          | 0/30 [00:00<?, ?it/s]"
      ]
     },
     "metadata": {},
     "output_type": "display_data"
    },
    {
     "data": {
      "application/vnd.jupyter.widget-view+json": {
       "model_id": "5efe28dd1c68450896f29c221ad7d962",
       "version_major": 2,
       "version_minor": 0
      },
      "text/plain": [
       "Creating a WebMap \"sociodemographics_county:Advanced Degree\":   0%|          | 0/30 [00:00<?, ?it/s]"
      ]
     },
     "metadata": {},
     "output_type": "display_data"
    },
    {
     "data": {
      "application/vnd.jupyter.widget-view+json": {
       "model_id": "c4e32f46efad49fc8483a8b0a58ebfd0",
       "version_major": 2,
       "version_minor": 0
      },
      "text/plain": [
       "Chaning sharing option:   0%|          | 0/30 [00:00<?, ?it/s]"
      ]
     },
     "metadata": {},
     "output_type": "display_data"
    },
    {
     "data": {
      "application/vnd.jupyter.widget-view+json": {
       "model_id": "833e067eb2084e21847f611a60cfe744",
       "version_major": 2,
       "version_minor": 0
      },
      "text/plain": [
       "Adding the layer \"sociodemographics_county:White\" to the map:   0%|          | 0/30 [00:00<?, ?it/s]"
      ]
     },
     "metadata": {},
     "output_type": "display_data"
    },
    {
     "data": {
      "application/vnd.jupyter.widget-view+json": {
       "model_id": "0026354ab85b49809a03c8d606af2ee9",
       "version_major": 2,
       "version_minor": 0
      },
      "text/plain": [
       "Managing Popup:   0%|          | 0/30 [00:00<?, ?it/s]"
      ]
     },
     "metadata": {},
     "output_type": "display_data"
    },
    {
     "data": {
      "application/vnd.jupyter.widget-view+json": {
       "model_id": "f9b0e188318041eb907be4d0b05f0e00",
       "version_major": 2,
       "version_minor": 0
      },
      "text/plain": [
       "Creating a WebMap \"sociodemographics_county:White\":   0%|          | 0/30 [00:00<?, ?it/s]"
      ]
     },
     "metadata": {},
     "output_type": "display_data"
    },
    {
     "data": {
      "application/vnd.jupyter.widget-view+json": {
       "model_id": "2007c69668ef4411afe081787db099b2",
       "version_major": 2,
       "version_minor": 0
      },
      "text/plain": [
       "Chaning sharing option:   0%|          | 0/30 [00:00<?, ?it/s]"
      ]
     },
     "metadata": {},
     "output_type": "display_data"
    },
    {
     "data": {
      "application/vnd.jupyter.widget-view+json": {
       "model_id": "97d15d1c2a4e416490c6d1fa1d6c8c7c",
       "version_major": 2,
       "version_minor": 0
      },
      "text/plain": [
       "Adding the layer \"sociodemographics_county:Black\" to the map:   0%|          | 0/30 [00:00<?, ?it/s]"
      ]
     },
     "metadata": {},
     "output_type": "display_data"
    },
    {
     "data": {
      "application/vnd.jupyter.widget-view+json": {
       "model_id": "eca4a6bfa0b94a71915b0e49b906cd11",
       "version_major": 2,
       "version_minor": 0
      },
      "text/plain": [
       "Managing Popup:   0%|          | 0/30 [00:00<?, ?it/s]"
      ]
     },
     "metadata": {},
     "output_type": "display_data"
    },
    {
     "data": {
      "application/vnd.jupyter.widget-view+json": {
       "model_id": "93d232fe28d6459888b04d961a0020f8",
       "version_major": 2,
       "version_minor": 0
      },
      "text/plain": [
       "Creating a WebMap \"sociodemographics_county:Black\":   0%|          | 0/30 [00:00<?, ?it/s]"
      ]
     },
     "metadata": {},
     "output_type": "display_data"
    },
    {
     "data": {
      "application/vnd.jupyter.widget-view+json": {
       "model_id": "a7939c13215f453382b3cbdbc572dd45",
       "version_major": 2,
       "version_minor": 0
      },
      "text/plain": [
       "Chaning sharing option:   0%|          | 0/30 [00:00<?, ?it/s]"
      ]
     },
     "metadata": {},
     "output_type": "display_data"
    },
    {
     "data": {
      "application/vnd.jupyter.widget-view+json": {
       "model_id": "cbec9387131a43aabc0fea1bee0fd488",
       "version_major": 2,
       "version_minor": 0
      },
      "text/plain": [
       "Adding the layer \"sociodemographics_county:Hispanic\" to the map:   0%|          | 0/30 [00:00<?, ?it/s]"
      ]
     },
     "metadata": {},
     "output_type": "display_data"
    },
    {
     "data": {
      "application/vnd.jupyter.widget-view+json": {
       "model_id": "ecfb17780bc64bb19ba09af8347cdcfb",
       "version_major": 2,
       "version_minor": 0
      },
      "text/plain": [
       "Managing Popup:   0%|          | 0/30 [00:00<?, ?it/s]"
      ]
     },
     "metadata": {},
     "output_type": "display_data"
    },
    {
     "data": {
      "application/vnd.jupyter.widget-view+json": {
       "model_id": "46faafd3f6a844d0b3031d071250a107",
       "version_major": 2,
       "version_minor": 0
      },
      "text/plain": [
       "Creating a WebMap \"sociodemographics_county:Hispanic\":   0%|          | 0/30 [00:00<?, ?it/s]"
      ]
     },
     "metadata": {},
     "output_type": "display_data"
    },
    {
     "data": {
      "application/vnd.jupyter.widget-view+json": {
       "model_id": "f6d6af45696e45708d6c873dea451020",
       "version_major": 2,
       "version_minor": 0
      },
      "text/plain": [
       "Chaning sharing option:   0%|          | 0/30 [00:00<?, ?it/s]"
      ]
     },
     "metadata": {},
     "output_type": "display_data"
    },
    {
     "data": {
      "application/vnd.jupyter.widget-view+json": {
       "model_id": "2e30c39745794eae88a620221e88e6ce",
       "version_major": 2,
       "version_minor": 0
      },
      "text/plain": [
       "Adding the layer \"sociodemographics_county:Asian\" to the map:   0%|          | 0/30 [00:00<?, ?it/s]"
      ]
     },
     "metadata": {},
     "output_type": "display_data"
    },
    {
     "data": {
      "application/vnd.jupyter.widget-view+json": {
       "model_id": "4b0656174f694f2baea8ee3675973a84",
       "version_major": 2,
       "version_minor": 0
      },
      "text/plain": [
       "Managing Popup:   0%|          | 0/30 [00:00<?, ?it/s]"
      ]
     },
     "metadata": {},
     "output_type": "display_data"
    },
    {
     "data": {
      "application/vnd.jupyter.widget-view+json": {
       "model_id": "8ebd45dfca314e0a8c843ec1c3ecfd86",
       "version_major": 2,
       "version_minor": 0
      },
      "text/plain": [
       "Creating a WebMap \"sociodemographics_county:Asian\":   0%|          | 0/30 [00:00<?, ?it/s]"
      ]
     },
     "metadata": {},
     "output_type": "display_data"
    },
    {
     "data": {
      "application/vnd.jupyter.widget-view+json": {
       "model_id": "64b19c713bbf4b4c88525dee7aa2c554",
       "version_major": 2,
       "version_minor": 0
      },
      "text/plain": [
       "Chaning sharing option:   0%|          | 0/30 [00:00<?, ?it/s]"
      ]
     },
     "metadata": {},
     "output_type": "display_data"
    },
    {
     "data": {
      "application/vnd.jupyter.widget-view+json": {
       "model_id": "cc75508c6bdd470589577416317da630",
       "version_major": 2,
       "version_minor": 0
      },
      "text/plain": [
       "Adding the layer \"sociodemographics_county:Other_Races\" to the map:   0%|          | 0/30 [00:00<?, ?it/s]"
      ]
     },
     "metadata": {},
     "output_type": "display_data"
    },
    {
     "data": {
      "application/vnd.jupyter.widget-view+json": {
       "model_id": "5ed8eb0a2dda4c94b91c31ffa531f583",
       "version_major": 2,
       "version_minor": 0
      },
      "text/plain": [
       "Managing Popup:   0%|          | 0/30 [00:00<?, ?it/s]"
      ]
     },
     "metadata": {},
     "output_type": "display_data"
    },
    {
     "data": {
      "application/vnd.jupyter.widget-view+json": {
       "model_id": "1a0d064b3f904523a362a7fe8f296f83",
       "version_major": 2,
       "version_minor": 0
      },
      "text/plain": [
       "Creating a WebMap \"sociodemographics_county:Other_Races\":   0%|          | 0/30 [00:00<?, ?it/s]"
      ]
     },
     "metadata": {},
     "output_type": "display_data"
    },
    {
     "data": {
      "application/vnd.jupyter.widget-view+json": {
       "model_id": "2b472337dc1746fca1b36e3effad4c85",
       "version_major": 2,
       "version_minor": 0
      },
      "text/plain": [
       "Chaning sharing option:   0%|          | 0/30 [00:00<?, ?it/s]"
      ]
     },
     "metadata": {},
     "output_type": "display_data"
    },
    {
     "data": {
      "application/vnd.jupyter.widget-view+json": {
       "model_id": "f08da9e243394dadad7345ac2ea38a43",
       "version_major": 2,
       "version_minor": 0
      },
      "text/plain": [
       "Adding the layer \"sociodemographics_county:Urban_Percentage\" to the map:   0%|          | 0/30 [00:00<?, ?it/s…"
      ]
     },
     "metadata": {},
     "output_type": "display_data"
    },
    {
     "data": {
      "application/vnd.jupyter.widget-view+json": {
       "model_id": "f29410d8491e4426ae95b14bf034662e",
       "version_major": 2,
       "version_minor": 0
      },
      "text/plain": [
       "Managing Popup:   0%|          | 0/30 [00:00<?, ?it/s]"
      ]
     },
     "metadata": {},
     "output_type": "display_data"
    },
    {
     "data": {
      "application/vnd.jupyter.widget-view+json": {
       "model_id": "f9532b0f2b984183b730c7643f40c888",
       "version_major": 2,
       "version_minor": 0
      },
      "text/plain": [
       "Creating a WebMap \"sociodemographics_county:Urban_Percentage\":   0%|          | 0/30 [00:00<?, ?it/s]"
      ]
     },
     "metadata": {},
     "output_type": "display_data"
    },
    {
     "data": {
      "application/vnd.jupyter.widget-view+json": {
       "model_id": "36f7f9cda38e4e5faf098e69362069cf",
       "version_major": 2,
       "version_minor": 0
      },
      "text/plain": [
       "Chaning sharing option:   0%|          | 0/30 [00:00<?, ?it/s]"
      ]
     },
     "metadata": {},
     "output_type": "display_data"
    },
    {
     "data": {
      "application/vnd.jupyter.widget-view+json": {
       "model_id": "c04198fbc4694812a0113004d96e85e6",
       "version_major": 2,
       "version_minor": 0
      },
      "text/plain": [
       "Adding the layer \"environment_county:PWS_Violations_Since_2016\" to the map:   0%|          | 0/30 [00:00<?, ?i…"
      ]
     },
     "metadata": {},
     "output_type": "display_data"
    },
    {
     "data": {
      "application/vnd.jupyter.widget-view+json": {
       "model_id": "8ab36005f5d54143a6e1a22db8bc0084",
       "version_major": 2,
       "version_minor": 0
      },
      "text/plain": [
       "Managing Popup:   0%|          | 0/30 [00:00<?, ?it/s]"
      ]
     },
     "metadata": {},
     "output_type": "display_data"
    },
    {
     "data": {
      "application/vnd.jupyter.widget-view+json": {
       "model_id": "96874ff1d75c40a4ab9710ff7d362191",
       "version_major": 2,
       "version_minor": 0
      },
      "text/plain": [
       "Creating a WebMap \"environment_county:PWS_Violations_Since_2016\":   0%|          | 0/30 [00:00<?, ?it/s]"
      ]
     },
     "metadata": {},
     "output_type": "display_data"
    },
    {
     "data": {
      "application/vnd.jupyter.widget-view+json": {
       "model_id": "6bdf9acac048490ea5b2ef7b920542c4",
       "version_major": 2,
       "version_minor": 0
      },
      "text/plain": [
       "Chaning sharing option:   0%|          | 0/30 [00:00<?, ?it/s]"
      ]
     },
     "metadata": {},
     "output_type": "display_data"
    },
    {
     "data": {
      "application/vnd.jupyter.widget-view+json": {
       "model_id": "1fc0a857370942a78d1b1de596106ed2",
       "version_major": 2,
       "version_minor": 0
      },
      "text/plain": [
       "Adding the layer \"environment_county:LILA Tracts Vehicle\" to the map:   0%|          | 0/30 [00:00<?, ?it/s]"
      ]
     },
     "metadata": {},
     "output_type": "display_data"
    },
    {
     "data": {
      "application/vnd.jupyter.widget-view+json": {
       "model_id": "dfee5d5ab05e423bb7614e635cfc92a9",
       "version_major": 2,
       "version_minor": 0
      },
      "text/plain": [
       "Managing Popup:   0%|          | 0/30 [00:00<?, ?it/s]"
      ]
     },
     "metadata": {},
     "output_type": "display_data"
    },
    {
     "data": {
      "application/vnd.jupyter.widget-view+json": {
       "model_id": "3df27c8b5004431ebe800322109bd890",
       "version_major": 2,
       "version_minor": 0
      },
      "text/plain": [
       "Creating a WebMap \"environment_county:LILA Tracts Vehicle\":   0%|          | 0/30 [00:00<?, ?it/s]"
      ]
     },
     "metadata": {},
     "output_type": "display_data"
    },
    {
     "data": {
      "application/vnd.jupyter.widget-view+json": {
       "model_id": "274e700ea58949ff8d6e23bba16bf8e2",
       "version_major": 2,
       "version_minor": 0
      },
      "text/plain": [
       "Chaning sharing option:   0%|          | 0/30 [00:00<?, ?it/s]"
      ]
     },
     "metadata": {},
     "output_type": "display_data"
    },
    {
     "data": {
      "application/vnd.jupyter.widget-view+json": {
       "model_id": "96b564cbd94e4a358e3b3de17607562a",
       "version_major": 2,
       "version_minor": 0
      },
      "text/plain": [
       "Waiting to Upload rf_and_screening_tract layer to AGOL:   0%|          | 0/30 [00:00<?, ?it/s]"
      ]
     },
     "metadata": {},
     "output_type": "display_data"
    },
    {
     "data": {
      "application/vnd.jupyter.widget-view+json": {
       "model_id": "c7716af844c34b639dd8de591e5458f2",
       "version_major": 2,
       "version_minor": 0
      },
      "text/plain": [
       "Updating layer name to 'rf_and_screening_tract':   0%|          | 0/30 [00:00<?, ?it/s]"
      ]
     },
     "metadata": {},
     "output_type": "display_data"
    },
    {
     "data": {
      "application/vnd.jupyter.widget-view+json": {
       "model_id": "40e7b1e7900345c79f41dbf3df1434e0",
       "version_major": 2,
       "version_minor": 0
      },
      "text/plain": [
       "Waiting to Upload economy_tract layer to AGOL:   0%|          | 0/30 [00:00<?, ?it/s]"
      ]
     },
     "metadata": {},
     "output_type": "display_data"
    },
    {
     "data": {
      "application/vnd.jupyter.widget-view+json": {
       "model_id": "f1c71126ca6843e49ac08032f7c5a240",
       "version_major": 2,
       "version_minor": 0
      },
      "text/plain": [
       "Updating layer name to 'economy_tract':   0%|          | 0/30 [00:00<?, ?it/s]"
      ]
     },
     "metadata": {},
     "output_type": "display_data"
    },
    {
     "data": {
      "application/vnd.jupyter.widget-view+json": {
       "model_id": "9d5dfcd1d6b943ac81277474ba12e930",
       "version_major": 2,
       "version_minor": 0
      },
      "text/plain": [
       "Waiting to Upload ht_tract layer to AGOL:   0%|          | 0/30 [00:00<?, ?it/s]"
      ]
     },
     "metadata": {},
     "output_type": "display_data"
    },
    {
     "data": {
      "application/vnd.jupyter.widget-view+json": {
       "model_id": "c5e61a35843b467fa6f7f9f685b3c3cc",
       "version_major": 2,
       "version_minor": 0
      },
      "text/plain": [
       "Updating layer name to 'ht_tract':   0%|          | 0/30 [00:00<?, ?it/s]"
      ]
     },
     "metadata": {},
     "output_type": "display_data"
    },
    {
     "data": {
      "application/vnd.jupyter.widget-view+json": {
       "model_id": "5b35ed6654a54b66a8eb1dc75c8361d9",
       "version_major": 2,
       "version_minor": 0
      },
      "text/plain": [
       "Waiting to Upload sociodemographics_tract layer to AGOL:   0%|          | 0/30 [00:00<?, ?it/s]"
      ]
     },
     "metadata": {},
     "output_type": "display_data"
    },
    {
     "data": {
      "application/vnd.jupyter.widget-view+json": {
       "model_id": "ff998d2c86594ba599601cf3ddd95b07",
       "version_major": 2,
       "version_minor": 0
      },
      "text/plain": [
       "Updating layer name to 'sociodemographics_tract':   0%|          | 0/30 [00:00<?, ?it/s]"
      ]
     },
     "metadata": {},
     "output_type": "display_data"
    },
    {
     "data": {
      "application/vnd.jupyter.widget-view+json": {
       "model_id": "8740aae425754ebfb44a5909d820a6f8",
       "version_major": 2,
       "version_minor": 0
      },
      "text/plain": [
       "Waiting to Upload environment_tract layer to AGOL:   0%|          | 0/30 [00:00<?, ?it/s]"
      ]
     },
     "metadata": {},
     "output_type": "display_data"
    },
    {
     "data": {
      "application/vnd.jupyter.widget-view+json": {
       "model_id": "657b4d6c723a47b4a6c1e7a9f66bc5e7",
       "version_major": 2,
       "version_minor": 0
      },
      "text/plain": [
       "Updating layer name to 'environment_tract':   0%|          | 0/30 [00:00<?, ?it/s]"
      ]
     },
     "metadata": {},
     "output_type": "display_data"
    },
    {
     "data": {
      "application/vnd.jupyter.widget-view+json": {
       "model_id": "70151e366c5146df9f0a842461f2374b",
       "version_major": 2,
       "version_minor": 0
      },
      "text/plain": [
       "Adding the layer \"rf_and_screening_county:BMI_Obese\" to the map:   0%|          | 0/30 [00:00<?, ?it/s]"
      ]
     },
     "metadata": {},
     "output_type": "display_data"
    },
    {
     "data": {
      "application/vnd.jupyter.widget-view+json": {
       "model_id": "0af5e3de4303418dab7c1d42b1e4499a",
       "version_major": 2,
       "version_minor": 0
      },
      "text/plain": [
       "Managing Popup:   0%|          | 0/30 [00:00<?, ?it/s]"
      ]
     },
     "metadata": {},
     "output_type": "display_data"
    },
    {
     "data": {
      "application/vnd.jupyter.widget-view+json": {
       "model_id": "4fd8fd84b8394556af74a1a73b5e1a8f",
       "version_major": 2,
       "version_minor": 0
      },
      "text/plain": [
       "Creating a WebMap \"rf_and_screening_county:BMI_Obese\":   0%|          | 0/30 [00:00<?, ?it/s]"
      ]
     },
     "metadata": {},
     "output_type": "display_data"
    },
    {
     "data": {
      "application/vnd.jupyter.widget-view+json": {
       "model_id": "f8593a124b114d7c974bb3f880b5226e",
       "version_major": 2,
       "version_minor": 0
      },
      "text/plain": [
       "Chaning sharing option:   0%|          | 0/30 [00:00<?, ?it/s]"
      ]
     },
     "metadata": {},
     "output_type": "display_data"
    },
    {
     "data": {
      "application/vnd.jupyter.widget-view+json": {
       "model_id": "fe634876e6024f168ea91dc920a42766",
       "version_major": 2,
       "version_minor": 0
      },
      "text/plain": [
       "Adding the layer \"rf_and_screening_county:Cancer_Prevalence\" to the map:   0%|          | 0/30 [00:00<?, ?it/s…"
      ]
     },
     "metadata": {},
     "output_type": "display_data"
    },
    {
     "data": {
      "application/vnd.jupyter.widget-view+json": {
       "model_id": "9af2d39483c748c68a6c3de58b88e215",
       "version_major": 2,
       "version_minor": 0
      },
      "text/plain": [
       "Managing Popup:   0%|          | 0/30 [00:00<?, ?it/s]"
      ]
     },
     "metadata": {},
     "output_type": "display_data"
    },
    {
     "data": {
      "application/vnd.jupyter.widget-view+json": {
       "model_id": "c17b059ec9a94141a13df0b60e195448",
       "version_major": 2,
       "version_minor": 0
      },
      "text/plain": [
       "Creating a WebMap \"rf_and_screening_county:Cancer_Prevalence\":   0%|          | 0/30 [00:00<?, ?it/s]"
      ]
     },
     "metadata": {},
     "output_type": "display_data"
    },
    {
     "data": {
      "application/vnd.jupyter.widget-view+json": {
       "model_id": "ff03faf269124df19262c34382891b82",
       "version_major": 2,
       "version_minor": 0
      },
      "text/plain": [
       "Chaning sharing option:   0%|          | 0/30 [00:00<?, ?it/s]"
      ]
     },
     "metadata": {},
     "output_type": "display_data"
    },
    {
     "data": {
      "application/vnd.jupyter.widget-view+json": {
       "model_id": "5379cc0da457420ebc0f0e47a10e881a",
       "version_major": 2,
       "version_minor": 0
      },
      "text/plain": [
       "Adding the layer \"rf_and_screening_county:Currently_Smoke\" to the map:   0%|          | 0/30 [00:00<?, ?it/s]"
      ]
     },
     "metadata": {},
     "output_type": "display_data"
    },
    {
     "data": {
      "application/vnd.jupyter.widget-view+json": {
       "model_id": "26ae853ce6a047e3bccfbfc965c5d09c",
       "version_major": 2,
       "version_minor": 0
      },
      "text/plain": [
       "Managing Popup:   0%|          | 0/30 [00:00<?, ?it/s]"
      ]
     },
     "metadata": {},
     "output_type": "display_data"
    },
    {
     "data": {
      "application/vnd.jupyter.widget-view+json": {
       "model_id": "75de2791541743d19c2cbdfb6be50020",
       "version_major": 2,
       "version_minor": 0
      },
      "text/plain": [
       "Creating a WebMap \"rf_and_screening_county:Currently_Smoke\":   0%|          | 0/30 [00:00<?, ?it/s]"
      ]
     },
     "metadata": {},
     "output_type": "display_data"
    },
    {
     "data": {
      "application/vnd.jupyter.widget-view+json": {
       "model_id": "0149706f05af4410a9600553a5ed716d",
       "version_major": 2,
       "version_minor": 0
      },
      "text/plain": [
       "Chaning sharing option:   0%|          | 0/30 [00:00<?, ?it/s]"
      ]
     },
     "metadata": {},
     "output_type": "display_data"
    },
    {
     "data": {
      "application/vnd.jupyter.widget-view+json": {
       "model_id": "1cf11152bb79434a86667c9e1a063b06",
       "version_major": 2,
       "version_minor": 0
      },
      "text/plain": [
       "Adding the layer \"rf_and_screening_county:Met_Breast_Screen\" to the map:   0%|          | 0/30 [00:00<?, ?it/s…"
      ]
     },
     "metadata": {},
     "output_type": "display_data"
    },
    {
     "data": {
      "application/vnd.jupyter.widget-view+json": {
       "model_id": "ac35ffa137d94d2d99072d1afb6d4902",
       "version_major": 2,
       "version_minor": 0
      },
      "text/plain": [
       "Managing Popup:   0%|          | 0/30 [00:00<?, ?it/s]"
      ]
     },
     "metadata": {},
     "output_type": "display_data"
    },
    {
     "data": {
      "application/vnd.jupyter.widget-view+json": {
       "model_id": "48043bd0273e408e8a4b7b60593088c0",
       "version_major": 2,
       "version_minor": 0
      },
      "text/plain": [
       "Creating a WebMap \"rf_and_screening_county:Met_Breast_Screen\":   0%|          | 0/30 [00:00<?, ?it/s]"
      ]
     },
     "metadata": {},
     "output_type": "display_data"
    },
    {
     "data": {
      "application/vnd.jupyter.widget-view+json": {
       "model_id": "c637253322b64e05bd11d8bd3b726845",
       "version_major": 2,
       "version_minor": 0
      },
      "text/plain": [
       "Chaning sharing option:   0%|          | 0/30 [00:00<?, ?it/s]"
      ]
     },
     "metadata": {},
     "output_type": "display_data"
    },
    {
     "data": {
      "application/vnd.jupyter.widget-view+json": {
       "model_id": "25a55d771c8848289ef4c3e84e026c59",
       "version_major": 2,
       "version_minor": 0
      },
      "text/plain": [
       "Adding the layer \"rf_and_screening_county:Met_Cervical_Screen\" to the map:   0%|          | 0/30 [00:00<?, ?it…"
      ]
     },
     "metadata": {},
     "output_type": "display_data"
    },
    {
     "data": {
      "application/vnd.jupyter.widget-view+json": {
       "model_id": "8f01b190034b47f4a143cabb871662cf",
       "version_major": 2,
       "version_minor": 0
      },
      "text/plain": [
       "Managing Popup:   0%|          | 0/30 [00:00<?, ?it/s]"
      ]
     },
     "metadata": {},
     "output_type": "display_data"
    },
    {
     "data": {
      "application/vnd.jupyter.widget-view+json": {
       "model_id": "3d80efa7fbc3488cb5d9a102b9296d1b",
       "version_major": 2,
       "version_minor": 0
      },
      "text/plain": [
       "Creating a WebMap \"rf_and_screening_county:Met_Cervical_Screen\":   0%|          | 0/30 [00:00<?, ?it/s]"
      ]
     },
     "metadata": {},
     "output_type": "display_data"
    },
    {
     "data": {
      "application/vnd.jupyter.widget-view+json": {
       "model_id": "294afd8407b34911a094bbf93c945fc0",
       "version_major": 2,
       "version_minor": 0
      },
      "text/plain": [
       "Chaning sharing option:   0%|          | 0/30 [00:00<?, ?it/s]"
      ]
     },
     "metadata": {},
     "output_type": "display_data"
    },
    {
     "data": {
      "application/vnd.jupyter.widget-view+json": {
       "model_id": "e8849e956c784523bb25b1fead84c864",
       "version_major": 2,
       "version_minor": 0
      },
      "text/plain": [
       "Adding the layer \"rf_and_screening_county:Met_Colon_Screen\" to the map:   0%|          | 0/30 [00:00<?, ?it/s]"
      ]
     },
     "metadata": {},
     "output_type": "display_data"
    },
    {
     "data": {
      "application/vnd.jupyter.widget-view+json": {
       "model_id": "ae688351d65740e690e9a76c275346a1",
       "version_major": 2,
       "version_minor": 0
      },
      "text/plain": [
       "Managing Popup:   0%|          | 0/30 [00:00<?, ?it/s]"
      ]
     },
     "metadata": {},
     "output_type": "display_data"
    },
    {
     "data": {
      "application/vnd.jupyter.widget-view+json": {
       "model_id": "141e793ac0d34181a53f6ccaea2ff43f",
       "version_major": 2,
       "version_minor": 0
      },
      "text/plain": [
       "Creating a WebMap \"rf_and_screening_county:Met_Colon_Screen\":   0%|          | 0/30 [00:00<?, ?it/s]"
      ]
     },
     "metadata": {},
     "output_type": "display_data"
    },
    {
     "data": {
      "application/vnd.jupyter.widget-view+json": {
       "model_id": "64e208e1cd5f420fa1a490c0e412d15a",
       "version_major": 2,
       "version_minor": 0
      },
      "text/plain": [
       "Chaning sharing option:   0%|          | 0/30 [00:00<?, ?it/s]"
      ]
     },
     "metadata": {},
     "output_type": "display_data"
    },
    {
     "data": {
      "application/vnd.jupyter.widget-view+json": {
       "model_id": "8355189fcbe74d079e44586c2d592701",
       "version_major": 2,
       "version_minor": 0
      },
      "text/plain": [
       "Adding the layer \"economy_county:Insurance Coverage\" to the map:   0%|          | 0/30 [00:00<?, ?it/s]"
      ]
     },
     "metadata": {},
     "output_type": "display_data"
    },
    {
     "data": {
      "application/vnd.jupyter.widget-view+json": {
       "model_id": "3b49219619bc40ec8b5a3935343335e4",
       "version_major": 2,
       "version_minor": 0
      },
      "text/plain": [
       "Managing Popup:   0%|          | 0/30 [00:00<?, ?it/s]"
      ]
     },
     "metadata": {},
     "output_type": "display_data"
    },
    {
     "data": {
      "application/vnd.jupyter.widget-view+json": {
       "model_id": "afe30eaab21042109aa71200ce0e15b2",
       "version_major": 2,
       "version_minor": 0
      },
      "text/plain": [
       "Creating a WebMap \"economy_county:Insurance Coverage\":   0%|          | 0/30 [00:00<?, ?it/s]"
      ]
     },
     "metadata": {},
     "output_type": "display_data"
    },
    {
     "data": {
      "application/vnd.jupyter.widget-view+json": {
       "model_id": "cc4e1f626a204cf68475e9287f9612f7",
       "version_major": 2,
       "version_minor": 0
      },
      "text/plain": [
       "Chaning sharing option:   0%|          | 0/30 [00:00<?, ?it/s]"
      ]
     },
     "metadata": {},
     "output_type": "display_data"
    },
    {
     "data": {
      "application/vnd.jupyter.widget-view+json": {
       "model_id": "a6b765fdac8444508dd66d089b6ba2c0",
       "version_major": 2,
       "version_minor": 0
      },
      "text/plain": [
       "Adding the layer \"economy_county:Medicaid Enrollment\" to the map:   0%|          | 0/30 [00:00<?, ?it/s]"
      ]
     },
     "metadata": {},
     "output_type": "display_data"
    },
    {
     "data": {
      "application/vnd.jupyter.widget-view+json": {
       "model_id": "89fcec010cc649658bc95dec7711d1ce",
       "version_major": 2,
       "version_minor": 0
      },
      "text/plain": [
       "Managing Popup:   0%|          | 0/30 [00:00<?, ?it/s]"
      ]
     },
     "metadata": {},
     "output_type": "display_data"
    },
    {
     "data": {
      "application/vnd.jupyter.widget-view+json": {
       "model_id": "5e6af6e955f549c1906ed22d311d1e91",
       "version_major": 2,
       "version_minor": 0
      },
      "text/plain": [
       "Creating a WebMap \"economy_county:Medicaid Enrollment\":   0%|          | 0/30 [00:00<?, ?it/s]"
      ]
     },
     "metadata": {},
     "output_type": "display_data"
    },
    {
     "data": {
      "application/vnd.jupyter.widget-view+json": {
       "model_id": "c3cc6c893bbb4142b72a24d1a8e0c138",
       "version_major": 2,
       "version_minor": 0
      },
      "text/plain": [
       "Chaning sharing option:   0%|          | 0/30 [00:00<?, ?it/s]"
      ]
     },
     "metadata": {},
     "output_type": "display_data"
    },
    {
     "data": {
      "application/vnd.jupyter.widget-view+json": {
       "model_id": "2991c3f2260f489393b2526b37fc4245",
       "version_major": 2,
       "version_minor": 0
      },
      "text/plain": [
       "Adding the layer \"economy_county:Gini Coefficient\" to the map:   0%|          | 0/30 [00:00<?, ?it/s]"
      ]
     },
     "metadata": {},
     "output_type": "display_data"
    },
    {
     "data": {
      "application/vnd.jupyter.widget-view+json": {
       "model_id": "a769b44a42cb4607b757c87ffbb312b6",
       "version_major": 2,
       "version_minor": 0
      },
      "text/plain": [
       "Managing Popup:   0%|          | 0/30 [00:00<?, ?it/s]"
      ]
     },
     "metadata": {},
     "output_type": "display_data"
    },
    {
     "data": {
      "application/vnd.jupyter.widget-view+json": {
       "model_id": "92eefc0aa33f4102ab4cd042a6aad4fc",
       "version_major": 2,
       "version_minor": 0
      },
      "text/plain": [
       "Creating a WebMap \"economy_county:Gini Coefficient\":   0%|          | 0/30 [00:00<?, ?it/s]"
      ]
     },
     "metadata": {},
     "output_type": "display_data"
    },
    {
     "data": {
      "application/vnd.jupyter.widget-view+json": {
       "model_id": "94ce49672b2f47fa90c750f9103caa21",
       "version_major": 2,
       "version_minor": 0
      },
      "text/plain": [
       "Chaning sharing option:   0%|          | 0/30 [00:00<?, ?it/s]"
      ]
     },
     "metadata": {},
     "output_type": "display_data"
    },
    {
     "data": {
      "application/vnd.jupyter.widget-view+json": {
       "model_id": "07207ff117e84d05ab8720bf680a0570",
       "version_major": 2,
       "version_minor": 0
      },
      "text/plain": [
       "Adding the layer \"economy_county:Household Income\" to the map:   0%|          | 0/30 [00:00<?, ?it/s]"
      ]
     },
     "metadata": {},
     "output_type": "display_data"
    },
    {
     "data": {
      "application/vnd.jupyter.widget-view+json": {
       "model_id": "f47576eefba644bfb9eea213f59cdad7",
       "version_major": 2,
       "version_minor": 0
      },
      "text/plain": [
       "Managing Popup:   0%|          | 0/30 [00:00<?, ?it/s]"
      ]
     },
     "metadata": {},
     "output_type": "display_data"
    },
    {
     "data": {
      "application/vnd.jupyter.widget-view+json": {
       "model_id": "d80673771fee40ccae4e1f8359ccc335",
       "version_major": 2,
       "version_minor": 0
      },
      "text/plain": [
       "Creating a WebMap \"economy_county:Household Income\":   0%|          | 0/30 [00:00<?, ?it/s]"
      ]
     },
     "metadata": {},
     "output_type": "display_data"
    },
    {
     "data": {
      "application/vnd.jupyter.widget-view+json": {
       "model_id": "ecf45df2344443f7bc1539f0c7074eb4",
       "version_major": 2,
       "version_minor": 0
      },
      "text/plain": [
       "Chaning sharing option:   0%|          | 0/30 [00:00<?, ?it/s]"
      ]
     },
     "metadata": {},
     "output_type": "display_data"
    },
    {
     "data": {
      "application/vnd.jupyter.widget-view+json": {
       "model_id": "5158e5cc57fa4b57ada9ecb3f39580f5",
       "version_major": 2,
       "version_minor": 0
      },
      "text/plain": [
       "Adding the layer \"economy_county:Annual Labor Force Participation Rate (2015-2019)\" to the map:   0%|         …"
      ]
     },
     "metadata": {},
     "output_type": "display_data"
    },
    {
     "data": {
      "application/vnd.jupyter.widget-view+json": {
       "model_id": "54db4b8c6d0c4739b1cb14864d02d2d3",
       "version_major": 2,
       "version_minor": 0
      },
      "text/plain": [
       "Managing Popup:   0%|          | 0/30 [00:00<?, ?it/s]"
      ]
     },
     "metadata": {},
     "output_type": "display_data"
    },
    {
     "data": {
      "application/vnd.jupyter.widget-view+json": {
       "model_id": "c7e7b0f839ed4664b3ca19328724f69a",
       "version_major": 2,
       "version_minor": 0
      },
      "text/plain": [
       "Creating a WebMap \"economy_county:Annual Labor Force Participation Rate (2015-2019)\":   0%|          | 0/30 [0…"
      ]
     },
     "metadata": {},
     "output_type": "display_data"
    },
    {
     "data": {
      "application/vnd.jupyter.widget-view+json": {
       "model_id": "80340da6ae9140798eeba785313f30ec",
       "version_major": 2,
       "version_minor": 0
      },
      "text/plain": [
       "Chaning sharing option:   0%|          | 0/30 [00:00<?, ?it/s]"
      ]
     },
     "metadata": {},
     "output_type": "display_data"
    },
    {
     "data": {
      "application/vnd.jupyter.widget-view+json": {
       "model_id": "3e4ba2fe552e46beb583e2d04f852952",
       "version_major": 2,
       "version_minor": 0
      },
      "text/plain": [
       "Adding the layer \"economy_county:Annual Unemployment Rate (2015-2019)\" to the map:   0%|          | 0/30 [00:0…"
      ]
     },
     "metadata": {},
     "output_type": "display_data"
    },
    {
     "data": {
      "application/vnd.jupyter.widget-view+json": {
       "model_id": "e2c4e1486dc94f34ad8765ff460f34d2",
       "version_major": 2,
       "version_minor": 0
      },
      "text/plain": [
       "Managing Popup:   0%|          | 0/30 [00:00<?, ?it/s]"
      ]
     },
     "metadata": {},
     "output_type": "display_data"
    },
    {
     "data": {
      "application/vnd.jupyter.widget-view+json": {
       "model_id": "8e7f140ac21c4530bff614e4c818345d",
       "version_major": 2,
       "version_minor": 0
      },
      "text/plain": [
       "Creating a WebMap \"economy_county:Annual Unemployment Rate (2015-2019)\":   0%|          | 0/30 [00:00<?, ?it/s…"
      ]
     },
     "metadata": {},
     "output_type": "display_data"
    },
    {
     "data": {
      "application/vnd.jupyter.widget-view+json": {
       "model_id": "3afaff9bb8c24a9686cedbe4bb1e961f",
       "version_major": 2,
       "version_minor": 0
      },
      "text/plain": [
       "Chaning sharing option:   0%|          | 0/30 [00:00<?, ?it/s]"
      ]
     },
     "metadata": {},
     "output_type": "display_data"
    },
    {
     "data": {
      "application/vnd.jupyter.widget-view+json": {
       "model_id": "72568ee9371043e7a53ba109ef07111c",
       "version_major": 2,
       "version_minor": 0
      },
      "text/plain": [
       "Adding the layer \"economy_county:Below Poverty\" to the map:   0%|          | 0/30 [00:00<?, ?it/s]"
      ]
     },
     "metadata": {},
     "output_type": "display_data"
    },
    {
     "data": {
      "application/vnd.jupyter.widget-view+json": {
       "model_id": "a6cdbfb4fd4e403292f5cafeb965dad8",
       "version_major": 2,
       "version_minor": 0
      },
      "text/plain": [
       "Managing Popup:   0%|          | 0/30 [00:00<?, ?it/s]"
      ]
     },
     "metadata": {},
     "output_type": "display_data"
    },
    {
     "data": {
      "application/vnd.jupyter.widget-view+json": {
       "model_id": "d97eb2c898a14b16904d688565bef221",
       "version_major": 2,
       "version_minor": 0
      },
      "text/plain": [
       "Creating a WebMap \"economy_county:Below Poverty\":   0%|          | 0/30 [00:00<?, ?it/s]"
      ]
     },
     "metadata": {},
     "output_type": "display_data"
    },
    {
     "data": {
      "application/vnd.jupyter.widget-view+json": {
       "model_id": "8d92fd758a824537b185c6b7a811ab27",
       "version_major": 2,
       "version_minor": 0
      },
      "text/plain": [
       "Chaning sharing option:   0%|          | 0/30 [00:00<?, ?it/s]"
      ]
     },
     "metadata": {},
     "output_type": "display_data"
    },
    {
     "data": {
      "application/vnd.jupyter.widget-view+json": {
       "model_id": "2a883e20c92945a79fd118955766c8bf",
       "version_major": 2,
       "version_minor": 0
      },
      "text/plain": [
       "Adding the layer \"economy_county:Uninsured\" to the map:   0%|          | 0/30 [00:00<?, ?it/s]"
      ]
     },
     "metadata": {},
     "output_type": "display_data"
    },
    {
     "data": {
      "application/vnd.jupyter.widget-view+json": {
       "model_id": "cb133a3160f24aac9671f9a588d75f32",
       "version_major": 2,
       "version_minor": 0
      },
      "text/plain": [
       "Managing Popup:   0%|          | 0/30 [00:00<?, ?it/s]"
      ]
     },
     "metadata": {},
     "output_type": "display_data"
    },
    {
     "data": {
      "application/vnd.jupyter.widget-view+json": {
       "model_id": "04461adba08c4576b0b9b9f86645b0c7",
       "version_major": 2,
       "version_minor": 0
      },
      "text/plain": [
       "Creating a WebMap \"economy_county:Uninsured\":   0%|          | 0/30 [00:00<?, ?it/s]"
      ]
     },
     "metadata": {},
     "output_type": "display_data"
    },
    {
     "data": {
      "application/vnd.jupyter.widget-view+json": {
       "model_id": "6bb14dbd7fe948638001ed10ff1b7cd7",
       "version_major": 2,
       "version_minor": 0
      },
      "text/plain": [
       "Chaning sharing option:   0%|          | 0/30 [00:00<?, ?it/s]"
      ]
     },
     "metadata": {},
     "output_type": "display_data"
    },
    {
     "data": {
      "application/vnd.jupyter.widget-view+json": {
       "model_id": "2153d9839e9f446fa5054767d00b733f",
       "version_major": 2,
       "version_minor": 0
      },
      "text/plain": [
       "Adding the layer \"economy_county:Monthly Unemployment Rate (Jun-22)\" to the map:   0%|          | 0/30 [00:00<…"
      ]
     },
     "metadata": {},
     "output_type": "display_data"
    },
    {
     "data": {
      "application/vnd.jupyter.widget-view+json": {
       "model_id": "fea019d2dd2e411caa8229debda38d2c",
       "version_major": 2,
       "version_minor": 0
      },
      "text/plain": [
       "Managing Popup:   0%|          | 0/30 [00:00<?, ?it/s]"
      ]
     },
     "metadata": {},
     "output_type": "display_data"
    },
    {
     "data": {
      "application/vnd.jupyter.widget-view+json": {
       "model_id": "d894205be2724e5f9132bbd094bfb2e1",
       "version_major": 2,
       "version_minor": 0
      },
      "text/plain": [
       "Creating a WebMap \"economy_county:Monthly Unemployment Rate (Jun-22)\":   0%|          | 0/30 [00:00<?, ?it/s]"
      ]
     },
     "metadata": {},
     "output_type": "display_data"
    },
    {
     "data": {
      "application/vnd.jupyter.widget-view+json": {
       "model_id": "bec2e076d1b842948595bf592d82e8a9",
       "version_major": 2,
       "version_minor": 0
      },
      "text/plain": [
       "Chaning sharing option:   0%|          | 0/30 [00:00<?, ?it/s]"
      ]
     },
     "metadata": {},
     "output_type": "display_data"
    },
    {
     "data": {
      "application/vnd.jupyter.widget-view+json": {
       "model_id": "27e17b036f2d4bcd827db81be7527c90",
       "version_major": 2,
       "version_minor": 0
      },
      "text/plain": [
       "Adding the layer \"ht_county:Vacancy Rate\" to the map:   0%|          | 0/30 [00:00<?, ?it/s]"
      ]
     },
     "metadata": {},
     "output_type": "display_data"
    },
    {
     "data": {
      "application/vnd.jupyter.widget-view+json": {
       "model_id": "778ba60f715e452598e64546aac344c2",
       "version_major": 2,
       "version_minor": 0
      },
      "text/plain": [
       "Managing Popup:   0%|          | 0/30 [00:00<?, ?it/s]"
      ]
     },
     "metadata": {},
     "output_type": "display_data"
    },
    {
     "data": {
      "application/vnd.jupyter.widget-view+json": {
       "model_id": "bf1630a43e32494f98cdc7bea4c09198",
       "version_major": 2,
       "version_minor": 0
      },
      "text/plain": [
       "Creating a WebMap \"ht_county:Vacancy Rate\":   0%|          | 0/30 [00:00<?, ?it/s]"
      ]
     },
     "metadata": {},
     "output_type": "display_data"
    },
    {
     "data": {
      "application/vnd.jupyter.widget-view+json": {
       "model_id": "09cbd42d70f741e5b616239ed75ad908",
       "version_major": 2,
       "version_minor": 0
      },
      "text/plain": [
       "Chaning sharing option:   0%|          | 0/30 [00:00<?, ?it/s]"
      ]
     },
     "metadata": {},
     "output_type": "display_data"
    },
    {
     "data": {
      "application/vnd.jupyter.widget-view+json": {
       "model_id": "ac6e3ca12aca467190200da29c5f81ff",
       "version_major": 2,
       "version_minor": 0
      },
      "text/plain": [
       "Adding the layer \"ht_county:No Vehicle\" to the map:   0%|          | 0/30 [00:00<?, ?it/s]"
      ]
     },
     "metadata": {},
     "output_type": "display_data"
    },
    {
     "data": {
      "application/vnd.jupyter.widget-view+json": {
       "model_id": "06cc10dcb87643e5b697def1076a1142",
       "version_major": 2,
       "version_minor": 0
      },
      "text/plain": [
       "Managing Popup:   0%|          | 0/30 [00:00<?, ?it/s]"
      ]
     },
     "metadata": {},
     "output_type": "display_data"
    },
    {
     "data": {
      "application/vnd.jupyter.widget-view+json": {
       "model_id": "4961afab445043beafee49afa071a633",
       "version_major": 2,
       "version_minor": 0
      },
      "text/plain": [
       "Creating a WebMap \"ht_county:No Vehicle\":   0%|          | 0/30 [00:00<?, ?it/s]"
      ]
     },
     "metadata": {},
     "output_type": "display_data"
    },
    {
     "data": {
      "application/vnd.jupyter.widget-view+json": {
       "model_id": "5e8bd25698c84b80b237198ec9da8a55",
       "version_major": 2,
       "version_minor": 0
      },
      "text/plain": [
       "Chaning sharing option:   0%|          | 0/30 [00:00<?, ?it/s]"
      ]
     },
     "metadata": {},
     "output_type": "display_data"
    },
    {
     "data": {
      "application/vnd.jupyter.widget-view+json": {
       "model_id": "6412fceb04294b77b464c4685736fe8a",
       "version_major": 2,
       "version_minor": 0
      },
      "text/plain": [
       "Adding the layer \"ht_county:Rent Burden (40% Income)\" to the map:   0%|          | 0/30 [00:00<?, ?it/s]"
      ]
     },
     "metadata": {},
     "output_type": "display_data"
    },
    {
     "data": {
      "application/vnd.jupyter.widget-view+json": {
       "model_id": "82c5c410ff574c9882846b833567c8bf",
       "version_major": 2,
       "version_minor": 0
      },
      "text/plain": [
       "Managing Popup:   0%|          | 0/30 [00:00<?, ?it/s]"
      ]
     },
     "metadata": {},
     "output_type": "display_data"
    },
    {
     "data": {
      "application/vnd.jupyter.widget-view+json": {
       "model_id": "7f57b18124604684a875543ec5081e13",
       "version_major": 2,
       "version_minor": 0
      },
      "text/plain": [
       "Creating a WebMap \"ht_county:Rent Burden (40% Income)\":   0%|          | 0/30 [00:00<?, ?it/s]"
      ]
     },
     "metadata": {},
     "output_type": "display_data"
    },
    {
     "data": {
      "application/vnd.jupyter.widget-view+json": {
       "model_id": "ebdbb60326614322af4996bc50826df9",
       "version_major": 2,
       "version_minor": 0
      },
      "text/plain": [
       "Chaning sharing option:   0%|          | 0/30 [00:00<?, ?it/s]"
      ]
     },
     "metadata": {},
     "output_type": "display_data"
    },
    {
     "data": {
      "application/vnd.jupyter.widget-view+json": {
       "model_id": "6c3b5282a8724000bf9094039a89d108",
       "version_major": 2,
       "version_minor": 0
      },
      "text/plain": [
       "Adding the layer \"sociodemographics_county:Total Population\" to the map:   0%|          | 0/30 [00:00<?, ?it/s…"
      ]
     },
     "metadata": {},
     "output_type": "display_data"
    },
    {
     "data": {
      "application/vnd.jupyter.widget-view+json": {
       "model_id": "4661b894cf354b6491fc2b0b292e2711",
       "version_major": 2,
       "version_minor": 0
      },
      "text/plain": [
       "Managing Popup:   0%|          | 0/30 [00:00<?, ?it/s]"
      ]
     },
     "metadata": {},
     "output_type": "display_data"
    },
    {
     "data": {
      "application/vnd.jupyter.widget-view+json": {
       "model_id": "de377e767f1048d09f86f7158ab8a490",
       "version_major": 2,
       "version_minor": 0
      },
      "text/plain": [
       "Creating a WebMap \"sociodemographics_county:Total Population\":   0%|          | 0/30 [00:00<?, ?it/s]"
      ]
     },
     "metadata": {},
     "output_type": "display_data"
    },
    {
     "data": {
      "application/vnd.jupyter.widget-view+json": {
       "model_id": "cade34e70a5042b7b92a31817cc2ba91",
       "version_major": 2,
       "version_minor": 0
      },
      "text/plain": [
       "Chaning sharing option:   0%|          | 0/30 [00:00<?, ?it/s]"
      ]
     },
     "metadata": {},
     "output_type": "display_data"
    },
    {
     "data": {
      "application/vnd.jupyter.widget-view+json": {
       "model_id": "c7f3f7ff8357401cb44bf9e4e10c6cd9",
       "version_major": 2,
       "version_minor": 0
      },
      "text/plain": [
       "Adding the layer \"sociodemographics_county:Under 18\" to the map:   0%|          | 0/30 [00:00<?, ?it/s]"
      ]
     },
     "metadata": {},
     "output_type": "display_data"
    },
    {
     "data": {
      "application/vnd.jupyter.widget-view+json": {
       "model_id": "82313b7630de4b36a8e039657f552465",
       "version_major": 2,
       "version_minor": 0
      },
      "text/plain": [
       "Managing Popup:   0%|          | 0/30 [00:00<?, ?it/s]"
      ]
     },
     "metadata": {},
     "output_type": "display_data"
    },
    {
     "data": {
      "application/vnd.jupyter.widget-view+json": {
       "model_id": "3828a44f193a4f4f8cb9fc932232f312",
       "version_major": 2,
       "version_minor": 0
      },
      "text/plain": [
       "Creating a WebMap \"sociodemographics_county:Under 18\":   0%|          | 0/30 [00:00<?, ?it/s]"
      ]
     },
     "metadata": {},
     "output_type": "display_data"
    },
    {
     "ename": "KeyboardInterrupt",
     "evalue": "",
     "output_type": "error",
     "traceback": [
      "\u001b[0;31m---------------------------------------------------------------------------\u001b[0m",
      "\u001b[0;31mKeyboardInterrupt\u001b[0m                         Traceback (most recent call last)",
      "Input \u001b[0;32mIn [22]\u001b[0m, in \u001b[0;36mCIFTool_AGOL.genWebMapFromGroupLayers\u001b[0;34m(self, level)\u001b[0m\n\u001b[1;32m    185\u001b[0m webmap \u001b[38;5;241m=\u001b[39m wm\u001b[38;5;241m.\u001b[39msave(webmap_item_properties, folder \u001b[38;5;241m=\u001b[39m \u001b[38;5;28mself\u001b[39m\u001b[38;5;241m.\u001b[39mAGOL_folder) \u001b[38;5;66;03m# testing folder is temporary set-up\u001b[39;00m\n\u001b[0;32m--> 186\u001b[0m \u001b[38;5;28;43mself\u001b[39;49m\u001b[38;5;241;43m.\u001b[39;49m\u001b[43mwait_AGOL\u001b[49m\u001b[43m(\u001b[49m\u001b[38;5;241;43m3\u001b[39;49m\u001b[43m,\u001b[49m\u001b[43m \u001b[49m\u001b[43mdesc\u001b[49m\u001b[43m \u001b[49m\u001b[38;5;241;43m=\u001b[39;49m\u001b[43m \u001b[49m\u001b[38;5;124;43mf\u001b[39;49m\u001b[38;5;124;43m'\u001b[39;49m\u001b[38;5;124;43mCreating a WebMap \u001b[39;49m\u001b[38;5;124;43m\"\u001b[39;49m\u001b[38;5;132;43;01m{\u001b[39;49;00m\u001b[43mflname\u001b[49m\u001b[38;5;132;43;01m}\u001b[39;49;00m\u001b[38;5;124;43m:\u001b[39;49m\u001b[38;5;132;43;01m{\u001b[39;49;00m\u001b[43mtitle\u001b[49m\u001b[38;5;132;43;01m}\u001b[39;49;00m\u001b[38;5;124;43m\"\u001b[39;49m\u001b[38;5;124;43m'\u001b[39;49m\u001b[43m)\u001b[49m\n\u001b[1;32m    187\u001b[0m searchedWebMap \u001b[38;5;241m=\u001b[39m contentManager\u001b[38;5;241m.\u001b[39msearch(\u001b[38;5;124mf\u001b[39m\u001b[38;5;124m'\u001b[39m\u001b[38;5;124mtitle:\u001b[39m\u001b[38;5;124m\"\u001b[39m\u001b[38;5;132;01m{\u001b[39;00mflname\u001b[38;5;132;01m}\u001b[39;00m\u001b[38;5;124m : \u001b[39m\u001b[38;5;132;01m{\u001b[39;00mtitle\u001b[38;5;132;01m}\u001b[39;00m\u001b[38;5;124m\"\u001b[39m\u001b[38;5;124m'\u001b[39m, item_type \u001b[38;5;241m=\u001b[39m \u001b[38;5;124m'\u001b[39m\u001b[38;5;124mWeb Map\u001b[39m\u001b[38;5;124m'\u001b[39m)\n",
      "Input \u001b[0;32mIn [22]\u001b[0m, in \u001b[0;36mCIFTool_AGOL.wait_AGOL\u001b[0;34m(self, waitTime, verbose, desc)\u001b[0m\n\u001b[1;32m     26\u001b[0m     \u001b[38;5;28;01mfor\u001b[39;00m p \u001b[38;5;129;01min\u001b[39;00m trange(\u001b[38;5;241m30\u001b[39m, desc \u001b[38;5;241m=\u001b[39m desc):\n\u001b[0;32m---> 27\u001b[0m         \u001b[43mtime\u001b[49m\u001b[38;5;241;43m.\u001b[39;49m\u001b[43msleep\u001b[49m\u001b[43m(\u001b[49m\u001b[38;5;28;43mround\u001b[39;49m\u001b[43m(\u001b[49m\u001b[43mwaitTime\u001b[49m\u001b[38;5;241;43m/\u001b[39;49m\u001b[38;5;241;43m30\u001b[39;49m\u001b[43m,\u001b[49m\u001b[38;5;241;43m5\u001b[39;49m\u001b[43m)\u001b[49m\u001b[43m)\u001b[49m\n\u001b[1;32m     28\u001b[0m \u001b[38;5;28;01melse\u001b[39;00m:\n",
      "\u001b[0;31mKeyboardInterrupt\u001b[0m: ",
      "\nDuring handling of the above exception, another exception occurred:\n",
      "\u001b[0;31mKeyboardInterrupt\u001b[0m                         Traceback (most recent call last)",
      "Input \u001b[0;32mIn [32]\u001b[0m, in \u001b[0;36m<cell line: 7>\u001b[0;34m()\u001b[0m\n\u001b[1;32m      5\u001b[0m \u001b[38;5;28;01mfor\u001b[39;00m name, df \u001b[38;5;129;01min\u001b[39;00m cif\u001b[38;5;241m.\u001b[39mtractData\u001b[38;5;241m.\u001b[39mitems():\n\u001b[1;32m      6\u001b[0m     cif\u001b[38;5;241m.\u001b[39mgenAreaSDF4FL_new(df, name, \u001b[38;5;124m'\u001b[39m\u001b[38;5;124mtract\u001b[39m\u001b[38;5;124m'\u001b[39m)\n\u001b[0;32m----> 7\u001b[0m \u001b[43mcif\u001b[49m\u001b[38;5;241;43m.\u001b[39;49m\u001b[43mgenWebMapFromGroupLayers\u001b[49m\u001b[43m(\u001b[49m\u001b[43mlevel\u001b[49m\u001b[43m \u001b[49m\u001b[38;5;241;43m=\u001b[39;49m\u001b[43m \u001b[49m\u001b[38;5;124;43m'\u001b[39;49m\u001b[38;5;124;43mtract\u001b[39;49m\u001b[38;5;124;43m'\u001b[39;49m\u001b[43m)\u001b[49m\n",
      "Input \u001b[0;32mIn [22]\u001b[0m, in \u001b[0;36mCIFTool_AGOL.genWebMapFromGroupLayers\u001b[0;34m(self, level)\u001b[0m\n\u001b[1;32m    194\u001b[0m     flag \u001b[38;5;241m=\u001b[39m \u001b[38;5;28;01mFalse\u001b[39;00m\n\u001b[1;32m    195\u001b[0m \u001b[38;5;28;01mexcept\u001b[39;00m:\n\u001b[0;32m--> 196\u001b[0m     \u001b[43mtime\u001b[49m\u001b[38;5;241;43m.\u001b[39;49m\u001b[43msleep\u001b[49m\u001b[43m(\u001b[49m\u001b[38;5;241;43m2\u001b[39;49m\u001b[43m)\u001b[49m\n\u001b[1;32m    197\u001b[0m     \u001b[38;5;28mself\u001b[39m\u001b[38;5;241m.\u001b[39merror_count \u001b[38;5;241m+\u001b[39m\u001b[38;5;241m=\u001b[39m \u001b[38;5;241m1\u001b[39m\n\u001b[1;32m    198\u001b[0m     \u001b[38;5;28;01mif\u001b[39;00m \u001b[38;5;28mself\u001b[39m\u001b[38;5;241m.\u001b[39merror_count \u001b[38;5;241m>\u001b[39m\u001b[38;5;241m=\u001b[39m \u001b[38;5;241m5\u001b[39m:\n",
      "\u001b[0;31mKeyboardInterrupt\u001b[0m: "
     ]
    }
   ],
   "source": [
    "cif.genPointFL()\n",
    "for name, df in cif.countyData.items():\n",
    "    cif.genAreaSDF4FL_new(df, name, 'county')\n",
    "cif.genWebMapFromGroupLayers(level = 'county')\n",
    "for name, df in cif.tractData.items():\n",
    "    cif.genAreaSDF4FL_new(df, name, 'tract')\n",
    "cif.genWebMapFromGroupLayers(level = 'tract')"
   ]
  },
  {
   "cell_type": "code",
   "execution_count": null,
   "id": "16ee0bb8-1810-4ab9-b452-ae548a25da4b",
   "metadata": {},
   "outputs": [],
   "source": [
    "## So,,, we need to separate county and tract level layers when they are created"
   ]
  },
  {
   "cell_type": "code",
   "execution_count": null,
   "id": "9d403f91-9135-4587-874b-312979a6605d",
   "metadata": {},
   "outputs": [],
   "source": [
    "cif.save_layers('AllLayers')"
   ]
  },
  {
   "cell_type": "code",
   "execution_count": null,
   "id": "abbdd6d8",
   "metadata": {},
   "outputs": [],
   "source": [
    "cif.save_webmaps('AllMaps')"
   ]
  },
  {
   "cell_type": "code",
   "execution_count": null,
   "id": "d773be32",
   "metadata": {},
   "outputs": [],
   "source": [
    "lyr = cif.groupLayers['rf_and_screening_county']['Layer Object']"
   ]
  },
  {
   "cell_type": "code",
   "execution_count": null,
   "id": "cb1b2a81",
   "metadata": {},
   "outputs": [],
   "source": [
    "extent = lyr.properties.extent"
   ]
  },
  {
   "cell_type": "code",
   "execution_count": null,
   "id": "556098c6",
   "metadata": {},
   "outputs": [],
   "source": []
  },
  {
   "cell_type": "code",
   "execution_count": null,
   "id": "9eb25dc8",
   "metadata": {},
   "outputs": [],
   "source": []
  },
  {
   "cell_type": "markdown",
   "id": "1ad11322-3a55-485c-a419-03f7bceb2b29",
   "metadata": {
    "jp-MarkdownHeadingCollapsed": true,
    "tags": []
   },
   "source": [
    "# Point Variables"
   ]
  },
  {
   "cell_type": "code",
   "execution_count": null,
   "id": "07fc226b",
   "metadata": {},
   "outputs": [],
   "source": [
    "from arcgis.geocoding import batch_geocode"
   ]
  },
  {
   "cell_type": "code",
   "execution_count": null,
   "id": "edfc4eeb",
   "metadata": {},
   "outputs": [],
   "source": [
    "gis = GIS(gis_address, client_id= client_id) # log-in to the AGOL\n",
    "print(\"Successfully logged in as: \" + gis.properties.user.username)"
   ]
  },
  {
   "cell_type": "code",
   "execution_count": null,
   "id": "b8b2a1e9-0bee-4883-bc3e-fcf9b34a7f22",
   "metadata": {},
   "outputs": [],
   "source": [
    "contentManager = ContentManager(gis)"
   ]
  },
  {
   "cell_type": "code",
   "execution_count": null,
   "id": "d9bfc517-8218-4e43-ae8a-300391a4dc3c",
   "metadata": {},
   "outputs": [],
   "source": [
    "geocoder = get_geocoders(gis)[0]\n",
    "print(\" - SuggestedBatchSize: \" + str(geocoder.properties.locatorProperties.SuggestedBatchSize))\n"
   ]
  },
  {
   "cell_type": "code",
   "execution_count": null,
   "id": "16469fcd",
   "metadata": {},
   "outputs": [],
   "source": [
    "fac = cif.pointData['facilities_and_providers'].copy()"
   ]
  },
  {
   "cell_type": "code",
   "execution_count": null,
   "id": "8707b65f-8c66-447d-a439-5a6c3903635b",
   "metadata": {},
   "outputs": [],
   "source": [
    "fac.reset_index(drop = True, inplace = True)"
   ]
  },
  {
   "cell_type": "code",
   "execution_count": null,
   "id": "cbb51283-aef7-4052-9ed7-3b5a0a9a99e6",
   "metadata": {},
   "outputs": [],
   "source": [
    "fac= fac.loc[fac.Address.notna(), :]"
   ]
  },
  {
   "cell_type": "code",
   "execution_count": null,
   "id": "1b24f167-eaa4-486c-8e65-33e90d6d0f70",
   "metadata": {},
   "outputs": [],
   "source": [
    "fac.Phone_number = fac.Phone_number.fillna('NA')"
   ]
  },
  {
   "cell_type": "code",
   "execution_count": null,
   "id": "9ec56a2d-6b40-4406-ae52-b262e1bee8a1",
   "metadata": {},
   "outputs": [],
   "source": [
    "N = fac.shape[0]"
   ]
  },
  {
   "cell_type": "code",
   "execution_count": null,
   "id": "c3519acb-6c93-404b-91a3-4d2e675b0bbd",
   "metadata": {},
   "outputs": [],
   "source": [
    "if N/150 == N//150:\n",
    "    epoch = N/150\n",
    "else:\n",
    "    epoch = N//150 + 1\n",
    "epoch"
   ]
  },
  {
   "cell_type": "code",
   "execution_count": null,
   "id": "749e139c-54e7-41e7-a88e-b78421005f58",
   "metadata": {},
   "outputs": [],
   "source": [
    "fac['State'] = fac.Address.str.extract(\"\\s(\\w\\w)\\s\\d\\d\\d\\d\\d\")"
   ]
  },
  {
   "cell_type": "code",
   "execution_count": null,
   "id": "36a4bab4-1200-4e6a-ae48-974e879f1ab4",
   "metadata": {},
   "outputs": [],
   "source": [
    "states = fac.State.value_counts().head(len(cif.state_fips)).index.tolist()\n",
    "fac = fac.loc[fac.State.isin(states),:]\n",
    "fac"
   ]
  },
  {
   "cell_type": "code",
   "execution_count": null,
   "id": "9592ce80-a234-4e33-a95a-ece2c2d5d242",
   "metadata": {},
   "outputs": [],
   "source": [
    "SHAPES = []\n",
    "for i in range(epoch):\n",
    "    start = i*150\n",
    "    end = (i+1)*150\n",
    "    sample = fac.loc[start:end,'Address'].tolist()\n",
    "    feature_set = batch_geocode(sample, as_featureset = True)\n",
    "                               # search_extent = [(ymin, xmin), (ymin, xmax), (ymax, xmin), (ymax, xmax)],\n",
    "    feature_set = feature_set.sdf\n",
    "    feature_set['ResultID'] = feature_set.ResultID + start\n",
    "    feature_set.set_index('ResultID', inplace = True)\n",
    "    shape  = feature_set.SHAPE\n",
    "    SHAPES.append(shape)"
   ]
  },
  {
   "cell_type": "code",
   "execution_count": null,
   "id": "879edfe3-5a3a-4bff-aced-b861f1e1b8b1",
   "metadata": {},
   "outputs": [],
   "source": [
    "shapes = pd.concat(SHAPES)"
   ]
  },
  {
   "cell_type": "code",
   "execution_count": null,
   "id": "b2f7f3f2-b664-4a70-8f9c-4fb8f43be89d",
   "metadata": {},
   "outputs": [],
   "source": [
    "fac['SHAPE'] = None\n",
    "fac"
   ]
  },
  {
   "cell_type": "code",
   "execution_count": null,
   "id": "4b600058-0368-4fa3-b832-aa859586ea8f",
   "metadata": {},
   "outputs": [],
   "source": [
    "fac.loc[fac.index.isin(shapes.index),'SHAPE'] = shapes.sort_index()"
   ]
  },
  {
   "cell_type": "code",
   "execution_count": null,
   "id": "d0ba026e-f157-4117-bc14-91e428033e57",
   "metadata": {},
   "outputs": [],
   "source": [
    "fac = fac.dropna().reset_index(drop = True)"
   ]
  },
  {
   "cell_type": "code",
   "execution_count": null,
   "id": "af8795d9-2d47-4bfd-8396-ea422a0112a0",
   "metadata": {},
   "outputs": [],
   "source": [
    "fac.drop('state', axis = 1, inplace  = True)"
   ]
  },
  {
   "cell_type": "code",
   "execution_count": null,
   "id": "5b274d1d-cc56-4eb0-a78c-5e319fec0456",
   "metadata": {},
   "outputs": [],
   "source": [
    "lyrs = contentManager.import_data(fac,\n",
    "                          title = 'point',\n",
    "                         folder = cif.AGOL_folder)"
   ]
  },
  {
   "cell_type": "code",
   "execution_count": null,
   "id": "f8494b97-b309-4bea-b2f8-db8fa0885f22",
   "metadata": {},
   "outputs": [],
   "source": [
    "lyrs"
   ]
  },
  {
   "cell_type": "code",
   "execution_count": null,
   "id": "b2ff6210-4f5c-4c84-890e-8b675f451e55",
   "metadata": {},
   "outputs": [],
   "source": [
    "lyr = lyrs.layers[0]"
   ]
  },
  {
   "cell_type": "code",
   "execution_count": null,
   "id": "c2b8519e-5a8d-485a-8428-0952910c6cd2",
   "metadata": {},
   "outputs": [],
   "source": [
    "m = WebMap()"
   ]
  },
  {
   "cell_type": "code",
   "execution_count": null,
   "id": "74ec98ea-90b8-4027-b99e-bc8bea5d730c",
   "metadata": {},
   "outputs": [],
   "source": [
    "fac.type.unique()"
   ]
  },
  {
   "cell_type": "code",
   "execution_count": 1,
   "id": "bad6337b-a013-4256-9347-8a795928dd0e",
   "metadata": {},
   "outputs": [
    {
     "ename": "NameError",
     "evalue": "name 'GIS' is not defined",
     "output_type": "error",
     "traceback": [
      "\u001b[0;31m---------------------------------------------------------------------------\u001b[0m",
      "\u001b[0;31mNameError\u001b[0m                                 Traceback (most recent call last)",
      "Input \u001b[0;32mIn [1]\u001b[0m, in \u001b[0;36m<cell line: 1>\u001b[0;34m()\u001b[0m\n\u001b[0;32m----> 1\u001b[0m gis \u001b[38;5;241m=\u001b[39m \u001b[43mGIS\u001b[49m(gis_address, client_id\u001b[38;5;241m=\u001b[39m client_id) \u001b[38;5;66;03m# log-in to the AGOL\u001b[39;00m\n\u001b[1;32m      2\u001b[0m \u001b[38;5;28mprint\u001b[39m(\u001b[38;5;124m\"\u001b[39m\u001b[38;5;124mSuccessfully logged in as: \u001b[39m\u001b[38;5;124m\"\u001b[39m \u001b[38;5;241m+\u001b[39m gis\u001b[38;5;241m.\u001b[39mproperties\u001b[38;5;241m.\u001b[39muser\u001b[38;5;241m.\u001b[39musername)\n",
      "\u001b[0;31mNameError\u001b[0m: name 'GIS' is not defined"
     ]
    }
   ],
   "source": [
    "gis = GIS(gis_address, client_id= client_id) # log-in to the AGOL\n",
    "print(\"Successfully logged in as: \" + gis.properties.user.username)"
   ]
  },
  {
   "cell_type": "code",
   "execution_count": null,
   "id": "32bd3001-8554-4f7b-94af-fba02eb4d15c",
   "metadata": {},
   "outputs": [],
   "source": [
    "contentManager = ContentManager(gis)"
   ]
  },
  {
   "cell_type": "code",
   "execution_count": null,
   "id": "af59eebd-70a2-4641-940d-eb396a0a467f",
   "metadata": {},
   "outputs": [],
   "source": [
    "facilities = contentManager.search('6422a55375a74633a5db50629bf56a47')[0]"
   ]
  },
  {
   "cell_type": "code",
   "execution_count": null,
   "id": "7c11b8c9-dec8-497c-acbb-5a6e61d62457",
   "metadata": {},
   "outputs": [],
   "source": [
    "org = facilities.layers[1]"
   ]
  },
  {
   "cell_type": "code",
   "execution_count": null,
   "id": "7e674595-bda2-4926-b23f-1020d95277e7",
   "metadata": {},
   "outputs": [],
   "source": [
    "org.properties.drawingInfo.renderer"
   ]
  },
  {
   "cell_type": "code",
   "execution_count": null,
   "id": "11b9355c-e281-4349-8659-0e181e5ddb1d",
   "metadata": {},
   "outputs": [],
   "source": [
    "def point_renderer(lyr, color, size = 6):\n",
    "    renderer = {\n",
    "              \"type\": \"simple\",\n",
    "              \"symbol\": {\n",
    "                \"type\": \"esriSMS\",\n",
    "                \"style\": \"esriSMSCircle\",\n",
    "                \"color\": color,\n",
    "                \"size\": size,\n",
    "                \"angle\": 0,\n",
    "                \"xoffset\": 0,\n",
    "                \"yoffset\": 0,\n",
    "                \"outline\": {\n",
    "                  \"color\": [\n",
    "                    0,\n",
    "                    0,\n",
    "                    0,\n",
    "                    255\n",
    "                  ],\n",
    "                  \"width\": 0.7\n",
    "                }\n",
    "              }\n",
    "    }\n",
    "    # renderer.symbol.url = ''\n",
    "    # renderer.symbol.imageData = ''\n",
    "    import arcgis\n",
    "    renderer = arcgis._impl.common._mixins.PropertyMap(renderer)\n",
    "    return renderer\n",
    "# lyr.properties.drawingInfo.renderer.symbol"
   ]
  },
  {
   "cell_type": "code",
   "execution_count": null,
   "id": "67a98f5c-be58-401b-ae1f-6eb1bf48f9ee",
   "metadata": {},
   "outputs": [],
   "source": [
    "import arcgis"
   ]
  },
  {
   "cell_type": "code",
   "execution_count": null,
   "id": "5c1ba48c-a333-459e-9147-6f0cfc476f6d",
   "metadata": {},
   "outputs": [],
   "source": [
    "lyr.properties.drawingInfo.renderer"
   ]
  },
  {
   "cell_type": "code",
   "execution_count": null,
   "id": "b1f1a09d-a443-4530-8291-ac084e03f2c0",
   "metadata": {},
   "outputs": [],
   "source": [
    "renderer = update_point_renderer(lyr, [200,200,200,255])"
   ]
  },
  {
   "cell_type": "code",
   "execution_count": null,
   "id": "59769b9e-e742-4e19-9286-684a2023d8ed",
   "metadata": {},
   "outputs": [],
   "source": [
    "lyr.query(where = \"type='Mammography'\").sdf"
   ]
  },
  {
   "cell_type": "code",
   "execution_count": null,
   "id": "c1f60523-2c5f-45c9-9128-bde26791ba10",
   "metadata": {},
   "outputs": [],
   "source": []
  },
  {
   "cell_type": "code",
   "execution_count": null,
   "id": "6e316fc4-299f-4680-940d-47badb1e527f",
   "metadata": {},
   "outputs": [],
   "source": [
    "fac.phone_number = fac.phone_number.fillna('NA')"
   ]
  },
  {
   "cell_type": "code",
   "execution_count": null,
   "id": "2abd0432-0bfc-4fa7-a75f-24b7f7724990",
   "metadata": {},
   "outputs": [],
   "source": [
    "lyrs = contentManager.import_data(fac,\n",
    "                          title = 'point',\n",
    "                         folder = cif.AGOL_folder)\n"
   ]
  },
  {
   "cell_type": "code",
   "execution_count": null,
   "id": "76b72534-1a9e-46ff-8d34-278c5d4b8761",
   "metadata": {},
   "outputs": [],
   "source": []
  },
  {
   "cell_type": "code",
   "execution_count": null,
   "id": "944cbdd4",
   "metadata": {},
   "outputs": [],
   "source": [
    "?fac.spatial.to_featurelayer"
   ]
  },
  {
   "cell_type": "markdown",
   "id": "86c1dad5",
   "metadata": {
    "jp-MarkdownHeadingCollapsed": true,
    "tags": []
   },
   "source": [
    "## What to do next time\n",
    "\n",
    "* update genSDF4FL function\n",
    "* make sure layers are named properly\n"
   ]
  },
  {
   "cell_type": "code",
   "execution_count": null,
   "id": "6b34e0d7",
   "metadata": {},
   "outputs": [],
   "source": [
    "if self._county_gdf:\n",
    "    gdf = self._county_gdf.copy()\n",
    "else:\n",
    "    gdf = self.tiger_census_county.copy()\n",
    "countyData = self.countyData\n",
    "layers = {}\n",
    "for k in list(countyData.keys()):\n",
    "    layers[k] = []\n",
    "    m = countyData[k].copy()\n",
    "    m['FIPS'] = m.FIPS.astype(int)\n",
    "    sdf = m.merge(gdf, how = 'left', left_on = 'FIPS', right_on = 'GEOID') # we need to pick up from here\n",
    "    sdf.drop('GEOID', axis = 1, inplace = True) # drop the geoid\n",
    "    sdf = gpd.GeoDataFrame(sdf, geometry = 'geometry')\n",
    "    sdf = pd.DataFrame.spatial.from_geodataframe(sdf, column_name = 'geometry')\n",
    "    geo_pat = re.compile('(fips|tract|county|state|geometry|type)', flags = re.I)\n",
    "    geo_pat2 = re.compile('(fips|tract|county|state|type)', flags = re.I)\n",
    "\n",
    "    columns     = sdf.columns[~sdf.columns.str.contains(geo_pat)].to_list()\n",
    "    geo_columns = sdf.columns[sdf.columns.str.contains(geo_pat2)].to_list()\n",
    "    for c in columns:\n",
    "        selected_columns = geo_columns + [c, 'geometry']\n",
    "        final_sdf = sdf[selected_columns]\n",
    "        lyr = genFeatureLayer(final_sdf, k + '-' + c)\n",
    "        layers.append(lyr)\n"
   ]
  },
  {
   "cell_type": "code",
   "execution_count": null,
   "id": "b6d00800",
   "metadata": {},
   "outputs": [],
   "source": [
    "geo_pat = re.compile('(fips|tract|county|state|geometry)', flags = re.I)\n",
    "sdf.columns[~sdf.columns.str.contains(geo_pat)]"
   ]
  },
  {
   "cell_type": "code",
   "execution_count": null,
   "id": "4faa0c5b",
   "metadata": {},
   "outputs": [],
   "source": [
    "c.tractData['economy_tract']"
   ]
  },
  {
   "cell_type": "code",
   "execution_count": null,
   "id": "c853997f",
   "metadata": {},
   "outputs": [],
   "source": [
    "c.pointData.keys()"
   ]
  },
  {
   "cell_type": "code",
   "execution_count": null,
   "id": "3dc50e8c",
   "metadata": {},
   "outputs": [],
   "source": [
    "c.cancerData.keys()"
   ]
  },
  {
   "cell_type": "code",
   "execution_count": null,
   "id": "454daa90",
   "metadata": {},
   "outputs": [],
   "source": [
    "c.data_dictionary.keys()"
   ]
  },
  {
   "cell_type": "code",
   "execution_count": null,
   "id": "c2617c33",
   "metadata": {},
   "outputs": [],
   "source": [
    "c.data_dictionary['cancer_incidence'].index.names"
   ]
  },
  {
   "cell_type": "code",
   "execution_count": null,
   "id": "f894e650",
   "metadata": {
    "scrolled": true
   },
   "outputs": [],
   "source": [
    "c.tiger_census_tract"
   ]
  },
  {
   "cell_type": "code",
   "execution_count": null,
   "id": "b6bf0604",
   "metadata": {},
   "outputs": [],
   "source": [
    "c.cancerData['cancer_incidence']"
   ]
  },
  {
   "cell_type": "code",
   "execution_count": null,
   "id": "043159aa",
   "metadata": {},
   "outputs": [],
   "source": [
    "c.tiger_census_county"
   ]
  },
  {
   "cell_type": "code",
   "execution_count": null,
   "id": "a819dd0e",
   "metadata": {},
   "outputs": [],
   "source": [
    "c._county_gdf"
   ]
  },
  {
   "cell_type": "code",
   "execution_count": null,
   "id": "21b0e587",
   "metadata": {},
   "outputs": [],
   "source": []
  }
 ],
 "metadata": {
  "kernelspec": {
   "display_name": "Python 3 (ipykernel)",
   "language": "python",
   "name": "python3"
  },
  "language_info": {
   "codemirror_mode": {
    "name": "ipython",
    "version": 3
   },
   "file_extension": ".py",
   "mimetype": "text/x-python",
   "name": "python",
   "nbconvert_exporter": "python",
   "pygments_lexer": "ipython3",
   "version": "3.10.6"
  }
 },
 "nbformat": 4,
 "nbformat_minor": 5
}
