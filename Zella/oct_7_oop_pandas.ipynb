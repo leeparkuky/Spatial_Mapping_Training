{
 "cells": [
  {
   "cell_type": "code",
   "execution_count": 63,
   "id": "3e3db18c",
   "metadata": {},
   "outputs": [
    {
     "data": {
      "text/plain": [
       "[33, 50]"
      ]
     },
     "execution_count": 63,
     "metadata": {},
     "output_type": "execute_result"
    }
   ],
   "source": [
    "# import libraries\n",
    "import pandas as pd\n",
    "import numpy as np\n",
    "\n",
    "# create class\n",
    "class FIPSData:\n",
    "    \n",
    "    # initialize\n",
    "    def __init__(self, pickle_file_path):\n",
    "        # read pickle file\n",
    "        self.pickle_data = pd.read_pickle(pickle_file_path)\n",
    "\t\t# self.data = store data dictionary as attribute w/o _long tables\n",
    "        self.data = {k:v for (k,v) in zip(self.pickle_data.keys(), self.pickle_data.values()) if '_long' not in k}\n",
    "\t\t# call remove_index() on init\n",
    "        self.remove_index()\n",
    "        # call find_states on init (NOTE: no () because of property decorator)\n",
    "        self.find_states\n",
    "      \n",
    "   # remove index \n",
    "    def remove_index(self):\n",
    "        \n",
    "        # load data\n",
    "        data = self.data\n",
    "\n",
    "        # loop through and \n",
    "        for k,v in data.items():\n",
    "            \n",
    "            # create temporary df with reset index\n",
    "            newdf = v.reset_index()\n",
    "            \n",
    "            # if there is already an index column, don't drop it\n",
    "            if newdf.columns.str.contains('index').sum():\n",
    "                pass # we don't update if there is already an index column\n",
    "                \n",
    "            # update if there was not previously an index column\n",
    "            self.data[k] = newdf \n",
    "            \n",
    "    # find unique state fips in data dictionary\n",
    "    @property # allows it to be called without parentheses\n",
    "    def find_states(self):\n",
    "        \n",
    "        # load data\n",
    "        data = self.data\n",
    "        \n",
    "        # get list of FIPS from list\n",
    "        fips = data['rf_and_screening_county'].FIPS.tolist()\n",
    "        \n",
    "        # pull unique state codes from FIPS list\n",
    "        states = np.unique([int(str(i)[:2]) for i in fips]).tolist()\n",
    "        \n",
    "        # create self._states attribute\n",
    "        self._states = states\n",
    "        \n",
    "pickle_path = 'C:/Users/zella/Desktop/Personal/Education/University of Kentucky/spatial_mapping/Spatial_Mapping_Training/dataset.pickle'\n",
    "\n",
    "\n",
    "pickle_test = FIPSData(pickle_path)\n",
    "\n",
    "pickle_test._states"
   ]
  }
 ],
 "metadata": {
  "kernelspec": {
   "display_name": "Python 3 (ipykernel)",
   "language": "python",
   "name": "python3"
  },
  "language_info": {
   "codemirror_mode": {
    "name": "ipython",
    "version": 3
   },
   "file_extension": ".py",
   "mimetype": "text/x-python",
   "name": "python",
   "nbconvert_exporter": "python",
   "pygments_lexer": "ipython3",
   "version": "3.9.0"
  }
 },
 "nbformat": 4,
 "nbformat_minor": 5
}
