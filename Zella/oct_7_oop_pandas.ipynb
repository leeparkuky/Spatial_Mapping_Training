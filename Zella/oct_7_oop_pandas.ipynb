{
 "cells": [
  {
   "cell_type": "code",
   "execution_count": 2,
   "id": "037dafbd",
   "metadata": {},
   "outputs": [
    {
     "name": "stdout",
     "output_type": "stream",
     "text": [
      "hello user\n"
     ]
    }
   ],
   "source": [
    "# static method\n",
    "def print_hello():\n",
    "    print('hello user')\n",
    "    \n",
    "print_hello()"
   ]
  },
  {
   "cell_type": "code",
   "execution_count": 8,
   "id": "3e3db18c",
   "metadata": {},
   "outputs": [
    {
     "ename": "AttributeError",
     "evalue": "'FIPSData' object has no attribute 'data'",
     "output_type": "error",
     "traceback": [
      "\u001b[1;31m---------------------------------------------------------------------------\u001b[0m",
      "\u001b[1;31mAttributeError\u001b[0m                            Traceback (most recent call last)",
      "Cell \u001b[1;32mIn [8], line 6\u001b[0m\n\u001b[0;32m      3\u001b[0m \u001b[38;5;28;01mimport\u001b[39;00m \u001b[38;5;21;01mnumpy\u001b[39;00m \u001b[38;5;28;01mas\u001b[39;00m \u001b[38;5;21;01mnp\u001b[39;00m\n\u001b[0;32m      5\u001b[0m \u001b[38;5;66;03m# returns fips data object\u001b[39;00m\n\u001b[1;32m----> 6\u001b[0m data_Dictionary \u001b[38;5;241m=\u001b[39m \u001b[43mpickle_test\u001b[49m\u001b[38;5;241;43m.\u001b[39;49m\u001b[43mdata\u001b[49m \n\u001b[0;32m      8\u001b[0m \u001b[38;5;66;03m# create class\u001b[39;00m\n\u001b[0;32m      9\u001b[0m \u001b[38;5;28;01mclass\u001b[39;00m \u001b[38;5;21;01mFIPSData\u001b[39;00m:\n\u001b[0;32m     10\u001b[0m     \n\u001b[0;32m     11\u001b[0m     \u001b[38;5;66;03m# initialize\u001b[39;00m\n",
      "\u001b[1;31mAttributeError\u001b[0m: 'FIPSData' object has no attribute 'data'"
     ]
    }
   ],
   "source": [
    "# import libraries\n",
    "import pandas as pd\n",
    "import numpy as np\n",
    "\n",
    "# returns fips data object\n",
    "data_Dictionary = pickle_test.data \n",
    "\n",
    "# create class\n",
    "class FIPSData:\n",
    "    \n",
    "    # initialize\n",
    "    def __init__(self, pickle_file_path):\n",
    "        # read pickle file\n",
    "#         self.pickle_data = pd.read_pickle(pickle_file_path)\n",
    "        # call find_states on init (NOTE: no () because of property decorator)\n",
    "#         self.find_states\n",
    "        pass\n",
    "\n",
    "    # static method\n",
    "    @staticmethod # with this decorator, you don't need a self argument\n",
    "    def print_hello(message):\n",
    "        print(f'hello user {message}')\n",
    "    \n",
    "    # using classmethod property decorator\n",
    "    @classmethod \n",
    "    def read_dict(cls, dictarg):\n",
    "        obj = cls()\n",
    "        obj.data = dictarg # self.data = store data dictionary as attribute w/o _long tables\n",
    "        obj.data = {k:v for (k,v) in zip(obj.pickle_data.keys(), obj.pickle_data.values()) if '_long' not in k}\n",
    "        # call remove_index() on init\n",
    "        obj.remove_index()\n",
    "        return(obj)\n",
    "      \n",
    "    @classmethod \n",
    "    def read_pickle(cls, filepath):\n",
    "        obj = cls()\n",
    "        obj.data = dictarg\n",
    "        obj.data = {key: value for key, value in obj.data.items() if '_long' not in key}\n",
    "    \n",
    "   # remove index \n",
    "    def remove_index(self):\n",
    "        \n",
    "        # load data\n",
    "        data = self.data\n",
    "\n",
    "        # loop through and \n",
    "        for k,v in data.items():\n",
    "            \n",
    "            # create temporary df with reset index\n",
    "            newdf = v.reset_index()\n",
    "            \n",
    "            # if there is already an index column, don't drop it\n",
    "            if newdf.columns.str.contains('index').sum():\n",
    "                pass # we don't update if there is already an index column\n",
    "                \n",
    "            # update if there was not previously an index column\n",
    "            self.data[k] = newdf \n",
    "            \n",
    "    # find unique state fips in data dictionary\n",
    "    @property # allows it to be called without parentheses\n",
    "    def find_states(self):\n",
    "        \n",
    "        # lambda, apply, and unique practice 10/10\n",
    "\n",
    "        # apply with lambda example\twith unique\n",
    "        df = pickle_test.data['rf_and_screening_county']\n",
    "\n",
    "        self._states = df.FIPS.apply(lambda fips: str(fips)[:2]).unique()\n",
    "        \n",
    "#         # load data\n",
    "#         data = self.data\n",
    "        \n",
    "#         # get list of FIPS from list\n",
    "#         fips = data['rf_and_screening_county'].FIPS.tolist()\n",
    "        \n",
    "#         # pull unique state codes from FIPS list\n",
    "#         states = np.unique([int(str(i)[:2]) for i in fips]).tolist()\n",
    "        \n",
    "#         # create self._states attribute\n",
    "#         self._states = states\n",
    "        \n",
    "pickle_path = 'C:/Users/zella/Desktop/Personal/Education/University of Kentucky/spatial_mapping/Spatial_Mapping_Training/dataset.pickle'\n",
    "\n",
    "\n",
    "pickle_test = FIPSData(pickle_path)\n",
    "\n",
    "# pickle_test._states\n",
    "\n",
    "fips = FIPSData.read_dict(data_Dictionary) # ISSUE not currently working"
   ]
  },
  {
   "cell_type": "code",
   "execution_count": null,
   "id": "dd9858cc",
   "metadata": {},
   "outputs": [],
   "source": [
    "# other assignment: create another class on our own for practice"
   ]
  }
 ],
 "metadata": {
  "kernelspec": {
   "display_name": "Python 3 (ipykernel)",
   "language": "python",
   "name": "python3"
  },
  "language_info": {
   "codemirror_mode": {
    "name": "ipython",
    "version": 3
   },
   "file_extension": ".py",
   "mimetype": "text/x-python",
   "name": "python",
   "nbconvert_exporter": "python",
   "pygments_lexer": "ipython3",
   "version": "3.9.0"
  }
 },
 "nbformat": 4,
 "nbformat_minor": 5
}
