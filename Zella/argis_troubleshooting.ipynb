{
 "cells": [
  {
   "cell_type": "code",
   "execution_count": 1,
   "id": "c06067b7",
   "metadata": {},
   "outputs": [
    {
     "name": "stdout",
     "output_type": "stream",
     "text": [
      "hello\n"
     ]
    }
   ],
   "source": [
    "print('hello')"
   ]
  },
  {
   "cell_type": "code",
   "execution_count": 2,
   "id": "dc101ba8",
   "metadata": {},
   "outputs": [],
   "source": [
    "from testing_arcgis import *"
   ]
  },
  {
   "cell_type": "code",
   "execution_count": 3,
   "id": "03e284aa",
   "metadata": {},
   "outputs": [
    {
     "name": "stdout",
     "output_type": "stream",
     "text": [
      "Successfully logged in as: zch250@uky.edu\n",
      "folder name is Mon Nov 14 14:20:03 2022\n"
     ]
    }
   ],
   "source": [
    "cif = CIFTool_AGOL( 'https://ky-cancer.maps.arcgis.com', 'zch250@uky.edu', 'aBYdELneCf6cnT2')\n",
    "# cif(\"Dartmouth_catchment_data\\dataset.pickle\")\n"
   ]
  },
  {
   "cell_type": "code",
   "execution_count": 4,
   "id": "7db94be4",
   "metadata": {},
   "outputs": [],
   "source": [
    "cif.read_pickle(\"Dartmouth_catchment_data\\dataset.pickle\")"
   ]
  },
  {
   "cell_type": "code",
   "execution_count": 5,
   "id": "47b27f19",
   "metadata": {},
   "outputs": [
    {
     "data": {
      "text/plain": [
       "dict_keys(['Screening & Risk Factors (County)', 'Screening & Risk Factors (Tract)', 'Cancer Incidence - Age Adj.', 'Cancer Mortality - Age Adj.', 'Economic Indicators (County)', 'Economic INdicators (Tract)', 'Housing & Transportation (County)', 'Housing & Transportation (Tract)', 'Sociodemographics (County)', 'Sociodemographics (Tract)', 'Environment (County)', 'Environment (Tract)', 'Broadband Speed', 'Facilities and Providers'])"
      ]
     },
     "execution_count": 5,
     "metadata": {},
     "output_type": "execute_result"
    }
   ],
   "source": [
    "cif.data_dictionary.keys()"
   ]
  },
  {
   "cell_type": "code",
   "execution_count": 6,
   "id": "19c7bcd3",
   "metadata": {},
   "outputs": [
    {
     "data": {
      "application/vnd.jupyter.widget-view+json": {
       "model_id": "873354ff297f49c19d769fbc30e82ff0",
       "version_major": 2,
       "version_minor": 0
      },
      "text/plain": [
       "  0%|          | 0/4 [00:00<?, ?it/s]"
      ]
     },
     "metadata": {},
     "output_type": "display_data"
    },
    {
     "data": {
      "application/vnd.jupyter.widget-view+json": {
       "model_id": "962c28955f3c42b3a49f8b13cb5769da",
       "version_major": 2,
       "version_minor": 0
      },
      "text/plain": [
       "Waiting to Upload Facilities and Providers : GI Providers layer to AGOL:   0%|          | 0/30 [00:00<?, ?it/s…"
      ]
     },
     "metadata": {},
     "output_type": "display_data"
    },
    {
     "data": {
      "application/vnd.jupyter.widget-view+json": {
       "model_id": "8d6a09b37faa4dba949ce030435eddd6",
       "version_major": 2,
       "version_minor": 0
      },
      "text/plain": [
       "Uploading Point Feature Layer : GI Providers:   0%|          | 0/30 [00:00<?, ?it/s]"
      ]
     },
     "metadata": {},
     "output_type": "display_data"
    },
    {
     "data": {
      "application/vnd.jupyter.widget-view+json": {
       "model_id": "8aa088e1bb094ac5949bc565f15efc84",
       "version_major": 2,
       "version_minor": 0
      },
      "text/plain": [
       "Updating layer name to 'GI Providers':   0%|          | 0/30 [00:00<?, ?it/s]"
      ]
     },
     "metadata": {},
     "output_type": "display_data"
    },
    {
     "data": {
      "application/vnd.jupyter.widget-view+json": {
       "model_id": "737e53da9bc04bcbb28eefebdedc5d11",
       "version_major": 2,
       "version_minor": 0
      },
      "text/plain": [
       "Waiting to Upload Facilities and Providers : FQHCs / Other HPSA layer to AGOL:   0%|          | 0/30 [00:00<?,…"
      ]
     },
     "metadata": {},
     "output_type": "display_data"
    },
    {
     "data": {
      "application/vnd.jupyter.widget-view+json": {
       "model_id": "7783daf4132f455899bbf2b764dc6b2d",
       "version_major": 2,
       "version_minor": 0
      },
      "text/plain": [
       "Uploading Point Feature Layer : FQHCs / Other HPSA:   0%|          | 0/30 [00:00<?, ?it/s]"
      ]
     },
     "metadata": {},
     "output_type": "display_data"
    },
    {
     "data": {
      "application/vnd.jupyter.widget-view+json": {
       "model_id": "3c0bed5df9ce448d932fbddc31b687c0",
       "version_major": 2,
       "version_minor": 0
      },
      "text/plain": [
       "Updating layer name to 'FQHCs / Other HPSA':   0%|          | 0/30 [00:00<?, ?it/s]"
      ]
     },
     "metadata": {},
     "output_type": "display_data"
    },
    {
     "data": {
      "application/vnd.jupyter.widget-view+json": {
       "model_id": "4325dd106abb473db06f460bfd220c9d",
       "version_major": 2,
       "version_minor": 0
      },
      "text/plain": [
       "Waiting to Upload Facilities and Providers : Lung Cancer Screening layer to AGOL:   0%|          | 0/30 [00:00…"
      ]
     },
     "metadata": {},
     "output_type": "display_data"
    },
    {
     "data": {
      "application/vnd.jupyter.widget-view+json": {
       "model_id": "2ff32b4fd66d47f294431d9ac5c3ad53",
       "version_major": 2,
       "version_minor": 0
      },
      "text/plain": [
       "Uploading Point Feature Layer : Lung Cancer Screening:   0%|          | 0/30 [00:00<?, ?it/s]"
      ]
     },
     "metadata": {},
     "output_type": "display_data"
    },
    {
     "data": {
      "application/vnd.jupyter.widget-view+json": {
       "model_id": "fc07a31e3e874a80b38cc6ab73581090",
       "version_major": 2,
       "version_minor": 0
      },
      "text/plain": [
       "Updating layer name to 'Lung Cancer Screening':   0%|          | 0/30 [00:00<?, ?it/s]"
      ]
     },
     "metadata": {},
     "output_type": "display_data"
    },
    {
     "data": {
      "application/vnd.jupyter.widget-view+json": {
       "model_id": "22542b23ca1b4cb6b7ef694fb83f5375",
       "version_major": 2,
       "version_minor": 0
      },
      "text/plain": [
       "Waiting to Upload Facilities and Providers : Mammography layer to AGOL:   0%|          | 0/30 [00:00<?, ?it/s]"
      ]
     },
     "metadata": {},
     "output_type": "display_data"
    },
    {
     "data": {
      "application/vnd.jupyter.widget-view+json": {
       "model_id": "b0c8f269859440b8a6829f32fdbca3ae",
       "version_major": 2,
       "version_minor": 0
      },
      "text/plain": [
       "Uploading Point Feature Layer : Mammography:   0%|          | 0/30 [00:00<?, ?it/s]"
      ]
     },
     "metadata": {},
     "output_type": "display_data"
    },
    {
     "data": {
      "application/vnd.jupyter.widget-view+json": {
       "model_id": "988311a0b83c4edc9597ea1e1208ebab",
       "version_major": 2,
       "version_minor": 0
      },
      "text/plain": [
       "Updating layer name to 'Mammography':   0%|          | 0/30 [00:00<?, ?it/s]"
      ]
     },
     "metadata": {},
     "output_type": "display_data"
    }
   ],
   "source": [
    "cif.genPointFL()"
   ]
  },
  {
   "cell_type": "code",
   "execution_count": 7,
   "id": "e035573a",
   "metadata": {},
   "outputs": [
    {
     "name": "stdout",
     "output_type": "stream",
     "text": [
      "Generating Web Feature Layers for County Level Data\n"
     ]
    },
    {
     "data": {
      "application/vnd.jupyter.widget-view+json": {
       "model_id": "a1fb4466f45743e6b25ba161b018af62",
       "version_major": 2,
       "version_minor": 0
      },
      "text/plain": [
       "  0%|          | 0/1 [00:00<?, ?it/s]"
      ]
     },
     "metadata": {},
     "output_type": "display_data"
    },
    {
     "data": {
      "application/vnd.jupyter.widget-view+json": {
       "model_id": "6c060c6ecac847a28f08f232d6c97041",
       "version_major": 2,
       "version_minor": 0
      },
      "text/plain": [
       "Waiting to Upload Screening & Risk Factors (County) layer to AGOL:   0%|          | 0/30 [00:00<?, ?it/s]"
      ]
     },
     "metadata": {},
     "output_type": "display_data"
    },
    {
     "data": {
      "application/vnd.jupyter.widget-view+json": {
       "model_id": "37a0e25048734854ad551feed6ac1250",
       "version_major": 2,
       "version_minor": 0
      },
      "text/plain": [
       "Updating layer name to 'Screening & Risk Factors (County)':   0%|          | 0/30 [00:00<?, ?it/s]"
      ]
     },
     "metadata": {},
     "output_type": "display_data"
    }
   ],
   "source": [
    "names = list(cif.countyData.keys())\n",
    "dfs    = list(cif.countyData.values())\n",
    "print(\"Generating Web Feature Layers for County Level Data\")\n",
    "for i in trange(1):\n",
    "    df = dfs[i]\n",
    "    name = names[i]\n",
    "    cif.genAreaSDF4FL_new(df, name, 'county', keep_NA = True)"
   ]
  },
  {
   "cell_type": "code",
   "execution_count": 8,
   "id": "d5b7d516",
   "metadata": {},
   "outputs": [],
   "source": [
    "cif.shareFL()\n"
   ]
  },
  {
   "cell_type": "code",
   "execution_count": 21,
   "id": "f8d6ef32",
   "metadata": {},
   "outputs": [],
   "source": [
    "contentManager = cif._contentManager\n",
    "area_layers = {key:value for key, value in cif.groupLayersCP.items() if not bool(re.match(\"Facilities.+\", key))}\n",
    "area_layers = {key:value for key, value in area_layers.items() if not bool(re.match(\".+(Tract)\", key))}"
   ]
  },
  {
   "cell_type": "code",
   "execution_count": 22,
   "id": "1651dd95",
   "metadata": {},
   "outputs": [
    {
     "data": {
      "text/plain": [
       "{'Screening & Risk Factors (County)': {'id': '49c9dcc4d5cb4d048ad73cdf5bccb758',\n",
       "  'fields': ['Obese__BMI',\n",
       "   'Cancer_Pre',\n",
       "   'Currently_',\n",
       "   'Met_Breast',\n",
       "   'Had_Pap_Te',\n",
       "   'Met_Colore'],\n",
       "  'alias': ['Obese (BMI over 30)',\n",
       "   'Cancer Prevalence',\n",
       "   'Currently Smoke (Adult)',\n",
       "   'Met Breast Screening Recommendations',\n",
       "   'Had Pap Test in Last 3 Years, Age 21-64',\n",
       "   'Met Colorectal Screening Recommendations']}}"
      ]
     },
     "execution_count": 22,
     "metadata": {},
     "output_type": "execute_result"
    }
   ],
   "source": [
    "area_layers"
   ]
  },
  {
   "cell_type": "code",
   "execution_count": 23,
   "id": "1647bff9",
   "metadata": {},
   "outputs": [
    {
     "data": {
      "application/vnd.jupyter.widget-view+json": {
       "model_id": "9e6b5b940e954fa7bd78fff2a54e8211",
       "version_major": 2,
       "version_minor": 0
      },
      "text/plain": [
       "  0%|          | 0/1 [00:00<?, ?it/s]"
      ]
     },
     "metadata": {},
     "output_type": "display_data"
    }
   ],
   "source": [
    "fl_names = list(area_layers.keys())\n",
    "fl_dicts = list(area_layers.values())\n",
    "fl_length = len(fl_names)\n",
    "for j in trange(fl_length):\n",
    "    flname = fl_names[j]\n",
    "    fl_dict = fl_dicts[j]\n",
    "    webmap_ids = {}\n",
    "    GL_id = fl_dict['id']\n",
    "    GL = contentManager.search(GL_id)[0]\n",
    "#         for flname, fl_dict in area_layers.items():\n",
    "    # first edit alias of each field\n",
    "    if j == 0:\n",
    "        extent = dict(zip(['xmin','ymin','xmax','ymax'], GL.extent[0]+ GL.extent[1]))\n",
    "        extent['spatialReference'] = GL.spatialReference\n",
    "    lyr = GL.layers[0]\n",
    "    properties = lyr.properties\n",
    "    original_colname = fl_dict['alias']\n",
    "    AGOLNames = fl_dict['fields']\n",
    "    sdf_colname = [x.name for x in properties.fields]\n",
    "    colname_dict = dict(zip(original_colname, AGOLNames))\n",
    "\n",
    "for colname in fl_dict['alias']:\n",
    "    AGOLName = colname_dict[colname]\n",
    "    idx = sdf_colname.index(AGOLName)\n",
    "#                 idx, AGOLName = self.getAGOLFieldName(lyr, colname)\n",
    "    properties['fields'][idx]['alias'] = colname\n",
    "lyr.properties = properties\n",
    "time.sleep(.25)\n",
    "# next, define a renderer for each and create webmaps"
   ]
  },
  {
   "cell_type": "code",
   "execution_count": 24,
   "id": "daa73385",
   "metadata": {},
   "outputs": [],
   "source": [
    "colname, title = fl_dict['fields'][0], fl_dict['alias'][0]"
   ]
  },
  {
   "cell_type": "code",
   "execution_count": 25,
   "id": "7507c0b2",
   "metadata": {},
   "outputs": [
    {
     "data": {
      "text/plain": [
       "('Obese__BMI', 'Obese (BMI over 30)')"
      ]
     },
     "execution_count": 25,
     "metadata": {},
     "output_type": "execute_result"
    }
   ],
   "source": [
    "colname, title"
   ]
  },
  {
   "cell_type": "code",
   "execution_count": 26,
   "id": "3a2b36bf",
   "metadata": {},
   "outputs": [
    {
     "data": {
      "application/vnd.jupyter.widget-view+json": {
       "model_id": "1e1ab41fa8c545759f69464802b298f7",
       "version_major": 2,
       "version_minor": 0
      },
      "text/plain": [
       "Adding the layer \"Screening & Risk Factors (County):Obese (BMI over 30)\" to the map:   0%|          | 0/30 [00…"
      ]
     },
     "metadata": {},
     "output_type": "display_data"
    }
   ],
   "source": [
    "renderer = cif.renderer_definition(lyr, colname)\n",
    "new_renderer = cif.add_class_details(renderer)\n",
    "wm = WebMap()\n",
    "wm.add_layer(lyr, {'title': f'{flname} : {title}',\n",
    "                   'renderer': new_renderer})\n",
    "# wm.add_layer(item, {'title': f'{title} : {key}',\n",
    "#                    'renderer' : new_renderer})\n",
    "cif.wait_AGOL(.5, desc = f'Adding the layer \"{flname}:{title}\" to the map')"
   ]
  },
  {
   "cell_type": "code",
   "execution_count": 27,
   "id": "b19b8c8e",
   "metadata": {
    "scrolled": true
   },
   "outputs": [],
   "source": [
    "wm = cif.manage_popups(wm, level = 'county', title = f\"{flname} : {title}\", labels_to_select = original_colname)\n"
   ]
  },
  {
   "cell_type": "code",
   "execution_count": 29,
   "id": "c52cee31",
   "metadata": {},
   "outputs": [
    {
     "data": {
      "application/vnd.jupyter.widget-view+json": {
       "model_id": "bdafa18b6d4d48b18183e39d7da60154",
       "version_major": 2,
       "version_minor": 0
      },
      "text/plain": [
       "Managing Popup:   0%|          | 0/30 [00:00<?, ?it/s]"
      ]
     },
     "metadata": {},
     "output_type": "display_data"
    },
    {
     "data": {
      "application/vnd.jupyter.widget-view+json": {
       "model_id": "dcc77ceb0a624a128f2400f8c66aadb2",
       "version_major": 2,
       "version_minor": 0
      },
      "text/plain": [
       "Creating a WebMap \"Screening & Risk Factors (County):Obese (BMI over 30)\":   0%|          | 0/30 [00:00<?, ?it…"
      ]
     },
     "metadata": {},
     "output_type": "display_data"
    },
    {
     "data": {
      "application/vnd.jupyter.widget-view+json": {
       "model_id": "0028e18f15f04a36a468f4527d90779e",
       "version_major": 2,
       "version_minor": 0
      },
      "text/plain": [
       "Complete: Screening & Risk Factors (County)-Obese (BMI over 30):   0%|          | 0/30 [00:00<?, ?it/s]"
      ]
     },
     "metadata": {},
     "output_type": "display_data"
    }
   ],
   "source": [
    "cif.wait_AGOL(.5, desc = f\"Managing Popup\")\n",
    "wm = cif.addPointLayers(wm, start_index = 1)\n",
    "webmap_item_properties = {'title': f'{flname} : {title}',\n",
    "                         'snippet':f'{flname} : {title}',\n",
    "                         'tags' : ['Python','Automated'],\n",
    "                          'extent': extent\n",
    "                         }\n",
    "webmap = wm.save(webmap_item_properties, folder = cif.AGOL_folder) # testing folder is temporary set-up\n",
    "cif.wait_AGOL(.5, desc = f'Creating a WebMap \"{flname}:{title}\"')\n",
    "#                         searchedWebMap = contentManager.search(f'title:\"{flname} : {title}\"', item_type = 'Web Map')\n",
    "#                         webmap_s = searchedWebMap[0]\n",
    "#                         webmap_s.share(everyone = True)\n",
    "#                         self.wait_AGOL(.5, desc = f\"Chaning sharing option\")\n",
    "webmap_id = webmap.id\n",
    "webmap_ids[title] = webmap_id\n",
    "flag = False\n",
    "cif.wait_AGOL(1, desc = f\"Complete: {flname}-{title}\")\n"
   ]
  },
  {
   "cell_type": "code",
   "execution_count": 30,
   "id": "d8745fb0",
   "metadata": {},
   "outputs": [
    {
     "ename": "AttributeError",
     "evalue": "'super' object has no attribute '_ipython_display_'",
     "output_type": "error",
     "traceback": [
      "\u001b[1;31m---------------------------------------------------------------------------\u001b[0m",
      "\u001b[1;31mAttributeError\u001b[0m                            Traceback (most recent call last)",
      "File \u001b[1;32m~\\AppData\\Roaming\\Python\\Python39\\site-packages\\IPython\\core\\formatters.py:921\u001b[0m, in \u001b[0;36mIPythonDisplayFormatter.__call__\u001b[1;34m(self, obj)\u001b[0m\n\u001b[0;32m    919\u001b[0m method \u001b[38;5;241m=\u001b[39m get_real_method(obj, \u001b[38;5;28mself\u001b[39m\u001b[38;5;241m.\u001b[39mprint_method)\n\u001b[0;32m    920\u001b[0m \u001b[38;5;28;01mif\u001b[39;00m method \u001b[38;5;129;01mis\u001b[39;00m \u001b[38;5;129;01mnot\u001b[39;00m \u001b[38;5;28;01mNone\u001b[39;00m:\n\u001b[1;32m--> 921\u001b[0m     \u001b[43mmethod\u001b[49m\u001b[43m(\u001b[49m\u001b[43m)\u001b[49m\n\u001b[0;32m    922\u001b[0m     \u001b[38;5;28;01mreturn\u001b[39;00m \u001b[38;5;28;01mTrue\u001b[39;00m\n",
      "File \u001b[1;32m~\\AppData\\Roaming\\Python\\Python39\\site-packages\\arcgis\\mapping\\_types.py:298\u001b[0m, in \u001b[0;36mWebMap._ipython_display_\u001b[1;34m(self, *args, **kwargs)\u001b[0m\n\u001b[0;32m    297\u001b[0m \u001b[38;5;28;01mdef\u001b[39;00m \u001b[38;5;21m_ipython_display_\u001b[39m(\u001b[38;5;28mself\u001b[39m, \u001b[38;5;241m*\u001b[39margs, \u001b[38;5;241m*\u001b[39m\u001b[38;5;241m*\u001b[39mkwargs):\n\u001b[1;32m--> 298\u001b[0m     \u001b[38;5;28;01mreturn\u001b[39;00m \u001b[38;5;28mself\u001b[39m\u001b[38;5;241m.\u001b[39m_mapview\u001b[38;5;241m.\u001b[39m_ipython_display_(\u001b[38;5;241m*\u001b[39margs, \u001b[38;5;241m*\u001b[39m\u001b[38;5;241m*\u001b[39mkwargs)\n",
      "File \u001b[1;32m~\\AppData\\Roaming\\Python\\Python39\\site-packages\\arcgis\\widgets\\_mapview\\_mapview.py:948\u001b[0m, in \u001b[0;36mMapView._ipython_display_\u001b[1;34m(self)\u001b[0m\n\u001b[0;32m    942\u001b[0m \u001b[38;5;124;03m\"\"\"Override the parent ipython display function that is called\u001b[39;00m\n\u001b[0;32m    943\u001b[0m \u001b[38;5;124;03mwhenever is displayed in the notebook. Display a blank area\u001b[39;00m\n\u001b[0;32m    944\u001b[0m \u001b[38;5;124;03mbelow the map widget that can be controlled via a display handler\u001b[39;00m\n\u001b[0;32m    945\u001b[0m \u001b[38;5;124;03mset to self._preview_image_display_handler.\u001b[39;00m\n\u001b[0;32m    946\u001b[0m \u001b[38;5;124;03m\"\"\"\u001b[39;00m\n\u001b[0;32m    947\u001b[0m \u001b[38;5;28mself\u001b[39m\u001b[38;5;241m.\u001b[39m_setup_gis_properties(\u001b[38;5;28mself\u001b[39m\u001b[38;5;241m.\u001b[39mgis)\n\u001b[1;32m--> 948\u001b[0m \u001b[38;5;28;43msuper\u001b[39;49m\u001b[43m(\u001b[49m\u001b[43mMapView\u001b[49m\u001b[43m,\u001b[49m\u001b[43m \u001b[49m\u001b[38;5;28;43mself\u001b[39;49m\u001b[43m)\u001b[49m\u001b[38;5;241;43m.\u001b[39;49m\u001b[43m_ipython_display_\u001b[49m()\n\u001b[0;32m    949\u001b[0m \u001b[38;5;28mself\u001b[39m\u001b[38;5;241m.\u001b[39m_preview_image_display_handler \u001b[38;5;241m=\u001b[39m display(\n\u001b[0;32m    950\u001b[0m     HTML(\u001b[38;5;28mself\u001b[39m\u001b[38;5;241m.\u001b[39m_assemble_img_preview_html_str(\u001b[38;5;124m\"\u001b[39m\u001b[38;5;124m\"\u001b[39m)),\n\u001b[0;32m    951\u001b[0m     display_id\u001b[38;5;241m=\u001b[39m\u001b[38;5;124m\"\u001b[39m\u001b[38;5;124mpreview-\u001b[39m\u001b[38;5;124m\"\u001b[39m \u001b[38;5;241m+\u001b[39m \u001b[38;5;28mstr\u001b[39m(\u001b[38;5;28mself\u001b[39m\u001b[38;5;241m.\u001b[39m_uuid),\n\u001b[0;32m    952\u001b[0m )\n\u001b[0;32m    953\u001b[0m \u001b[38;5;28mself\u001b[39m\u001b[38;5;241m.\u001b[39m_preview_html_embed_display_handler \u001b[38;5;241m=\u001b[39m display(\n\u001b[0;32m    954\u001b[0m     HTML(\u001b[38;5;28mself\u001b[39m\u001b[38;5;241m.\u001b[39m_assemble_html_embed_html_str(\u001b[38;5;124m\"\u001b[39m\u001b[38;5;124m\"\u001b[39m)),\n\u001b[0;32m    955\u001b[0m     display_id\u001b[38;5;241m=\u001b[39m\u001b[38;5;124m\"\u001b[39m\u001b[38;5;124mpreview-html-\u001b[39m\u001b[38;5;124m\"\u001b[39m \u001b[38;5;241m+\u001b[39m \u001b[38;5;28mstr\u001b[39m(\u001b[38;5;28mself\u001b[39m\u001b[38;5;241m.\u001b[39m_uuid),\n\u001b[0;32m    956\u001b[0m )\n",
      "\u001b[1;31mAttributeError\u001b[0m: 'super' object has no attribute '_ipython_display_'"
     ]
    },
    {
     "data": {
      "text/plain": [
       "WebMap()"
      ]
     },
     "execution_count": 30,
     "metadata": {},
     "output_type": "execute_result"
    }
   ],
   "source": [
    "wm"
   ]
  },
  {
   "cell_type": "code",
   "execution_count": null,
   "id": "cbd05f8f",
   "metadata": {},
   "outputs": [],
   "source": []
  },
  {
   "cell_type": "code",
   "execution_count": null,
   "id": "2c1efd9d",
   "metadata": {},
   "outputs": [],
   "source": []
  },
  {
   "cell_type": "code",
   "execution_count": null,
   "id": "287b1590",
   "metadata": {},
   "outputs": [],
   "source": []
  },
  {
   "cell_type": "code",
   "execution_count": null,
   "id": "d6cf00da",
   "metadata": {},
   "outputs": [],
   "source": []
  },
  {
   "cell_type": "code",
   "execution_count": null,
   "id": "1066a213",
   "metadata": {},
   "outputs": [],
   "source": []
  },
  {
   "cell_type": "code",
   "execution_count": null,
   "id": "cf4e16e1",
   "metadata": {},
   "outputs": [],
   "source": []
  },
  {
   "cell_type": "code",
   "execution_count": null,
   "id": "27a54667",
   "metadata": {},
   "outputs": [],
   "source": []
  },
  {
   "cell_type": "code",
   "execution_count": null,
   "id": "746bedc7",
   "metadata": {},
   "outputs": [],
   "source": []
  },
  {
   "cell_type": "code",
   "execution_count": null,
   "id": "7e5e2d5b",
   "metadata": {},
   "outputs": [],
   "source": []
  },
  {
   "cell_type": "code",
   "execution_count": null,
   "id": "5a05989c",
   "metadata": {},
   "outputs": [],
   "source": []
  },
  {
   "cell_type": "code",
   "execution_count": 23,
   "id": "baae5893",
   "metadata": {},
   "outputs": [],
   "source": [
    "labels_to_select = original_colname\n",
    "lyr_1 = wm.layers[0]\n",
    "if title is None:\n",
    "    lyr_1.popupInfo.title = .popupInfo.title.replace(\"_\", \" \").title()\n",
    "elif isinstance(title, str):\n",
    "    lyr.popupInfo.title = title\n",
    "else:\n",
    "    raise ValueError(\"title must be a string\")\n",
    "if labels_to_select:\n",
    "    main_fields = [f.label for f in lyr.popupInfo.fieldInfos if f.label in labels_to_select]\n",
    "else:\n",
    "    main_fields = [f.label for f in lyr.popupInfo.fieldInfos if f.fieldName != f.label]\n",
    "try:\n",
    "    main_fields.remove(\"Fips\")\n",
    "except:\n",
    "    pass\n",
    "\n"
   ]
  },
  {
   "cell_type": "code",
   "execution_count": 25,
   "id": "b6e47b06",
   "metadata": {},
   "outputs": [],
   "source": [
    "for field in lyr.popupInfo.fieldInfos:\n",
    "    if field.label.islower():\n",
    "        field.label = field.label.title()\n",
    "    if level.lower() == 'county':\n",
    "        labels_to_include  = ['County','State'] + main_fields\n",
    "    elif level.lower() == 'tract':\n",
    "        labels_to_include = ['Tract','County','State'] + main_fields\n",
    "    else:\n",
    "        raise ValueError('level must be either \"county\" or \"tract\"')\n",
    "\n",
    "    if field.label in labels_to_include:\n",
    "        field.visible = True\n",
    "    else:\n",
    "        field.visible = False\n"
   ]
  },
  {
   "cell_type": "code",
   "execution_count": 26,
   "id": "d3bfad3d",
   "metadata": {},
   "outputs": [
    {
     "ename": "AttributeError",
     "evalue": "'super' object has no attribute '_ipython_display_'",
     "output_type": "error",
     "traceback": [
      "\u001b[1;31m---------------------------------------------------------------------------\u001b[0m",
      "\u001b[1;31mAttributeError\u001b[0m                            Traceback (most recent call last)",
      "File \u001b[1;32m~\\AppData\\Roaming\\Python\\Python39\\site-packages\\IPython\\core\\formatters.py:921\u001b[0m, in \u001b[0;36mIPythonDisplayFormatter.__call__\u001b[1;34m(self, obj)\u001b[0m\n\u001b[0;32m    919\u001b[0m method \u001b[38;5;241m=\u001b[39m get_real_method(obj, \u001b[38;5;28mself\u001b[39m\u001b[38;5;241m.\u001b[39mprint_method)\n\u001b[0;32m    920\u001b[0m \u001b[38;5;28;01mif\u001b[39;00m method \u001b[38;5;129;01mis\u001b[39;00m \u001b[38;5;129;01mnot\u001b[39;00m \u001b[38;5;28;01mNone\u001b[39;00m:\n\u001b[1;32m--> 921\u001b[0m     \u001b[43mmethod\u001b[49m\u001b[43m(\u001b[49m\u001b[43m)\u001b[49m\n\u001b[0;32m    922\u001b[0m     \u001b[38;5;28;01mreturn\u001b[39;00m \u001b[38;5;28;01mTrue\u001b[39;00m\n",
      "File \u001b[1;32m~\\AppData\\Roaming\\Python\\Python39\\site-packages\\arcgis\\mapping\\_types.py:298\u001b[0m, in \u001b[0;36mWebMap._ipython_display_\u001b[1;34m(self, *args, **kwargs)\u001b[0m\n\u001b[0;32m    297\u001b[0m \u001b[38;5;28;01mdef\u001b[39;00m \u001b[38;5;21m_ipython_display_\u001b[39m(\u001b[38;5;28mself\u001b[39m, \u001b[38;5;241m*\u001b[39margs, \u001b[38;5;241m*\u001b[39m\u001b[38;5;241m*\u001b[39mkwargs):\n\u001b[1;32m--> 298\u001b[0m     \u001b[38;5;28;01mreturn\u001b[39;00m \u001b[38;5;28mself\u001b[39m\u001b[38;5;241m.\u001b[39m_mapview\u001b[38;5;241m.\u001b[39m_ipython_display_(\u001b[38;5;241m*\u001b[39margs, \u001b[38;5;241m*\u001b[39m\u001b[38;5;241m*\u001b[39mkwargs)\n",
      "File \u001b[1;32m~\\AppData\\Roaming\\Python\\Python39\\site-packages\\arcgis\\widgets\\_mapview\\_mapview.py:948\u001b[0m, in \u001b[0;36mMapView._ipython_display_\u001b[1;34m(self)\u001b[0m\n\u001b[0;32m    942\u001b[0m \u001b[38;5;124;03m\"\"\"Override the parent ipython display function that is called\u001b[39;00m\n\u001b[0;32m    943\u001b[0m \u001b[38;5;124;03mwhenever is displayed in the notebook. Display a blank area\u001b[39;00m\n\u001b[0;32m    944\u001b[0m \u001b[38;5;124;03mbelow the map widget that can be controlled via a display handler\u001b[39;00m\n\u001b[0;32m    945\u001b[0m \u001b[38;5;124;03mset to self._preview_image_display_handler.\u001b[39;00m\n\u001b[0;32m    946\u001b[0m \u001b[38;5;124;03m\"\"\"\u001b[39;00m\n\u001b[0;32m    947\u001b[0m \u001b[38;5;28mself\u001b[39m\u001b[38;5;241m.\u001b[39m_setup_gis_properties(\u001b[38;5;28mself\u001b[39m\u001b[38;5;241m.\u001b[39mgis)\n\u001b[1;32m--> 948\u001b[0m \u001b[38;5;28;43msuper\u001b[39;49m\u001b[43m(\u001b[49m\u001b[43mMapView\u001b[49m\u001b[43m,\u001b[49m\u001b[43m \u001b[49m\u001b[38;5;28;43mself\u001b[39;49m\u001b[43m)\u001b[49m\u001b[38;5;241;43m.\u001b[39;49m\u001b[43m_ipython_display_\u001b[49m()\n\u001b[0;32m    949\u001b[0m \u001b[38;5;28mself\u001b[39m\u001b[38;5;241m.\u001b[39m_preview_image_display_handler \u001b[38;5;241m=\u001b[39m display(\n\u001b[0;32m    950\u001b[0m     HTML(\u001b[38;5;28mself\u001b[39m\u001b[38;5;241m.\u001b[39m_assemble_img_preview_html_str(\u001b[38;5;124m\"\u001b[39m\u001b[38;5;124m\"\u001b[39m)),\n\u001b[0;32m    951\u001b[0m     display_id\u001b[38;5;241m=\u001b[39m\u001b[38;5;124m\"\u001b[39m\u001b[38;5;124mpreview-\u001b[39m\u001b[38;5;124m\"\u001b[39m \u001b[38;5;241m+\u001b[39m \u001b[38;5;28mstr\u001b[39m(\u001b[38;5;28mself\u001b[39m\u001b[38;5;241m.\u001b[39m_uuid),\n\u001b[0;32m    952\u001b[0m )\n\u001b[0;32m    953\u001b[0m \u001b[38;5;28mself\u001b[39m\u001b[38;5;241m.\u001b[39m_preview_html_embed_display_handler \u001b[38;5;241m=\u001b[39m display(\n\u001b[0;32m    954\u001b[0m     HTML(\u001b[38;5;28mself\u001b[39m\u001b[38;5;241m.\u001b[39m_assemble_html_embed_html_str(\u001b[38;5;124m\"\u001b[39m\u001b[38;5;124m\"\u001b[39m)),\n\u001b[0;32m    955\u001b[0m     display_id\u001b[38;5;241m=\u001b[39m\u001b[38;5;124m\"\u001b[39m\u001b[38;5;124mpreview-html-\u001b[39m\u001b[38;5;124m\"\u001b[39m \u001b[38;5;241m+\u001b[39m \u001b[38;5;28mstr\u001b[39m(\u001b[38;5;28mself\u001b[39m\u001b[38;5;241m.\u001b[39m_uuid),\n\u001b[0;32m    956\u001b[0m )\n",
      "\u001b[1;31mAttributeError\u001b[0m: 'super' object has no attribute '_ipython_display_'"
     ]
    },
    {
     "data": {
      "text/plain": [
       "WebMap()"
      ]
     },
     "execution_count": 26,
     "metadata": {},
     "output_type": "execute_result"
    }
   ],
   "source": [
    "wm"
   ]
  },
  {
   "cell_type": "code",
   "execution_count": null,
   "id": "8b231e51",
   "metadata": {},
   "outputs": [],
   "source": []
  },
  {
   "cell_type": "code",
   "execution_count": null,
   "id": "620ecd95",
   "metadata": {},
   "outputs": [],
   "source": []
  },
  {
   "cell_type": "code",
   "execution_count": null,
   "id": "3efd4971",
   "metadata": {},
   "outputs": [],
   "source": [
    "    @staticmethod\n",
    "    def manage_popups(wm, level = 'county', title  = None, labels_to_select = None):\n",
    "        for lyr in wm.layers:\n",
    "            if title is None:\n",
    "                lyr.popupInfo.title = lyr.popupInfo.title.replace(\"_\", \" \").title()\n",
    "            elif isinstance(title, str):\n",
    "                lyr.popupInfo.title = title\n",
    "            else:\n",
    "                raise ValueError(\"title must be a string\")\n",
    "            if labels_to_select:\n",
    "                main_fields = [f.label for f in lyr.popupInfo.fieldInfos if f.label in labels_to_select]\n",
    "            else:\n",
    "                main_fields = [f.label for f in lyr.popupInfo.fieldInfos if f.fieldName != f.label]\n",
    "            try:\n",
    "                main_fields.remove(\"Fips\")\n",
    "            except:\n",
    "                pass\n",
    "            for field in lyr.popupInfo.fieldInfos:\n",
    "                if field.label.islower():\n",
    "                    field.label = field.label.title()\n",
    "                if level.lower() == 'county':\n",
    "                    labels_to_include  = ['County','State'] + main_fields\n",
    "                elif level.lower() == 'tract':\n",
    "                    labels_to_include = ['Tract','County','State'] + main_fields\n",
    "                else:\n",
    "                    raise ValueError('level must be either \"county\" or \"tract\"')\n",
    "\n",
    "                if field.label in labels_to_include:\n",
    "                    field.visible = True\n",
    "                else:\n",
    "                    field.visible = False\n",
    "        return wm\n"
   ]
  },
  {
   "cell_type": "code",
   "execution_count": null,
   "id": "0e4d48a9",
   "metadata": {},
   "outputs": [],
   "source": []
  },
  {
   "cell_type": "code",
   "execution_count": null,
   "id": "2d92fb1e",
   "metadata": {},
   "outputs": [],
   "source": []
  },
  {
   "cell_type": "code",
   "execution_count": null,
   "id": "281733bb",
   "metadata": {},
   "outputs": [],
   "source": []
  },
  {
   "cell_type": "code",
   "execution_count": null,
   "id": "8d0a1c6b",
   "metadata": {},
   "outputs": [],
   "source": [
    "\n",
    "    def genWebMapFromGroupLayers(self, level= 'county'):\n",
    "        if self._contentManager:\n",
    "            contentManager = self._contentManager\n",
    "        else:\n",
    "            contentManager = self.gis\n",
    "        area_layers = {key:value for key, value in self.groupLayersCP.items() if not bool(re.match(\"Facilities.+\", key))}\n",
    "        if level.lower() == 'county':\n",
    "            area_layers = {key:value for key, value in area_layers.items() if not bool(re.match(\".+(Tract)\", key))}\n",
    "        elif level.lower() == 'tract':\n",
    "            area_layers = {key:value for key, value in area_layers.items() if bool(re.match(\".+(Tract)\", key))}\n",
    "        else:\n",
    "            raise ValueError(\"level can ben either 'county' or 'tract'\")\n",
    "        fl_names = list(area_layers.keys())\n",
    "        fl_dicts = list(area_layers.values())\n",
    "        fl_length = len(fl_names)\n",
    "        for j in trange(fl_length):\n",
    "            flname = fl_names[j]\n",
    "            fl_dict = fl_dicts[j]\n",
    "            webmap_ids = {}\n",
    "            GL_id = fl_dict['id']\n",
    "            GL = contentManager.search(GL_id)[0]\n",
    "#         for flname, fl_dict in area_layers.items():\n",
    "            # first edit alias of each field\n",
    "            if j == 0:\n",
    "                extent = dict(zip(['xmin','ymin','xmax','ymax'], GL.extent[0]+ GL.extent[1]))\n",
    "                extent['spatialReference'] = GL.spatialReference\n",
    "            lyr = GL.layers[0]\n",
    "            properties = lyr.properties\n",
    "            original_colname = fl_dict['alias']\n",
    "            AGOLNames = fl_dict['fields']\n",
    "            sdf_colname = [x.name for x in properties.fields]\n",
    "            colname_dict = dict(zip(original_colname, AGOLNames))\n",
    "\n",
    "            for colname in fl_dict['alias']:\n",
    "                AGOLName = colname_dict[colname]\n",
    "                idx = sdf_colname.index(AGOLName)\n",
    "#                 idx, AGOLName = self.getAGOLFieldName(lyr, colname)\n",
    "                properties['fields'][idx]['alias'] = colname\n",
    "            lyr.properties = properties\n",
    "            time.sleep(.25)\n",
    "            # next, define a renderer for each and create webmaps\n",
    "            for colname, title in zip(fl_dict['fields'], fl_dict['alias']):\n",
    "                renderer = self.renderer_definition(lyr, colname)\n",
    "                new_renderer = self.add_class_details(renderer)\n",
    "                flag = True\n",
    "                while flag:\n",
    "                    try:\n",
    "                        wm = WebMap()\n",
    "                        wm.add_layer(lyr, {'title': f'{flname} : {title}',\n",
    "                                           'renderer': new_renderer})\n",
    "                        # wm.add_layer(item, {'title': f'{title} : {key}',\n",
    "                        #                    'renderer' : new_renderer})\n",
    "                        self.wait_AGOL(.5, desc = f'Adding the layer \"{flname}:{title}\" to the map')\n",
    "                        wm = self.manage_popups(wm, level = level, title = f\"{flname} : {title}\", labels_to_select = original_colname)\n",
    "                        self.wait_AGOL(.5, desc = f\"Managing Popup\")\n",
    "                        wm = self.addPointLayers(wm, start_index = 1)\n",
    "                        webmap_item_properties = {'title': f'{flname} : {title}',\n",
    "                                                 'snippet':f'{flname} : {title}',\n",
    "                                                 'tags' : ['Python','Automated'],\n",
    "                                                  'extent': extent\n",
    "                                                 }\n",
    "                        webmap = wm.save(webmap_item_properties, folder = self.AGOL_folder) # testing folder is temporary set-up\n",
    "                        self.wait_AGOL(.5, desc = f'Creating a WebMap \"{flname}:{title}\"')\n",
    "#                         searchedWebMap = contentManager.search(f'title:\"{flname} : {title}\"', item_type = 'Web Map')\n",
    "#                         webmap_s = searchedWebMap[0]\n",
    "#                         webmap_s.share(everyone = True)\n",
    "#                         self.wait_AGOL(.5, desc = f\"Chaning sharing option\")\n",
    "                        webmap_id = webmap.id\n",
    "                        webmap_ids[title] = webmap_id\n",
    "                        flag = False\n",
    "                        self.wait_AGOL(1, desc = f\"Complete: {flname}-{title}\")\n",
    "                    except:\n",
    "                        time.sleep(2)\n",
    "                        self.error_count += 1\n",
    "                        if self.error_count >= 5:\n",
    "                            contentManager = self.gis\n",
    "                            self.error_count = 0\n",
    "            self.webmaps[flname] = webmap_ids\n",
    "            del self.groupLayersCP[flname]\n",
    "        self.shareWebMaps(level = level)\n",
    "        return self.webmaps\n"
   ]
  },
  {
   "cell_type": "code",
   "execution_count": 11,
   "id": "b66022d3",
   "metadata": {},
   "outputs": [
    {
     "data": {
      "application/vnd.jupyter.widget-view+json": {
       "model_id": "7289490c9282485ca66303d8ee06ada2",
       "version_major": 2,
       "version_minor": 0
      },
      "text/plain": [
       "  0%|          | 0/1 [00:00<?, ?it/s]"
      ]
     },
     "metadata": {},
     "output_type": "display_data"
    },
    {
     "data": {
      "application/vnd.jupyter.widget-view+json": {
       "model_id": "2d66bcfba05d44febb8bedc63564b0c7",
       "version_major": 2,
       "version_minor": 0
      },
      "text/plain": [
       "Adding the layer \"Screening & Risk Factors (County):Obese (BMI over 30)\" to the map:   0%|          | 0/30 [00…"
      ]
     },
     "metadata": {},
     "output_type": "display_data"
    },
    {
     "data": {
      "application/vnd.jupyter.widget-view+json": {
       "model_id": "cc2776d74b704b46a94b79b9e66f9aca",
       "version_major": 2,
       "version_minor": 0
      },
      "text/plain": [
       "Managing Popup:   0%|          | 0/30 [00:00<?, ?it/s]"
      ]
     },
     "metadata": {},
     "output_type": "display_data"
    },
    {
     "data": {
      "application/vnd.jupyter.widget-view+json": {
       "model_id": "ab2aca816f7644c79548f9e29d1a870b",
       "version_major": 2,
       "version_minor": 0
      },
      "text/plain": [
       "Creating a WebMap \"Screening & Risk Factors (County):Obese (BMI over 30)\":   0%|          | 0/30 [00:00<?, ?it…"
      ]
     },
     "metadata": {},
     "output_type": "display_data"
    },
    {
     "data": {
      "application/vnd.jupyter.widget-view+json": {
       "model_id": "cea18eb39e2b487ea51cf07c35f5ef8e",
       "version_major": 2,
       "version_minor": 0
      },
      "text/plain": [
       "Complete: Screening & Risk Factors (County)-Obese (BMI over 30):   0%|          | 0/30 [00:00<?, ?it/s]"
      ]
     },
     "metadata": {},
     "output_type": "display_data"
    },
    {
     "ename": "KeyboardInterrupt",
     "evalue": "",
     "output_type": "error",
     "traceback": [
      "\u001b[1;31m---------------------------------------------------------------------------\u001b[0m",
      "\u001b[1;31mException\u001b[0m                                 Traceback (most recent call last)",
      "File \u001b[1;32m~\\Desktop\\Personal\\Education\\University of Kentucky\\spatial_mapping\\Spatial_Mapping_Training\\Zella\\testing_arcgis.py:707\u001b[0m, in \u001b[0;36mCIFTool_AGOL.renderer_definition\u001b[1;34m(lyr, fieldName)\u001b[0m\n\u001b[0;32m    706\u001b[0m \u001b[38;5;28;01mtry\u001b[39;00m:\n\u001b[1;32m--> 707\u001b[0m     renderer \u001b[38;5;241m=\u001b[39m \u001b[43mlyr\u001b[49m\u001b[38;5;241;43m.\u001b[39;49m\u001b[43mgenerate_renderer\u001b[49m\u001b[43m(\u001b[49m\u001b[43mdefinition\u001b[49m\u001b[43m)\u001b[49m\n\u001b[0;32m    708\u001b[0m     flag \u001b[38;5;241m=\u001b[39m \u001b[38;5;28;01mFalse\u001b[39;00m\n",
      "File \u001b[1;32m~\\AppData\\Roaming\\Python\\Python39\\site-packages\\arcgis\\features\\layer.py:505\u001b[0m, in \u001b[0;36mFeatureLayer.generate_renderer\u001b[1;34m(self, definition, where)\u001b[0m\n\u001b[0;32m    504\u001b[0m     params[\u001b[38;5;124m\"\u001b[39m\u001b[38;5;124mlayer\u001b[39m\u001b[38;5;124m\"\u001b[39m] \u001b[38;5;241m=\u001b[39m \u001b[38;5;28mself\u001b[39m\u001b[38;5;241m.\u001b[39m_dynamic_layer\n\u001b[1;32m--> 505\u001b[0m \u001b[38;5;28;01mreturn\u001b[39;00m \u001b[38;5;28;43mself\u001b[39;49m\u001b[38;5;241;43m.\u001b[39;49m\u001b[43m_con\u001b[49m\u001b[38;5;241;43m.\u001b[39;49m\u001b[43mpost\u001b[49m\u001b[43m(\u001b[49m\u001b[43mpath\u001b[49m\u001b[38;5;241;43m=\u001b[39;49m\u001b[43murl\u001b[49m\u001b[43m,\u001b[49m\u001b[43m \u001b[49m\u001b[43mpostdata\u001b[49m\u001b[38;5;241;43m=\u001b[39;49m\u001b[43mparams\u001b[49m\u001b[43m)\u001b[49m\n",
      "File \u001b[1;32m~\\AppData\\Roaming\\Python\\Python39\\site-packages\\arcgis\\gis\\_impl\\_con\\_connection.py:1407\u001b[0m, in \u001b[0;36mConnection.post\u001b[1;34m(self, path, params, files, **kwargs)\u001b[0m\n\u001b[0;32m   1406\u001b[0m     \u001b[38;5;28;01mreturn\u001b[39;00m resp\n\u001b[1;32m-> 1407\u001b[0m \u001b[38;5;28;01mreturn\u001b[39;00m \u001b[38;5;28;43mself\u001b[39;49m\u001b[38;5;241;43m.\u001b[39;49m\u001b[43m_handle_response\u001b[49m\u001b[43m(\u001b[49m\n\u001b[0;32m   1408\u001b[0m \u001b[43m    \u001b[49m\u001b[43mresp\u001b[49m\u001b[38;5;241;43m=\u001b[39;49m\u001b[43mresp\u001b[49m\u001b[43m,\u001b[49m\n\u001b[0;32m   1409\u001b[0m \u001b[43m    \u001b[49m\u001b[43mout_path\u001b[49m\u001b[38;5;241;43m=\u001b[39;49m\u001b[43mout_path\u001b[49m\u001b[43m,\u001b[49m\n\u001b[0;32m   1410\u001b[0m \u001b[43m    \u001b[49m\u001b[43mfile_name\u001b[49m\u001b[38;5;241;43m=\u001b[39;49m\u001b[43mfile_name\u001b[49m\u001b[43m,\u001b[49m\n\u001b[0;32m   1411\u001b[0m \u001b[43m    \u001b[49m\u001b[43mtry_json\u001b[49m\u001b[38;5;241;43m=\u001b[39;49m\u001b[43mtry_json\u001b[49m\u001b[43m,\u001b[49m\n\u001b[0;32m   1412\u001b[0m \u001b[43m    \u001b[49m\u001b[43mforce_bytes\u001b[49m\u001b[38;5;241;43m=\u001b[39;49m\u001b[43mkwargs\u001b[49m\u001b[38;5;241;43m.\u001b[39;49m\u001b[43mpop\u001b[49m\u001b[43m(\u001b[49m\u001b[38;5;124;43m\"\u001b[39;49m\u001b[38;5;124;43mforce_bytes\u001b[39;49m\u001b[38;5;124;43m\"\u001b[39;49m\u001b[43m,\u001b[49m\u001b[43m \u001b[49m\u001b[38;5;28;43;01mFalse\u001b[39;49;00m\u001b[43m)\u001b[49m\u001b[43m,\u001b[49m\n\u001b[0;32m   1413\u001b[0m \u001b[43m\u001b[49m\u001b[43m)\u001b[49m\n",
      "File \u001b[1;32m~\\AppData\\Roaming\\Python\\Python39\\site-packages\\arcgis\\gis\\_impl\\_con\\_connection.py:900\u001b[0m, in \u001b[0;36mConnection._handle_response\u001b[1;34m(self, resp, file_name, out_path, try_json, force_bytes, ignore_error_key)\u001b[0m\n\u001b[0;32m    899\u001b[0m     errorcode \u001b[38;5;241m=\u001b[39m data[\u001b[38;5;124m\"\u001b[39m\u001b[38;5;124merror\u001b[39m\u001b[38;5;124m\"\u001b[39m][\u001b[38;5;124m\"\u001b[39m\u001b[38;5;124mcode\u001b[39m\u001b[38;5;124m\"\u001b[39m] \u001b[38;5;28;01mif\u001b[39;00m \u001b[38;5;124m\"\u001b[39m\u001b[38;5;124mcode\u001b[39m\u001b[38;5;124m\"\u001b[39m \u001b[38;5;129;01min\u001b[39;00m data[\u001b[38;5;124m\"\u001b[39m\u001b[38;5;124merror\u001b[39m\u001b[38;5;124m\"\u001b[39m] \u001b[38;5;28;01melse\u001b[39;00m \u001b[38;5;241m0\u001b[39m\n\u001b[1;32m--> 900\u001b[0m     \u001b[38;5;28;43mself\u001b[39;49m\u001b[38;5;241;43m.\u001b[39;49m\u001b[43m_handle_json_error\u001b[49m\u001b[43m(\u001b[49m\u001b[43mdata\u001b[49m\u001b[43m[\u001b[49m\u001b[38;5;124;43m\"\u001b[39;49m\u001b[38;5;124;43merror\u001b[39;49m\u001b[38;5;124;43m\"\u001b[39;49m\u001b[43m]\u001b[49m\u001b[43m,\u001b[49m\u001b[43m \u001b[49m\u001b[43merrorcode\u001b[49m\u001b[43m)\u001b[49m\n\u001b[0;32m    901\u001b[0m \u001b[38;5;28;01mreturn\u001b[39;00m data\n",
      "File \u001b[1;32m~\\AppData\\Roaming\\Python\\Python39\\site-packages\\arcgis\\gis\\_impl\\_con\\_connection.py:923\u001b[0m, in \u001b[0;36mConnection._handle_json_error\u001b[1;34m(self, error, errorcode)\u001b[0m\n\u001b[0;32m    922\u001b[0m errormessage \u001b[38;5;241m=\u001b[39m errormessage \u001b[38;5;241m+\u001b[39m \u001b[38;5;124m\"\u001b[39m\u001b[38;5;130;01m\\n\u001b[39;00m\u001b[38;5;124m(Error Code: \u001b[39m\u001b[38;5;124m\"\u001b[39m \u001b[38;5;241m+\u001b[39m \u001b[38;5;28mstr\u001b[39m(errorcode) \u001b[38;5;241m+\u001b[39m \u001b[38;5;124m\"\u001b[39m\u001b[38;5;124m)\u001b[39m\u001b[38;5;124m\"\u001b[39m\n\u001b[1;32m--> 923\u001b[0m \u001b[38;5;28;01mraise\u001b[39;00m \u001b[38;5;167;01mException\u001b[39;00m(errormessage)\n",
      "\u001b[1;31mException\u001b[0m: \nUnable to generate renderer.\n(Error Code: 400)",
      "\nDuring handling of the above exception, another exception occurred:\n",
      "\u001b[1;31mKeyboardInterrupt\u001b[0m                         Traceback (most recent call last)",
      "Cell \u001b[1;32mIn [11], line 1\u001b[0m\n\u001b[1;32m----> 1\u001b[0m \u001b[43mcif\u001b[49m\u001b[38;5;241;43m.\u001b[39;49m\u001b[43mgenWebMapFromGroupLayers\u001b[49m\u001b[43m(\u001b[49m\u001b[43mlevel\u001b[49m\u001b[43m \u001b[49m\u001b[38;5;241;43m=\u001b[39;49m\u001b[43m \u001b[49m\u001b[38;5;124;43m'\u001b[39;49m\u001b[38;5;124;43mcounty\u001b[39;49m\u001b[38;5;124;43m'\u001b[39;49m\u001b[43m)\u001b[49m\n",
      "File \u001b[1;32m~\\Desktop\\Personal\\Education\\University of Kentucky\\spatial_mapping\\Spatial_Mapping_Training\\Zella\\testing_arcgis.py:539\u001b[0m, in \u001b[0;36mCIFTool_AGOL.genWebMapFromGroupLayers\u001b[1;34m(self, level)\u001b[0m\n\u001b[0;32m    537\u001b[0m \u001b[38;5;66;03m# next, define a renderer for each and create webmaps\u001b[39;00m\n\u001b[0;32m    538\u001b[0m \u001b[38;5;28;01mfor\u001b[39;00m colname, title \u001b[38;5;129;01min\u001b[39;00m \u001b[38;5;28mzip\u001b[39m(fl_dict[\u001b[38;5;124m'\u001b[39m\u001b[38;5;124mfields\u001b[39m\u001b[38;5;124m'\u001b[39m], fl_dict[\u001b[38;5;124m'\u001b[39m\u001b[38;5;124malias\u001b[39m\u001b[38;5;124m'\u001b[39m]):\n\u001b[1;32m--> 539\u001b[0m     renderer \u001b[38;5;241m=\u001b[39m \u001b[38;5;28;43mself\u001b[39;49m\u001b[38;5;241;43m.\u001b[39;49m\u001b[43mrenderer_definition\u001b[49m\u001b[43m(\u001b[49m\u001b[43mlyr\u001b[49m\u001b[43m,\u001b[49m\u001b[43m \u001b[49m\u001b[43mcolname\u001b[49m\u001b[43m)\u001b[49m\n\u001b[0;32m    540\u001b[0m     new_renderer \u001b[38;5;241m=\u001b[39m \u001b[38;5;28mself\u001b[39m\u001b[38;5;241m.\u001b[39madd_class_details(renderer)\n\u001b[0;32m    541\u001b[0m     flag \u001b[38;5;241m=\u001b[39m \u001b[38;5;28;01mTrue\u001b[39;00m\n",
      "File \u001b[1;32m~\\Desktop\\Personal\\Education\\University of Kentucky\\spatial_mapping\\Spatial_Mapping_Training\\Zella\\testing_arcgis.py:710\u001b[0m, in \u001b[0;36mCIFTool_AGOL.renderer_definition\u001b[1;34m(lyr, fieldName)\u001b[0m\n\u001b[0;32m    708\u001b[0m         flag \u001b[38;5;241m=\u001b[39m \u001b[38;5;28;01mFalse\u001b[39;00m\n\u001b[0;32m    709\u001b[0m     \u001b[38;5;28;01mexcept\u001b[39;00m:\n\u001b[1;32m--> 710\u001b[0m         \u001b[43mtime\u001b[49m\u001b[38;5;241;43m.\u001b[39;49m\u001b[43msleep\u001b[49m\u001b[43m(\u001b[49m\u001b[38;5;241;43m5\u001b[39;49m\u001b[43m)\u001b[49m\n\u001b[0;32m    711\u001b[0m \u001b[38;5;28;01mreturn\u001b[39;00m renderer\n",
      "\u001b[1;31mKeyboardInterrupt\u001b[0m: "
     ]
    }
   ],
   "source": [
    "    def genWebMapFromGroupLayers(self, level= 'county'):\n",
    "        if self._contentManager:\n",
    "            contentManager = self._contentManager\n",
    "        else:\n",
    "            contentManager = self.gis\n",
    "        area_layers = {key:value for key, value in self.groupLayersCP.items() if not bool(re.match(\"Facilities.+\", key))}\n",
    "        if level.lower() == 'county':\n",
    "            area_layers = {key:value for key, value in area_layers.items() if not bool(re.match(\".+(Tract)\", key))}\n",
    "        elif level.lower() == 'tract':\n",
    "            area_layers = {key:value for key, value in area_layers.items() if bool(re.match(\".+(Tract)\", key))}\n",
    "        else:\n",
    "            raise ValueError(\"level can ben either 'county' or 'tract'\")\n",
    "        fl_names = list(area_layers.keys())\n",
    "        fl_dicts = list(area_layers.values())\n",
    "        fl_length = len(fl_names)\n",
    "        for j in trange(fl_length):\n",
    "            flname = fl_names[j]\n",
    "            fl_dict = fl_dicts[j]\n",
    "            webmap_ids = {}\n",
    "            GL_id = fl_dict['id']\n",
    "            GL = contentManager.search(GL_id)[0]\n",
    "#         for flname, fl_dict in area_layers.items():\n",
    "            # first edit alias of each field\n",
    "            if j == 0:\n",
    "                extent = dict(zip(['xmin','ymin','xmax','ymax'], GL.extent[0]+ GL.extent[1]))\n",
    "                extent['spatialReference'] = GL.spatialReference\n",
    "            lyr = GL.layers[0]\n",
    "            properties = lyr.properties\n",
    "            original_colname = fl_dict['alias']\n",
    "            AGOLNames = fl_dict['fields']\n",
    "            sdf_colname = [x.name for x in properties.fields]\n",
    "            colname_dict = dict(zip(original_colname, AGOLNames))\n",
    "\n",
    "            for colname in fl_dict['alias']:\n",
    "                AGOLName = colname_dict[colname]\n",
    "                idx = sdf_colname.index(AGOLName)\n",
    "#                 idx, AGOLName = self.getAGOLFieldName(lyr, colname)\n",
    "                properties['fields'][idx]['alias'] = colname\n",
    "            lyr.properties = properties\n",
    "            time.sleep(.25)\n",
    "            # next, define a renderer for each and create webmaps\n",
    "            for colname, title in zip(fl_dict['fields'], fl_dict['alias']):\n",
    "                renderer = self.renderer_definition(lyr, colname)\n",
    "                new_renderer = self.add_class_details(renderer)\n",
    "                flag = True\n",
    "                while flag:\n",
    "                    try:\n",
    "                        wm = WebMap()\n",
    "                        wm.add_layer(lyr, {'title': f'{flname} : {title}',\n",
    "                                           'renderer': new_renderer})\n",
    "                        # wm.add_layer(item, {'title': f'{title} : {key}',\n",
    "                        #                    'renderer' : new_renderer})\n",
    "                        self.wait_AGOL(.5, desc = f'Adding the layer \"{flname}:{title}\" to the map')\n",
    "                        wm = self.manage_popups(wm, level = level, title = f\"{flname} : {title}\")\n",
    "                        self.wait_AGOL(.5, desc = f\"Managing Popup\")\n",
    "                        wm = self.addPointLayers(wm, start_index = 1)\n",
    "                        webmap_item_properties = {'title': f'{flname} : {title}',\n",
    "                                                 'snippet':f'{flname} : {title}',\n",
    "                                                 'tags' : ['Python','Automated'],\n",
    "                                                  'extent': extent\n",
    "                                                 }\n",
    "                        webmap = wm.save(webmap_item_properties, folder = self.AGOL_folder) # testing folder is temporary set-up\n",
    "                        self.wait_AGOL(.5, desc = f'Creating a WebMap \"{flname}:{title}\"')\n",
    "#                         searchedWebMap = contentManager.search(f'title:\"{flname} : {title}\"', item_type = 'Web Map')\n",
    "#                         webmap_s = searchedWebMap[0]\n",
    "#                         webmap_s.share(everyone = True)\n",
    "#                         self.wait_AGOL(.5, desc = f\"Chaning sharing option\")\n",
    "                        webmap_id = webmap.id\n",
    "                        webmap_ids[title] = webmap_id\n",
    "                        flag = False\n",
    "                        self.wait_AGOL(1, desc = f\"Complete: {flname}-{title}\")\n",
    "                    except:\n",
    "                        time.sleep(2)\n",
    "                        self.error_count += 1\n",
    "                        if self.error_count >= 5:\n",
    "                            contentManager = self.gis\n",
    "                            self.error_count = 0\n",
    "            self.webmaps[flname] = webmap_ids\n",
    "            del self.groupLayersCP[flname]\n",
    "        self.shareWebMaps(level = level)\n",
    "        return self.webmaps\n"
   ]
  },
  {
   "cell_type": "code",
   "execution_count": null,
   "id": "075f4673",
   "metadata": {},
   "outputs": [],
   "source": []
  }
 ],
 "metadata": {
  "kernelspec": {
   "display_name": "Python 3 (ipykernel)",
   "language": "python",
   "name": "python3"
  },
  "language_info": {
   "codemirror_mode": {
    "name": "ipython",
    "version": 3
   },
   "file_extension": ".py",
   "mimetype": "text/x-python",
   "name": "python",
   "nbconvert_exporter": "python",
   "pygments_lexer": "ipython3",
   "version": "3.9.13"
  }
 },
 "nbformat": 4,
 "nbformat_minor": 5
}
