{
 "cells": [
  {
   "cell_type": "markdown",
   "id": "5bc10a0d",
   "metadata": {},
   "source": [
    "# 3 projects\n",
    "\n",
    "Deadline: April\n",
    "\n",
    "* CIF_Tool + data-pull (Zella)\n",
    "    * pulling initial data (step 1)\n",
    "    * already working but has bugs (http request errors, etc.--issue with server, timeout during busy times?)\n",
    "    * code needs to be more functional\n",
    "    * Lang: 100% Python\n",
    "    * TODO:\n",
    "        * everything starts from CIF_Tool: bunch of https requests\n",
    "            * functions and class for each of communications--take a few weeks to understand this\n",
    "            * Lee will send code over weekend\n",
    "* AGOL wrapper (Yang)\n",
    "    * arcgis online wrapper--create feature layers, webmaps, get everything ready before launching website\n",
    "    * data prep (step 2)\n",
    "    * one Lee is currently working on, almost done\n",
    "    * ARCADE: spatial language/protocol from ArcGIS--need to study this to add more functionality to wrapper\n",
    "    * Lang: 95% Python, 5% Arcade\n",
    "* ArcGIS Javascript (Bridget)\n",
    "    * assembling website(?) (step 3)\n",
    "    * pretty much nothing has been done here--get layers and IDs of layers and webmap, use HTML and JavaScript to build site\n",
    "    * Lang: 10% HTML, 5% CSS, 85% JavaScript"
   ]
  }
 ],
 "metadata": {
  "kernelspec": {
   "display_name": "Python 3 (ipykernel)",
   "language": "python",
   "name": "python3"
  },
  "language_info": {
   "codemirror_mode": {
    "name": "ipython",
    "version": 3
   },
   "file_extension": ".py",
   "mimetype": "text/x-python",
   "name": "python",
   "nbconvert_exporter": "python",
   "pygments_lexer": "ipython3",
   "version": "3.9.0"
  }
 },
 "nbformat": 4,
 "nbformat_minor": 5
}
