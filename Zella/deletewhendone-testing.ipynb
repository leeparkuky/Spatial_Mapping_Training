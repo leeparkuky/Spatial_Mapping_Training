{
 "cells": [
  {
   "cell_type": "markdown",
   "id": "1dc7068e",
   "metadata": {},
   "source": [
    "# error message text:\n",
    "\n",
    "C:\\Users\\zella\\Desktop\\Personal\\Education\\University of Kentucky\\spatial_mapping\\Spatial_Mapping_Training\\Zella\\Dartmouth_csv_test_catchment_data\\src\n",
    "please locate the chrome driver file in ./input_folder\\chromedriver.exe (TEST 1)\n",
    "you can download the driver file from https://sites.google.com/chromium.org/driver/ (TEST 1)\n",
    "Traceback (most recent call last):\n",
    "  File \"C:\\Users\\zella\\Desktop\\Personal\\Education\\University of Kentucky\\spatial_mapping\\Spatial_Mapping_Training\\Zella\\z_annotated_cifpull.py\", line 706, in <module>\n",
    "    comp_data4AGOL()\n",
    "  File \"C:\\Users\\zella\\Desktop\\Personal\\Education\\University of Kentucky\\spatial_mapping\\Spatial_Mapping_Training\\Zella\\z_annotated_cifpull.py\", line 585, in comp_data4AGOL\n",
    "    env = gen_env_data()\n",
    "  File \"C:\\Users\\zella\\Desktop\\Personal\\Education\\University of Kentucky\\spatial_mapping\\Spatial_Mapping_Training\\Zella\\z_annotated_cifpull.py\", line 437, in gen_env_data\n",
    "    FCC = fcc(state=s, download_path = dl_path, chrome_driver_path = drive_file)\n",
    "  File \"C:\\Users\\zella\\Desktop\\Personal\\Education\\University of Kentucky\\spatial_mapping\\Spatial_Mapping_Training\\Zella\\z_annotated_ciftools.py\", line 1435, in __init__\n",
    "    self.gen_df()\n",
    "  File \"C:\\Users\\zella\\Desktop\\Personal\\Education\\University of Kentucky\\spatial_mapping\\Spatial_Mapping_Training\\Zella\\z_annotated_ciftools.py\", line 1492, in gen_df\n",
    "    file_path = self.file_path # ZELLA NOTE: AttributeError: 'fcc' object has no attribute 'file_path'\n",
    "AttributeError: 'fcc' object has no attribute 'file_path'\n"
   ]
  },
  {
   "cell_type": "code",
   "execution_count": 15,
   "id": "f8e5f0d8",
   "metadata": {},
   "outputs": [],
   "source": [
    "# import everything\n",
    "import pandas as pd\n",
    "import requests\n",
    "import re\n",
    "import numpy as np\n",
    "from bs4 import BeautifulSoup\n",
    "import time\n",
    "import os\n",
    "from io import BytesIO\n",
    "from zipfile import ZipFile\n",
    "import urllib.request\n",
    "import glob\n",
    "import sys # can't tell if this is in the Tools file\n",
    "from selenium import webdriver\n",
    "from selenium.webdriver.common.by import By"
   ]
  },
  {
   "cell_type": "code",
   "execution_count": 67,
   "id": "e0cfa5f8",
   "metadata": {},
   "outputs": [],
   "source": [
    "# fcc class\n",
    "\n",
    "class fcc:\n",
    "    def __init__(self, state = 'KY', chrome_driver_path = None, download_path = None,  remove_download = False, file_path = None):\n",
    "        response = requests.get('https://www.fcc.gov/general/broadband-deployment-data-fcc-form-477')\n",
    "        soup = BeautifulSoup(response.content, \"html.parser\")\n",
    "        self.data_url = soup.find_all(href=re.compile(state))[-1]['href']\n",
    "        self.download_data(state2 = state, chrome_driver_path = chrome_driver_path, download_path = download_path)\n",
    "        self.gen_df()\n",
    "        self.file_path = r'C:\\Users\\zella\\Desktop\\Personal\\Education\\University of Kentucky\\spatial_mapping\\Spatial_Mapping_Training\\Zella\\Dartmouth_csv_test_catchment_data' # zella note: temporary, for testing\n",
    "        if remove_download: \n",
    "            os.remove(self.file_path)\n",
    "\n",
    "\n",
    "\n",
    "    def download_data(self, state2 = 'KY', chrome_driver_path = None, download_path = None):\n",
    "        # from selenium.webdriver.support.ui import WebDriverWait as wait\n",
    "        # from selenium.webdriver.common.keys import Keys\n",
    "        # from selenium.webdriver.support.ui import Select\n",
    "        from selenium import webdriver\n",
    "        from selenium.webdriver.common.by import By\n",
    "\n",
    "        if chrome_driver_path == None:\n",
    "            chrome_driver_path = 'chromedriver'\n",
    "            if sys.platform.lower()[:3] == 'win':\n",
    "            \tchrome_driver_path += '.exe'\n",
    "            chrome_driver_path = os.path.join(os.getcwd() , 'input_folder', chrome_driver_path)\n",
    "            print(chrome_driver_path)\n",
    "        try:\n",
    "            driver = webdriver.Chrome(chrome_driver_path) # Zella note: seems like this line may be causing errors\n",
    "            driver.close()\n",
    "        except:\n",
    "            print(f'please locate the chrome driver file in {chrome_driver_path} (TEST 1)') # Zella note: adding test text to distinguish NOTE: this is being triggered\n",
    "            print('you can download the driver file from https://sites.google.com/chromium.org/driver/ (TEST 1)')  # Zella note: adding test text to distinguish\n",
    "        else:\n",
    "            if download_path:\n",
    "                chrome_options = webdriver.ChromeOptions()\n",
    "                prefs = {'download.default_directory' : download_path}\n",
    "                chrome_options.add_experimental_option('prefs', prefs)\n",
    "                driver = webdriver.Chrome(chrome_driver_path, chrome_options = chrome_options)\n",
    "            else:\n",
    "                driver = webdriver.Chrome(chrome_driver_path)\n",
    "            driver.get(self.data_url)\n",
    "            time.sleep(5)\n",
    "            driver.find_elements(By.CLASS_NAME, 'btn')[1].click()\n",
    "\n",
    "            t = 0\n",
    "\n",
    "            while t == False:\n",
    "                time.sleep(5)\n",
    "                t = os.path.isfile(f'{download_path}\\\\{state2}-Fixed-Jun2021.zip')\n",
    "                t = len(glob.glob(os.path.join(download_path, '*.zip'), recursive = True)) > 0\n",
    "                print(t)\n",
    "                print(f'Waiting on {state2} broadband data...')\n",
    "            else:\n",
    "                print(f'{state2} broadband data ready')\n",
    "\n",
    "            driver.close()\n",
    "\n",
    "            if download_path == None:\n",
    "                print('check your download folder for the file')\n",
    "            else:\n",
    "                file_path = glob.glob(os.path.join(download_path, '*.zip'), recursive = True)[-1]\n",
    "                self.file_path = file_path\n",
    "                print(file_path)\n",
    "\n",
    "    def gen_df(self):\n",
    "        file_path = r'C:\\Users\\zella\\Desktop\\Personal\\Education\\University of Kentucky\\spatial_mapping\\Spatial_Mapping_Training\\Zella\\Dartmouth_csv_test_catchment_data.zip' # ZELLA NOTE: AttributeError: 'fcc' object has no attribute 'file_path'\n",
    "        with ZipFile(file_path) as my_zip_file:\n",
    "            df = pd.read_csv(my_zip_file.open(my_zip_file.namelist()[0]))\n",
    "            df = df[['StateAbbr','BlockCode','MaxAdDown','MaxAdUp']]\n",
    "            print(file_path)\n",
    "            self.fcc_data = df\n",
    "            my_zip_file.close()"
   ]
  },
  {
   "cell_type": "code",
   "execution_count": 68,
   "id": "b096ecf5",
   "metadata": {},
   "outputs": [
    {
     "name": "stdout",
     "output_type": "stream",
     "text": [
      "C:\\Users\\zella\\Desktop\\Personal\\Education\\University of Kentucky\\spatial_mapping\\Spatial_Mapping_Training\\Zella\\input_folder\\chromedriver.exe\n"
     ]
    },
    {
     "name": "stderr",
     "output_type": "stream",
     "text": [
      "C:\\Users\\zella\\AppData\\Local\\Temp\\ipykernel_6316\\865820118.py:30: DeprecationWarning: executable_path has been deprecated, please pass in a Service object\n",
      "  driver = webdriver.Chrome(chrome_driver_path) # Zella note: seems like this line may be causing errors\n",
      "C:\\Users\\zella\\AppData\\Local\\Temp\\ipykernel_6316\\865820118.py:42: DeprecationWarning: executable_path has been deprecated, please pass in a Service object\n",
      "  driver = webdriver.Chrome(chrome_driver_path)\n"
     ]
    },
    {
     "ename": "TypeError",
     "evalue": "expected str, bytes or os.PathLike object, not NoneType",
     "output_type": "error",
     "traceback": [
      "\u001b[1;31m---------------------------------------------------------------------------\u001b[0m",
      "\u001b[1;31mTypeError\u001b[0m                                 Traceback (most recent call last)",
      "Cell \u001b[1;32mIn [68], line 1\u001b[0m\n\u001b[1;32m----> 1\u001b[0m f \u001b[38;5;241m=\u001b[39m \u001b[43mfcc\u001b[49m\u001b[43m(\u001b[49m\u001b[43m)\u001b[49m\n",
      "Cell \u001b[1;32mIn [67], line 8\u001b[0m, in \u001b[0;36mfcc.__init__\u001b[1;34m(self, state, chrome_driver_path, download_path, remove_download, file_path)\u001b[0m\n\u001b[0;32m      6\u001b[0m soup \u001b[38;5;241m=\u001b[39m BeautifulSoup(response\u001b[38;5;241m.\u001b[39mcontent, \u001b[38;5;124m\"\u001b[39m\u001b[38;5;124mhtml.parser\u001b[39m\u001b[38;5;124m\"\u001b[39m)\n\u001b[0;32m      7\u001b[0m \u001b[38;5;28mself\u001b[39m\u001b[38;5;241m.\u001b[39mdata_url \u001b[38;5;241m=\u001b[39m soup\u001b[38;5;241m.\u001b[39mfind_all(href\u001b[38;5;241m=\u001b[39mre\u001b[38;5;241m.\u001b[39mcompile(state))[\u001b[38;5;241m-\u001b[39m\u001b[38;5;241m1\u001b[39m][\u001b[38;5;124m'\u001b[39m\u001b[38;5;124mhref\u001b[39m\u001b[38;5;124m'\u001b[39m]\n\u001b[1;32m----> 8\u001b[0m \u001b[38;5;28;43mself\u001b[39;49m\u001b[38;5;241;43m.\u001b[39;49m\u001b[43mdownload_data\u001b[49m\u001b[43m(\u001b[49m\u001b[43mstate2\u001b[49m\u001b[43m \u001b[49m\u001b[38;5;241;43m=\u001b[39;49m\u001b[43m \u001b[49m\u001b[43mstate\u001b[49m\u001b[43m,\u001b[49m\u001b[43m \u001b[49m\u001b[43mchrome_driver_path\u001b[49m\u001b[43m \u001b[49m\u001b[38;5;241;43m=\u001b[39;49m\u001b[43m \u001b[49m\u001b[43mchrome_driver_path\u001b[49m\u001b[43m,\u001b[49m\u001b[43m \u001b[49m\u001b[43mdownload_path\u001b[49m\u001b[43m \u001b[49m\u001b[38;5;241;43m=\u001b[39;49m\u001b[43m \u001b[49m\u001b[43mdownload_path\u001b[49m\u001b[43m)\u001b[49m\n\u001b[0;32m      9\u001b[0m \u001b[38;5;28mself\u001b[39m\u001b[38;5;241m.\u001b[39mgen_df()\n\u001b[0;32m     10\u001b[0m \u001b[38;5;28mself\u001b[39m\u001b[38;5;241m.\u001b[39mfile_path \u001b[38;5;241m=\u001b[39m \u001b[38;5;124mr\u001b[39m\u001b[38;5;124m'\u001b[39m\u001b[38;5;124mC:\u001b[39m\u001b[38;5;124m\\\u001b[39m\u001b[38;5;124mUsers\u001b[39m\u001b[38;5;124m\\\u001b[39m\u001b[38;5;124mzella\u001b[39m\u001b[38;5;124m\\\u001b[39m\u001b[38;5;124mDesktop\u001b[39m\u001b[38;5;124m\\\u001b[39m\u001b[38;5;124mPersonal\u001b[39m\u001b[38;5;124m\\\u001b[39m\u001b[38;5;124mEducation\u001b[39m\u001b[38;5;124m\\\u001b[39m\u001b[38;5;124mUniversity of Kentucky\u001b[39m\u001b[38;5;124m\\\u001b[39m\u001b[38;5;124mspatial_mapping\u001b[39m\u001b[38;5;124m\\\u001b[39m\u001b[38;5;124mSpatial_Mapping_Training\u001b[39m\u001b[38;5;124m\\\u001b[39m\u001b[38;5;124mZella\u001b[39m\u001b[38;5;124m\\\u001b[39m\u001b[38;5;124mDartmouth_csv_test_catchment_data\u001b[39m\u001b[38;5;124m'\u001b[39m \u001b[38;5;66;03m# zella note: temporary, for testing\u001b[39;00m\n",
      "Cell \u001b[1;32mIn [67], line 52\u001b[0m, in \u001b[0;36mfcc.download_data\u001b[1;34m(self, state2, chrome_driver_path, download_path)\u001b[0m\n\u001b[0;32m     50\u001b[0m time\u001b[38;5;241m.\u001b[39msleep(\u001b[38;5;241m5\u001b[39m)\n\u001b[0;32m     51\u001b[0m t \u001b[38;5;241m=\u001b[39m os\u001b[38;5;241m.\u001b[39mpath\u001b[38;5;241m.\u001b[39misfile(\u001b[38;5;124mf\u001b[39m\u001b[38;5;124m'\u001b[39m\u001b[38;5;132;01m{\u001b[39;00mdownload_path\u001b[38;5;132;01m}\u001b[39;00m\u001b[38;5;130;01m\\\\\u001b[39;00m\u001b[38;5;132;01m{\u001b[39;00mstate2\u001b[38;5;132;01m}\u001b[39;00m\u001b[38;5;124m-Fixed-Jun2021.zip\u001b[39m\u001b[38;5;124m'\u001b[39m)\n\u001b[1;32m---> 52\u001b[0m t \u001b[38;5;241m=\u001b[39m \u001b[38;5;28mlen\u001b[39m(glob\u001b[38;5;241m.\u001b[39mglob(\u001b[43mos\u001b[49m\u001b[38;5;241;43m.\u001b[39;49m\u001b[43mpath\u001b[49m\u001b[38;5;241;43m.\u001b[39;49m\u001b[43mjoin\u001b[49m\u001b[43m(\u001b[49m\u001b[43mdownload_path\u001b[49m\u001b[43m,\u001b[49m\u001b[43m \u001b[49m\u001b[38;5;124;43m'\u001b[39;49m\u001b[38;5;124;43m*.zip\u001b[39;49m\u001b[38;5;124;43m'\u001b[39;49m\u001b[43m)\u001b[49m, recursive \u001b[38;5;241m=\u001b[39m \u001b[38;5;28;01mTrue\u001b[39;00m)) \u001b[38;5;241m>\u001b[39m \u001b[38;5;241m0\u001b[39m\n\u001b[0;32m     53\u001b[0m \u001b[38;5;28mprint\u001b[39m(t)\n\u001b[0;32m     54\u001b[0m \u001b[38;5;28mprint\u001b[39m(\u001b[38;5;124mf\u001b[39m\u001b[38;5;124m'\u001b[39m\u001b[38;5;124mWaiting on \u001b[39m\u001b[38;5;132;01m{\u001b[39;00mstate2\u001b[38;5;132;01m}\u001b[39;00m\u001b[38;5;124m broadband data...\u001b[39m\u001b[38;5;124m'\u001b[39m)\n",
      "File \u001b[1;32m~\\anaconda3\\lib\\ntpath.py:78\u001b[0m, in \u001b[0;36mjoin\u001b[1;34m(path, *paths)\u001b[0m\n\u001b[0;32m     77\u001b[0m \u001b[38;5;28;01mdef\u001b[39;00m \u001b[38;5;21mjoin\u001b[39m(path, \u001b[38;5;241m*\u001b[39mpaths):\n\u001b[1;32m---> 78\u001b[0m     path \u001b[38;5;241m=\u001b[39m \u001b[43mos\u001b[49m\u001b[38;5;241;43m.\u001b[39;49m\u001b[43mfspath\u001b[49m\u001b[43m(\u001b[49m\u001b[43mpath\u001b[49m\u001b[43m)\u001b[49m\n\u001b[0;32m     79\u001b[0m     \u001b[38;5;28;01mif\u001b[39;00m \u001b[38;5;28misinstance\u001b[39m(path, \u001b[38;5;28mbytes\u001b[39m):\n\u001b[0;32m     80\u001b[0m         sep \u001b[38;5;241m=\u001b[39m \u001b[38;5;124mb\u001b[39m\u001b[38;5;124m'\u001b[39m\u001b[38;5;130;01m\\\\\u001b[39;00m\u001b[38;5;124m'\u001b[39m\n",
      "\u001b[1;31mTypeError\u001b[0m: expected str, bytes or os.PathLike object, not NoneType"
     ]
    }
   ],
   "source": [
    "f = fcc()"
   ]
  },
  {
   "cell_type": "code",
   "execution_count": 54,
   "id": "5e754707",
   "metadata": {},
   "outputs": [],
   "source": [
    "# establishing chromedriver path\n",
    "chrome_driver_path = 'chromedriver'\n",
    "if sys.platform.lower()[:3] == 'win':\n",
    "    chrome_driver_path += '.exe'\n",
    "chrome_driver_path = os.path.join(os.getcwd() , 'input_folder', chrome_driver_path)\n",
    "# C:\\Users\\zella\\Desktop\\Personal\\Education\\University of Kentucky\\spatial_mapping\\Spatial_Mapping_Training\\Zella\\input_folder"
   ]
  },
  {
   "cell_type": "code",
   "execution_count": 40,
   "id": "c3e1c20a",
   "metadata": {},
   "outputs": [],
   "source": []
  },
  {
   "cell_type": "code",
   "execution_count": 58,
   "id": "ecd1ea65",
   "metadata": {},
   "outputs": [
    {
     "ename": "TypeError",
     "evalue": "gen_df() missing 1 required positional argument: 'self'",
     "output_type": "error",
     "traceback": [
      "\u001b[1;31m---------------------------------------------------------------------------\u001b[0m",
      "\u001b[1;31mTypeError\u001b[0m                                 Traceback (most recent call last)",
      "Cell \u001b[1;32mIn [58], line 1\u001b[0m\n\u001b[1;32m----> 1\u001b[0m \u001b[43mfcc\u001b[49m\u001b[38;5;241;43m.\u001b[39;49m\u001b[43mgen_df\u001b[49m\u001b[43m(\u001b[49m\u001b[43m)\u001b[49m\n",
      "\u001b[1;31mTypeError\u001b[0m: gen_df() missing 1 required positional argument: 'self'"
     ]
    }
   ],
   "source": [
    "fcc.gen_df()"
   ]
  }
 ],
 "metadata": {
  "kernelspec": {
   "display_name": "Python 3 (ipykernel)",
   "language": "python",
   "name": "python3"
  },
  "language_info": {
   "codemirror_mode": {
    "name": "ipython",
    "version": 3
   },
   "file_extension": ".py",
   "mimetype": "text/x-python",
   "name": "python",
   "nbconvert_exporter": "python",
   "pygments_lexer": "ipython3",
   "version": "3.9.13"
  }
 },
 "nbformat": 4,
 "nbformat_minor": 5
}
