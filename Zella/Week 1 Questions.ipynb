{
 "cells": [
  {
   "cell_type": "markdown",
   "id": "0c6f1516",
   "metadata": {},
   "source": [
    "Suppose we have a dataframe and it contains the following columns in the list format.   \n",
    "\n",
    "Note: suppose the column names are obtained by `df.columns.to_list()`"
   ]
  },
  {
   "cell_type": "code",
   "execution_count": 5,
   "id": "bd919247",
   "metadata": {},
   "outputs": [],
   "source": [
    "# testing a second set of changes to this 9/29\n",
    "\n",
    "columns = ['FIPS', 'County', 'State', 'Insurance Coverage', 'Medicaid Enrollment', 'Gini Coefficient', \n",
    "           'Household Income', 'Annual Labor Force Participation Rate (2015-2019)',\n",
    "           'Annual Unemployment Rate (2015-2019)', 'Below Poverty', 'Uninsured',\n",
    "           'Monthly Unemployment Rate (Jun-22)', 'geometry']"
   ]
  },
  {
   "cell_type": "code",
   "execution_count": 7,
   "id": "76568082",
   "metadata": {},
   "outputs": [],
   "source": [
    "import pandas as pd\n",
    "\n",
    "df = pd.DataFrame(zip(columns, columns), columns = ['c1','c2'])"
   ]
  },
  {
   "cell_type": "code",
   "execution_count": 10,
   "id": "d1ce8169",
   "metadata": {},
   "outputs": [
    {
     "data": {
      "text/html": [
       "<div>\n",
       "<style scoped>\n",
       "    .dataframe tbody tr th:only-of-type {\n",
       "        vertical-align: middle;\n",
       "    }\n",
       "\n",
       "    .dataframe tbody tr th {\n",
       "        vertical-align: top;\n",
       "    }\n",
       "\n",
       "    .dataframe thead th {\n",
       "        text-align: right;\n",
       "    }\n",
       "</style>\n",
       "<table border=\"1\" class=\"dataframe\">\n",
       "  <thead>\n",
       "    <tr style=\"text-align: right;\">\n",
       "      <th></th>\n",
       "      <th>c1</th>\n",
       "      <th>c2</th>\n",
       "    </tr>\n",
       "  </thead>\n",
       "  <tbody>\n",
       "    <tr>\n",
       "      <th>0</th>\n",
       "      <td>FIPS</td>\n",
       "      <td>FIPS</td>\n",
       "    </tr>\n",
       "    <tr>\n",
       "      <th>1</th>\n",
       "      <td>County</td>\n",
       "      <td>County</td>\n",
       "    </tr>\n",
       "    <tr>\n",
       "      <th>2</th>\n",
       "      <td>State</td>\n",
       "      <td>State</td>\n",
       "    </tr>\n",
       "    <tr>\n",
       "      <th>3</th>\n",
       "      <td>Insurance Coverage</td>\n",
       "      <td>Insurance Coverage</td>\n",
       "    </tr>\n",
       "    <tr>\n",
       "      <th>4</th>\n",
       "      <td>Medicaid Enrollment</td>\n",
       "      <td>Medicaid Enrollment</td>\n",
       "    </tr>\n",
       "    <tr>\n",
       "      <th>5</th>\n",
       "      <td>Gini Coefficient</td>\n",
       "      <td>Gini Coefficient</td>\n",
       "    </tr>\n",
       "    <tr>\n",
       "      <th>6</th>\n",
       "      <td>Household Income</td>\n",
       "      <td>Household Income</td>\n",
       "    </tr>\n",
       "    <tr>\n",
       "      <th>7</th>\n",
       "      <td>Annual Labor Force Participation Rate (2015-2019)</td>\n",
       "      <td>Annual Labor Force Participation Rate (2015-2019)</td>\n",
       "    </tr>\n",
       "    <tr>\n",
       "      <th>8</th>\n",
       "      <td>Annual Unemployment Rate (2015-2019)</td>\n",
       "      <td>Annual Unemployment Rate (2015-2019)</td>\n",
       "    </tr>\n",
       "    <tr>\n",
       "      <th>9</th>\n",
       "      <td>Below Poverty</td>\n",
       "      <td>Below Poverty</td>\n",
       "    </tr>\n",
       "    <tr>\n",
       "      <th>10</th>\n",
       "      <td>Uninsured</td>\n",
       "      <td>Uninsured</td>\n",
       "    </tr>\n",
       "    <tr>\n",
       "      <th>11</th>\n",
       "      <td>Monthly Unemployment Rate (Jun-22)</td>\n",
       "      <td>Monthly Unemployment Rate (Jun-22)</td>\n",
       "    </tr>\n",
       "    <tr>\n",
       "      <th>12</th>\n",
       "      <td>geometry</td>\n",
       "      <td>geometry</td>\n",
       "    </tr>\n",
       "  </tbody>\n",
       "</table>\n",
       "</div>"
      ],
      "text/plain": [
       "                                                   c1  \\\n",
       "0                                                FIPS   \n",
       "1                                              County   \n",
       "2                                               State   \n",
       "3                                  Insurance Coverage   \n",
       "4                                 Medicaid Enrollment   \n",
       "5                                    Gini Coefficient   \n",
       "6                                    Household Income   \n",
       "7   Annual Labor Force Participation Rate (2015-2019)   \n",
       "8                Annual Unemployment Rate (2015-2019)   \n",
       "9                                       Below Poverty   \n",
       "10                                          Uninsured   \n",
       "11                 Monthly Unemployment Rate (Jun-22)   \n",
       "12                                           geometry   \n",
       "\n",
       "                                                   c2  \n",
       "0                                                FIPS  \n",
       "1                                              County  \n",
       "2                                               State  \n",
       "3                                  Insurance Coverage  \n",
       "4                                 Medicaid Enrollment  \n",
       "5                                    Gini Coefficient  \n",
       "6                                    Household Income  \n",
       "7   Annual Labor Force Participation Rate (2015-2019)  \n",
       "8                Annual Unemployment Rate (2015-2019)  \n",
       "9                                       Below Poverty  \n",
       "10                                          Uninsured  \n",
       "11                 Monthly Unemployment Rate (Jun-22)  \n",
       "12                                           geometry  "
      ]
     },
     "execution_count": 10,
     "metadata": {},
     "output_type": "execute_result"
    }
   ],
   "source": [
    "df"
   ]
  },
  {
   "cell_type": "code",
   "execution_count": 12,
   "id": "1fce7ae3",
   "metadata": {},
   "outputs": [
    {
     "data": {
      "text/plain": [
       "0                                                  FIPS\n",
       "1                                                County\n",
       "2                                                 State\n",
       "3                                    Insurance Coverage\n",
       "4                                   Medicaid Enrollment\n",
       "5                                      Gini Coefficient\n",
       "6                                      Household Income\n",
       "7     Annual Labor Force Participation Rate (2015-2019)\n",
       "8                  Annual Unemployment Rate (2015-2019)\n",
       "9                                         Below Poverty\n",
       "10                                            Uninsured\n",
       "11                   Monthly Unemployment Rate (Jun-22)\n",
       "12                                             geometry\n",
       "Name: c1, dtype: object"
      ]
     },
     "execution_count": 12,
     "metadata": {},
     "output_type": "execute_result"
    }
   ],
   "source": [
    "df.c1"
   ]
  },
  {
   "cell_type": "markdown",
   "id": "0cfa78c4",
   "metadata": {},
   "source": [
    "The goal here is to visulaize the quantitative variables (Insurance Coverage to Monthly Unemployment Rate (Jun-22)). Therefore, we need to have another list that only includes such lists. Using the `columns_to_remove` and regex, define `variables_to_visualize`, a list that contains all the other variables."
   ]
  },
  {
   "cell_type": "code",
   "execution_count": 3,
   "id": "3849b5b5",
   "metadata": {},
   "outputs": [],
   "source": [
    "import re\n",
    "\n",
    "columns_to_remove = ['fips','county','state','geometry']\n",
    "\n",
    "pat = re.compile(r'fips|county|state|geometry', flags=re.IGNORECASE)\n",
    "\n",
    "variables_to_visualize = [i for i in columns if not bool(re.match(pat, i))]"
   ]
  },
  {
   "cell_type": "markdown",
   "id": "6fee2851",
   "metadata": {},
   "source": [
    "**ArcGIS Online**(AGOL) is not happy with the naming convension we originially have. When we upload the table to AGOL, it automatically converts the column names to all lower case, replace a empty space with a underscore and then select the first 10 characters if the length exceeds 10. For example, `Insurance Coverage` and `Medicaid Enrollment` will be converted into `insurance_` and `medicaid_e` respectively. Therefore, we need a dictionary that tracks how each column name in `variables_to_visualize` is converted by AGOL."
   ]
  },
  {
   "cell_type": "markdown",
   "id": "664ffb25",
   "metadata": {},
   "source": [
    "First, let's define a function that convert a given column name into AGOL column name"
   ]
  },
  {
   "cell_type": "code",
   "execution_count": 4,
   "id": "777079c5",
   "metadata": {},
   "outputs": [],
   "source": [
    "def get_AGOL_name(colname):\n",
    "    agol_name = colname.replace(' ', '_').lower()\n",
    "    return agol_name[0:10]"
   ]
  },
  {
   "cell_type": "markdown",
   "id": "704dc2b7",
   "metadata": {},
   "source": [
    "Then using the function, let's create a dictionary with AGOL names as keys and original names as values"
   ]
  },
  {
   "cell_type": "code",
   "execution_count": 5,
   "id": "4ef9ca0a",
   "metadata": {},
   "outputs": [
    {
     "data": {
      "text/plain": [
       "{'Insurance Coverage': 'insurance_',\n",
       " 'Medicaid Enrollment': 'medicaid_e',\n",
       " 'Gini Coefficient': 'gini_coeff',\n",
       " 'Household Income': 'household_',\n",
       " 'Annual Labor Force Participation Rate (2015-2019)': 'annual_lab',\n",
       " 'Annual Unemployment Rate (2015-2019)': 'annual_une',\n",
       " 'Below Poverty': 'below_pove',\n",
       " 'Uninsured': 'uninsured',\n",
       " 'Monthly Unemployment Rate (Jun-22)': 'monthly_un'}"
      ]
     },
     "execution_count": 5,
     "metadata": {},
     "output_type": "execute_result"
    }
   ],
   "source": [
    "colname_maps = {i: get_AGOL_name(i) for i in variables_to_visualize}\n",
    "colname_maps"
   ]
  },
  {
   "cell_type": "code",
   "execution_count": null,
   "id": "ebab7ebc",
   "metadata": {},
   "outputs": [],
   "source": []
  }
 ],
 "metadata": {
  "kernelspec": {
   "display_name": "Python 3 (ipykernel)",
   "language": "python",
   "name": "python3"
  },
  "language_info": {
   "codemirror_mode": {
    "name": "ipython",
    "version": 3
   },
   "file_extension": ".py",
   "mimetype": "text/x-python",
   "name": "python",
   "nbconvert_exporter": "python",
   "pygments_lexer": "ipython3",
   "version": "3.9.0"
  }
 },
 "nbformat": 4,
 "nbformat_minor": 5
}
