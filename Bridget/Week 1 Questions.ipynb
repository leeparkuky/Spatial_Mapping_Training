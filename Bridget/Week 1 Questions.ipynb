{
 "cells": [
  {
   "cell_type": "markdown",
   "id": "0c6f1516",
   "metadata": {},
   "source": [
    "Suppose we have a dataframe and it contains the following columns in the list format.   \n",
    "\n",
    "Note: suppose the column names are obtained by `df.columns.to_list()`"
   ]
  },
  {
   "cell_type": "code",
   "execution_count": 5,
   "id": "bd919247",
   "metadata": {},
   "outputs": [],
   "source": [
    "columns = ['FIPS', 'County', 'State', 'Insurance Coverage', 'Medicaid Enrollment', 'Gini Coefficient', \n",
    "           'Household Income', 'Annual Labor Force Participation Rate (2015-2019)',\n",
    "           'Annual Unemployment Rate (2015-2019)', 'Below Poverty', 'Uninsured',\n",
    "           'Monthly Unemployment Rate (Jun-22)', 'geometry']"
   ]
  },
  {
   "cell_type": "markdown",
   "id": "0cfa78c4",
   "metadata": {},
   "source": [
    "The goal here is to visulaize the quantitative variables (Insurance Coverage to Monthly Unemployment Rate (Jun-22)). Therefore, we need to have another list that only includes such lists. Using the `columns_to_remove` and regex, define `variables_to_visualize`, a list that contains all the other variables."
   ]
  },
  {
   "cell_type": "code",
   "execution_count": 22,
   "id": "3849b5b5",
   "metadata": {},
   "outputs": [
    {
     "data": {
      "text/plain": [
       "['Insurance Coverage',\n",
       " 'Medicaid Enrollment',\n",
       " 'Gini Coefficient',\n",
       " 'Household Income',\n",
       " 'Annual Labor Force Participation Rate (2015-2019)',\n",
       " 'Annual Unemployment Rate (2015-2019)',\n",
       " 'Below Poverty',\n",
       " 'Uninsured',\n",
       " 'Monthly Unemployment Rate (Jun-22)']"
      ]
     },
     "execution_count": 22,
     "metadata": {},
     "output_type": "execute_result"
    }
   ],
   "source": [
    "columns_to_remove = ['fips','county','state','geometry']\n",
    "import re\n",
    "pat =  re.compile(\"fips|county|state|geometry\", flags=re.I) # define your regex pattern (hint: flags = re.I)\n",
    "\n",
    "variables_to_visualize = [colname for colname in columns if not bool(re.match(pat, colname))]\n",
    "# enter your list comprehension statement\n",
    "\n",
    "variables_to_visualize "
   ]
  },
  {
   "cell_type": "markdown",
   "id": "6fee2851",
   "metadata": {},
   "source": [
    "**ArcGIS Online**(AGOL) is not happy with the naming convension we originially have. When we upload the table to AGOL, it automatically converts the column names to all lower case, replace a empty space with a underscore and then select the first 10 characters if the length exceeds 10. For example, `Insurance Coverage` and `Medicaid Enrollment` will be converted into `insurance_` and `medicaid_e` respectively. Therefore, we need a dictionary that tracks how each column name in `variables_to_visualize` is converted by AGOL."
   ]
  },
  {
   "cell_type": "markdown",
   "id": "664ffb25",
   "metadata": {},
   "source": [
    "First, let's define a function that convert a given column name into AGOL column name"
   ]
  },
  {
   "cell_type": "code",
   "execution_count": 33,
   "id": "777079c5",
   "metadata": {},
   "outputs": [],
   "source": [
    "def get_AGOL_name(colname):\n",
    "    # complete the function\n",
    "    #less than 10 characters\n",
    "    #no spaces _ \n",
    "    #no capital \n",
    "    new_name=colname.replace(\" \", \"_\").lower()\n",
    "    return new_name[:10]\n",
    "    \n",
    "   # re.sub([\" \"],[\"_\"], colname)\n",
    "   # re.\n",
    "  "
   ]
  },
  {
   "cell_type": "code",
   "execution_count": 34,
   "id": "ca22d0f5",
   "metadata": {},
   "outputs": [
    {
     "data": {
      "text/plain": [
       "'insurance_'"
      ]
     },
     "execution_count": 34,
     "metadata": {},
     "output_type": "execute_result"
    }
   ],
   "source": [
    "get_AGOL_name(\"Insurance Names\")  "
   ]
  },
  {
   "cell_type": "markdown",
   "id": "704dc2b7",
   "metadata": {},
   "source": [
    "Then using the function, let's create a dictionary with AGOL names as keys and original names as values"
   ]
  },
  {
   "cell_type": "code",
   "execution_count": 39,
   "id": "4ef9ca0a",
   "metadata": {},
   "outputs": [
    {
     "data": {
      "text/plain": [
       "{'fips': 'FIPS',\n",
       " 'county': 'County',\n",
       " 'state': 'State',\n",
       " 'insurance_': 'Insurance Coverage',\n",
       " 'medicaid_e': 'Medicaid Enrollment',\n",
       " 'gini_coeff': 'Gini Coefficient',\n",
       " 'household_': 'Household Income',\n",
       " 'annual_lab': 'Annual Labor Force Participation Rate (2015-2019)',\n",
       " 'annual_une': 'Annual Unemployment Rate (2015-2019)',\n",
       " 'below_pove': 'Below Poverty',\n",
       " 'uninsured': 'Uninsured',\n",
       " 'monthly_un': 'Monthly Unemployment Rate (Jun-22)',\n",
       " 'geometry': 'geometry'}"
      ]
     },
     "execution_count": 39,
     "metadata": {},
     "output_type": "execute_result"
    }
   ],
   "source": [
    "colname_maps = {} # use dictionary comprehension and the function get_AGOL_name\n",
    "for x in columns:\n",
    "    colname_maps[get_AGOL_name(x)] = x\n",
    "colname_maps"
   ]
  }
 ],
 "metadata": {
  "kernelspec": {
   "display_name": "Python 3 (ipykernel)",
   "language": "python",
   "name": "python3"
  },
  "language_info": {
   "codemirror_mode": {
    "name": "ipython",
    "version": 3
   },
   "file_extension": ".py",
   "mimetype": "text/x-python",
   "name": "python",
   "nbconvert_exporter": "python",
   "pygments_lexer": "ipython3",
   "version": "3.9.12"
  }
 },
 "nbformat": 4,
 "nbformat_minor": 5
}
