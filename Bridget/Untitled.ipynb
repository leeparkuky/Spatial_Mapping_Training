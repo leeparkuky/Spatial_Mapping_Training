{
 "cells": [
  {
   "cell_type": "code",
   "execution_count": 4,
   "id": "759f85e4",
   "metadata": {},
   "outputs": [
    {
     "name": "stdout",
     "output_type": "stream",
     "text": [
      "['C:\\\\Users\\\\carro\\\\Documents\\\\CCI_project\\\\Spatial_Mapping_Training\\\\Bridget', 'C:\\\\Users\\\\carro\\\\anaconda3\\\\python39.zip', 'C:\\\\Users\\\\carro\\\\anaconda3\\\\DLLs', 'C:\\\\Users\\\\carro\\\\anaconda3\\\\lib', 'C:\\\\Users\\\\carro\\\\anaconda3', '', 'C:\\\\Users\\\\carro\\\\anaconda3\\\\lib\\\\site-packages', 'C:\\\\Users\\\\carro\\\\anaconda3\\\\lib\\\\site-packages\\\\win32', 'C:\\\\Users\\\\carro\\\\anaconda3\\\\lib\\\\site-packages\\\\win32\\\\lib', 'C:\\\\Users\\\\carro\\\\anaconda3\\\\lib\\\\site-packages\\\\Pythonwin']\n"
     ]
    }
   ],
   "source": [
    "import sys\n",
    "print(sys.path)\n"
   ]
  }
 ],
 "metadata": {
  "kernelspec": {
   "display_name": "Python 3 (ipykernel)",
   "language": "python",
   "name": "python3"
  },
  "language_info": {
   "codemirror_mode": {
    "name": "ipython",
    "version": 3
   },
   "file_extension": ".py",
   "mimetype": "text/x-python",
   "name": "python",
   "nbconvert_exporter": "python",
   "pygments_lexer": "ipython3",
   "version": "3.9.12"
  }
 },
 "nbformat": 4,
 "nbformat_minor": 5
}
